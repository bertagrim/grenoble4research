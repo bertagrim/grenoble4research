{
 "cells": [
  {
   "cell_type": "code",
   "execution_count": 223,
   "id": "7ea13316",
   "metadata": {
    "ExecuteTime": {
     "end_time": "2022-12-31T11:18:08.298121Z",
     "start_time": "2022-12-31T11:18:08.291982Z"
    }
   },
   "outputs": [],
   "source": [
    "import pandas as pd\n",
    "import numpy as np\n",
    "import requests\n",
    "import math\n",
    "import time\n",
    "import json\n",
    "import seaborn as sns\n",
    "from matplotlib import rcParams\n",
    "import matplotlib.pyplot as plt\n",
    "\n",
    "from summa import keywords\n",
    "import yake\n",
    "\n",
    "import ast"
   ]
  },
  {
   "cell_type": "code",
   "execution_count": 2,
   "id": "d9094a0c",
   "metadata": {
    "ExecuteTime": {
     "end_time": "2022-12-31T08:46:17.483264Z",
     "start_time": "2022-12-31T08:46:17.478935Z"
    }
   },
   "outputs": [],
   "source": [
    "PER_PAGE=200\n",
    "WAIT_SECS=0.15\n",
    "WORKS_FILE_PATH = './data/works.json'"
   ]
  },
  {
   "cell_type": "code",
   "execution_count": 66,
   "id": "a4776a7a",
   "metadata": {
    "ExecuteTime": {
     "end_time": "2022-12-29T16:16:29.440070Z",
     "start_time": "2022-12-29T16:16:29.424932Z"
    }
   },
   "outputs": [],
   "source": [
    "def fetch_page(cursor):\n",
    "    base_url='https://api.openalex.org/works'\n",
    "    url = '{base_url}?filter=from_publication_date:2017-01-01,to_publication_date:2021-12-31,raw_affiliation_string.search:grenoble&cursor={cursor}&per-page={per_page}&mailto={mailto}'.format(\n",
    "        base_url=base_url,\n",
    "        cursor=cursor,\n",
    "        per_page=PER_PAGE,\n",
    "        mailto='bertagrim@gmail.com'\n",
    "    )\n",
    "    print('Senging GET {url}'.format(url=url))\n",
    "          \n",
    "    response = requests.get(url)\n",
    "    \n",
    "    if (response.status_code == 200):\n",
    "        print('OK')\n",
    "        return response.json()\n",
    "    else:\n",
    "        print('Request failed: {status_code}'.format(status_code=response.status_code))\n",
    "        print(response.text)\n",
    "    \n"
   ]
  },
  {
   "cell_type": "code",
   "execution_count": 67,
   "id": "a386b464",
   "metadata": {
    "ExecuteTime": {
     "end_time": "2022-12-29T16:16:31.616092Z",
     "start_time": "2022-12-29T16:16:31.610338Z"
    }
   },
   "outputs": [],
   "source": [
    "def save_entries(page_n, results):\n",
    "    offset = page_n * PER_PAGE\n",
    "    from_entry_num = offset\n",
    "    to_entry_num = from_entry_num + len(results)\n",
    "    print('Saving new entries in positions: {from_entry_num}..{to_entry_num}'.format(\n",
    "        from_entry_num=from_entry_num,\n",
    "        to_entry_num=to_entry_num\n",
    "    ))\n",
    "    with open(WORKS_FILE_PATH, 'r+', encoding='utf-8') as file:\n",
    "        entries = json.load(file)\n",
    "        entries[from_entry_num:] = results\n",
    "        file.seek(0)\n",
    "        json.dump(entries, file)"
   ]
  },
  {
   "cell_type": "code",
   "execution_count": 68,
   "id": "7ec4f96e",
   "metadata": {
    "ExecuteTime": {
     "end_time": "2022-12-29T16:16:41.134778Z",
     "start_time": "2022-12-29T16:16:37.232963Z"
    }
   },
   "outputs": [
    {
     "name": "stdout",
     "output_type": "stream",
     "text": [
      "Senging GET https://api.openalex.org/works?filter=from_publication_date:2017-01-01,to_publication_date:2021-12-31,raw_affiliation_string.search:grenoble&cursor=*&per-page=200&mailto=bertagrim@gmail.com\n",
      "OK\n"
     ]
    },
    {
     "data": {
      "text/plain": [
       "248"
      ]
     },
     "execution_count": 68,
     "metadata": {},
     "output_type": "execute_result"
    }
   ],
   "source": [
    "page_1 = fetch_page('*')\n",
    "num_pages = math.ceil(page_1['meta']['count']/PER_PAGE)\n",
    "num_pages"
   ]
  },
  {
   "cell_type": "code",
   "execution_count": 73,
   "id": "55fcd101",
   "metadata": {
    "ExecuteTime": {
     "end_time": "2022-12-29T17:37:37.223898Z",
     "start_time": "2022-12-29T17:29:04.480157Z"
    }
   },
   "outputs": [
    {
     "name": "stdout",
     "output_type": "stream",
     "text": [
      "Fetching page 0 ...\n",
      "Senging GET https://api.openalex.org/works?filter=from_publication_date:2017-01-01,to_publication_date:2021-12-31,raw_affiliation_string.search:grenoble&cursor=*&per-page=200&mailto=bertagrim@gmail.com\n",
      "OK\n",
      "Fetching page 1 ...\n",
      "Senging GET https://api.openalex.org/works?filter=from_publication_date:2017-01-01,to_publication_date:2021-12-31,raw_affiliation_string.search:grenoble&cursor=Ils0NjMuODIzNTIsIDE0OTg0MzUyMDAwMDAsICdodHRwczovL29wZW5hbGV4Lm9yZy9XMjY4MzcwMjY5OCddIg==&per-page=200&mailto=bertagrim@gmail.com\n",
      "OK\n",
      "Fetching page 2 ...\n",
      "Senging GET https://api.openalex.org/works?filter=from_publication_date:2017-01-01,to_publication_date:2021-12-31,raw_affiliation_string.search:grenoble&cursor=IlszODEuNDI1MzUsIDE1OTc4ODE2MDAwMDAsICdodHRwczovL29wZW5hbGV4Lm9yZy9XMzA2MTExOTc1NCddIg==&per-page=200&mailto=bertagrim@gmail.com\n",
      "OK\n",
      "Fetching page 3 ...\n",
      "Senging GET https://api.openalex.org/works?filter=from_publication_date:2017-01-01,to_publication_date:2021-12-31,raw_affiliation_string.search:grenoble&cursor=IlszNDIuMTU0NywgMTU2NDYxNzYwMDAwMCwgJ2h0dHBzOi8vb3BlbmFsZXgub3JnL1cyOTU0NDM2MzA2J10i&per-page=200&mailto=bertagrim@gmail.com\n",
      "OK\n",
      "Fetching page 4 ...\n",
      "Senging GET https://api.openalex.org/works?filter=from_publication_date:2017-01-01,to_publication_date:2021-12-31,raw_affiliation_string.search:grenoble&cursor=IlszMTIuNjkzMDUsIDE1NTY2Njg4MDAwMDAsICdodHRwczovL29wZW5hbGV4Lm9yZy9XMjkyMjQ2MzY4MCddIg==&per-page=200&mailto=bertagrim@gmail.com\n",
      "OK\n",
      "Fetching page 5 ...\n",
      "Senging GET https://api.openalex.org/works?filter=from_publication_date:2017-01-01,to_publication_date:2021-12-31,raw_affiliation_string.search:grenoble&cursor=IlsyOTIuNjE4LCAxNDgzMjI4ODAwMDAwLCAnaHR0cHM6Ly9vcGVuYWxleC5vcmcvVzI1MjAzOTQxMjgnXSI=&per-page=200&mailto=bertagrim@gmail.com\n",
      "OK\n",
      "Fetching page 6 ...\n",
      "Senging GET https://api.openalex.org/works?filter=from_publication_date:2017-01-01,to_publication_date:2021-12-31,raw_affiliation_string.search:grenoble&cursor=IlsyNzguODUxMTQsIDE1ODkxNTUyMDAwMDAsICdodHRwczovL29wZW5hbGV4Lm9yZy9XMzAyMjEwNDU0NyddIg==&per-page=200&mailto=bertagrim@gmail.com\n",
      "OK\n",
      "Fetching page 7 ...\n",
      "Senging GET https://api.openalex.org/works?filter=from_publication_date:2017-01-01,to_publication_date:2021-12-31,raw_affiliation_string.search:grenoble&cursor=IlsyNjcuNjA3NywgMTU3OTA0NjQwMDAwMCwgJ2h0dHBzOi8vb3BlbmFsZXgub3JnL1cyOTgwNTk5NjYxJ10i&per-page=200&mailto=bertagrim@gmail.com\n",
      "OK\n",
      "Fetching page 8 ...\n",
      "Senging GET https://api.openalex.org/works?filter=from_publication_date:2017-01-01,to_publication_date:2021-12-31,raw_affiliation_string.search:grenoble&cursor=IlsyNTcuMTAyODQsIDE1MDc1MDcyMDAwMDAsICdodHRwczovL29wZW5hbGV4Lm9yZy9XMjk1MzI3NjE4MiddIg==&per-page=200&mailto=bertagrim@gmail.com\n",
      "OK\n",
      "Fetching page 9 ...\n",
      "Senging GET https://api.openalex.org/works?filter=from_publication_date:2017-01-01,to_publication_date:2021-12-31,raw_affiliation_string.search:grenoble&cursor=IlsyNDguNDExNSwgMTU4NTI2NzIwMDAwMCwgJ2h0dHBzOi8vb3BlbmFsZXgub3JnL1czMDEzMDE1MDEwJ10i&per-page=200&mailto=bertagrim@gmail.com\n",
      "OK\n",
      "Fetching page 10 ...\n",
      "Senging GET https://api.openalex.org/works?filter=from_publication_date:2017-01-01,to_publication_date:2021-12-31,raw_affiliation_string.search:grenoble&cursor=IlsyNDAuMTA4NDksIDE0OTYyNzUyMDAwMDAsICdodHRwczovL29wZW5hbGV4Lm9yZy9XMjUwODkzMTY4NiddIg==&per-page=200&mailto=bertagrim@gmail.com\n",
      "OK\n",
      "Fetching page 11 ...\n",
      "Senging GET https://api.openalex.org/works?filter=from_publication_date:2017-01-01,to_publication_date:2021-12-31,raw_affiliation_string.search:grenoble&cursor=IlsyMzMuMjI3OTQsIDE1ODgyOTEyMDAwMDAsICdodHRwczovL29wZW5hbGV4Lm9yZy9XMjk5NTgyNjUxMyddIg==&per-page=200&mailto=bertagrim@gmail.com\n",
      "OK\n",
      "Fetching page 12 ...\n",
      "Senging GET https://api.openalex.org/works?filter=from_publication_date:2017-01-01,to_publication_date:2021-12-31,raw_affiliation_string.search:grenoble&cursor=IlsyMjYuODkwMzgsIDE1NTQwNzY4MDAwMDAsICdodHRwczovL29wZW5hbGV4Lm9yZy9XMjkxNDY5OTk4MSddIg==&per-page=200&mailto=bertagrim@gmail.com\n",
      "OK\n",
      "Fetching page 13 ...\n",
      "Senging GET https://api.openalex.org/works?filter=from_publication_date:2017-01-01,to_publication_date:2021-12-31,raw_affiliation_string.search:grenoble&cursor=IlsyMjAuNTI5ODYsIDE0ODg2NzIwMDAwMDAsICdodHRwczovL29wZW5hbGV4Lm9yZy9XMjU1MDQyNDc4NCddIg==&per-page=200&mailto=bertagrim@gmail.com\n",
      "OK\n",
      "Fetching page 14 ...\n",
      "Senging GET https://api.openalex.org/works?filter=from_publication_date:2017-01-01,to_publication_date:2021-12-31,raw_affiliation_string.search:grenoble&cursor=IlsyMTQuMzQ3MjYsIDE1NjEzMzQ0MDAwMDAsICdodHRwczovL29wZW5hbGV4Lm9yZy9XMjk0OTQ3MTE4NCddIg==&per-page=200&mailto=bertagrim@gmail.com\n",
      "OK\n",
      "Fetching page 15 ...\n",
      "Senging GET https://api.openalex.org/works?filter=from_publication_date:2017-01-01,to_publication_date:2021-12-31,raw_affiliation_string.search:grenoble&cursor=IlsyMDkuNzE5MjQsIDE1MTUxMTA0MDAwMDAsICdodHRwczovL29wZW5hbGV4Lm9yZy9XMjc2NjgxNTMzNSddIg==&per-page=200&mailto=bertagrim@gmail.com\n",
      "OK\n",
      "Fetching page 16 ...\n",
      "Senging GET https://api.openalex.org/works?filter=from_publication_date:2017-01-01,to_publication_date:2021-12-31,raw_affiliation_string.search:grenoble&cursor=IlsyMDMuOTE4LCAxNTA0MjI0MDAwMDAwLCAnaHR0cHM6Ly9vcGVuYWxleC5vcmcvVzI1OTAzMDYyNzcnXSI=&per-page=200&mailto=bertagrim@gmail.com\n",
      "OK\n",
      "Fetching page 17 ...\n",
      "Senging GET https://api.openalex.org/works?filter=from_publication_date:2017-01-01,to_publication_date:2021-12-31,raw_affiliation_string.search:grenoble&cursor=IlsxOTkuMjYxMjgsIDE0OTYyNzUyMDAwMDAsICdodHRwczovL29wZW5hbGV4Lm9yZy9XMjU4Nzg2ODE4NCddIg==&per-page=200&mailto=bertagrim@gmail.com\n",
      "OK\n",
      "Fetching page 18 ...\n",
      "Senging GET https://api.openalex.org/works?filter=from_publication_date:2017-01-01,to_publication_date:2021-12-31,raw_affiliation_string.search:grenoble&cursor=IlsxOTUuMzU3ODgsIDE1NDMyNzY4MDAwMDAsICdodHRwczovL29wZW5hbGV4Lm9yZy9XMjkwMDk5MDgyOCddIg==&per-page=200&mailto=bertagrim@gmail.com\n",
      "OK\n",
      "Fetching page 19 ...\n",
      "Senging GET https://api.openalex.org/works?filter=from_publication_date:2017-01-01,to_publication_date:2021-12-31,raw_affiliation_string.search:grenoble&cursor=IlsxOTEuNDA2NzUsIDE1NDAxNjY0MDAwMDAsICdodHRwczovL29wZW5hbGV4Lm9yZy9XMjg5NjIwODY2MiddIg==&per-page=200&mailto=bertagrim@gmail.com\n",
      "OK\n",
      "Fetching page 20 ...\n",
      "Senging GET https://api.openalex.org/works?filter=from_publication_date:2017-01-01,to_publication_date:2021-12-31,raw_affiliation_string.search:grenoble&cursor=IlsxODcuODk0NTgsIDE1Nzc4MzY4MDAwMDAsICdodHRwczovL29wZW5hbGV4Lm9yZy9XMjk4MjY2NDMyNSddIg==&per-page=200&mailto=bertagrim@gmail.com\n",
      "OK\n",
      "Fetching page 21 ...\n",
      "Senging GET https://api.openalex.org/works?filter=from_publication_date:2017-01-01,to_publication_date:2021-12-31,raw_affiliation_string.search:grenoble&cursor=IlsxODQuNTUzMTYsIDE2MTIzMTA0MDAwMDAsICdodHRwczovL29wZW5hbGV4Lm9yZy9XMzEyNjMwMTg5NiddIg==&per-page=200&mailto=bertagrim@gmail.com\n",
      "OK\n",
      "Fetching page 22 ...\n",
      "Senging GET https://api.openalex.org/works?filter=from_publication_date:2017-01-01,to_publication_date:2021-12-31,raw_affiliation_string.search:grenoble&cursor=IlsxODEuNjQwNDQsIDE1MTY2NjU2MDAwMDAsICdodHRwczovL29wZW5hbGV4Lm9yZy9XMjc4NDYyMjYxMiddIg==&per-page=200&mailto=bertagrim@gmail.com\n",
      "OK\n",
      "Fetching page 23 ...\n",
      "Senging GET https://api.openalex.org/works?filter=from_publication_date:2017-01-01,to_publication_date:2021-12-31,raw_affiliation_string.search:grenoble&cursor=IlsxNzguMjM3ODgsIDE1NDIwNjcyMDAwMDAsICdodHRwczovL29wZW5hbGV4Lm9yZy9XMjkwMTQ5MDk0MyddIg==&per-page=200&mailto=bertagrim@gmail.com\n",
      "OK\n",
      "Fetching page 24 ...\n",
      "Senging GET https://api.openalex.org/works?filter=from_publication_date:2017-01-01,to_publication_date:2021-12-31,raw_affiliation_string.search:grenoble&cursor=IlsxNzUuNDc2MDMsIDE1MDUzNDcyMDAwMDAsICdodHRwczovL29wZW5hbGV4Lm9yZy9XMjc1NjAwNDYzOSddIg==&per-page=200&mailto=bertagrim@gmail.com\n",
      "OK\n",
      "Fetching page 25 ...\n",
      "Senging GET https://api.openalex.org/works?filter=from_publication_date:2017-01-01,to_publication_date:2021-12-31,raw_affiliation_string.search:grenoble&cursor=IlsxNzIuNzYwNDIsIDE0ODQ2OTc2MDAwMDAsICdodHRwczovL29wZW5hbGV4Lm9yZy9XMjU2MzMzNDcwMiddIg==&per-page=200&mailto=bertagrim@gmail.com\n",
      "OK\n",
      "Fetching page 26 ...\n",
      "Senging GET https://api.openalex.org/works?filter=from_publication_date:2017-01-01,to_publication_date:2021-12-31,raw_affiliation_string.search:grenoble&cursor=IlsxNzAuMDAzMjUsIDE1NzAxNDcyMDAwMDAsICdodHRwczovL29wZW5hbGV4Lm9yZy9XMjk3ODg1MTkwNCddIg==&per-page=200&mailto=bertagrim@gmail.com\n"
     ]
    },
    {
     "name": "stdout",
     "output_type": "stream",
     "text": [
      "OK\n",
      "Fetching page 27 ...\n",
      "Senging GET https://api.openalex.org/works?filter=from_publication_date:2017-01-01,to_publication_date:2021-12-31,raw_affiliation_string.search:grenoble&cursor=IlsxNjcuMDk4MjUsIDE2Mjc0MzA0MDAwMDAsICdodHRwczovL29wZW5hbGV4Lm9yZy9XMzE4NjY0MjYyNCddIg==&per-page=200&mailto=bertagrim@gmail.com\n",
      "OK\n",
      "Fetching page 28 ...\n",
      "Senging GET https://api.openalex.org/works?filter=from_publication_date:2017-01-01,to_publication_date:2021-12-31,raw_affiliation_string.search:grenoble&cursor=IlsxNjUuMjUyMTIsIDE1OTM1NjE2MDAwMDAsICdodHRwczovL29wZW5hbGV4Lm9yZy9XMjkwMzE2MTk2OSddIg==&per-page=200&mailto=bertagrim@gmail.com\n",
      "OK\n",
      "Fetching page 29 ...\n",
      "Senging GET https://api.openalex.org/works?filter=from_publication_date:2017-01-01,to_publication_date:2021-12-31,raw_affiliation_string.search:grenoble&cursor=IlsxNjIuNDk2MTUsIDE1NDg5NzkyMDAwMDAsICdodHRwczovL29wZW5hbGV4Lm9yZy9XMjg5NTU1NjIyNCddIg==&per-page=200&mailto=bertagrim@gmail.com\n",
      "OK\n",
      "Fetching page 30 ...\n",
      "Senging GET https://api.openalex.org/works?filter=from_publication_date:2017-01-01,to_publication_date:2021-12-31,raw_affiliation_string.search:grenoble&cursor=IlsxNjAuOTQxOTMsIDE1NDYzMDA4MDAwMDAsICdodHRwczovL29wZW5hbGV4Lm9yZy9XMjkwMjg4MDYxOCddIg==&per-page=200&mailto=bertagrim@gmail.com\n",
      "OK\n",
      "Fetching page 31 ...\n",
      "Senging GET https://api.openalex.org/works?filter=from_publication_date:2017-01-01,to_publication_date:2021-12-31,raw_affiliation_string.search:grenoble&cursor=IlsxNTguMjAyNDgsIDE0OTYyNzUyMDAwMDAsICdodHRwczovL29wZW5hbGV4Lm9yZy9XMjU5MzY2ODk2MSddIg==&per-page=200&mailto=bertagrim@gmail.com\n",
      "OK\n",
      "Fetching page 32 ...\n",
      "Senging GET https://api.openalex.org/works?filter=from_publication_date:2017-01-01,to_publication_date:2021-12-31,raw_affiliation_string.search:grenoble&cursor=IlsxNTYuNDg4MDgsIDE1ODA1MTUyMDAwMDAsICdodHRwczovL29wZW5hbGV4Lm9yZy9XMjk5MDYzNDIyNiddIg==&per-page=200&mailto=bertagrim@gmail.com\n",
      "OK\n",
      "Fetching page 33 ...\n",
      "Senging GET https://api.openalex.org/works?filter=from_publication_date:2017-01-01,to_publication_date:2021-12-31,raw_affiliation_string.search:grenoble&cursor=IlsxNTQuMTAyMzMsIDE1MjQ3ODcyMDAwMDAsICdodHRwczovL29wZW5hbGV4Lm9yZy9XMjc2NzY1MTUxMiddIg==&per-page=200&mailto=bertagrim@gmail.com\n",
      "OK\n",
      "Fetching page 34 ...\n",
      "Senging GET https://api.openalex.org/works?filter=from_publication_date:2017-01-01,to_publication_date:2021-12-31,raw_affiliation_string.search:grenoble&cursor=IlsxNTIuNTkzNywgMTUxNDg1MTIwMDAwMCwgJ2h0dHBzOi8vb3BlbmFsZXgub3JnL1cyNzc0Mjg5MTU4J10i&per-page=200&mailto=bertagrim@gmail.com\n",
      "OK\n",
      "Fetching page 35 ...\n",
      "Senging GET https://api.openalex.org/works?filter=from_publication_date:2017-01-01,to_publication_date:2021-12-31,raw_affiliation_string.search:grenoble&cursor=IlsxNTAuNDkyODksIDE1MTM4MTQ0MDAwMDAsICdodHRwczovL29wZW5hbGV4Lm9yZy9XMjc4MDYyMzQ5NSddIg==&per-page=200&mailto=bertagrim@gmail.com\n",
      "OK\n",
      "Fetching page 36 ...\n",
      "Senging GET https://api.openalex.org/works?filter=from_publication_date:2017-01-01,to_publication_date:2021-12-31,raw_affiliation_string.search:grenoble&cursor=IlsxNDguODc5NjgsIDE1Mjc1NTIwMDAwMDAsICdodHRwczovL29wZW5hbGV4Lm9yZy9XMjgwNjU3MzcwOSddIg==&per-page=200&mailto=bertagrim@gmail.com\n",
      "OK\n",
      "Fetching page 37 ...\n",
      "Senging GET https://api.openalex.org/works?filter=from_publication_date:2017-01-01,to_publication_date:2021-12-31,raw_affiliation_string.search:grenoble&cursor=IlsxNDcuMDYwOCwgMTU0OTU4NDAwMDAwMCwgJ2h0dHBzOi8vb3BlbmFsZXgub3JnL1cyOTExMzczODU3J10i&per-page=200&mailto=bertagrim@gmail.com\n",
      "OK\n",
      "Fetching page 38 ...\n",
      "Senging GET https://api.openalex.org/works?filter=from_publication_date:2017-01-01,to_publication_date:2021-12-31,raw_affiliation_string.search:grenoble&cursor=IlsxNDQuNjA0NTcsIDE1NDY5MDU2MDAwMDAsICdodHRwczovL29wZW5hbGV4Lm9yZy9XMjkxMDA1NTU3MSddIg==&per-page=200&mailto=bertagrim@gmail.com\n",
      "OK\n",
      "Fetching page 39 ...\n",
      "Senging GET https://api.openalex.org/works?filter=from_publication_date:2017-01-01,to_publication_date:2021-12-31,raw_affiliation_string.search:grenoble&cursor=IlsxNDMuMzEwNjQsIDE1Mjc4MTEyMDAwMDAsICdodHRwczovL29wZW5hbGV4Lm9yZy9XMjgwNTM5MDkwMSddIg==&per-page=200&mailto=bertagrim@gmail.com\n",
      "OK\n",
      "Fetching page 40 ...\n",
      "Senging GET https://api.openalex.org/works?filter=from_publication_date:2017-01-01,to_publication_date:2021-12-31,raw_affiliation_string.search:grenoble&cursor=IlsxNDEuNDg0NzksIDE1MTAxODU2MDAwMDAsICdodHRwczovL29wZW5hbGV4Lm9yZy9XMjc2Nzg2NjE2MiddIg==&per-page=200&mailto=bertagrim@gmail.com\n",
      "OK\n",
      "Fetching page 41 ...\n",
      "Senging GET https://api.openalex.org/works?filter=from_publication_date:2017-01-01,to_publication_date:2021-12-31,raw_affiliation_string.search:grenoble&cursor=IlsxMzkuOTAxNDksIDE1MTM4MTQ0MDAwMDAsICdodHRwczovL29wZW5hbGV4Lm9yZy9XMjc3Njc0NjE5NyddIg==&per-page=200&mailto=bertagrim@gmail.com\n",
      "OK\n",
      "Fetching page 42 ...\n",
      "Senging GET https://api.openalex.org/works?filter=from_publication_date:2017-01-01,to_publication_date:2021-12-31,raw_affiliation_string.search:grenoble&cursor=IlsxMzguMzYyMzgsIDE1MzA0MDMyMDAwMDAsICdodHRwczovL29wZW5hbGV4Lm9yZy9XMjgwMzAyMDUyNCddIg==&per-page=200&mailto=bertagrim@gmail.com\n",
      "OK\n",
      "Fetching page 43 ...\n",
      "Senging GET https://api.openalex.org/works?filter=from_publication_date:2017-01-01,to_publication_date:2021-12-31,raw_affiliation_string.search:grenoble&cursor=IlsxMzYuMjc2MTUsIDE0ODQwMDY0MDAwMDAsICdodHRwczovL29wZW5hbGV4Lm9yZy9XMjU2NDcwNDEyNCddIg==&per-page=200&mailto=bertagrim@gmail.com\n",
      "OK\n",
      "Fetching page 44 ...\n",
      "Senging GET https://api.openalex.org/works?filter=from_publication_date:2017-01-01,to_publication_date:2021-12-31,raw_affiliation_string.search:grenoble&cursor=IlsxMzUuMDQwMTksIDE1NTkzNDcyMDAwMDAsICdodHRwczovL29wZW5hbGV4Lm9yZy9XMjk2MzQ3ODU3MSddIg==&per-page=200&mailto=bertagrim@gmail.com\n",
      "OK\n",
      "Fetching page 45 ...\n",
      "Senging GET https://api.openalex.org/works?filter=from_publication_date:2017-01-01,to_publication_date:2021-12-31,raw_affiliation_string.search:grenoble&cursor=IlsxMzMuMjA2NzksIDE2MTQ1NTY4MDAwMDAsICdodHRwczovL29wZW5hbGV4Lm9yZy9XMzExNTIwMDI3NiddIg==&per-page=200&mailto=bertagrim@gmail.com\n",
      "OK\n",
      "Fetching page 46 ...\n",
      "Senging GET https://api.openalex.org/works?filter=from_publication_date:2017-01-01,to_publication_date:2021-12-31,raw_affiliation_string.search:grenoble&cursor=IlsxMzEuNzk1OTYsIDE1ODg1NTA0MDAwMDAsICdodHRwczovL29wZW5hbGV4Lm9yZy9XMzAxOTEyNTU4NCddIg==&per-page=200&mailto=bertagrim@gmail.com\n",
      "OK\n",
      "Fetching page 47 ...\n",
      "Senging GET https://api.openalex.org/works?filter=from_publication_date:2017-01-01,to_publication_date:2021-12-31,raw_affiliation_string.search:grenoble&cursor=IlsxMzAuMzU4OCwgMTU0OTQxMTIwMDAwMCwgJ2h0dHBzOi8vb3BlbmFsZXgub3JnL1cyOTA5MTY0NDQxJ10i&per-page=200&mailto=bertagrim@gmail.com\n",
      "OK\n",
      "Fetching page 48 ...\n",
      "Senging GET https://api.openalex.org/works?filter=from_publication_date:2017-01-01,to_publication_date:2021-12-31,raw_affiliation_string.search:grenoble&cursor=IlsxMjguOTk4NTIsIDE1NDg4MDY0MDAwMDAsICdodHRwczovL29wZW5hbGV4Lm9yZy9XMjkxNDQ2NDEwOCddIg==&per-page=200&mailto=bertagrim@gmail.com\n",
      "OK\n",
      "Fetching page 49 ...\n",
      "Senging GET https://api.openalex.org/works?filter=from_publication_date:2017-01-01,to_publication_date:2021-12-31,raw_affiliation_string.search:grenoble&cursor=IlsxMjcuMzExOTgsIDE1OTA5Njk2MDAwMDAsICdodHRwczovL29wZW5hbGV4Lm9yZy9XMzAxNDEyODg0MSddIg==&per-page=200&mailto=bertagrim@gmail.com\n",
      "OK\n",
      "Fetching page 50 ...\n",
      "Senging GET https://api.openalex.org/works?filter=from_publication_date:2017-01-01,to_publication_date:2021-12-31,raw_affiliation_string.search:grenoble&cursor=IlsxMjYuMjYwNzUsIDE1OTYyNDAwMDAwMDAsICdodHRwczovL29wZW5hbGV4Lm9yZy9XMzAxNDU5MzA5NyddIg==&per-page=200&mailto=bertagrim@gmail.com\n",
      "OK\n",
      "Fetching page 51 ...\n",
      "Senging GET https://api.openalex.org/works?filter=from_publication_date:2017-01-01,to_publication_date:2021-12-31,raw_affiliation_string.search:grenoble&cursor=IlsxMjUuMDg1MzIsIDE2MjczNDQwMDAwMDAsICdodHRwczovL29wZW5hbGV4Lm9yZy9XMzE2ODM3MzgyMSddIg==&per-page=200&mailto=bertagrim@gmail.com\n",
      "OK\n",
      "Fetching page 52 ...\n",
      "Senging GET https://api.openalex.org/works?filter=from_publication_date:2017-01-01,to_publication_date:2021-12-31,raw_affiliation_string.search:grenoble&cursor=IlsxMjMuNDcxNzgsIDE2MzQ3NzQ0MDAwMDAsICdodHRwczovL29wZW5hbGV4Lm9yZy9XMzIwNjk5NzY3MyddIg==&per-page=200&mailto=bertagrim@gmail.com\n",
      "OK\n",
      "Fetching page 53 ...\n",
      "Senging GET https://api.openalex.org/works?filter=from_publication_date:2017-01-01,to_publication_date:2021-12-31,raw_affiliation_string.search:grenoble&cursor=IlsxMjEuNzc0ODY0LCAxNjM2NDE2MDAwMDAwLCAnaHR0cHM6Ly9vcGVuYWxleC5vcmcvVzMyMTI3OTU5MTUnXSI=&per-page=200&mailto=bertagrim@gmail.com\n"
     ]
    },
    {
     "name": "stdout",
     "output_type": "stream",
     "text": [
      "OK\n",
      "Fetching page 54 ...\n",
      "Senging GET https://api.openalex.org/works?filter=from_publication_date:2017-01-01,to_publication_date:2021-12-31,raw_affiliation_string.search:grenoble&cursor=IlsxMjAuNzk5MjUsIDE1MTQ3NjQ4MDAwMDAsICdodHRwczovL29wZW5hbGV4Lm9yZy9XMjc3NDc5MTkwMCddIg==&per-page=200&mailto=bertagrim@gmail.com\n",
      "OK\n",
      "Fetching page 55 ...\n",
      "Senging GET https://api.openalex.org/works?filter=from_publication_date:2017-01-01,to_publication_date:2021-12-31,raw_affiliation_string.search:grenoble&cursor=IlsxMjAuMDkxNzc0LCAxNTA0MTM3NjAwMDAwLCAnaHR0cHM6Ly9vcGVuYWxleC5vcmcvVzMwOTkyNjg2MDMnXSI=&per-page=200&mailto=bertagrim@gmail.com\n",
      "OK\n",
      "Fetching page 56 ...\n",
      "Senging GET https://api.openalex.org/works?filter=from_publication_date:2017-01-01,to_publication_date:2021-12-31,raw_affiliation_string.search:grenoble&cursor=IlsxMTguMTcwMDcsIDE1MTQ3NjQ4MDAwMDAsICdodHRwczovL29wZW5hbGV4Lm9yZy9XMjc2OTA0ODM1OSddIg==&per-page=200&mailto=bertagrim@gmail.com\n",
      "OK\n",
      "Fetching page 57 ...\n",
      "Senging GET https://api.openalex.org/works?filter=from_publication_date:2017-01-01,to_publication_date:2021-12-31,raw_affiliation_string.search:grenoble&cursor=IlsxMTYuODc0MzQsIDE2MTQ1NTY4MDAwMDAsICdodHRwczovL29wZW5hbGV4Lm9yZy9XMzEwODA0MDAxOSddIg==&per-page=200&mailto=bertagrim@gmail.com\n",
      "OK\n",
      "Fetching page 58 ...\n",
      "Senging GET https://api.openalex.org/works?filter=from_publication_date:2017-01-01,to_publication_date:2021-12-31,raw_affiliation_string.search:grenoble&cursor=IlsxMTUuNTczNTU1LCAxNjI4NTUzNjAwMDAwLCAnaHR0cHM6Ly9vcGVuYWxleC5vcmcvVzMxOTE1NzIxNTUnXSI=&per-page=200&mailto=bertagrim@gmail.com\n",
      "OK\n",
      "Fetching page 59 ...\n",
      "Senging GET https://api.openalex.org/works?filter=from_publication_date:2017-01-01,to_publication_date:2021-12-31,raw_affiliation_string.search:grenoble&cursor=IlsxMTQuNTMwMzcsIDE1ODU1MjY0MDAwMDAsICdodHRwczovL29wZW5hbGV4Lm9yZy9XMzAxMzY5ODUzOSddIg==&per-page=200&mailto=bertagrim@gmail.com\n",
      "OK\n",
      "Fetching page 60 ...\n",
      "Senging GET https://api.openalex.org/works?filter=from_publication_date:2017-01-01,to_publication_date:2021-12-31,raw_affiliation_string.search:grenoble&cursor=IlsxMTMuOTkwMDM2LCAxNTg4MjkxMjAwMDAwLCAnaHR0cHM6Ly9vcGVuYWxleC5vcmcvVzMwMTI0MjYxOTEnXSI=&per-page=200&mailto=bertagrim@gmail.com\n",
      "OK\n",
      "Fetching page 61 ...\n",
      "Senging GET https://api.openalex.org/works?filter=from_publication_date:2017-01-01,to_publication_date:2021-12-31,raw_affiliation_string.search:grenoble&cursor=IlsxMTIuNjMwOTgsIDE1Njk0NTYwMDAwMDAsICdodHRwczovL29wZW5hbGV4Lm9yZy9XMjk3MTkxNTAzMSddIg==&per-page=200&mailto=bertagrim@gmail.com\n",
      "OK\n",
      "Fetching page 62 ...\n",
      "Senging GET https://api.openalex.org/works?filter=from_publication_date:2017-01-01,to_publication_date:2021-12-31,raw_affiliation_string.search:grenoble&cursor=IlsxMTEuMTAzNDgsIDE2MTIxMzc2MDAwMDAsICdodHRwczovL29wZW5hbGV4Lm9yZy9XMzA4NjE0ODcwMyddIg==&per-page=200&mailto=bertagrim@gmail.com\n",
      "OK\n",
      "Fetching page 63 ...\n",
      "Senging GET https://api.openalex.org/works?filter=from_publication_date:2017-01-01,to_publication_date:2021-12-31,raw_affiliation_string.search:grenoble&cursor=IlsxMDkuNTUyNTgsIDE1MzgwOTI4MDAwMDAsICdodHRwczovL29wZW5hbGV4Lm9yZy9XMjg5MjU3NjI3MSddIg==&per-page=200&mailto=bertagrim@gmail.com\n",
      "OK\n",
      "Fetching page 64 ...\n",
      "Senging GET https://api.openalex.org/works?filter=from_publication_date:2017-01-01,to_publication_date:2021-12-31,raw_affiliation_string.search:grenoble&cursor=IlsxMDguODkxMzcsIDE0OTA3NDU2MDAwMDAsICdodHRwczovL29wZW5hbGV4Lm9yZy9XMjU5NzQ1Mzc2NCddIg==&per-page=200&mailto=bertagrim@gmail.com\n",
      "OK\n",
      "Fetching page 65 ...\n",
      "Senging GET https://api.openalex.org/works?filter=from_publication_date:2017-01-01,to_publication_date:2021-12-31,raw_affiliation_string.search:grenoble&cursor=IlsxMDguMDk0NjUsIDE1ODA1MTUyMDAwMDAsICdodHRwczovL29wZW5hbGV4Lm9yZy9XMjk5MzQ5ODY1NyddIg==&per-page=200&mailto=bertagrim@gmail.com\n",
      "OK\n",
      "Fetching page 66 ...\n",
      "Senging GET https://api.openalex.org/works?filter=from_publication_date:2017-01-01,to_publication_date:2021-12-31,raw_affiliation_string.search:grenoble&cursor=IlsxMDYuOTg3MywgMTU3MTcwMjQwMDAwMCwgJ2h0dHBzOi8vb3BlbmFsZXgub3JnL1cyOTgxNzc4MzUxJ10i&per-page=200&mailto=bertagrim@gmail.com\n",
      "OK\n",
      "Fetching page 67 ...\n",
      "Senging GET https://api.openalex.org/works?filter=from_publication_date:2017-01-01,to_publication_date:2021-12-31,raw_affiliation_string.search:grenoble&cursor=IlsxMDUuMzM3MDUsIDE1NTUyMDAwMDAwMDAsICdodHRwczovL29wZW5hbGV4Lm9yZy9XMjk2NjQzMTY0MCddIg==&per-page=200&mailto=bertagrim@gmail.com\n",
      "OK\n",
      "Fetching page 68 ...\n",
      "Senging GET https://api.openalex.org/works?filter=from_publication_date:2017-01-01,to_publication_date:2021-12-31,raw_affiliation_string.search:grenoble&cursor=IlsxMDQuMzE2ODEsIDE1ODQ0MDMyMDAwMDAsICdodHRwczovL29wZW5hbGV4Lm9yZy9XMzAxMTg1OTI3NiddIg==&per-page=200&mailto=bertagrim@gmail.com\n",
      "OK\n",
      "Fetching page 69 ...\n",
      "Senging GET https://api.openalex.org/works?filter=from_publication_date:2017-01-01,to_publication_date:2021-12-31,raw_affiliation_string.search:grenoble&cursor=IlsxMDMuNDc1MjgsIDE1MTc0NDMyMDAwMDAsICdodHRwczovL29wZW5hbGV4Lm9yZy9XMjc4MTU5MzM1NyddIg==&per-page=200&mailto=bertagrim@gmail.com\n",
      "OK\n",
      "Fetching page 70 ...\n",
      "Senging GET https://api.openalex.org/works?filter=from_publication_date:2017-01-01,to_publication_date:2021-12-31,raw_affiliation_string.search:grenoble&cursor=IlsxMDIuMzk1MzU1LCAxNTE0Njc4NDAwMDAwLCAnaHR0cHM6Ly9vcGVuYWxleC5vcmcvVzI3NDA4MjEwMDQnXSI=&per-page=200&mailto=bertagrim@gmail.com\n",
      "OK\n",
      "Fetching page 71 ...\n",
      "Senging GET https://api.openalex.org/works?filter=from_publication_date:2017-01-01,to_publication_date:2021-12-31,raw_affiliation_string.search:grenoble&cursor=IlsxMDEuMTU2MzEsIDE0OTg4NjcyMDAwMDAsICdodHRwczovL29wZW5hbGV4Lm9yZy9XMjYwODk1OTExMSddIg==&per-page=200&mailto=bertagrim@gmail.com\n",
      "OK\n",
      "Fetching page 72 ...\n",
      "Senging GET https://api.openalex.org/works?filter=from_publication_date:2017-01-01,to_publication_date:2021-12-31,raw_affiliation_string.search:grenoble&cursor=Ils5OS45MTgyMDUsIDE1MzI5MDg4MDAwMDAsICdodHRwczovL29wZW5hbGV4Lm9yZy9XMjg4NDM1MDQ1OSddIg==&per-page=200&mailto=bertagrim@gmail.com\n",
      "OK\n",
      "Fetching page 73 ...\n",
      "Senging GET https://api.openalex.org/works?filter=from_publication_date:2017-01-01,to_publication_date:2021-12-31,raw_affiliation_string.search:grenoble&cursor=Ils5OS4xODI2NiwgMTU5MDYyNDAwMDAwMCwgJ2h0dHBzOi8vb3BlbmFsZXgub3JnL1czMDM1NjI5NDY5J10i&per-page=200&mailto=bertagrim@gmail.com\n",
      "OK\n",
      "Fetching page 74 ...\n",
      "Senging GET https://api.openalex.org/works?filter=from_publication_date:2017-01-01,to_publication_date:2021-12-31,raw_affiliation_string.search:grenoble&cursor=Ils5OC42NjI5NiwgMTU3NTE1ODQwMDAwMCwgJ2h0dHBzOi8vb3BlbmFsZXgub3JnL1cyNzk0MTc3ODM2J10i&per-page=200&mailto=bertagrim@gmail.com\n",
      "OK\n",
      "Fetching page 75 ...\n",
      "Senging GET https://api.openalex.org/works?filter=from_publication_date:2017-01-01,to_publication_date:2021-12-31,raw_affiliation_string.search:grenoble&cursor=Ils5Ni43OTkyNTUsIDE1NTkzNDcyMDAwMDAsICdodHRwczovL29wZW5hbGV4Lm9yZy9XMjg5Nzk2ODkwNiddIg==&per-page=200&mailto=bertagrim@gmail.com\n",
      "OK\n",
      "Fetching page 76 ...\n",
      "Senging GET https://api.openalex.org/works?filter=from_publication_date:2017-01-01,to_publication_date:2021-12-31,raw_affiliation_string.search:grenoble&cursor=Ils5NS43OTQ1LCAxNjA5NDU5MjAwMDAwLCAnaHR0cHM6Ly9vcGVuYWxleC5vcmcvVzMwNDc5MzIyMzcnXSI=&per-page=200&mailto=bertagrim@gmail.com\n",
      "OK\n",
      "Fetching page 77 ...\n",
      "Senging GET https://api.openalex.org/works?filter=from_publication_date:2017-01-01,to_publication_date:2021-12-31,raw_affiliation_string.search:grenoble&cursor=Ils5NC43NzcyMSwgMTYzMzA0NjQwMDAwMCwgJ2h0dHBzOi8vb3BlbmFsZXgub3JnL1czMTg3NzEwMzEwJ10i&per-page=200&mailto=bertagrim@gmail.com\n",
      "OK\n",
      "Fetching page 78 ...\n",
      "Senging GET https://api.openalex.org/works?filter=from_publication_date:2017-01-01,to_publication_date:2021-12-31,raw_affiliation_string.search:grenoble&cursor=Ils5My44ODA2NiwgMTU4ODAzMjAwMDAwMCwgJ2h0dHBzOi8vb3BlbmFsZXgub3JnL1czMDIzMzE2NzMxJ10i&per-page=200&mailto=bertagrim@gmail.com\n",
      "OK\n",
      "Fetching page 79 ...\n",
      "Senging GET https://api.openalex.org/works?filter=from_publication_date:2017-01-01,to_publication_date:2021-12-31,raw_affiliation_string.search:grenoble&cursor=Ils5My41MTQ5MywgMTU3OTczNzYwMDAwMCwgJ2h0dHBzOi8vb3BlbmFsZXgub3JnL1cyOTg1NjU1OTE0J10i&per-page=200&mailto=bertagrim@gmail.com\n",
      "OK\n",
      "Fetching page 80 ...\n",
      "Senging GET https://api.openalex.org/works?filter=from_publication_date:2017-01-01,to_publication_date:2021-12-31,raw_affiliation_string.search:grenoble&cursor=Ils5MS45MTExMywgMTU2MTkzOTIwMDAwMCwgJ2h0dHBzOi8vb3BlbmFsZXgub3JnL1cyODAwMTQyMTQ4J10i&per-page=200&mailto=bertagrim@gmail.com\n"
     ]
    },
    {
     "name": "stdout",
     "output_type": "stream",
     "text": [
      "OK\n",
      "Fetching page 81 ...\n",
      "Senging GET https://api.openalex.org/works?filter=from_publication_date:2017-01-01,to_publication_date:2021-12-31,raw_affiliation_string.search:grenoble&cursor=Ils5MC40MzI2MjUsIDE1ODE5ODQwMDAwMDAsICdodHRwczovL29wZW5hbGV4Lm9yZy9XMzAwOTAxNTg5MyddIg==&per-page=200&mailto=bertagrim@gmail.com\n",
      "OK\n",
      "Fetching page 82 ...\n",
      "Senging GET https://api.openalex.org/works?filter=from_publication_date:2017-01-01,to_publication_date:2021-12-31,raw_affiliation_string.search:grenoble&cursor=Ils4OS42MDYyMSwgMTUzMzg1OTIwMDAwMCwgJ2h0dHBzOi8vb3BlbmFsZXgub3JnL1cyODg2ODk3MjA3J10i&per-page=200&mailto=bertagrim@gmail.com\n",
      "OK\n",
      "Fetching page 83 ...\n",
      "Senging GET https://api.openalex.org/works?filter=from_publication_date:2017-01-01,to_publication_date:2021-12-31,raw_affiliation_string.search:grenoble&cursor=Ils4OC45ODQzNzUsIDE0OTk2NDQ4MDAwMDAsICdodHRwczovL29wZW5hbGV4Lm9yZy9XMjcyNjI1NjYyMSddIg==&per-page=200&mailto=bertagrim@gmail.com\n",
      "OK\n",
      "Fetching page 84 ...\n",
      "Senging GET https://api.openalex.org/works?filter=from_publication_date:2017-01-01,to_publication_date:2021-12-31,raw_affiliation_string.search:grenoble&cursor=Ils4Ny43OTg5NjUsIDE2MjI3NjQ4MDAwMDAsICdodHRwczovL29wZW5hbGV4Lm9yZy9XMzE1NzAzMTc2MyddIg==&per-page=200&mailto=bertagrim@gmail.com\n",
      "OK\n",
      "Fetching page 85 ...\n",
      "Senging GET https://api.openalex.org/works?filter=from_publication_date:2017-01-01,to_publication_date:2021-12-31,raw_affiliation_string.search:grenoble&cursor=Ils4Ny4wOTM4NiwgMTYxOTgyNzIwMDAwMCwgJ2h0dHBzOi8vb3BlbmFsZXgub3JnL1czMDQzODA5MjE2J10i&per-page=200&mailto=bertagrim@gmail.com\n",
      "OK\n",
      "Fetching page 86 ...\n",
      "Senging GET https://api.openalex.org/works?filter=from_publication_date:2017-01-01,to_publication_date:2021-12-31,raw_affiliation_string.search:grenoble&cursor=Ils4Ni4yNzM3LCAxNDkxMDA0ODAwMDAwLCAnaHR0cHM6Ly9vcGVuYWxleC5vcmcvVzI1ODAyNDAzMzUnXSI=&per-page=200&mailto=bertagrim@gmail.com\n",
      "OK\n",
      "Fetching page 87 ...\n",
      "Senging GET https://api.openalex.org/works?filter=from_publication_date:2017-01-01,to_publication_date:2021-12-31,raw_affiliation_string.search:grenoble&cursor=Ils4NS43NzY1OCwgMTU5ODkxODQwMDAwMCwgJ2h0dHBzOi8vb3BlbmFsZXgub3JnL1czMDgyODIyNjE1J10i&per-page=200&mailto=bertagrim@gmail.com\n",
      "OK\n",
      "Fetching page 88 ...\n",
      "Senging GET https://api.openalex.org/works?filter=from_publication_date:2017-01-01,to_publication_date:2021-12-31,raw_affiliation_string.search:grenoble&cursor=Ils4NC4yMjQ1LCAxNTA5NDk0NDAwMDAwLCAnaHR0cHM6Ly9vcGVuYWxleC5vcmcvVzI1MDkxNDE5MzEnXSI=&per-page=200&mailto=bertagrim@gmail.com\n",
      "OK\n",
      "Fetching page 89 ...\n",
      "Senging GET https://api.openalex.org/works?filter=from_publication_date:2017-01-01,to_publication_date:2021-12-31,raw_affiliation_string.search:grenoble&cursor=Ils4My4zNjY0MywgMTUwNTE3NDQwMDAwMCwgJ2h0dHBzOi8vb3BlbmFsZXgub3JnL1cyNzUzODA5NDAyJ10i&per-page=200&mailto=bertagrim@gmail.com\n",
      "OK\n",
      "Fetching page 90 ...\n",
      "Senging GET https://api.openalex.org/works?filter=from_publication_date:2017-01-01,to_publication_date:2021-12-31,raw_affiliation_string.search:grenoble&cursor=Ils4Mi40NDEyMiwgMTUxNTk3NDQwMDAwMCwgJ2h0dHBzOi8vb3BlbmFsZXgub3JnL1cyNzY1MzEzNDI5J10i&per-page=200&mailto=bertagrim@gmail.com\n",
      "OK\n",
      "Fetching page 91 ...\n",
      "Senging GET https://api.openalex.org/works?filter=from_publication_date:2017-01-01,to_publication_date:2021-12-31,raw_affiliation_string.search:grenoble&cursor=Ils4MS44MTUxLCAxNTA0MjI0MDAwMDAwLCAnaHR0cHM6Ly9vcGVuYWxleC5vcmcvVzI3OTA3Mjk5MjknXSI=&per-page=200&mailto=bertagrim@gmail.com\n",
      "OK\n",
      "Fetching page 92 ...\n",
      "Senging GET https://api.openalex.org/works?filter=from_publication_date:2017-01-01,to_publication_date:2021-12-31,raw_affiliation_string.search:grenoble&cursor=Ils4MS4yNTQyNiwgMTU4NTY5OTIwMDAwMCwgJ2h0dHBzOi8vb3BlbmFsZXgub3JnL1cyOTk1NDYxMjExJ10i&per-page=200&mailto=bertagrim@gmail.com\n",
      "OK\n",
      "Fetching page 93 ...\n",
      "Senging GET https://api.openalex.org/works?filter=from_publication_date:2017-01-01,to_publication_date:2021-12-31,raw_affiliation_string.search:grenoble&cursor=Ils3OS45MDU5MSwgMTU0ODk3OTIwMDAwMCwgJ2h0dHBzOi8vb3BlbmFsZXgub3JnL1cyOTQwNjQ0MTYzJ10i&per-page=200&mailto=bertagrim@gmail.com\n",
      "OK\n",
      "Fetching page 94 ...\n",
      "Senging GET https://api.openalex.org/works?filter=from_publication_date:2017-01-01,to_publication_date:2021-12-31,raw_affiliation_string.search:grenoble&cursor=Ils3OC43NDA5MywgMTYxNDkwMjQwMDAwMCwgJ2h0dHBzOi8vb3BlbmFsZXgub3JnL1czMDk3NzEwNDY3J10i&per-page=200&mailto=bertagrim@gmail.com\n",
      "OK\n",
      "Fetching page 95 ...\n",
      "Senging GET https://api.openalex.org/works?filter=from_publication_date:2017-01-01,to_publication_date:2021-12-31,raw_affiliation_string.search:grenoble&cursor=Ils3OC4wNTExNiwgMTU0MjE1MzYwMDAwMCwgJ2h0dHBzOi8vb3BlbmFsZXgub3JnL1cyOTAwNTExOTIyJ10i&per-page=200&mailto=bertagrim@gmail.com\n",
      "OK\n",
      "Fetching page 96 ...\n",
      "Senging GET https://api.openalex.org/works?filter=from_publication_date:2017-01-01,to_publication_date:2021-12-31,raw_affiliation_string.search:grenoble&cursor=Ils3Ny40NTY2OCwgMTUwODk3NjAwMDAwMCwgJ2h0dHBzOi8vb3BlbmFsZXgub3JnL1cyNzU5ODY5ODg4J10i&per-page=200&mailto=bertagrim@gmail.com\n",
      "OK\n",
      "Fetching page 97 ...\n",
      "Senging GET https://api.openalex.org/works?filter=from_publication_date:2017-01-01,to_publication_date:2021-12-31,raw_affiliation_string.search:grenoble&cursor=Ils3Ni45Mzc3MywgMTU3OTEzMjgwMDAwMCwgJ2h0dHBzOi8vb3BlbmFsZXgub3JnL1cyOTk0OTUxODcwJ10i&per-page=200&mailto=bertagrim@gmail.com\n",
      "OK\n",
      "Fetching page 98 ...\n",
      "Senging GET https://api.openalex.org/works?filter=from_publication_date:2017-01-01,to_publication_date:2021-12-31,raw_affiliation_string.search:grenoble&cursor=Ils3NS45ODI0MSwgMTU3Mzc3NjAwMDAwMCwgJ2h0dHBzOi8vb3BlbmFsZXgub3JnL1cyOTczNjE1NDM3J10i&per-page=200&mailto=bertagrim@gmail.com\n",
      "OK\n",
      "Fetching page 99 ...\n",
      "Senging GET https://api.openalex.org/works?filter=from_publication_date:2017-01-01,to_publication_date:2021-12-31,raw_affiliation_string.search:grenoble&cursor=Ils3NS4wNzAzMywgMTU1NDA3NjgwMDAwMCwgJ2h0dHBzOi8vb3BlbmFsZXgub3JnL1cyOTY5NDA3MDA2J10i&per-page=200&mailto=bertagrim@gmail.com\n",
      "OK\n",
      "Fetching page 100 ...\n",
      "Senging GET https://api.openalex.org/works?filter=from_publication_date:2017-01-01,to_publication_date:2021-12-31,raw_affiliation_string.search:grenoble&cursor=Ils3My45NDg4MTQsIDE1MjUyMTkyMDAwMDAsICdodHRwczovL29wZW5hbGV4Lm9yZy9XMjgwMzgzOTU3MiddIg==&per-page=200&mailto=bertagrim@gmail.com\n",
      "OK\n",
      "Fetching page 101 ...\n",
      "Senging GET https://api.openalex.org/works?filter=from_publication_date:2017-01-01,to_publication_date:2021-12-31,raw_affiliation_string.search:grenoble&cursor=Ils3My4yMzc1NjQsIDE1NTAyNzUyMDAwMDAsICdodHRwczovL29wZW5hbGV4Lm9yZy9XMjkxNDY4NzgyMyddIg==&per-page=200&mailto=bertagrim@gmail.com\n",
      "OK\n",
      "Fetching page 102 ...\n",
      "Senging GET https://api.openalex.org/works?filter=from_publication_date:2017-01-01,to_publication_date:2021-12-31,raw_affiliation_string.search:grenoble&cursor=Ils3MS42MDcxNywgMTYxNDU1NjgwMDAwMCwgJ2h0dHBzOi8vb3BlbmFsZXgub3JnL1czMTM3Njg3OTU1J10i&per-page=200&mailto=bertagrim@gmail.com\n",
      "OK\n",
      "Fetching page 103 ...\n",
      "Senging GET https://api.openalex.org/works?filter=from_publication_date:2017-01-01,to_publication_date:2021-12-31,raw_affiliation_string.search:grenoble&cursor=Ils3MS4yMjEwNSwgMTYzODMxNjgwMDAwMCwgJ2h0dHBzOi8vb3BlbmFsZXgub3JnL1czMTk5NTYyOTE2J10i&per-page=200&mailto=bertagrim@gmail.com\n",
      "OK\n",
      "Fetching page 104 ...\n",
      "Senging GET https://api.openalex.org/works?filter=from_publication_date:2017-01-01,to_publication_date:2021-12-31,raw_affiliation_string.search:grenoble&cursor=Ils3MC41MDI4OSwgMTU5MTkyMDAwMDAwMCwgJ2h0dHBzOi8vb3BlbmFsZXgub3JnL1czMDM1MzExMjM0J10i&per-page=200&mailto=bertagrim@gmail.com\n",
      "OK\n",
      "Fetching page 105 ...\n",
      "Senging GET https://api.openalex.org/works?filter=from_publication_date:2017-01-01,to_publication_date:2021-12-31,raw_affiliation_string.search:grenoble&cursor=Ils2OC40OTk0NiwgMTUwODE5ODQwMDAwMCwgJ2h0dHBzOi8vb3BlbmFsZXgub3JnL1cyNzYxMDIyMDU0J10i&per-page=200&mailto=bertagrim@gmail.com\n",
      "OK\n",
      "Fetching page 106 ...\n",
      "Senging GET https://api.openalex.org/works?filter=from_publication_date:2017-01-01,to_publication_date:2021-12-31,raw_affiliation_string.search:grenoble&cursor=Ils2Ny45MTM0MiwgMTYxNTkzOTIwMDAwMCwgJ2h0dHBzOi8vb3BlbmFsZXgub3JnL1cyOTk1NDU2NDk3J10i&per-page=200&mailto=bertagrim@gmail.com\n",
      "OK\n",
      "Fetching page 107 ...\n",
      "Senging GET https://api.openalex.org/works?filter=from_publication_date:2017-01-01,to_publication_date:2021-12-31,raw_affiliation_string.search:grenoble&cursor=Ils2Ny42MDMzOSwgMTYxNTMzNDQwMDAwMCwgJ2h0dHBzOi8vb3BlbmFsZXgub3JnL1czMTMzOTczNTM4J10i&per-page=200&mailto=bertagrim@gmail.com\n"
     ]
    },
    {
     "name": "stdout",
     "output_type": "stream",
     "text": [
      "OK\n",
      "Fetching page 108 ...\n",
      "Senging GET https://api.openalex.org/works?filter=from_publication_date:2017-01-01,to_publication_date:2021-12-31,raw_affiliation_string.search:grenoble&cursor=Ils2Ni45Njk0NDQsIDE1ODA1MTUyMDAwMDAsICdodHRwczovL29wZW5hbGV4Lm9yZy9XMjk4MTExMDg2NSddIg==&per-page=200&mailto=bertagrim@gmail.com\n",
      "OK\n",
      "Fetching page 109 ...\n",
      "Senging GET https://api.openalex.org/works?filter=from_publication_date:2017-01-01,to_publication_date:2021-12-31,raw_affiliation_string.search:grenoble&cursor=Ils2Ni44OTMwNiwgMTU5NjI0MDAwMDAwMCwgJ2h0dHBzOi8vb3BlbmFsZXgub3JnL1czMDI4OTc0MTQ5J10i&per-page=200&mailto=bertagrim@gmail.com\n",
      "OK\n",
      "Fetching page 110 ...\n",
      "Senging GET https://api.openalex.org/works?filter=from_publication_date:2017-01-01,to_publication_date:2021-12-31,raw_affiliation_string.search:grenoble&cursor=Ils2Ni43MTA4MywgMTYwNzM4NTYwMDAwMCwgJ2h0dHBzOi8vb3BlbmFsZXgub3JnL1czMDg0MzEyMDM4J10i&per-page=200&mailto=bertagrim@gmail.com\n",
      "OK\n",
      "Fetching page 111 ...\n",
      "Senging GET https://api.openalex.org/works?filter=from_publication_date:2017-01-01,to_publication_date:2021-12-31,raw_affiliation_string.search:grenoble&cursor=Ils2NS41NzY3NywgMTU1ODU2OTYwMDAwMCwgJ2h0dHBzOi8vb3BlbmFsZXgub3JnL1cyOTQ2NjcyNzA2J10i&per-page=200&mailto=bertagrim@gmail.com\n",
      "OK\n",
      "Fetching page 112 ...\n",
      "Senging GET https://api.openalex.org/works?filter=from_publication_date:2017-01-01,to_publication_date:2021-12-31,raw_affiliation_string.search:grenoble&cursor=Ils2NC4zNDE3OCwgMTU3MTk2MTYwMDAwMCwgJ2h0dHBzOi8vb3BlbmFsZXgub3JnL1cyOTgxMzM3OTU2J10i&per-page=200&mailto=bertagrim@gmail.com\n",
      "OK\n",
      "Fetching page 113 ...\n",
      "Senging GET https://api.openalex.org/works?filter=from_publication_date:2017-01-01,to_publication_date:2021-12-31,raw_affiliation_string.search:grenoble&cursor=Ils2My45NDY5NDUsIDE1MTQ3NjQ4MDAwMDAsICdodHRwczovL29wZW5hbGV4Lm9yZy9XMjc2Mjg1NzU1MCddIg==&per-page=200&mailto=bertagrim@gmail.com\n",
      "OK\n",
      "Fetching page 114 ...\n",
      "Senging GET https://api.openalex.org/works?filter=from_publication_date:2017-01-01,to_publication_date:2021-12-31,raw_affiliation_string.search:grenoble&cursor=Ils2My42NzE0MTcsIDE1MDcxNjE2MDAwMDAsICdodHRwczovL29wZW5hbGV4Lm9yZy9XMjc2Mzg3Nzc1NyddIg==&per-page=200&mailto=bertagrim@gmail.com\n",
      "OK\n",
      "Fetching page 115 ...\n",
      "Senging GET https://api.openalex.org/works?filter=from_publication_date:2017-01-01,to_publication_date:2021-12-31,raw_affiliation_string.search:grenoble&cursor=Ils2Mi4zOTM1NjIsIDE1NzY1NDA4MDAwMDAsICdodHRwczovL29wZW5hbGV4Lm9yZy9XMjk5NjY5MDI1NCddIg==&per-page=200&mailto=bertagrim@gmail.com\n",
      "OK\n",
      "Fetching page 116 ...\n",
      "Senging GET https://api.openalex.org/works?filter=from_publication_date:2017-01-01,to_publication_date:2021-12-31,raw_affiliation_string.search:grenoble&cursor=Ils1OS4yNjIzNDQsIDE2MTc4NDAwMDAwMDAsICdodHRwczovL29wZW5hbGV4Lm9yZy9XMzE0MTE5MTM2MSddIg==&per-page=200&mailto=bertagrim@gmail.com\n",
      "OK\n",
      "Fetching page 117 ...\n",
      "Senging GET https://api.openalex.org/works?filter=from_publication_date:2017-01-01,to_publication_date:2021-12-31,raw_affiliation_string.search:grenoble&cursor=Ils1OC43MTE3NCwgMTYxNDU1NjgwMDAwMCwgJ2h0dHBzOi8vb3BlbmFsZXgub3JnL1czMTM1Mzg0ODQ0J10i&per-page=200&mailto=bertagrim@gmail.com\n",
      "OK\n",
      "Fetching page 118 ...\n",
      "Senging GET https://api.openalex.org/works?filter=from_publication_date:2017-01-01,to_publication_date:2021-12-31,raw_affiliation_string.search:grenoble&cursor=Ils1OC4wNDkzMjQsIDE1NzgzNTUyMDAwMDAsICdodHRwczovL29wZW5hbGV4Lm9yZy9XMjk4MjEyMTkxNyddIg==&per-page=200&mailto=bertagrim@gmail.com\n",
      "OK\n",
      "Fetching page 119 ...\n",
      "Senging GET https://api.openalex.org/works?filter=from_publication_date:2017-01-01,to_publication_date:2021-12-31,raw_affiliation_string.search:grenoble&cursor=Ils1Ny45Mjk3MDMsIDE1Nzc4MzY4MDAwMDAsICdodHRwczovL29wZW5hbGV4Lm9yZy9XMjk0NTAzMDc1OSddIg==&per-page=200&mailto=bertagrim@gmail.com\n",
      "OK\n",
      "Fetching page 120 ...\n",
      "Senging GET https://api.openalex.org/works?filter=from_publication_date:2017-01-01,to_publication_date:2021-12-31,raw_affiliation_string.search:grenoble&cursor=Ils1Ny4wNTkwOTcsIDE1NTY2Njg4MDAwMDAsICdodHRwczovL29wZW5hbGV4Lm9yZy9XMjkzODQzNTIzNSddIg==&per-page=200&mailto=bertagrim@gmail.com\n",
      "OK\n",
      "Fetching page 121 ...\n",
      "Senging GET https://api.openalex.org/works?filter=from_publication_date:2017-01-01,to_publication_date:2021-12-31,raw_affiliation_string.search:grenoble&cursor=Ils1Ni4yNjQwMywgMTYxNDU1NjgwMDAwMCwgJ2h0dHBzOi8vb3BlbmFsZXgub3JnL1czMTMyODAxMjQwJ10i&per-page=200&mailto=bertagrim@gmail.com\n",
      "OK\n",
      "Fetching page 122 ...\n",
      "Senging GET https://api.openalex.org/works?filter=from_publication_date:2017-01-01,to_publication_date:2021-12-31,raw_affiliation_string.search:grenoble&cursor=Ils1NS44MTgwOCwgMTYxOTkxMzYwMDAwMCwgJ2h0dHBzOi8vb3BlbmFsZXgub3JnL1czMTU5ODY5MzA3J10i&per-page=200&mailto=bertagrim@gmail.com\n",
      "OK\n",
      "Fetching page 123 ...\n",
      "Senging GET https://api.openalex.org/works?filter=from_publication_date:2017-01-01,to_publication_date:2021-12-31,raw_affiliation_string.search:grenoble&cursor=Ils1NS41ODEzMTgsIDE1Mjg1ODg4MDAwMDAsICdodHRwczovL29wZW5hbGV4Lm9yZy9XMjg4OTA5Njg4OCddIg==&per-page=200&mailto=bertagrim@gmail.com\n",
      "OK\n",
      "Fetching page 124 ...\n",
      "Senging GET https://api.openalex.org/works?filter=from_publication_date:2017-01-01,to_publication_date:2021-12-31,raw_affiliation_string.search:grenoble&cursor=Ils1NS40ODU3MjUsIDE1NDI4NDQ4MDAwMDAsICdodHRwczovL29wZW5hbGV4Lm9yZy9XMjkwMTMxOTQxNSddIg==&per-page=200&mailto=bertagrim@gmail.com\n",
      "OK\n",
      "Fetching page 125 ...\n",
      "Senging GET https://api.openalex.org/works?filter=from_publication_date:2017-01-01,to_publication_date:2021-12-31,raw_affiliation_string.search:grenoble&cursor=Ils1NS4wNTkzNDUsIDE0OTEwMDQ4MDAwMDAsICdodHRwczovL29wZW5hbGV4Lm9yZy9XMjU2MzAxNzYxMSddIg==&per-page=200&mailto=bertagrim@gmail.com\n",
      "OK\n",
      "Fetching page 126 ...\n",
      "Senging GET https://api.openalex.org/works?filter=from_publication_date:2017-01-01,to_publication_date:2021-12-31,raw_affiliation_string.search:grenoble&cursor=Ils1NC45ODQ5NjIsIDE1ODI1ODg4MDAwMDAsICdodHRwczovL29wZW5hbGV4Lm9yZy9XMjk4MjUyNzA3MiddIg==&per-page=200&mailto=bertagrim@gmail.com\n",
      "OK\n",
      "Fetching page 127 ...\n",
      "Senging GET https://api.openalex.org/works?filter=from_publication_date:2017-01-01,to_publication_date:2021-12-31,raw_affiliation_string.search:grenoble&cursor=Ils1NC4wNzA5NDIsIDE1NDAxNjY0MDAwMDAsICdodHRwczovL29wZW5hbGV4Lm9yZy9XMjkxMDkwODA0NCddIg==&per-page=200&mailto=bertagrim@gmail.com\n",
      "OK\n",
      "Fetching page 128 ...\n",
      "Senging GET https://api.openalex.org/works?filter=from_publication_date:2017-01-01,to_publication_date:2021-12-31,raw_affiliation_string.search:grenoble&cursor=Ils1Mi43NDkxMjMsIDE1MzI5MDg4MDAwMDAsICdodHRwczovL29wZW5hbGV4Lm9yZy9XMjg4NTk0MjQxOCddIg==&per-page=200&mailto=bertagrim@gmail.com\n",
      "OK\n",
      "Fetching page 129 ...\n",
      "Senging GET https://api.openalex.org/works?filter=from_publication_date:2017-01-01,to_publication_date:2021-12-31,raw_affiliation_string.search:grenoble&cursor=Ils1Mi4zNTQ1MDQsIDE1MTIwODY0MDAwMDAsICdodHRwczovL29wZW5hbGV4Lm9yZy9XMjc4NjQ4NDQyNyddIg==&per-page=200&mailto=bertagrim@gmail.com\n",
      "OK\n",
      "Fetching page 130 ...\n",
      "Senging GET https://api.openalex.org/works?filter=from_publication_date:2017-01-01,to_publication_date:2021-12-31,raw_affiliation_string.search:grenoble&cursor=Ils0OC44OTcyNSwgMTYzMjA5NjAwMDAwMCwgJ2h0dHBzOi8vb3BlbmFsZXgub3JnL1czMTk5Mjg4OTQ4J10i&per-page=200&mailto=bertagrim@gmail.com\n",
      "OK\n",
      "Fetching page 131 ...\n",
      "Senging GET https://api.openalex.org/works?filter=from_publication_date:2017-01-01,to_publication_date:2021-12-31,raw_affiliation_string.search:grenoble&cursor=Ils0OC4zMDQ5NDMsIDE2MjYyMjA4MDAwMDAsICdodHRwczovL29wZW5hbGV4Lm9yZy9XMzE3OTc2MDgzNyddIg==&per-page=200&mailto=bertagrim@gmail.com\n",
      "OK\n",
      "Fetching page 132 ...\n",
      "Senging GET https://api.openalex.org/works?filter=from_publication_date:2017-01-01,to_publication_date:2021-12-31,raw_affiliation_string.search:grenoble&cursor=Ils0Ny43NjQwOCwgMTYwMTMzNzYwMDAwMCwgJ2h0dHBzOi8vb3BlbmFsZXgub3JnL1czMDkxMTQyOTM5J10i&per-page=200&mailto=bertagrim@gmail.com\n",
      "OK\n",
      "Fetching page 133 ...\n",
      "Senging GET https://api.openalex.org/works?filter=from_publication_date:2017-01-01,to_publication_date:2021-12-31,raw_affiliation_string.search:grenoble&cursor=Ils0Ny4wNTQ1OSwgMTU3NjI4MTYwMDAwMCwgJ2h0dHBzOi8vb3BlbmFsZXgub3JnL1cyOTk2MDIwNDY4J10i&per-page=200&mailto=bertagrim@gmail.com\n",
      "OK\n",
      "Fetching page 134 ...\n",
      "Senging GET https://api.openalex.org/works?filter=from_publication_date:2017-01-01,to_publication_date:2021-12-31,raw_affiliation_string.search:grenoble&cursor=Ils0NS45MDgxNTcsIDE1MzI5MDg4MDAwMDAsICdodHRwczovL29wZW5hbGV4Lm9yZy9XMjkwNTk4NzQyMCddIg==&per-page=200&mailto=bertagrim@gmail.com\n"
     ]
    },
    {
     "name": "stdout",
     "output_type": "stream",
     "text": [
      "OK\n",
      "Fetching page 135 ...\n",
      "Senging GET https://api.openalex.org/works?filter=from_publication_date:2017-01-01,to_publication_date:2021-12-31,raw_affiliation_string.search:grenoble&cursor=Ils0NS40OTIxODgsIDE0OTg4NjcyMDAwMDAsICdodHRwczovL29wZW5hbGV4Lm9yZy9XMjc1NDM3MzM1NSddIg==&per-page=200&mailto=bertagrim@gmail.com\n",
      "OK\n",
      "Fetching page 136 ...\n",
      "Senging GET https://api.openalex.org/works?filter=from_publication_date:2017-01-01,to_publication_date:2021-12-31,raw_affiliation_string.search:grenoble&cursor=Ils0Mi41MzEzNywgMTYyNTcwMjQwMDAwMCwgJ2h0dHBzOi8vb3BlbmFsZXgub3JnL1czMTgyMDA5MzI4J10i&per-page=200&mailto=bertagrim@gmail.com\n",
      "OK\n",
      "Fetching page 137 ...\n",
      "Senging GET https://api.openalex.org/works?filter=from_publication_date:2017-01-01,to_publication_date:2021-12-31,raw_affiliation_string.search:grenoble&cursor=Ils0MS45NjQ3OSwgMTYyMTgxNDQwMDAwMCwgJ2h0dHBzOi8vb3BlbmFsZXgub3JnL1czMTY1NTMyOTMxJ10i&per-page=200&mailto=bertagrim@gmail.com\n",
      "OK\n",
      "Fetching page 138 ...\n",
      "Senging GET https://api.openalex.org/works?filter=from_publication_date:2017-01-01,to_publication_date:2021-12-31,raw_affiliation_string.search:grenoble&cursor=Ils0MS4zODI2MjYsIDE2MzI5NjAwMDAwMDAsICdodHRwczovL29wZW5hbGV4Lm9yZy9XMzIwMjQ4NjYxMyddIg==&per-page=200&mailto=bertagrim@gmail.com\n",
      "OK\n",
      "Fetching page 139 ...\n",
      "Senging GET https://api.openalex.org/works?filter=from_publication_date:2017-01-01,to_publication_date:2021-12-31,raw_affiliation_string.search:grenoble&cursor=Ils0MC4zNzA0NjQsIDE2MTE3MDU2MDAwMDAsICdodHRwczovL29wZW5hbGV4Lm9yZy9XMzEzMjIzNzQ1MiddIg==&per-page=200&mailto=bertagrim@gmail.com\n",
      "OK\n",
      "Fetching page 140 ...\n",
      "Senging GET https://api.openalex.org/works?filter=from_publication_date:2017-01-01,to_publication_date:2021-12-31,raw_affiliation_string.search:grenoble&cursor=Ils0MC4wNjExNzIsIDE2MTI3NDI0MDAwMDAsICdodHRwczovL29wZW5hbGV4Lm9yZy9XMzExMjM0NTEwNyddIg==&per-page=200&mailto=bertagrim@gmail.com\n",
      "OK\n",
      "Fetching page 141 ...\n",
      "Senging GET https://api.openalex.org/works?filter=from_publication_date:2017-01-01,to_publication_date:2021-12-31,raw_affiliation_string.search:grenoble&cursor=IlszOS44ODEzNSwgMTUxNDc2NDgwMDAwMCwgJ2h0dHBzOi8vb3BlbmFsZXgub3JnL1cyODg2MDkwMTEzJ10i&per-page=200&mailto=bertagrim@gmail.com\n",
      "OK\n",
      "Fetching page 142 ...\n",
      "Senging GET https://api.openalex.org/works?filter=from_publication_date:2017-01-01,to_publication_date:2021-12-31,raw_affiliation_string.search:grenoble&cursor=IlszOS42OTk2NCwgMTYwMDkwNTYwMDAwMCwgJ2h0dHBzOi8vb3BlbmFsZXgub3JnL1czMDg4MzAyNjU4J10i&per-page=200&mailto=bertagrim@gmail.com\n",
      "OK\n",
      "Fetching page 143 ...\n",
      "Senging GET https://api.openalex.org/works?filter=from_publication_date:2017-01-01,to_publication_date:2021-12-31,raw_affiliation_string.search:grenoble&cursor=IlszOS40Njg4NjQsIDE1ODgxMTg0MDAwMDAsICdodHRwczovL29wZW5hbGV4Lm9yZy9XMzA5NDkyNDI3MCddIg==&per-page=200&mailto=bertagrim@gmail.com\n",
      "OK\n",
      "Fetching page 144 ...\n",
      "Senging GET https://api.openalex.org/works?filter=from_publication_date:2017-01-01,to_publication_date:2021-12-31,raw_affiliation_string.search:grenoble&cursor=IlszOS4zODcwNDcsIDE1MzgzNTIwMDAwMDAsICdodHRwczovL29wZW5hbGV4Lm9yZy9XMjkxMjc4MDkyOCddIg==&per-page=200&mailto=bertagrim@gmail.com\n",
      "OK\n",
      "Fetching page 145 ...\n",
      "Senging GET https://api.openalex.org/works?filter=from_publication_date:2017-01-01,to_publication_date:2021-12-31,raw_affiliation_string.search:grenoble&cursor=IlszOC44MjAzNDMsIDE1NzUxNTg0MDAwMDAsICdodHRwczovL29wZW5hbGV4Lm9yZy9XMjk2OTMyNTkyMSddIg==&per-page=200&mailto=bertagrim@gmail.com\n",
      "OK\n",
      "Fetching page 146 ...\n",
      "Senging GET https://api.openalex.org/works?filter=from_publication_date:2017-01-01,to_publication_date:2021-12-31,raw_affiliation_string.search:grenoble&cursor=IlszOC4wMTQ4MTYsIDE1MTM1NTUyMDAwMDAsICdodHRwczovL29wZW5hbGV4Lm9yZy9XMjc3NjYzMzY0MCddIg==&per-page=200&mailto=bertagrim@gmail.com\n",
      "OK\n",
      "Fetching page 147 ...\n",
      "Senging GET https://api.openalex.org/works?filter=from_publication_date:2017-01-01,to_publication_date:2021-12-31,raw_affiliation_string.search:grenoble&cursor=IlszNy42OTQzOTcsIDE1MDE1NDU2MDAwMDAsICdodHRwczovL29wZW5hbGV4Lm9yZy9XMjc2OTM3OTk3NyddIg==&per-page=200&mailto=bertagrim@gmail.com\n",
      "OK\n",
      "Fetching page 148 ...\n",
      "Senging GET https://api.openalex.org/works?filter=from_publication_date:2017-01-01,to_publication_date:2021-12-31,raw_affiliation_string.search:grenoble&cursor=IlszNy4zMjA5NTMsIDE2MjUxODQwMDAwMDAsICdodHRwczovL29wZW5hbGV4Lm9yZy9XMzE3Mzk3NzYwNSddIg==&per-page=200&mailto=bertagrim@gmail.com\n",
      "OK\n",
      "Fetching page 149 ...\n",
      "Senging GET https://api.openalex.org/works?filter=from_publication_date:2017-01-01,to_publication_date:2021-12-31,raw_affiliation_string.search:grenoble&cursor=IlszNS4xNjEzNjYsIDE2MjQyMzM2MDAwMDAsICdodHRwczovL29wZW5hbGV4Lm9yZy9XMzEyMDUwMDM4NCddIg==&per-page=200&mailto=bertagrim@gmail.com\n",
      "OK\n",
      "Fetching page 150 ...\n",
      "Senging GET https://api.openalex.org/works?filter=from_publication_date:2017-01-01,to_publication_date:2021-12-31,raw_affiliation_string.search:grenoble&cursor=IlszNC45MDEwNiwgMTYzNzE5MzYwMDAwMCwgJ2h0dHBzOi8vb3BlbmFsZXgub3JnL1czMjEyMzA1NjQwJ10i&per-page=200&mailto=bertagrim@gmail.com\n",
      "OK\n",
      "Fetching page 151 ...\n",
      "Senging GET https://api.openalex.org/works?filter=from_publication_date:2017-01-01,to_publication_date:2021-12-31,raw_affiliation_string.search:grenoble&cursor=IlszNC4zOTQyMjIsIDE1ODc1MTM2MDAwMDAsICdodHRwczovL29wZW5hbGV4Lm9yZy9XMzAxNzk4MjUwOSddIg==&per-page=200&mailto=bertagrim@gmail.com\n",
      "OK\n",
      "Fetching page 152 ...\n",
      "Senging GET https://api.openalex.org/works?filter=from_publication_date:2017-01-01,to_publication_date:2021-12-31,raw_affiliation_string.search:grenoble&cursor=IlszNC4zNjAwOTIsIDE2MDc5MDQwMDAwMDAsICdodHRwczovL29wZW5hbGV4Lm9yZy9XMzExMTAyMDkxOSddIg==&per-page=200&mailto=bertagrim@gmail.com\n",
      "OK\n",
      "Fetching page 153 ...\n",
      "Senging GET https://api.openalex.org/works?filter=from_publication_date:2017-01-01,to_publication_date:2021-12-31,raw_affiliation_string.search:grenoble&cursor=IlszMy44NTg0MDYsIDE1NTkzNDcyMDAwMDAsICdodHRwczovL29wZW5hbGV4Lm9yZy9XMjk0NDY1MjcyOCddIg==&per-page=200&mailto=bertagrim@gmail.com\n",
      "OK\n",
      "Fetching page 154 ...\n",
      "Senging GET https://api.openalex.org/works?filter=from_publication_date:2017-01-01,to_publication_date:2021-12-31,raw_affiliation_string.search:grenoble&cursor=IlszMy41NDYxLCAxNTY0OTYzMjAwMDAwLCAnaHR0cHM6Ly9vcGVuYWxleC5vcmcvVzI5NjI2OTM1MTInXSI=&per-page=200&mailto=bertagrim@gmail.com\n",
      "OK\n",
      "Fetching page 155 ...\n",
      "Senging GET https://api.openalex.org/works?filter=from_publication_date:2017-01-01,to_publication_date:2021-12-31,raw_affiliation_string.search:grenoble&cursor=IlszMi45NzM0NzMsIDE1Mzk2NDgwMDAwMDAsICdodHRwczovL29wZW5hbGV4Lm9yZy9XMjg5NzY5Njk0MiddIg==&per-page=200&mailto=bertagrim@gmail.com\n",
      "OK\n",
      "Fetching page 156 ...\n",
      "Senging GET https://api.openalex.org/works?filter=from_publication_date:2017-01-01,to_publication_date:2021-12-31,raw_affiliation_string.search:grenoble&cursor=IlszMi44MDUwNiwgMTQ5Njc5MzYwMDAwMCwgJ2h0dHBzOi8vb3BlbmFsZXgub3JnL1cyOTA1MDk3NDAwJ10i&per-page=200&mailto=bertagrim@gmail.com\n",
      "OK\n",
      "Fetching page 157 ...\n",
      "Senging GET https://api.openalex.org/works?filter=from_publication_date:2017-01-01,to_publication_date:2021-12-31,raw_affiliation_string.search:grenoble&cursor=IlszMi43Mjg3LCAxNDk4ODY3MjAwMDAwLCAnaHR0cHM6Ly9vcGVuYWxleC5vcmcvVzI3NjY4NzE1NDcnXSI=&per-page=200&mailto=bertagrim@gmail.com\n",
      "OK\n",
      "Fetching page 158 ...\n",
      "Senging GET https://api.openalex.org/works?filter=from_publication_date:2017-01-01,to_publication_date:2021-12-31,raw_affiliation_string.search:grenoble&cursor=IlsyLjAsIDE0ODMyMjg4MDAwMDAsICdodHRwczovL29wZW5hbGV4Lm9yZy9XMjYxMDA0NjUzOSddIg==&per-page=200&mailto=bertagrim@gmail.com\n",
      "OK\n",
      "Fetching page 159 ...\n",
      "Senging GET https://api.openalex.org/works?filter=from_publication_date:2017-01-01,to_publication_date:2021-12-31,raw_affiliation_string.search:grenoble&cursor=IlsyLjAsIDE0ODMyMjg4MDAwMDAsICdodHRwczovL29wZW5hbGV4Lm9yZy9XMjk0OTkwMDA4MSddIg==&per-page=200&mailto=bertagrim@gmail.com\n",
      "OK\n",
      "Fetching page 160 ...\n",
      "Senging GET https://api.openalex.org/works?filter=from_publication_date:2017-01-01,to_publication_date:2021-12-31,raw_affiliation_string.search:grenoble&cursor=IlsyLjAsIDE0ODMyMjg4MDAwMDAsICdodHRwczovL29wZW5hbGV4Lm9yZy9XNDI5ODkzNzE2NiddIg==&per-page=200&mailto=bertagrim@gmail.com\n",
      "OK\n",
      "Fetching page 161 ...\n",
      "Senging GET https://api.openalex.org/works?filter=from_publication_date:2017-01-01,to_publication_date:2021-12-31,raw_affiliation_string.search:grenoble&cursor=IlsyLjAsIDE0ODU5MDcyMDAwMDAsICdodHRwczovL29wZW5hbGV4Lm9yZy9XMjU4NTAyODkyNCddIg==&per-page=200&mailto=bertagrim@gmail.com\n"
     ]
    },
    {
     "name": "stdout",
     "output_type": "stream",
     "text": [
      "OK\n",
      "Fetching page 162 ...\n",
      "Senging GET https://api.openalex.org/works?filter=from_publication_date:2017-01-01,to_publication_date:2021-12-31,raw_affiliation_string.search:grenoble&cursor=IlsyLjAsIDE0ODgzMjY0MDAwMDAsICdodHRwczovL29wZW5hbGV4Lm9yZy9XNDI5NzQ0NTI4NSddIg==&per-page=200&mailto=bertagrim@gmail.com\n",
      "OK\n",
      "Fetching page 163 ...\n",
      "Senging GET https://api.openalex.org/works?filter=from_publication_date:2017-01-01,to_publication_date:2021-12-31,raw_affiliation_string.search:grenoble&cursor=IlsyLjAsIDE0OTEwMDQ4MDAwMDAsICdodHRwczovL29wZW5hbGV4Lm9yZy9XMjczNTc4NjQ1NSddIg==&per-page=200&mailto=bertagrim@gmail.com\n",
      "OK\n",
      "Fetching page 164 ...\n",
      "Senging GET https://api.openalex.org/works?filter=from_publication_date:2017-01-01,to_publication_date:2021-12-31,raw_affiliation_string.search:grenoble&cursor=IlsyLjAsIDE0OTM1OTY4MDAwMDAsICdodHRwczovL29wZW5hbGV4Lm9yZy9XNDMwMjM1NTg3MSddIg==&per-page=200&mailto=bertagrim@gmail.com\n",
      "OK\n",
      "Fetching page 165 ...\n",
      "Senging GET https://api.openalex.org/works?filter=from_publication_date:2017-01-01,to_publication_date:2021-12-31,raw_affiliation_string.search:grenoble&cursor=IlsyLjAsIDE0OTYwMTYwMDAwMDAsICdodHRwczovL29wZW5hbGV4Lm9yZy9XMjk1MTc1ODEyOSddIg==&per-page=200&mailto=bertagrim@gmail.com\n",
      "OK\n",
      "Fetching page 166 ...\n",
      "Senging GET https://api.openalex.org/works?filter=from_publication_date:2017-01-01,to_publication_date:2021-12-31,raw_affiliation_string.search:grenoble&cursor=IlsyLjAsIDE0OTYyNzUyMDAwMDAsICdodHRwczovL29wZW5hbGV4Lm9yZy9XNDI5MzA1MDc0MSddIg==&per-page=200&mailto=bertagrim@gmail.com\n",
      "OK\n",
      "Fetching page 167 ...\n",
      "Senging GET https://api.openalex.org/works?filter=from_publication_date:2017-01-01,to_publication_date:2021-12-31,raw_affiliation_string.search:grenoble&cursor=IlsyLjAsIDE0OTgxNzYwMDAwMDAsICdodHRwczovL29wZW5hbGV4Lm9yZy9XMjc4Mzk1MTUwNCddIg==&per-page=200&mailto=bertagrim@gmail.com\n",
      "OK\n",
      "Fetching page 168 ...\n",
      "Senging GET https://api.openalex.org/works?filter=from_publication_date:2017-01-01,to_publication_date:2021-12-31,raw_affiliation_string.search:grenoble&cursor=IlsyLjAsIDE0OTkxMjY0MDAwMDAsICdodHRwczovL29wZW5hbGV4Lm9yZy9XMjkxMTEwMDM3MiddIg==&per-page=200&mailto=bertagrim@gmail.com\n",
      "OK\n",
      "Fetching page 169 ...\n",
      "Senging GET https://api.openalex.org/works?filter=from_publication_date:2017-01-01,to_publication_date:2021-12-31,raw_affiliation_string.search:grenoble&cursor=IlsyLjAsIDE1MDM0NDY0MDAwMDAsICdodHRwczovL29wZW5hbGV4Lm9yZy9XNDI5ODg1MDYzNSddIg==&per-page=200&mailto=bertagrim@gmail.com\n",
      "OK\n",
      "Fetching page 170 ...\n",
      "Senging GET https://api.openalex.org/works?filter=from_publication_date:2017-01-01,to_publication_date:2021-12-31,raw_affiliation_string.search:grenoble&cursor=IlsyLjAsIDE1MDQ1Njk2MDAwMDAsICdodHRwczovL29wZW5hbGV4Lm9yZy9XNDMwMDkwOTYzNCddIg==&per-page=200&mailto=bertagrim@gmail.com\n",
      "OK\n",
      "Fetching page 171 ...\n",
      "Senging GET https://api.openalex.org/works?filter=from_publication_date:2017-01-01,to_publication_date:2021-12-31,raw_affiliation_string.search:grenoble&cursor=IlsyLjAsIDE1MDYzODQwMDAwMDAsICdodHRwczovL29wZW5hbGV4Lm9yZy9XMjc2NTUxNTk4MyddIg==&per-page=200&mailto=bertagrim@gmail.com\n",
      "OK\n",
      "Fetching page 172 ...\n",
      "Senging GET https://api.openalex.org/works?filter=from_publication_date:2017-01-01,to_publication_date:2021-12-31,raw_affiliation_string.search:grenoble&cursor=IlsyLjAsIDE1MDgxMTIwMDAwMDAsICdodHRwczovL29wZW5hbGV4Lm9yZy9XMjc2NTIzODc0MCddIg==&per-page=200&mailto=bertagrim@gmail.com\n",
      "OK\n",
      "Fetching page 173 ...\n",
      "Senging GET https://api.openalex.org/works?filter=from_publication_date:2017-01-01,to_publication_date:2021-12-31,raw_affiliation_string.search:grenoble&cursor=IlsyLjAsIDE1MTAxODU2MDAwMDAsICdodHRwczovL29wZW5hbGV4Lm9yZy9XMjkwMTk5OTk3NSddIg==&per-page=200&mailto=bertagrim@gmail.com\n",
      "OK\n",
      "Fetching page 174 ...\n",
      "Senging GET https://api.openalex.org/works?filter=from_publication_date:2017-01-01,to_publication_date:2021-12-31,raw_affiliation_string.search:grenoble&cursor=IlsyLjAsIDE1MTIwODY0MDAwMDAsICdodHRwczovL29wZW5hbGV4Lm9yZy9XMzAyNDk3MTUzNyddIg==&per-page=200&mailto=bertagrim@gmail.com\n",
      "OK\n",
      "Fetching page 175 ...\n",
      "Senging GET https://api.openalex.org/works?filter=from_publication_date:2017-01-01,to_publication_date:2021-12-31,raw_affiliation_string.search:grenoble&cursor=IlsyLjAsIDE1MTQ3NjQ4MDAwMDAsICdodHRwczovL29wZW5hbGV4Lm9yZy9XMjc3MzQxNDU2MyddIg==&per-page=200&mailto=bertagrim@gmail.com\n",
      "OK\n",
      "Fetching page 176 ...\n",
      "Senging GET https://api.openalex.org/works?filter=from_publication_date:2017-01-01,to_publication_date:2021-12-31,raw_affiliation_string.search:grenoble&cursor=IlsyLjAsIDE1MTQ3NjQ4MDAwMDAsICdodHRwczovL29wZW5hbGV4Lm9yZy9XMjk1MjA0NTI5MSddIg==&per-page=200&mailto=bertagrim@gmail.com\n",
      "OK\n",
      "Fetching page 177 ...\n",
      "Senging GET https://api.openalex.org/works?filter=from_publication_date:2017-01-01,to_publication_date:2021-12-31,raw_affiliation_string.search:grenoble&cursor=IlsyLjAsIDE1MTQ3NjQ4MDAwMDAsICdodHRwczovL29wZW5hbGV4Lm9yZy9XNDI4NTAyMjA3OCddIg==&per-page=200&mailto=bertagrim@gmail.com\n",
      "OK\n",
      "Fetching page 178 ...\n",
      "Senging GET https://api.openalex.org/works?filter=from_publication_date:2017-01-01,to_publication_date:2021-12-31,raw_affiliation_string.search:grenoble&cursor=IlsyLjAsIDE1MTQ3NjQ4MDAwMDAsICdodHRwczovL29wZW5hbGV4Lm9yZy9XNDMwMjU5NTk2NiddIg==&per-page=200&mailto=bertagrim@gmail.com\n",
      "OK\n",
      "Fetching page 179 ...\n",
      "Senging GET https://api.openalex.org/works?filter=from_publication_date:2017-01-01,to_publication_date:2021-12-31,raw_affiliation_string.search:grenoble&cursor=IlsyLjAsIDE1MTkxNzEyMDAwMDAsICdodHRwczovL29wZW5hbGV4Lm9yZy9XNDI5NDkxMDM0NiddIg==&per-page=200&mailto=bertagrim@gmail.com\n",
      "OK\n",
      "Fetching page 180 ...\n",
      "Senging GET https://api.openalex.org/works?filter=from_publication_date:2017-01-01,to_publication_date:2021-12-31,raw_affiliation_string.search:grenoble&cursor=IlsyLjAsIDE1MjEyNDQ4MDAwMDAsICdodHRwczovL29wZW5hbGV4Lm9yZy9XMjc4OTcyMjU2NyddIg==&per-page=200&mailto=bertagrim@gmail.com\n",
      "OK\n",
      "Fetching page 181 ...\n",
      "Senging GET https://api.openalex.org/works?filter=from_publication_date:2017-01-01,to_publication_date:2021-12-31,raw_affiliation_string.search:grenoble&cursor=IlsyLjAsIDE1MjI4ODY0MDAwMDAsICdodHRwczovL29wZW5hbGV4Lm9yZy9XMzEzMzMwNzU0OCddIg==&per-page=200&mailto=bertagrim@gmail.com\n",
      "OK\n",
      "Fetching page 182 ...\n",
      "Senging GET https://api.openalex.org/works?filter=from_publication_date:2017-01-01,to_publication_date:2021-12-31,raw_affiliation_string.search:grenoble&cursor=IlsyLjAsIDE1MjU4MjQwMDAwMDAsICdodHRwczovL29wZW5hbGV4Lm9yZy9XMjc5OTk2MDMwMyddIg==&per-page=200&mailto=bertagrim@gmail.com\n",
      "OK\n",
      "Fetching page 183 ...\n",
      "Senging GET https://api.openalex.org/works?filter=from_publication_date:2017-01-01,to_publication_date:2021-12-31,raw_affiliation_string.search:grenoble&cursor=IlsyLjAsIDE1MjcxMjAwMDAwMDAsICdodHRwczovL29wZW5hbGV4Lm9yZy9XMzIxMTgxNTI5MCddIg==&per-page=200&mailto=bertagrim@gmail.com\n",
      "OK\n",
      "Fetching page 184 ...\n",
      "Senging GET https://api.openalex.org/works?filter=from_publication_date:2017-01-01,to_publication_date:2021-12-31,raw_affiliation_string.search:grenoble&cursor=IlsyLjAsIDE1MjgwNzA0MDAwMDAsICdodHRwczovL29wZW5hbGV4Lm9yZy9XMjkxNDA5NTk0MSddIg==&per-page=200&mailto=bertagrim@gmail.com\n",
      "OK\n",
      "Fetching page 185 ...\n",
      "Senging GET https://api.openalex.org/works?filter=from_publication_date:2017-01-01,to_publication_date:2021-12-31,raw_affiliation_string.search:grenoble&cursor=IlsyLjAsIDE1Mjk0NTI4MDAwMDAsICdodHRwczovL29wZW5hbGV4Lm9yZy9XMjgwODQ4NTkxNCddIg==&per-page=200&mailto=bertagrim@gmail.com\n",
      "OK\n",
      "Fetching page 186 ...\n",
      "Senging GET https://api.openalex.org/works?filter=from_publication_date:2017-01-01,to_publication_date:2021-12-31,raw_affiliation_string.search:grenoble&cursor=IlsyLjAsIDE1MzA1NzYwMDAwMDAsICdodHRwczovL29wZW5hbGV4Lm9yZy9XMjkxMDQxMTI5MCddIg==&per-page=200&mailto=bertagrim@gmail.com\n",
      "OK\n",
      "Fetching page 187 ...\n",
      "Senging GET https://api.openalex.org/works?filter=from_publication_date:2017-01-01,to_publication_date:2021-12-31,raw_affiliation_string.search:grenoble&cursor=IlsyLjAsIDE1MzE3ODU2MDAwMDAsICdodHRwczovL29wZW5hbGV4Lm9yZy9XMzEyMDMyNTQ2NyddIg==&per-page=200&mailto=bertagrim@gmail.com\n",
      "OK\n",
      "Fetching page 188 ...\n",
      "Senging GET https://api.openalex.org/works?filter=from_publication_date:2017-01-01,to_publication_date:2021-12-31,raw_affiliation_string.search:grenoble&cursor=IlsyLjAsIDE1MzU3NjAwMDAwMDAsICdodHRwczovL29wZW5hbGV4Lm9yZy9XMjg4NDQ3MDkyMiddIg==&per-page=200&mailto=bertagrim@gmail.com\n"
     ]
    },
    {
     "name": "stdout",
     "output_type": "stream",
     "text": [
      "OK\n",
      "Fetching page 189 ...\n",
      "Senging GET https://api.openalex.org/works?filter=from_publication_date:2017-01-01,to_publication_date:2021-12-31,raw_affiliation_string.search:grenoble&cursor=IlsyLjAsIDE1MzY3MTA0MDAwMDAsICdodHRwczovL29wZW5hbGV4Lm9yZy9XMjkxMDMwODU2OSddIg==&per-page=200&mailto=bertagrim@gmail.com\n",
      "OK\n",
      "Fetching page 190 ...\n",
      "Senging GET https://api.openalex.org/works?filter=from_publication_date:2017-01-01,to_publication_date:2021-12-31,raw_affiliation_string.search:grenoble&cursor=IlsyLjAsIDE1MzgzNTIwMDAwMDAsICdodHRwczovL29wZW5hbGV4Lm9yZy9XMjkwMjQ2Mzc4NCddIg==&per-page=200&mailto=bertagrim@gmail.com\n",
      "OK\n",
      "Fetching page 191 ...\n",
      "Senging GET https://api.openalex.org/works?filter=from_publication_date:2017-01-01,to_publication_date:2021-12-31,raw_affiliation_string.search:grenoble&cursor=IlsyLjAsIDE1NDAwODAwMDAwMDAsICdodHRwczovL29wZW5hbGV4Lm9yZy9XMjg4Nzc5ODg2OSddIg==&per-page=200&mailto=bertagrim@gmail.com\n",
      "OK\n",
      "Fetching page 192 ...\n",
      "Senging GET https://api.openalex.org/works?filter=from_publication_date:2017-01-01,to_publication_date:2021-12-31,raw_affiliation_string.search:grenoble&cursor=IlsyLjAsIDE1NDE0NjI0MDAwMDAsICdodHRwczovL29wZW5hbGV4Lm9yZy9XNDI4OTMwMzYxNCddIg==&per-page=200&mailto=bertagrim@gmail.com\n",
      "OK\n",
      "Fetching page 193 ...\n",
      "Senging GET https://api.openalex.org/works?filter=from_publication_date:2017-01-01,to_publication_date:2021-12-31,raw_affiliation_string.search:grenoble&cursor=IlsyLjAsIDE1NDM2MjI0MDAwMDAsICdodHRwczovL29wZW5hbGV4Lm9yZy9XMjkwMzE0MDgzNSddIg==&per-page=200&mailto=bertagrim@gmail.com\n",
      "OK\n",
      "Fetching page 194 ...\n",
      "Senging GET https://api.openalex.org/works?filter=from_publication_date:2017-01-01,to_publication_date:2021-12-31,raw_affiliation_string.search:grenoble&cursor=IlsyLjAsIDE1NDUyNjQwMDAwMDAsICdodHRwczovL29wZW5hbGV4Lm9yZy9XMjkxODU4NjY0NSddIg==&per-page=200&mailto=bertagrim@gmail.com\n",
      "OK\n",
      "Fetching page 195 ...\n",
      "Senging GET https://api.openalex.org/works?filter=from_publication_date:2017-01-01,to_publication_date:2021-12-31,raw_affiliation_string.search:grenoble&cursor=IlsyLjAsIDE1NDYzMDA4MDAwMDAsICdodHRwczovL29wZW5hbGV4Lm9yZy9XMjk3ODkzODc2NCddIg==&per-page=200&mailto=bertagrim@gmail.com\n",
      "OK\n",
      "Fetching page 196 ...\n",
      "Senging GET https://api.openalex.org/works?filter=from_publication_date:2017-01-01,to_publication_date:2021-12-31,raw_affiliation_string.search:grenoble&cursor=IlsyLjAsIDE1NDYzMDA4MDAwMDAsICdodHRwczovL29wZW5hbGV4Lm9yZy9XNDIzMTk4MTU0NCddIg==&per-page=200&mailto=bertagrim@gmail.com\n",
      "OK\n",
      "Fetching page 197 ...\n",
      "Senging GET https://api.openalex.org/works?filter=from_publication_date:2017-01-01,to_publication_date:2021-12-31,raw_affiliation_string.search:grenoble&cursor=IlsyLjAsIDE1NDc2ODMyMDAwMDAsICdodHRwczovL29wZW5hbGV4Lm9yZy9XMjkyODUwMTI5MCddIg==&per-page=200&mailto=bertagrim@gmail.com\n",
      "OK\n",
      "Fetching page 198 ...\n",
      "Senging GET https://api.openalex.org/works?filter=from_publication_date:2017-01-01,to_publication_date:2021-12-31,raw_affiliation_string.search:grenoble&cursor=IlsyLjAsIDE1NTEzOTg0MDAwMDAsICdodHRwczovL29wZW5hbGV4Lm9yZy9XMjc5NDA5NjY5NiddIg==&per-page=200&mailto=bertagrim@gmail.com\n",
      "OK\n",
      "Fetching page 199 ...\n",
      "Senging GET https://api.openalex.org/works?filter=from_publication_date:2017-01-01,to_publication_date:2021-12-31,raw_affiliation_string.search:grenoble&cursor=IlsyLjAsIDE1NTM2NDQ4MDAwMDAsICdodHRwczovL29wZW5hbGV4Lm9yZy9XMjkyMzAxMjI0OSddIg==&per-page=200&mailto=bertagrim@gmail.com\n",
      "OK\n",
      "Fetching page 200 ...\n",
      "Senging GET https://api.openalex.org/works?filter=from_publication_date:2017-01-01,to_publication_date:2021-12-31,raw_affiliation_string.search:grenoble&cursor=IlsyLjAsIDE1NTU5Nzc2MDAwMDAsICdodHRwczovL29wZW5hbGV4Lm9yZy9XMjk3MTQzNDQ1MCddIg==&per-page=200&mailto=bertagrim@gmail.com\n",
      "OK\n",
      "Fetching page 201 ...\n",
      "Senging GET https://api.openalex.org/works?filter=from_publication_date:2017-01-01,to_publication_date:2021-12-31,raw_affiliation_string.search:grenoble&cursor=IlsyLjAsIDE1NTgyMjQwMDAwMDAsICdodHRwczovL29wZW5hbGV4Lm9yZy9XNDI4ODM1MDM2NyddIg==&per-page=200&mailto=bertagrim@gmail.com\n",
      "OK\n",
      "Fetching page 202 ...\n",
      "Senging GET https://api.openalex.org/works?filter=from_publication_date:2017-01-01,to_publication_date:2021-12-31,raw_affiliation_string.search:grenoble&cursor=IlsyLjAsIDE1NTk1MjAwMDAwMDAsICdodHRwczovL29wZW5hbGV4Lm9yZy9XMjk1NTAwNTkzNCddIg==&per-page=200&mailto=bertagrim@gmail.com\n",
      "OK\n",
      "Fetching page 203 ...\n",
      "Senging GET https://api.openalex.org/works?filter=from_publication_date:2017-01-01,to_publication_date:2021-12-31,raw_affiliation_string.search:grenoble&cursor=IlsyLjAsIDE1NjEyNDgwMDAwMDAsICdodHRwczovL29wZW5hbGV4Lm9yZy9XMjk3MDY2NDE2MiddIg==&per-page=200&mailto=bertagrim@gmail.com\n",
      "OK\n",
      "Fetching page 204 ...\n",
      "Senging GET https://api.openalex.org/works?filter=from_publication_date:2017-01-01,to_publication_date:2021-12-31,raw_affiliation_string.search:grenoble&cursor=IlsyLjAsIDE1NjIxMTIwMDAwMDAsICdodHRwczovL29wZW5hbGV4Lm9yZy9XMjk1NjQxODM3MiddIg==&per-page=200&mailto=bertagrim@gmail.com\n",
      "OK\n",
      "Fetching page 205 ...\n",
      "Senging GET https://api.openalex.org/works?filter=from_publication_date:2017-01-01,to_publication_date:2021-12-31,raw_affiliation_string.search:grenoble&cursor=IlsyLjAsIDE1NjQ2MTc2MDAwMDAsICdodHRwczovL29wZW5hbGV4Lm9yZy9XMjk2NTMyODU4NyddIg==&per-page=200&mailto=bertagrim@gmail.com\n",
      "OK\n",
      "Fetching page 206 ...\n",
      "Senging GET https://api.openalex.org/works?filter=from_publication_date:2017-01-01,to_publication_date:2021-12-31,raw_affiliation_string.search:grenoble&cursor=IlsyLjAsIDE1NjcyOTYwMDAwMDAsICdodHRwczovL29wZW5hbGV4Lm9yZy9XMjk4MjI4Njk4MiddIg==&per-page=200&mailto=bertagrim@gmail.com\n",
      "OK\n",
      "Fetching page 207 ...\n",
      "Senging GET https://api.openalex.org/works?filter=from_publication_date:2017-01-01,to_publication_date:2021-12-31,raw_affiliation_string.search:grenoble&cursor=IlsyLjAsIDE1NjgyNDY0MDAwMDAsICdodHRwczovL29wZW5hbGV4Lm9yZy9XMzEyMzg0NTI3NCddIg==&per-page=200&mailto=bertagrim@gmail.com\n",
      "OK\n",
      "Fetching page 208 ...\n",
      "Senging GET https://api.openalex.org/works?filter=from_publication_date:2017-01-01,to_publication_date:2021-12-31,raw_affiliation_string.search:grenoble&cursor=IlsyLjAsIDE1Njk4ODgwMDAwMDAsICdodHRwczovL29wZW5hbGV4Lm9yZy9XMjk4MTU2NDM2MyddIg==&per-page=200&mailto=bertagrim@gmail.com\n",
      "OK\n",
      "Fetching page 209 ...\n",
      "Senging GET https://api.openalex.org/works?filter=from_publication_date:2017-01-01,to_publication_date:2021-12-31,raw_affiliation_string.search:grenoble&cursor=IlsyLjAsIDE1NzE3MDI0MDAwMDAsICdodHRwczovL29wZW5hbGV4Lm9yZy9XMjk2ODkyNDA2OSddIg==&per-page=200&mailto=bertagrim@gmail.com\n",
      "OK\n",
      "Fetching page 210 ...\n",
      "Senging GET https://api.openalex.org/works?filter=from_publication_date:2017-01-01,to_publication_date:2021-12-31,raw_affiliation_string.search:grenoble&cursor=IlsyLjAsIDE1NzM1MTY4MDAwMDAsICdodHRwczovL29wZW5hbGV4Lm9yZy9XMzAxNDUxNjU3NSddIg==&per-page=200&mailto=bertagrim@gmail.com\n",
      "OK\n",
      "Fetching page 211 ...\n",
      "Senging GET https://api.openalex.org/works?filter=from_publication_date:2017-01-01,to_publication_date:2021-12-31,raw_affiliation_string.search:grenoble&cursor=IlsyLjAsIDE1NzUxNTg0MDAwMDAsICdodHRwczovL29wZW5hbGV4Lm9yZy9XMjk5ODM3MjM0NyddIg==&per-page=200&mailto=bertagrim@gmail.com\n",
      "OK\n",
      "Fetching page 212 ...\n",
      "Senging GET https://api.openalex.org/works?filter=from_publication_date:2017-01-01,to_publication_date:2021-12-31,raw_affiliation_string.search:grenoble&cursor=IlsyLjAsIDE1Nzc3NTA0MDAwMDAsICdodHRwczovL29wZW5hbGV4Lm9yZy9XMjc4OTExNDcyNSddIg==&per-page=200&mailto=bertagrim@gmail.com\n",
      "OK\n",
      "Fetching page 213 ...\n",
      "Senging GET https://api.openalex.org/works?filter=from_publication_date:2017-01-01,to_publication_date:2021-12-31,raw_affiliation_string.search:grenoble&cursor=IlsyLjAsIDE1Nzc4MzY4MDAwMDAsICdodHRwczovL29wZW5hbGV4Lm9yZy9XMzExMTMzNzgzNCddIg==&per-page=200&mailto=bertagrim@gmail.com\n",
      "OK\n",
      "Fetching page 214 ...\n",
      "Senging GET https://api.openalex.org/works?filter=from_publication_date:2017-01-01,to_publication_date:2021-12-31,raw_affiliation_string.search:grenoble&cursor=IlsyLjAsIDE1Nzc4MzY4MDAwMDAsICdodHRwczovL29wZW5hbGV4Lm9yZy9XNDI4Nzk2OTY0NCddIg==&per-page=200&mailto=bertagrim@gmail.com\n",
      "OK\n",
      "Fetching page 215 ...\n",
      "Senging GET https://api.openalex.org/works?filter=from_publication_date:2017-01-01,to_publication_date:2021-12-31,raw_affiliation_string.search:grenoble&cursor=IlsyLjAsIDE1ODE2Mzg0MDAwMDAsICdodHRwczovL29wZW5hbGV4Lm9yZy9XNDI4Nzg2NzgxOCddIg==&per-page=200&mailto=bertagrim@gmail.com\n"
     ]
    },
    {
     "name": "stdout",
     "output_type": "stream",
     "text": [
      "OK\n",
      "Fetching page 216 ...\n",
      "Senging GET https://api.openalex.org/works?filter=from_publication_date:2017-01-01,to_publication_date:2021-12-31,raw_affiliation_string.search:grenoble&cursor=IlsyLjAsIDE1ODM4ODQ4MDAwMDAsICdodHRwczovL29wZW5hbGV4Lm9yZy9XMjk1MzY3NjU5NCddIg==&per-page=200&mailto=bertagrim@gmail.com\n",
      "OK\n",
      "Fetching page 217 ...\n",
      "Senging GET https://api.openalex.org/works?filter=from_publication_date:2017-01-01,to_publication_date:2021-12-31,raw_affiliation_string.search:grenoble&cursor=IlsyLjAsIDE1ODc2MDAwMDAwMDAsICdodHRwczovL29wZW5hbGV4Lm9yZy9XMzA4MzYyOTIwMCddIg==&per-page=200&mailto=bertagrim@gmail.com\n",
      "OK\n",
      "Fetching page 218 ...\n",
      "Senging GET https://api.openalex.org/works?filter=from_publication_date:2017-01-01,to_publication_date:2021-12-31,raw_affiliation_string.search:grenoble&cursor=IlsyLjAsIDE1OTAwMTkyMDAwMDAsICdodHRwczovL29wZW5hbGV4Lm9yZy9XMzE4ODUwMTUzNSddIg==&per-page=200&mailto=bertagrim@gmail.com\n",
      "OK\n",
      "Fetching page 219 ...\n",
      "Senging GET https://api.openalex.org/works?filter=from_publication_date:2017-01-01,to_publication_date:2021-12-31,raw_affiliation_string.search:grenoble&cursor=IlsyLjAsIDE1OTEyMjg4MDAwMDAsICdodHRwczovL29wZW5hbGV4Lm9yZy9XMzIwMzAyNTkyOSddIg==&per-page=200&mailto=bertagrim@gmail.com\n",
      "OK\n",
      "Fetching page 220 ...\n",
      "Senging GET https://api.openalex.org/works?filter=from_publication_date:2017-01-01,to_publication_date:2021-12-31,raw_affiliation_string.search:grenoble&cursor=IlsyLjAsIDE1OTM0NzUyMDAwMDAsICdodHRwczovL29wZW5hbGV4Lm9yZy9XMzEyMDUyMTAxNSddIg==&per-page=200&mailto=bertagrim@gmail.com\n",
      "OK\n",
      "Fetching page 221 ...\n",
      "Senging GET https://api.openalex.org/works?filter=from_publication_date:2017-01-01,to_publication_date:2021-12-31,raw_affiliation_string.search:grenoble&cursor=IlsyLjAsIDE1OTUyODk2MDAwMDAsICdodHRwczovL29wZW5hbGV4Lm9yZy9XMzA0NDc3MTk5MyddIg==&per-page=200&mailto=bertagrim@gmail.com\n",
      "OK\n",
      "Fetching page 222 ...\n",
      "Senging GET https://api.openalex.org/works?filter=from_publication_date:2017-01-01,to_publication_date:2021-12-31,raw_affiliation_string.search:grenoble&cursor=IlsyLjAsIDE1OTg5MTg0MDAwMDAsICdodHRwczovL29wZW5hbGV4Lm9yZy9XMzA4MDY1NzUzOSddIg==&per-page=200&mailto=bertagrim@gmail.com\n",
      "OK\n",
      "Fetching page 223 ...\n",
      "Senging GET https://api.openalex.org/works?filter=from_publication_date:2017-01-01,to_publication_date:2021-12-31,raw_affiliation_string.search:grenoble&cursor=IlsyLjAsIDE1OTk3ODI0MDAwMDAsICdodHRwczovL29wZW5hbGV4Lm9yZy9XMzA4NDM2ODE2OSddIg==&per-page=200&mailto=bertagrim@gmail.com\n",
      "OK\n",
      "Fetching page 224 ...\n",
      "Senging GET https://api.openalex.org/works?filter=from_publication_date:2017-01-01,to_publication_date:2021-12-31,raw_affiliation_string.search:grenoble&cursor=IlsyLjAsIDE2MDE1MTA0MDAwMDAsICdodHRwczovL29wZW5hbGV4Lm9yZy9XMzA5MTI3MTUwNiddIg==&per-page=200&mailto=bertagrim@gmail.com\n",
      "OK\n",
      "Fetching page 225 ...\n",
      "Senging GET https://api.openalex.org/works?filter=from_publication_date:2017-01-01,to_publication_date:2021-12-31,raw_affiliation_string.search:grenoble&cursor=IlsyLjAsIDE2MDM0MTEyMDAwMDAsICdodHRwczovL29wZW5hbGV4Lm9yZy9XMzA5MzYwNjk1NyddIg==&per-page=200&mailto=bertagrim@gmail.com\n",
      "OK\n",
      "Fetching page 226 ...\n",
      "Senging GET https://api.openalex.org/works?filter=from_publication_date:2017-01-01,to_publication_date:2021-12-31,raw_affiliation_string.search:grenoble&cursor=IlsyLjAsIDE2MDUxMzkyMDAwMDAsICdodHRwczovL29wZW5hbGV4Lm9yZy9XMzA5OTQyMDkzMCddIg==&per-page=200&mailto=bertagrim@gmail.com\n",
      "OK\n",
      "Fetching page 227 ...\n",
      "Senging GET https://api.openalex.org/works?filter=from_publication_date:2017-01-01,to_publication_date:2021-12-31,raw_affiliation_string.search:grenoble&cursor=IlsyLjAsIDE2MDY3ODA4MDAwMDAsICdodHRwczovL29wZW5hbGV4Lm9yZy9XMzExMTAxMTc0NyddIg==&per-page=200&mailto=bertagrim@gmail.com\n",
      "OK\n",
      "Fetching page 228 ...\n",
      "Senging GET https://api.openalex.org/works?filter=from_publication_date:2017-01-01,to_publication_date:2021-12-31,raw_affiliation_string.search:grenoble&cursor=IlsyLjAsIDE2MDc5OTA0MDAwMDAsICdodHRwczovL29wZW5hbGV4Lm9yZy9XMzEyOTI0ODMzNyddIg==&per-page=200&mailto=bertagrim@gmail.com\n",
      "OK\n",
      "Fetching page 229 ...\n",
      "Senging GET https://api.openalex.org/works?filter=from_publication_date:2017-01-01,to_publication_date:2021-12-31,raw_affiliation_string.search:grenoble&cursor=IlsyLjAsIDE2MDk0NTkyMDAwMDAsICdodHRwczovL29wZW5hbGV4Lm9yZy9XMzEyNzExODQxMiddIg==&per-page=200&mailto=bertagrim@gmail.com\n",
      "OK\n",
      "Fetching page 230 ...\n",
      "Senging GET https://api.openalex.org/works?filter=from_publication_date:2017-01-01,to_publication_date:2021-12-31,raw_affiliation_string.search:grenoble&cursor=IlsyLjAsIDE2MDk0NTkyMDAwMDAsICdodHRwczovL29wZW5hbGV4Lm9yZy9XNDIwNjgxNDYyOCddIg==&per-page=200&mailto=bertagrim@gmail.com\n",
      "OK\n",
      "Fetching page 231 ...\n",
      "Senging GET https://api.openalex.org/works?filter=from_publication_date:2017-01-01,to_publication_date:2021-12-31,raw_affiliation_string.search:grenoble&cursor=IlsyLjAsIDE2MTAyMzY4MDAwMDAsICdodHRwczovL29wZW5hbGV4Lm9yZy9XMzEyOTMzNjQ3MCddIg==&per-page=200&mailto=bertagrim@gmail.com\n",
      "OK\n",
      "Fetching page 232 ...\n",
      "Senging GET https://api.openalex.org/works?filter=from_publication_date:2017-01-01,to_publication_date:2021-12-31,raw_affiliation_string.search:grenoble&cursor=IlsyLjAsIDE2MTMyNjA4MDAwMDAsICdodHRwczovL29wZW5hbGV4Lm9yZy9XNDI4NzMyODI0OSddIg==&per-page=200&mailto=bertagrim@gmail.com\n",
      "OK\n",
      "Fetching page 233 ...\n",
      "Senging GET https://api.openalex.org/works?filter=from_publication_date:2017-01-01,to_publication_date:2021-12-31,raw_affiliation_string.search:grenoble&cursor=IlsyLjAsIDE2MTQ5MDI0MDAwMDAsICdodHRwczovL29wZW5hbGV4Lm9yZy9XMzEzNTUyNDczNCddIg==&per-page=200&mailto=bertagrim@gmail.com\n",
      "OK\n",
      "Fetching page 234 ...\n",
      "Senging GET https://api.openalex.org/works?filter=from_publication_date:2017-01-01,to_publication_date:2021-12-31,raw_affiliation_string.search:grenoble&cursor=IlsyLjAsIDE2MTcyMzUyMDAwMDAsICdodHRwczovL29wZW5hbGV4Lm9yZy9XMzE3NTkzODg1MyddIg==&per-page=200&mailto=bertagrim@gmail.com\n",
      "OK\n",
      "Fetching page 235 ...\n",
      "Senging GET https://api.openalex.org/works?filter=from_publication_date:2017-01-01,to_publication_date:2021-12-31,raw_affiliation_string.search:grenoble&cursor=IlsyLjAsIDE2MTk4MjcyMDAwMDAsICdodHRwczovL29wZW5hbGV4Lm9yZy9XNDI1MDQzODQyOCddIg==&per-page=200&mailto=bertagrim@gmail.com\n",
      "OK\n",
      "Fetching page 236 ...\n",
      "Senging GET https://api.openalex.org/works?filter=from_publication_date:2017-01-01,to_publication_date:2021-12-31,raw_affiliation_string.search:grenoble&cursor=IlsyLjAsIDE2MjIwNzM2MDAwMDAsICdodHRwczovL29wZW5hbGV4Lm9yZy9XNDI4NzE2Njg3NSddIg==&per-page=200&mailto=bertagrim@gmail.com\n",
      "OK\n",
      "Fetching page 237 ...\n",
      "Senging GET https://api.openalex.org/works?filter=from_publication_date:2017-01-01,to_publication_date:2021-12-31,raw_affiliation_string.search:grenoble&cursor=IlsyLjAsIDE2MjMxOTY4MDAwMDAsICdodHRwczovL29wZW5hbGV4Lm9yZy9XNDIwNjg3OTA2NyddIg==&per-page=200&mailto=bertagrim@gmail.com\n",
      "OK\n",
      "Fetching page 238 ...\n",
      "Senging GET https://api.openalex.org/works?filter=from_publication_date:2017-01-01,to_publication_date:2021-12-31,raw_affiliation_string.search:grenoble&cursor=IlsyLjAsIDE2MjQ4Mzg0MDAwMDAsICdodHRwczovL29wZW5hbGV4Lm9yZy9XNDI4NzExMjI4MSddIg==&per-page=200&mailto=bertagrim@gmail.com\n",
      "OK\n",
      "Fetching page 239 ...\n",
      "Senging GET https://api.openalex.org/works?filter=from_publication_date:2017-01-01,to_publication_date:2021-12-31,raw_affiliation_string.search:grenoble&cursor=IlsyLjAsIDE2MjYzOTM2MDAwMDAsICdodHRwczovL29wZW5hbGV4Lm9yZy9XNDIwNjAxNTY2NyddIg==&per-page=200&mailto=bertagrim@gmail.com\n",
      "OK\n",
      "Fetching page 240 ...\n",
      "Senging GET https://api.openalex.org/works?filter=from_publication_date:2017-01-01,to_publication_date:2021-12-31,raw_affiliation_string.search:grenoble&cursor=IlsyLjAsIDE2MjgxMjE2MDAwMDAsICdodHRwczovL29wZW5hbGV4Lm9yZy9XMzE5NTk3MDg4MiddIg==&per-page=200&mailto=bertagrim@gmail.com\n",
      "OK\n",
      "Fetching page 241 ...\n",
      "Senging GET https://api.openalex.org/works?filter=from_publication_date:2017-01-01,to_publication_date:2021-12-31,raw_affiliation_string.search:grenoble&cursor=IlsyLjAsIDE2MzA0NTQ0MDAwMDAsICdodHRwczovL29wZW5hbGV4Lm9yZy9XMzE5OTQxMDQ4MiddIg==&per-page=200&mailto=bertagrim@gmail.com\n",
      "OK\n",
      "Fetching page 242 ...\n",
      "Senging GET https://api.openalex.org/works?filter=from_publication_date:2017-01-01,to_publication_date:2021-12-31,raw_affiliation_string.search:grenoble&cursor=IlsyLjAsIDE2MzIwOTYwMDAwMDAsICdodHRwczovL29wZW5hbGV4Lm9yZy9XMzIxMTY4ODM4MSddIg==&per-page=200&mailto=bertagrim@gmail.com\n"
     ]
    },
    {
     "name": "stdout",
     "output_type": "stream",
     "text": [
      "OK\n",
      "Fetching page 243 ...\n",
      "Senging GET https://api.openalex.org/works?filter=from_publication_date:2017-01-01,to_publication_date:2021-12-31,raw_affiliation_string.search:grenoble&cursor=IlsyLjAsIDE2MzMzMDU2MDAwMDAsICdodHRwczovL29wZW5hbGV4Lm9yZy9XNDIwMDI1OTg3NyddIg==&per-page=200&mailto=bertagrim@gmail.com\n",
      "OK\n",
      "Fetching page 244 ...\n",
      "Senging GET https://api.openalex.org/works?filter=from_publication_date:2017-01-01,to_publication_date:2021-12-31,raw_affiliation_string.search:grenoble&cursor=IlsyLjAsIDE2MzQ4NjA4MDAwMDAsICdodHRwczovL29wZW5hbGV4Lm9yZy9XMzIxMTE1ODYwMCddIg==&per-page=200&mailto=bertagrim@gmail.com\n",
      "OK\n",
      "Fetching page 245 ...\n",
      "Senging GET https://api.openalex.org/works?filter=from_publication_date:2017-01-01,to_publication_date:2021-12-31,raw_affiliation_string.search:grenoble&cursor=IlsyLjAsIDE2MzYwNzA0MDAwMDAsICdodHRwczovL29wZW5hbGV4Lm9yZy9XNDIyNTU2MjA5MCddIg==&per-page=200&mailto=bertagrim@gmail.com\n",
      "OK\n",
      "Fetching page 246 ...\n",
      "Senging GET https://api.openalex.org/works?filter=from_publication_date:2017-01-01,to_publication_date:2021-12-31,raw_affiliation_string.search:grenoble&cursor=IlsyLjAsIDE2MzgxNDQwMDAwMDAsICdodHRwczovL29wZW5hbGV4Lm9yZy9XMzIxNjAwNzQyMSddIg==&per-page=200&mailto=bertagrim@gmail.com\n",
      "OK\n",
      "Fetching page 247 ...\n",
      "Senging GET https://api.openalex.org/works?filter=from_publication_date:2017-01-01,to_publication_date:2021-12-31,raw_affiliation_string.search:grenoble&cursor=IlsyLjAsIDE2Mzg3NDg4MDAwMDAsICdodHRwczovL29wZW5hbGV4Lm9yZy9XNDIyNjUzNDA2MCddIg==&per-page=200&mailto=bertagrim@gmail.com\n",
      "OK\n"
     ]
    }
   ],
   "source": [
    "cursor='*'\n",
    "works=[]\n",
    "for page_n in range(0, num_pages):\n",
    "    print(\"Fetching page {} ...\".format(page_n))\n",
    "    page = fetch_page(cursor)\n",
    "    works.extend(page['results'])\n",
    "#     save_entries(\n",
    "#         page_n=page_n,\n",
    "#         results=page['results']\n",
    "#     )\n",
    "    time.sleep(WAIT_SECS)\n",
    "    cursor=page['meta']['next_cursor']\n",
    "    \n",
    "with open(WORKS_FILE_PATH, 'w', encoding='utf-8') as file:\n",
    "        json.dump(works, file)\n"
   ]
  },
  {
   "cell_type": "code",
   "execution_count": 3,
   "id": "f7e2577b",
   "metadata": {
    "ExecuteTime": {
     "end_time": "2022-12-31T08:46:28.583701Z",
     "start_time": "2022-12-31T08:46:22.291018Z"
    }
   },
   "outputs": [],
   "source": [
    "with open(WORKS_FILE_PATH) as f:\n",
    "    data = json.load(f)"
   ]
  },
  {
   "cell_type": "code",
   "execution_count": 4,
   "id": "abb19d6a",
   "metadata": {
    "ExecuteTime": {
     "end_time": "2022-12-31T08:46:33.255401Z",
     "start_time": "2022-12-31T08:46:28.585248Z"
    }
   },
   "outputs": [],
   "source": [
    "data_string = json.dumps(data)"
   ]
  },
  {
   "cell_type": "code",
   "execution_count": 5,
   "id": "5df5743d",
   "metadata": {
    "ExecuteTime": {
     "end_time": "2022-12-31T08:47:00.312699Z",
     "start_time": "2022-12-31T08:46:33.261869Z"
    }
   },
   "outputs": [],
   "source": [
    "df = pd.read_json(data_string)"
   ]
  },
  {
   "cell_type": "code",
   "execution_count": 6,
   "id": "6f324486",
   "metadata": {
    "ExecuteTime": {
     "end_time": "2022-12-31T08:49:10.256522Z",
     "start_time": "2022-12-31T08:49:07.311426Z"
    }
   },
   "outputs": [],
   "source": [
    "df.drop(columns=['is_authors_truncated', \n",
    "                 'is_retracted', \n",
    "                 'related_works', \n",
    "                 'alternate_host_venues', \n",
    "                 'is_paratext', \n",
    "                 'mesh', \n",
    "                 'updated_date', \n",
    "                 'created_date', \n",
    "                 'open_access',\n",
    "                'cited_by_api_url',\n",
    "                'counts_by_year'], inplace=True)"
   ]
  },
  {
   "cell_type": "code",
   "execution_count": 7,
   "id": "8181e3c5",
   "metadata": {
    "ExecuteTime": {
     "end_time": "2022-12-31T08:49:12.349656Z",
     "start_time": "2022-12-31T08:49:11.512373Z"
    }
   },
   "outputs": [
    {
     "name": "stdout",
     "output_type": "stream",
     "text": [
      "<class 'pandas.core.frame.DataFrame'>\n",
      "RangeIndex: 49579 entries, 0 to 49578\n",
      "Data columns (total 17 columns):\n",
      " #   Column                   Non-Null Count  Dtype  \n",
      "---  ------                   --------------  -----  \n",
      " 0   id                       49579 non-null  object \n",
      " 1   doi                      39389 non-null  object \n",
      " 2   title                    49572 non-null  object \n",
      " 3   display_name             49572 non-null  object \n",
      " 4   relevance_score          49579 non-null  float64\n",
      " 5   publication_year         49579 non-null  int64  \n",
      " 6   publication_date         49579 non-null  object \n",
      " 7   ids                      49579 non-null  object \n",
      " 8   host_venue               49579 non-null  object \n",
      " 9   type                     46346 non-null  object \n",
      " 10  authorships              49579 non-null  object \n",
      " 11  cited_by_count           49579 non-null  int64  \n",
      " 12  biblio                   49579 non-null  object \n",
      " 13  concepts                 49579 non-null  object \n",
      " 14  referenced_works         49579 non-null  object \n",
      " 15  ngrams_url               49579 non-null  object \n",
      " 16  abstract_inverted_index  40226 non-null  object \n",
      "dtypes: float64(1), int64(2), object(14)\n",
      "memory usage: 6.4+ MB\n"
     ]
    }
   ],
   "source": [
    "df.info()"
   ]
  },
  {
   "cell_type": "markdown",
   "id": "ecf67c50",
   "metadata": {},
   "source": [
    "## Exercise 1"
   ]
  },
  {
   "cell_type": "code",
   "execution_count": 412,
   "id": "38c6bda5",
   "metadata": {
    "ExecuteTime": {
     "end_time": "2022-12-31T13:32:06.696568Z",
     "start_time": "2022-12-31T13:32:05.991218Z"
    }
   },
   "outputs": [],
   "source": [
    "df1=df[['id', 'title', 'concepts', 'publication_year', 'publication_date']]"
   ]
  },
  {
   "cell_type": "code",
   "execution_count": 413,
   "id": "dbad9c41",
   "metadata": {
    "ExecuteTime": {
     "end_time": "2022-12-31T13:32:07.287578Z",
     "start_time": "2022-12-31T13:32:07.143281Z"
    }
   },
   "outputs": [],
   "source": [
    "df1_clean = df1.dropna().reset_index().drop(columns='index')"
   ]
  },
  {
   "cell_type": "code",
   "execution_count": 414,
   "id": "3a8873ec",
   "metadata": {
    "ExecuteTime": {
     "end_time": "2022-12-31T13:32:08.007575Z",
     "start_time": "2022-12-31T13:32:07.529870Z"
    }
   },
   "outputs": [
    {
     "name": "stdout",
     "output_type": "stream",
     "text": [
      "<class 'pandas.core.frame.DataFrame'>\n",
      "RangeIndex: 49572 entries, 0 to 49571\n",
      "Data columns (total 5 columns):\n",
      " #   Column            Non-Null Count  Dtype \n",
      "---  ------            --------------  ----- \n",
      " 0   id                49572 non-null  object\n",
      " 1   title             49572 non-null  object\n",
      " 2   concepts          49572 non-null  object\n",
      " 3   publication_year  49572 non-null  int64 \n",
      " 4   publication_date  49572 non-null  object\n",
      "dtypes: int64(1), object(4)\n",
      "memory usage: 1.9+ MB\n"
     ]
    }
   ],
   "source": [
    "df1_clean.info()"
   ]
  },
  {
   "cell_type": "code",
   "execution_count": 415,
   "id": "341aa21b",
   "metadata": {
    "ExecuteTime": {
     "end_time": "2022-12-31T13:32:09.428999Z",
     "start_time": "2022-12-31T13:32:08.661835Z"
    }
   },
   "outputs": [],
   "source": [
    "df1_clean['publication_date']=pd.to_datetime(df1_clean['publication_date'])"
   ]
  },
  {
   "cell_type": "code",
   "execution_count": 416,
   "id": "5af9af95",
   "metadata": {
    "ExecuteTime": {
     "end_time": "2022-12-31T13:32:09.818188Z",
     "start_time": "2022-12-31T13:32:09.766058Z"
    }
   },
   "outputs": [],
   "source": [
    "df1_clean['month_year'] = pd.to_datetime(df1_clean['publication_date']).dt.to_period('M')"
   ]
  },
  {
   "cell_type": "code",
   "execution_count": 417,
   "id": "c09141ad",
   "metadata": {
    "ExecuteTime": {
     "end_time": "2022-12-31T13:32:10.554831Z",
     "start_time": "2022-12-31T13:32:09.973378Z"
    }
   },
   "outputs": [
    {
     "name": "stdout",
     "output_type": "stream",
     "text": [
      "<class 'pandas.core.frame.DataFrame'>\n",
      "RangeIndex: 49572 entries, 0 to 49571\n",
      "Data columns (total 6 columns):\n",
      " #   Column            Non-Null Count  Dtype         \n",
      "---  ------            --------------  -----         \n",
      " 0   id                49572 non-null  object        \n",
      " 1   title             49572 non-null  object        \n",
      " 2   concepts          49572 non-null  object        \n",
      " 3   publication_year  49572 non-null  int64         \n",
      " 4   publication_date  49572 non-null  datetime64[ns]\n",
      " 5   month_year        49572 non-null  period[M]     \n",
      "dtypes: datetime64[ns](1), int64(1), object(3), period[M](1)\n",
      "memory usage: 2.3+ MB\n"
     ]
    }
   ],
   "source": [
    "df1_clean.info()"
   ]
  },
  {
   "cell_type": "code",
   "execution_count": 418,
   "id": "56574cb2",
   "metadata": {
    "ExecuteTime": {
     "end_time": "2022-12-31T13:32:12.155086Z",
     "start_time": "2022-12-31T13:32:12.127763Z"
    }
   },
   "outputs": [
    {
     "data": {
      "text/plain": [
       "3085"
      ]
     },
     "execution_count": 418,
     "metadata": {},
     "output_type": "execute_result"
    }
   ],
   "source": [
    "df1_clean.title.duplicated().sum()"
   ]
  },
  {
   "cell_type": "code",
   "execution_count": 419,
   "id": "d731ff29",
   "metadata": {
    "ExecuteTime": {
     "end_time": "2022-12-31T13:32:15.237455Z",
     "start_time": "2022-12-31T13:32:15.152661Z"
    }
   },
   "outputs": [],
   "source": [
    "df1_clean = df1_clean.drop_duplicates(subset=['title'], ignore_index=True)"
   ]
  },
  {
   "cell_type": "code",
   "execution_count": 420,
   "id": "09560fec",
   "metadata": {
    "ExecuteTime": {
     "end_time": "2022-12-31T13:32:17.829350Z",
     "start_time": "2022-12-31T13:32:17.822206Z"
    }
   },
   "outputs": [],
   "source": [
    "def get_concepts_0(orig_list):\n",
    "    pruned_list=[item['display_name'] for item in orig_list if item['level']==0]\n",
    "    return pruned_list"
   ]
  },
  {
   "cell_type": "code",
   "execution_count": 421,
   "id": "88ea598e",
   "metadata": {
    "ExecuteTime": {
     "end_time": "2022-12-31T13:32:18.710544Z",
     "start_time": "2022-12-31T13:32:18.136436Z"
    }
   },
   "outputs": [],
   "source": [
    "df1_clean['concepts_level_0']=df1_clean['concepts'].apply(get_concepts_0)"
   ]
  },
  {
   "cell_type": "code",
   "execution_count": 422,
   "id": "57259fa0",
   "metadata": {
    "ExecuteTime": {
     "end_time": "2022-12-31T13:32:18.995343Z",
     "start_time": "2022-12-31T13:32:18.978302Z"
    }
   },
   "outputs": [
    {
     "data": {
      "text/plain": [
       "2017    9594\n",
       "2018    9413\n",
       "2019    9261\n",
       "2020    9165\n",
       "2021    9054\n",
       "Name: publication_year, dtype: int64"
      ]
     },
     "execution_count": 422,
     "metadata": {},
     "output_type": "execute_result"
    }
   ],
   "source": [
    "df1_clean.publication_year.value_counts()"
   ]
  },
  {
   "cell_type": "code",
   "execution_count": 23,
   "id": "9d5cc853",
   "metadata": {
    "ExecuteTime": {
     "end_time": "2022-12-30T11:58:51.863043Z",
     "start_time": "2022-12-30T11:58:51.655035Z"
    }
   },
   "outputs": [
    {
     "data": {
      "text/plain": [
       "<AxesSubplot:xlabel='publication_year', ylabel='count'>"
      ]
     },
     "execution_count": 23,
     "metadata": {},
     "output_type": "execute_result"
    },
    {
     "data": {
      "image/png": "[encoded data removed]",
      "text/plain": [
       "<Figure size 432x288 with 1 Axes>"
      ]
     },
     "metadata": {
      "needs_background": "light"
     },
     "output_type": "display_data"
    }
   ],
   "source": [
    "sns.countplot(data = df1_clean, x=\"publication_year\")"
   ]
  },
  {
   "cell_type": "code",
   "execution_count": 26,
   "id": "b506a386",
   "metadata": {
    "ExecuteTime": {
     "end_time": "2022-12-30T11:59:06.915396Z",
     "start_time": "2022-12-30T11:59:06.083463Z"
    }
   },
   "outputs": [
    {
     "data": {
      "text/plain": [
       "19"
      ]
     },
     "execution_count": 26,
     "metadata": {},
     "output_type": "execute_result"
    }
   ],
   "source": [
    "categories=[]\n",
    "for item in df1_clean['concepts_level_0'].values:\n",
    "    categories.extend(item)\n",
    "unique=list(set(categories))\n",
    "len(unique)"
   ]
  },
  {
   "cell_type": "code",
   "execution_count": 27,
   "id": "50f0617d",
   "metadata": {
    "ExecuteTime": {
     "end_time": "2022-12-30T11:59:07.692576Z",
     "start_time": "2022-12-30T11:59:07.685588Z"
    }
   },
   "outputs": [
    {
     "data": {
      "text/plain": [
       "['Geography',\n",
       " 'Economics',\n",
       " 'Art',\n",
       " 'Environmental science',\n",
       " 'Philosophy',\n",
       " 'History',\n",
       " 'Materials science',\n",
       " 'Mathematics',\n",
       " 'Biology',\n",
       " 'Engineering',\n",
       " 'Chemistry',\n",
       " 'Business',\n",
       " 'Physics',\n",
       " 'Computer science',\n",
       " 'Political science',\n",
       " 'Psychology',\n",
       " 'Sociology',\n",
       " 'Geology',\n",
       " 'Medicine']"
      ]
     },
     "execution_count": 27,
     "metadata": {},
     "output_type": "execute_result"
    }
   ],
   "source": [
    "unique"
   ]
  },
  {
   "cell_type": "code",
   "execution_count": 424,
   "id": "ebcbbe04",
   "metadata": {
    "ExecuteTime": {
     "end_time": "2022-12-31T13:32:50.764151Z",
     "start_time": "2022-12-31T13:32:50.759975Z"
    }
   },
   "outputs": [],
   "source": [
    "s = df1_clean['concepts_level_0']"
   ]
  },
  {
   "cell_type": "code",
   "execution_count": 425,
   "id": "eb99b754",
   "metadata": {
    "ExecuteTime": {
     "end_time": "2022-12-31T13:32:54.858631Z",
     "start_time": "2022-12-31T13:32:51.946459Z"
    }
   },
   "outputs": [
    {
     "name": "stderr",
     "output_type": "stream",
     "text": [
      "/var/folders/kb/lywh42216h13zy46p5f_0fg40000gn/T/ipykernel_3648/2091366517.py:1: FutureWarning: The default dtype for empty Series will be 'object' instead of 'float64' in a future version. Specify a dtype explicitly to silence this warning.\n",
      "  dummies = pd.get_dummies(s.apply(pd.Series), prefix='', prefix_sep='').sum(level=0, axis=1)\n",
      "/var/folders/kb/lywh42216h13zy46p5f_0fg40000gn/T/ipykernel_3648/2091366517.py:1: FutureWarning: Using the level keyword in DataFrame and Series aggregations is deprecated and will be removed in a future version. Use groupby instead. df.sum(level=1) should use df.groupby(level=1).sum().\n",
      "  dummies = pd.get_dummies(s.apply(pd.Series), prefix='', prefix_sep='').sum(level=0, axis=1)\n"
     ]
    }
   ],
   "source": [
    "dummies = pd.get_dummies(s.apply(pd.Series), prefix='', prefix_sep='').sum(level=0, axis=1)"
   ]
  },
  {
   "cell_type": "code",
   "execution_count": 426,
   "id": "ccc33d9c",
   "metadata": {
    "ExecuteTime": {
     "end_time": "2022-12-31T13:32:56.694933Z",
     "start_time": "2022-12-31T13:32:56.160388Z"
    }
   },
   "outputs": [],
   "source": [
    "final = pd.concat([df1_clean, dummies], axis=1).drop(columns=['concepts', 'concepts_level_0'])"
   ]
  },
  {
   "cell_type": "code",
   "execution_count": 427,
   "id": "7be59625",
   "metadata": {
    "ExecuteTime": {
     "end_time": "2022-12-31T13:32:57.266298Z",
     "start_time": "2022-12-31T13:32:57.238185Z"
    }
   },
   "outputs": [
    {
     "data": {
      "text/html": [
       "<div>\n",
       "<style scoped>\n",
       "    .dataframe tbody tr th:only-of-type {\n",
       "        vertical-align: middle;\n",
       "    }\n",
       "\n",
       "    .dataframe tbody tr th {\n",
       "        vertical-align: top;\n",
       "    }\n",
       "\n",
       "    .dataframe thead th {\n",
       "        text-align: right;\n",
       "    }\n",
       "</style>\n",
       "<table border=\"1\" class=\"dataframe\">\n",
       "  <thead>\n",
       "    <tr style=\"text-align: right;\">\n",
       "      <th></th>\n",
       "      <th>id</th>\n",
       "      <th>title</th>\n",
       "      <th>publication_year</th>\n",
       "      <th>publication_date</th>\n",
       "      <th>month_year</th>\n",
       "      <th>Art</th>\n",
       "      <th>Biology</th>\n",
       "      <th>Business</th>\n",
       "      <th>Chemistry</th>\n",
       "      <th>Computer science</th>\n",
       "      <th>...</th>\n",
       "      <th>Geology</th>\n",
       "      <th>History</th>\n",
       "      <th>Materials science</th>\n",
       "      <th>Mathematics</th>\n",
       "      <th>Medicine</th>\n",
       "      <th>Philosophy</th>\n",
       "      <th>Physics</th>\n",
       "      <th>Political science</th>\n",
       "      <th>Psychology</th>\n",
       "      <th>Sociology</th>\n",
       "    </tr>\n",
       "  </thead>\n",
       "  <tbody>\n",
       "    <tr>\n",
       "      <th>0</th>\n",
       "      <td>https://openalex.org/W2511949746</td>\n",
       "      <td>EAU-ESTRO-SIOG Guidelines on Prostate Cancer. ...</td>\n",
       "      <td>2017</td>\n",
       "      <td>2017-04-01</td>\n",
       "      <td>2017-04</td>\n",
       "      <td>0</td>\n",
       "      <td>0</td>\n",
       "      <td>0</td>\n",
       "      <td>0</td>\n",
       "      <td>0</td>\n",
       "      <td>...</td>\n",
       "      <td>0</td>\n",
       "      <td>0</td>\n",
       "      <td>0</td>\n",
       "      <td>0</td>\n",
       "      <td>1</td>\n",
       "      <td>0</td>\n",
       "      <td>0</td>\n",
       "      <td>0</td>\n",
       "      <td>0</td>\n",
       "      <td>0</td>\n",
       "    </tr>\n",
       "    <tr>\n",
       "      <th>1</th>\n",
       "      <td>https://openalex.org/W2805354595</td>\n",
       "      <td>Atezolizumab for First-Line Treatment of Metas...</td>\n",
       "      <td>2018</td>\n",
       "      <td>2018-06-04</td>\n",
       "      <td>2018-06</td>\n",
       "      <td>0</td>\n",
       "      <td>0</td>\n",
       "      <td>0</td>\n",
       "      <td>0</td>\n",
       "      <td>0</td>\n",
       "      <td>...</td>\n",
       "      <td>0</td>\n",
       "      <td>0</td>\n",
       "      <td>0</td>\n",
       "      <td>0</td>\n",
       "      <td>1</td>\n",
       "      <td>0</td>\n",
       "      <td>0</td>\n",
       "      <td>0</td>\n",
       "      <td>0</td>\n",
       "      <td>0</td>\n",
       "    </tr>\n",
       "    <tr>\n",
       "      <th>2</th>\n",
       "      <td>https://openalex.org/W4205946977</td>\n",
       "      <td>Neoliberalizing Space</td>\n",
       "      <td>2020</td>\n",
       "      <td>2020-06-22</td>\n",
       "      <td>2020-06</td>\n",
       "      <td>0</td>\n",
       "      <td>0</td>\n",
       "      <td>0</td>\n",
       "      <td>0</td>\n",
       "      <td>1</td>\n",
       "      <td>...</td>\n",
       "      <td>0</td>\n",
       "      <td>0</td>\n",
       "      <td>0</td>\n",
       "      <td>0</td>\n",
       "      <td>0</td>\n",
       "      <td>0</td>\n",
       "      <td>0</td>\n",
       "      <td>0</td>\n",
       "      <td>0</td>\n",
       "      <td>0</td>\n",
       "    </tr>\n",
       "    <tr>\n",
       "      <th>3</th>\n",
       "      <td>https://openalex.org/W2796277309</td>\n",
       "      <td>Review on nanoparticles and nanostructured mat...</td>\n",
       "      <td>2018</td>\n",
       "      <td>2018-04-03</td>\n",
       "      <td>2018-04</td>\n",
       "      <td>0</td>\n",
       "      <td>0</td>\n",
       "      <td>0</td>\n",
       "      <td>0</td>\n",
       "      <td>0</td>\n",
       "      <td>...</td>\n",
       "      <td>0</td>\n",
       "      <td>0</td>\n",
       "      <td>1</td>\n",
       "      <td>0</td>\n",
       "      <td>0</td>\n",
       "      <td>0</td>\n",
       "      <td>0</td>\n",
       "      <td>0</td>\n",
       "      <td>0</td>\n",
       "      <td>0</td>\n",
       "    </tr>\n",
       "    <tr>\n",
       "      <th>4</th>\n",
       "      <td>https://openalex.org/W2969802526</td>\n",
       "      <td>A global view of hepatocellular carcinoma: tre...</td>\n",
       "      <td>2019</td>\n",
       "      <td>2019-08-22</td>\n",
       "      <td>2019-08</td>\n",
       "      <td>0</td>\n",
       "      <td>0</td>\n",
       "      <td>0</td>\n",
       "      <td>0</td>\n",
       "      <td>0</td>\n",
       "      <td>...</td>\n",
       "      <td>0</td>\n",
       "      <td>0</td>\n",
       "      <td>0</td>\n",
       "      <td>0</td>\n",
       "      <td>1</td>\n",
       "      <td>0</td>\n",
       "      <td>0</td>\n",
       "      <td>0</td>\n",
       "      <td>0</td>\n",
       "      <td>0</td>\n",
       "    </tr>\n",
       "  </tbody>\n",
       "</table>\n",
       "<p>5 rows × 24 columns</p>\n",
       "</div>"
      ],
      "text/plain": [
       "                                 id  \\\n",
       "0  https://openalex.org/W2511949746   \n",
       "1  https://openalex.org/W2805354595   \n",
       "2  https://openalex.org/W4205946977   \n",
       "3  https://openalex.org/W2796277309   \n",
       "4  https://openalex.org/W2969802526   \n",
       "\n",
       "                                               title  publication_year  \\\n",
       "0  EAU-ESTRO-SIOG Guidelines on Prostate Cancer. ...              2017   \n",
       "1  Atezolizumab for First-Line Treatment of Metas...              2018   \n",
       "2                              Neoliberalizing Space              2020   \n",
       "3  Review on nanoparticles and nanostructured mat...              2018   \n",
       "4  A global view of hepatocellular carcinoma: tre...              2019   \n",
       "\n",
       "  publication_date month_year  Art  Biology  Business  Chemistry  \\\n",
       "0       2017-04-01    2017-04    0        0         0          0   \n",
       "1       2018-06-04    2018-06    0        0         0          0   \n",
       "2       2020-06-22    2020-06    0        0         0          0   \n",
       "3       2018-04-03    2018-04    0        0         0          0   \n",
       "4       2019-08-22    2019-08    0        0         0          0   \n",
       "\n",
       "   Computer science  ...  Geology  History  Materials science  Mathematics  \\\n",
       "0                 0  ...        0        0                  0            0   \n",
       "1                 0  ...        0        0                  0            0   \n",
       "2                 1  ...        0        0                  0            0   \n",
       "3                 0  ...        0        0                  1            0   \n",
       "4                 0  ...        0        0                  0            0   \n",
       "\n",
       "   Medicine  Philosophy  Physics  Political science  Psychology  Sociology  \n",
       "0         1           0        0                  0           0          0  \n",
       "1         1           0        0                  0           0          0  \n",
       "2         0           0        0                  0           0          0  \n",
       "3         0           0        0                  0           0          0  \n",
       "4         1           0        0                  0           0          0  \n",
       "\n",
       "[5 rows x 24 columns]"
      ]
     },
     "execution_count": 427,
     "metadata": {},
     "output_type": "execute_result"
    }
   ],
   "source": [
    "final.head()"
   ]
  },
  {
   "cell_type": "code",
   "execution_count": 86,
   "id": "62da42d4",
   "metadata": {
    "ExecuteTime": {
     "end_time": "2022-12-30T12:24:33.011090Z",
     "start_time": "2022-12-30T12:24:32.992049Z"
    }
   },
   "outputs": [],
   "source": [
    "grouped = final.groupby(['publication_year'])"
   ]
  },
  {
   "cell_type": "code",
   "execution_count": 137,
   "id": "09b80eae",
   "metadata": {
    "ExecuteTime": {
     "end_time": "2022-12-30T12:40:05.937488Z",
     "start_time": "2022-12-30T12:40:05.929627Z"
    }
   },
   "outputs": [],
   "source": [
    "grouped_months = final.groupby(['month_year'])"
   ]
  },
  {
   "cell_type": "code",
   "execution_count": 144,
   "id": "38b06407",
   "metadata": {
    "ExecuteTime": {
     "end_time": "2022-12-30T12:42:30.293529Z",
     "start_time": "2022-12-30T12:42:30.270950Z"
    }
   },
   "outputs": [
    {
     "data": {
      "text/plain": [
       "<pandas.core.groupby.generic.DataFrameGroupBy object at 0x15b9d1820>"
      ]
     },
     "execution_count": 144,
     "metadata": {},
     "output_type": "execute_result"
    }
   ],
   "source": [
    "grouped_months"
   ]
  },
  {
   "cell_type": "code",
   "execution_count": 152,
   "id": "d56aa71f",
   "metadata": {
    "ExecuteTime": {
     "end_time": "2022-12-30T12:44:28.507673Z",
     "start_time": "2022-12-30T12:44:28.474000Z"
    }
   },
   "outputs": [],
   "source": [
    "new_df=pd.DataFrame()\n",
    "for value in unique:\n",
    "    new_df[value]=grouped[value].sum()"
   ]
  },
  {
   "cell_type": "code",
   "execution_count": 141,
   "id": "b6bd0ef5",
   "metadata": {
    "ExecuteTime": {
     "end_time": "2022-12-30T12:41:02.184758Z",
     "start_time": "2022-12-30T12:41:02.149051Z"
    }
   },
   "outputs": [],
   "source": [
    "df_months=pd.DataFrame()\n",
    "for value in unique:\n",
    "    df_months[value]=grouped_months[value].sum()"
   ]
  },
  {
   "cell_type": "code",
   "execution_count": 156,
   "id": "886c87d4",
   "metadata": {
    "ExecuteTime": {
     "end_time": "2022-12-30T12:45:38.619827Z",
     "start_time": "2022-12-30T12:45:38.602164Z"
    }
   },
   "outputs": [],
   "source": [
    "df_months = df_months.apply(pd.to_numeric)"
   ]
  },
  {
   "cell_type": "code",
   "execution_count": 50,
   "id": "987596e3",
   "metadata": {
    "ExecuteTime": {
     "end_time": "2022-12-30T12:08:36.207597Z",
     "start_time": "2022-12-30T12:08:36.194564Z"
    }
   },
   "outputs": [
    {
     "data": {
      "text/plain": [
       "5"
      ]
     },
     "execution_count": 50,
     "metadata": {},
     "output_type": "execute_result"
    }
   ],
   "source": [
    "range(len(new_df))"
   ]
  },
  {
   "cell_type": "code",
   "execution_count": 153,
   "id": "4299ef54",
   "metadata": {
    "ExecuteTime": {
     "end_time": "2022-12-30T12:44:32.372171Z",
     "start_time": "2022-12-30T12:44:32.127440Z"
    }
   },
   "outputs": [
    {
     "data": {
      "text/plain": [
       "<matplotlib.legend.Legend at 0x15bcbbac0>"
      ]
     },
     "execution_count": 153,
     "metadata": {},
     "output_type": "execute_result"
    },
    {
     "data": {
      "image/png": "[encoded data removed]",
      "text/plain": [
       "<Figure size 842.4x595.44 with 1 Axes>"
      ]
     },
     "metadata": {},
     "output_type": "display_data"
    }
   ],
   "source": [
    "# figure size in inches\n",
    "rcParams['figure.figsize'] = 11.7,8.27\n",
    "g = sns.lineplot(data=new_df)\n",
    "plt.legend(bbox_to_anchor=(1.02, 1), loc='upper left', borderaxespad=0)\n",
    "# g.set_xticks([1,2,3,4,5]) # <--- set the ticks first\n",
    "# g.set_xticklabels([2017,2018,2019,2020,2021])\n",
    "# plt.xticks(range(len(new_df)),['2017','2018','2019','2020','2021'])\n",
    "# sns.set(rc={\"xtick.bottom\" : False, \"ytick.left\" : True})\n"
   ]
  },
  {
   "cell_type": "code",
   "execution_count": 157,
   "id": "ac3e8a7f",
   "metadata": {
    "ExecuteTime": {
     "end_time": "2022-12-30T12:45:42.010470Z",
     "start_time": "2022-12-30T12:45:41.781578Z"
    }
   },
   "outputs": [
    {
     "ename": "TypeError",
     "evalue": "Invalid object type at position 0",
     "output_type": "error",
     "traceback": [
      "\u001b[0;31m---------------------------------------------------------------------------\u001b[0m",
      "\u001b[0;31mTypeError\u001b[0m                                 Traceback (most recent call last)",
      "File \u001b[0;32mpandas/_libs/lib.pyx:2315\u001b[0m, in \u001b[0;36mpandas._libs.lib.maybe_convert_numeric\u001b[0;34m()\u001b[0m\n",
      "\u001b[0;31mTypeError\u001b[0m: Invalid object type",
      "\nDuring handling of the above exception, another exception occurred:\n",
      "\u001b[0;31mTypeError\u001b[0m                                 Traceback (most recent call last)",
      "Input \u001b[0;32mIn [157]\u001b[0m, in \u001b[0;36m<cell line: 3>\u001b[0;34m()\u001b[0m\n\u001b[1;32m      1\u001b[0m \u001b[38;5;66;03m# figure size in inches\u001b[39;00m\n\u001b[1;32m      2\u001b[0m rcParams[\u001b[38;5;124m'\u001b[39m\u001b[38;5;124mfigure.figsize\u001b[39m\u001b[38;5;124m'\u001b[39m] \u001b[38;5;241m=\u001b[39m \u001b[38;5;241m11.7\u001b[39m,\u001b[38;5;241m8.27\u001b[39m\n\u001b[0;32m----> 3\u001b[0m g \u001b[38;5;241m=\u001b[39m \u001b[43msns\u001b[49m\u001b[38;5;241;43m.\u001b[39;49m\u001b[43mlineplot\u001b[49m\u001b[43m(\u001b[49m\u001b[43mdata\u001b[49m\u001b[38;5;241;43m=\u001b[39;49m\u001b[43mdf_months\u001b[49m\u001b[43m)\u001b[49m\n",
      "File \u001b[0;32m/opt/homebrew/lib/python3.9/site-packages/seaborn/_decorators.py:46\u001b[0m, in \u001b[0;36m_deprecate_positional_args.<locals>.inner_f\u001b[0;34m(*args, **kwargs)\u001b[0m\n\u001b[1;32m     36\u001b[0m     warnings\u001b[38;5;241m.\u001b[39mwarn(\n\u001b[1;32m     37\u001b[0m         \u001b[38;5;124m\"\u001b[39m\u001b[38;5;124mPass the following variable\u001b[39m\u001b[38;5;132;01m{}\u001b[39;00m\u001b[38;5;124m as \u001b[39m\u001b[38;5;132;01m{}\u001b[39;00m\u001b[38;5;124mkeyword arg\u001b[39m\u001b[38;5;132;01m{}\u001b[39;00m\u001b[38;5;124m: \u001b[39m\u001b[38;5;132;01m{}\u001b[39;00m\u001b[38;5;124m. \u001b[39m\u001b[38;5;124m\"\u001b[39m\n\u001b[1;32m     38\u001b[0m         \u001b[38;5;124m\"\u001b[39m\u001b[38;5;124mFrom version 0.12, the only valid positional argument \u001b[39m\u001b[38;5;124m\"\u001b[39m\n\u001b[0;32m   (...)\u001b[0m\n\u001b[1;32m     43\u001b[0m         \u001b[38;5;167;01mFutureWarning\u001b[39;00m\n\u001b[1;32m     44\u001b[0m     )\n\u001b[1;32m     45\u001b[0m kwargs\u001b[38;5;241m.\u001b[39mupdate({k: arg \u001b[38;5;28;01mfor\u001b[39;00m k, arg \u001b[38;5;129;01min\u001b[39;00m \u001b[38;5;28mzip\u001b[39m(sig\u001b[38;5;241m.\u001b[39mparameters, args)})\n\u001b[0;32m---> 46\u001b[0m \u001b[38;5;28;01mreturn\u001b[39;00m \u001b[43mf\u001b[49m\u001b[43m(\u001b[49m\u001b[38;5;241;43m*\u001b[39;49m\u001b[38;5;241;43m*\u001b[39;49m\u001b[43mkwargs\u001b[49m\u001b[43m)\u001b[49m\n",
      "File \u001b[0;32m/opt/homebrew/lib/python3.9/site-packages/seaborn/relational.py:710\u001b[0m, in \u001b[0;36mlineplot\u001b[0;34m(x, y, hue, size, style, data, palette, hue_order, hue_norm, sizes, size_order, size_norm, dashes, markers, style_order, units, estimator, ci, n_boot, seed, sort, err_style, err_kws, legend, ax, **kwargs)\u001b[0m\n\u001b[1;32m    706\u001b[0m     \u001b[38;5;28;01mreturn\u001b[39;00m ax\n\u001b[1;32m    708\u001b[0m p\u001b[38;5;241m.\u001b[39m_attach(ax)\n\u001b[0;32m--> 710\u001b[0m \u001b[43mp\u001b[49m\u001b[38;5;241;43m.\u001b[39;49m\u001b[43mplot\u001b[49m\u001b[43m(\u001b[49m\u001b[43max\u001b[49m\u001b[43m,\u001b[49m\u001b[43m \u001b[49m\u001b[43mkwargs\u001b[49m\u001b[43m)\u001b[49m\n\u001b[1;32m    711\u001b[0m \u001b[38;5;28;01mreturn\u001b[39;00m ax\n",
      "File \u001b[0;32m/opt/homebrew/lib/python3.9/site-packages/seaborn/relational.py:471\u001b[0m, in \u001b[0;36m_LinePlotter.plot\u001b[0;34m(self, ax, kws)\u001b[0m\n\u001b[1;32m    469\u001b[0m \u001b[38;5;66;03m# Loop over the semantic subsets and add to the plot\u001b[39;00m\n\u001b[1;32m    470\u001b[0m grouping_vars \u001b[38;5;241m=\u001b[39m \u001b[38;5;124m\"\u001b[39m\u001b[38;5;124mhue\u001b[39m\u001b[38;5;124m\"\u001b[39m, \u001b[38;5;124m\"\u001b[39m\u001b[38;5;124msize\u001b[39m\u001b[38;5;124m\"\u001b[39m, \u001b[38;5;124m\"\u001b[39m\u001b[38;5;124mstyle\u001b[39m\u001b[38;5;124m\"\u001b[39m\n\u001b[0;32m--> 471\u001b[0m \u001b[38;5;28;01mfor\u001b[39;00m sub_vars, sub_data \u001b[38;5;129;01min\u001b[39;00m \u001b[38;5;28mself\u001b[39m\u001b[38;5;241m.\u001b[39miter_data(grouping_vars, from_comp_data\u001b[38;5;241m=\u001b[39m\u001b[38;5;28;01mTrue\u001b[39;00m):\n\u001b[1;32m    473\u001b[0m     \u001b[38;5;28;01mif\u001b[39;00m \u001b[38;5;28mself\u001b[39m\u001b[38;5;241m.\u001b[39msort:\n\u001b[1;32m    474\u001b[0m         sort_vars \u001b[38;5;241m=\u001b[39m [\u001b[38;5;124m\"\u001b[39m\u001b[38;5;124munits\u001b[39m\u001b[38;5;124m\"\u001b[39m, \u001b[38;5;124m\"\u001b[39m\u001b[38;5;124mx\u001b[39m\u001b[38;5;124m\"\u001b[39m, \u001b[38;5;124m\"\u001b[39m\u001b[38;5;124my\u001b[39m\u001b[38;5;124m\"\u001b[39m]\n",
      "File \u001b[0;32m/opt/homebrew/lib/python3.9/site-packages/seaborn/_core.py:983\u001b[0m, in \u001b[0;36mVectorPlotter.iter_data\u001b[0;34m(self, grouping_vars, reverse, from_comp_data)\u001b[0m\n\u001b[1;32m    978\u001b[0m grouping_vars \u001b[38;5;241m=\u001b[39m [\n\u001b[1;32m    979\u001b[0m     var \u001b[38;5;28;01mfor\u001b[39;00m var \u001b[38;5;129;01min\u001b[39;00m grouping_vars \u001b[38;5;28;01mif\u001b[39;00m var \u001b[38;5;129;01min\u001b[39;00m \u001b[38;5;28mself\u001b[39m\u001b[38;5;241m.\u001b[39mvariables\n\u001b[1;32m    980\u001b[0m ]\n\u001b[1;32m    982\u001b[0m \u001b[38;5;28;01mif\u001b[39;00m from_comp_data:\n\u001b[0;32m--> 983\u001b[0m     data \u001b[38;5;241m=\u001b[39m \u001b[38;5;28;43mself\u001b[39;49m\u001b[38;5;241;43m.\u001b[39;49m\u001b[43mcomp_data\u001b[49m\n\u001b[1;32m    984\u001b[0m \u001b[38;5;28;01melse\u001b[39;00m:\n\u001b[1;32m    985\u001b[0m     data \u001b[38;5;241m=\u001b[39m \u001b[38;5;28mself\u001b[39m\u001b[38;5;241m.\u001b[39mplot_data\n",
      "File \u001b[0;32m/opt/homebrew/lib/python3.9/site-packages/seaborn/_core.py:1057\u001b[0m, in \u001b[0;36mVectorPlotter.comp_data\u001b[0;34m(self)\u001b[0m\n\u001b[1;32m   1055\u001b[0m     orig \u001b[38;5;241m=\u001b[39m \u001b[38;5;28mself\u001b[39m\u001b[38;5;241m.\u001b[39mplot_data[var]\u001b[38;5;241m.\u001b[39mdropna()\n\u001b[1;32m   1056\u001b[0m comp_col \u001b[38;5;241m=\u001b[39m pd\u001b[38;5;241m.\u001b[39mSeries(index\u001b[38;5;241m=\u001b[39morig\u001b[38;5;241m.\u001b[39mindex, dtype\u001b[38;5;241m=\u001b[39m\u001b[38;5;28mfloat\u001b[39m, name\u001b[38;5;241m=\u001b[39mvar)\n\u001b[0;32m-> 1057\u001b[0m comp_col\u001b[38;5;241m.\u001b[39mloc[orig\u001b[38;5;241m.\u001b[39mindex] \u001b[38;5;241m=\u001b[39m \u001b[43mpd\u001b[49m\u001b[38;5;241;43m.\u001b[39;49m\u001b[43mto_numeric\u001b[49m\u001b[43m(\u001b[49m\u001b[43maxis\u001b[49m\u001b[38;5;241;43m.\u001b[39;49m\u001b[43mconvert_units\u001b[49m\u001b[43m(\u001b[49m\u001b[43morig\u001b[49m\u001b[43m)\u001b[49m\u001b[43m)\u001b[49m\n\u001b[1;32m   1059\u001b[0m \u001b[38;5;28;01mif\u001b[39;00m axis\u001b[38;5;241m.\u001b[39mget_scale() \u001b[38;5;241m==\u001b[39m \u001b[38;5;124m\"\u001b[39m\u001b[38;5;124mlog\u001b[39m\u001b[38;5;124m\"\u001b[39m:\n\u001b[1;32m   1060\u001b[0m     comp_col \u001b[38;5;241m=\u001b[39m np\u001b[38;5;241m.\u001b[39mlog10(comp_col)\n",
      "File \u001b[0;32m/opt/homebrew/lib/python3.9/site-packages/pandas/core/tools/numeric.py:184\u001b[0m, in \u001b[0;36mto_numeric\u001b[0;34m(arg, errors, downcast)\u001b[0m\n\u001b[1;32m    182\u001b[0m coerce_numeric \u001b[38;5;241m=\u001b[39m errors \u001b[38;5;129;01mnot\u001b[39;00m \u001b[38;5;129;01min\u001b[39;00m (\u001b[38;5;124m\"\u001b[39m\u001b[38;5;124mignore\u001b[39m\u001b[38;5;124m\"\u001b[39m, \u001b[38;5;124m\"\u001b[39m\u001b[38;5;124mraise\u001b[39m\u001b[38;5;124m\"\u001b[39m)\n\u001b[1;32m    183\u001b[0m \u001b[38;5;28;01mtry\u001b[39;00m:\n\u001b[0;32m--> 184\u001b[0m     values, _ \u001b[38;5;241m=\u001b[39m \u001b[43mlib\u001b[49m\u001b[38;5;241;43m.\u001b[39;49m\u001b[43mmaybe_convert_numeric\u001b[49m\u001b[43m(\u001b[49m\n\u001b[1;32m    185\u001b[0m \u001b[43m        \u001b[49m\u001b[43mvalues\u001b[49m\u001b[43m,\u001b[49m\u001b[43m \u001b[49m\u001b[38;5;28;43mset\u001b[39;49m\u001b[43m(\u001b[49m\u001b[43m)\u001b[49m\u001b[43m,\u001b[49m\u001b[43m \u001b[49m\u001b[43mcoerce_numeric\u001b[49m\u001b[38;5;241;43m=\u001b[39;49m\u001b[43mcoerce_numeric\u001b[49m\n\u001b[1;32m    186\u001b[0m \u001b[43m    \u001b[49m\u001b[43m)\u001b[49m\n\u001b[1;32m    187\u001b[0m \u001b[38;5;28;01mexcept\u001b[39;00m (\u001b[38;5;167;01mValueError\u001b[39;00m, \u001b[38;5;167;01mTypeError\u001b[39;00m):\n\u001b[1;32m    188\u001b[0m     \u001b[38;5;28;01mif\u001b[39;00m errors \u001b[38;5;241m==\u001b[39m \u001b[38;5;124m\"\u001b[39m\u001b[38;5;124mraise\u001b[39m\u001b[38;5;124m\"\u001b[39m:\n",
      "File \u001b[0;32mpandas/_libs/lib.pyx:2357\u001b[0m, in \u001b[0;36mpandas._libs.lib.maybe_convert_numeric\u001b[0;34m()\u001b[0m\n",
      "\u001b[0;31mTypeError\u001b[0m: Invalid object type at position 0"
     ]
    },
    {
     "data": {
      "image/png": "[encoded data removed]",
      "text/plain": [
       "<Figure size 842.4x595.44 with 1 Axes>"
      ]
     },
     "metadata": {},
     "output_type": "display_data"
    }
   ],
   "source": [
    "# figure size in inches\n",
    "rcParams['figure.figsize'] = 11.7,8.27\n",
    "g = sns.lineplot(data=df_months)\n",
    "# plt.legend(bbox_to_anchor=(1.02, 1), loc='upper left', borderaxespad=0)\n",
    "# g.set_xticks([1,2,3,4,5]) # <--- set the ticks first\n",
    "# g.set_xticklabels([2017,2018,2019,2020,2021])\n",
    "# plt.xticks(range(len(new_df)),['2017','2018','2019','2020','2021'])\n",
    "# sns.set(rc={\"xtick.bottom\" : False, \"ytick.left\" : True})\n"
   ]
  },
  {
   "cell_type": "code",
   "execution_count": 37,
   "id": "aad89d30",
   "metadata": {
    "ExecuteTime": {
     "end_time": "2022-12-30T12:00:28.123448Z",
     "start_time": "2022-12-30T12:00:28.119253Z"
    }
   },
   "outputs": [],
   "source": [
    "social=['Economics', 'Sociology', 'Political science', 'Business', 'Geography']\n",
    "earth_science=['Medicine','Biology', 'Environmental science', 'Geology', 'Psychology', 'Materials science']\n",
    "engineering_maths=['Engineering', 'Computer science', 'Chemistry', 'Physics', 'Mathematics']\n",
    "humanities=['Philosophy', 'History', 'Art']"
   ]
  },
  {
   "cell_type": "code",
   "execution_count": 38,
   "id": "cf6c6e91",
   "metadata": {
    "ExecuteTime": {
     "end_time": "2022-12-30T12:00:28.654310Z",
     "start_time": "2022-12-30T12:00:28.644742Z"
    }
   },
   "outputs": [],
   "source": [
    "new_df_social=new_df[social]\n",
    "new_df_earth=new_df[earth_science]\n",
    "new_df_engineering=new_df[engineering_maths]\n",
    "new_df_humanities=new_df[humanities]"
   ]
  },
  {
   "cell_type": "code",
   "execution_count": 39,
   "id": "f1355f09",
   "metadata": {
    "ExecuteTime": {
     "end_time": "2022-12-30T12:00:29.281526Z",
     "start_time": "2022-12-30T12:00:29.122268Z"
    }
   },
   "outputs": [
    {
     "data": {
      "text/plain": [
       "<matplotlib.legend.Legend at 0x4472059a0>"
      ]
     },
     "execution_count": 39,
     "metadata": {},
     "output_type": "execute_result"
    },
    {
     "data": {
      "image/png": "[encoded data removed]",
      "text/plain": [
       "<Figure size 842.4x595.44 with 1 Axes>"
      ]
     },
     "metadata": {
      "needs_background": "light"
     },
     "output_type": "display_data"
    }
   ],
   "source": [
    "\n",
    "# figure size in inches\n",
    "rcParams['figure.figsize'] = 11.7,8.27\n",
    "sns.lineplot(data=new_df_social)\n",
    "plt.legend(bbox_to_anchor=(1.02, 1), loc='upper left', borderaxespad=0)\n"
   ]
  },
  {
   "cell_type": "code",
   "execution_count": 40,
   "id": "cd07ed6b",
   "metadata": {
    "ExecuteTime": {
     "end_time": "2022-12-30T12:00:29.933955Z",
     "start_time": "2022-12-30T12:00:29.767804Z"
    }
   },
   "outputs": [
    {
     "data": {
      "text/plain": [
       "<matplotlib.legend.Legend at 0x44e01aa90>"
      ]
     },
     "execution_count": 40,
     "metadata": {},
     "output_type": "execute_result"
    },
    {
     "data": {
      "image/png": "[encoded data removed]",
      "text/plain": [
       "<Figure size 842.4x595.44 with 1 Axes>"
      ]
     },
     "metadata": {
      "needs_background": "light"
     },
     "output_type": "display_data"
    }
   ],
   "source": [
    "# figure size in inches\n",
    "rcParams['figure.figsize'] = 11.7,8.27\n",
    "sns.lineplot(data=new_df_earth)\n",
    "plt.legend(bbox_to_anchor=(1.02, 1), loc='upper left', borderaxespad=0)"
   ]
  },
  {
   "cell_type": "code",
   "execution_count": 41,
   "id": "0670155d",
   "metadata": {
    "ExecuteTime": {
     "end_time": "2022-12-30T12:00:30.215588Z",
     "start_time": "2022-12-30T12:00:30.104047Z"
    }
   },
   "outputs": [
    {
     "data": {
      "text/plain": [
       "<matplotlib.legend.Legend at 0x451193d90>"
      ]
     },
     "execution_count": 41,
     "metadata": {},
     "output_type": "execute_result"
    },
    {
     "data": {
      "image/png": "[encoded data removed]",
      "text/plain": [
       "<Figure size 842.4x595.44 with 1 Axes>"
      ]
     },
     "metadata": {
      "needs_background": "light"
     },
     "output_type": "display_data"
    }
   ],
   "source": [
    "\n",
    "# figure size in inches\n",
    "rcParams['figure.figsize'] = 11.7,8.27\n",
    "sns.lineplot(data=new_df_engineering)\n",
    "plt.legend(bbox_to_anchor=(1.02, 1), loc='upper left', borderaxespad=0)\n"
   ]
  },
  {
   "cell_type": "code",
   "execution_count": 42,
   "id": "787d01e2",
   "metadata": {
    "ExecuteTime": {
     "end_time": "2022-12-30T12:00:30.792885Z",
     "start_time": "2022-12-30T12:00:30.647983Z"
    }
   },
   "outputs": [
    {
     "data": {
      "text/plain": [
       "<matplotlib.legend.Legend at 0x455a42b50>"
      ]
     },
     "execution_count": 42,
     "metadata": {},
     "output_type": "execute_result"
    },
    {
     "data": {
      "image/png": "[encoded data removed]",
      "text/plain": [
       "<Figure size 842.4x595.44 with 1 Axes>"
      ]
     },
     "metadata": {
      "needs_background": "light"
     },
     "output_type": "display_data"
    }
   ],
   "source": [
    "# figure size in inches\n",
    "rcParams['figure.figsize'] = 11.7,8.27\n",
    "sns.lineplot(data=new_df_humanities)\n",
    "plt.legend(bbox_to_anchor=(1.02, 1), loc='upper left', borderaxespad=0)"
   ]
  },
  {
   "cell_type": "markdown",
   "id": "1527d6de",
   "metadata": {},
   "source": [
    "# Exercise 2\n",
    "\n",
    "1. Get all the publications that have at least 2 authors in them\n",
    "2.  Notions of centrality: \n",
    " -  Connectedness 1: How many publications with grenoble authors they have\n",
    " - Connectedness 2: With how many different grenoble authors they have published\n",
    " -  A factor of the two\n",
    " -  A factor of the first two with the average impact factor of their publications with Grenoble authors\n",
    " -  A recursive notion: number of connections with connected authors\n",
    "3. Download the grenoble authors and check their cited scores. See if there is a correlation with connectedness\n",
    " "
   ]
  },
  {
   "cell_type": "code",
   "execution_count": 24,
   "id": "3c958897",
   "metadata": {
    "ExecuteTime": {
     "end_time": "2022-12-31T08:57:41.011903Z",
     "start_time": "2022-12-31T08:57:40.893260Z"
    }
   },
   "outputs": [],
   "source": [
    "df2=df[['id', 'authorships',]]"
   ]
  },
  {
   "cell_type": "code",
   "execution_count": 25,
   "id": "712af8ed",
   "metadata": {
    "ExecuteTime": {
     "end_time": "2022-12-31T08:57:41.764010Z",
     "start_time": "2022-12-31T08:57:41.714618Z"
    }
   },
   "outputs": [
    {
     "name": "stdout",
     "output_type": "stream",
     "text": [
      "<class 'pandas.core.frame.DataFrame'>\n",
      "RangeIndex: 49579 entries, 0 to 49578\n",
      "Data columns (total 2 columns):\n",
      " #   Column       Non-Null Count  Dtype \n",
      "---  ------       --------------  ----- \n",
      " 0   id           49579 non-null  object\n",
      " 1   authorships  49579 non-null  object\n",
      "dtypes: object(2)\n",
      "memory usage: 774.8+ KB\n"
     ]
    }
   ],
   "source": [
    "df2.info()"
   ]
  },
  {
   "cell_type": "markdown",
   "id": "ec6821c0",
   "metadata": {
    "ExecuteTime": {
     "end_time": "2022-12-30T19:33:50.236186Z",
     "start_time": "2022-12-30T19:33:50.228765Z"
    }
   },
   "source": [
    "## Connectedness 1"
   ]
  },
  {
   "cell_type": "code",
   "execution_count": 26,
   "id": "bf62bffa",
   "metadata": {
    "ExecuteTime": {
     "end_time": "2022-12-31T08:57:42.359501Z",
     "start_time": "2022-12-31T08:57:42.353000Z"
    }
   },
   "outputs": [],
   "source": [
    "def num_grenoble_authors(row):\n",
    "    return len([author for author in row['authorships'] if (author['raw_affiliation_string'] is not None) and (\"grenoble\" in author['raw_affiliation_string'].lower())])"
   ]
  },
  {
   "cell_type": "code",
   "execution_count": 27,
   "id": "e6ea392e",
   "metadata": {
    "ExecuteTime": {
     "end_time": "2022-12-31T08:57:43.853063Z",
     "start_time": "2022-12-31T08:57:42.796066Z"
    }
   },
   "outputs": [
    {
     "name": "stderr",
     "output_type": "stream",
     "text": [
      "/var/folders/kb/lywh42216h13zy46p5f_0fg40000gn/T/ipykernel_3648/4223153541.py:1: SettingWithCopyWarning: \n",
      "A value is trying to be set on a copy of a slice from a DataFrame.\n",
      "Try using .loc[row_indexer,col_indexer] = value instead\n",
      "\n",
      "See the caveats in the documentation: https://pandas.pydata.org/pandas-docs/stable/user_guide/indexing.html#returning-a-view-versus-a-copy\n",
      "  df2['num_grenoble_authors'] = df2.apply(num_grenoble_authors, axis=1)\n"
     ]
    }
   ],
   "source": [
    "df2['num_grenoble_authors'] = df2.apply(num_grenoble_authors, axis=1)"
   ]
  },
  {
   "cell_type": "code",
   "execution_count": 28,
   "id": "a8681da4",
   "metadata": {
    "ExecuteTime": {
     "end_time": "2022-12-31T08:57:45.273998Z",
     "start_time": "2022-12-31T08:57:43.855440Z"
    }
   },
   "outputs": [
    {
     "name": "stderr",
     "output_type": "stream",
     "text": [
      "/var/folders/kb/lywh42216h13zy46p5f_0fg40000gn/T/ipykernel_3648/626185418.py:1: SettingWithCopyWarning: \n",
      "A value is trying to be set on a copy of a slice from a DataFrame.\n",
      "Try using .loc[row_indexer,col_indexer] = value instead\n",
      "\n",
      "See the caveats in the documentation: https://pandas.pydata.org/pandas-docs/stable/user_guide/indexing.html#returning-a-view-versus-a-copy\n",
      "  df2['is_connected'] = df2.apply(lambda row: 1 if num_grenoble_authors(row)>1 else 0, axis=1)\n"
     ]
    }
   ],
   "source": [
    "df2['is_connected'] = df2.apply(lambda row: 1 if num_grenoble_authors(row)>1 else 0, axis=1)"
   ]
  },
  {
   "cell_type": "code",
   "execution_count": 29,
   "id": "c7f3131a",
   "metadata": {
    "ExecuteTime": {
     "end_time": "2022-12-31T08:57:56.179628Z",
     "start_time": "2022-12-31T08:57:54.968476Z"
    }
   },
   "outputs": [
    {
     "name": "stderr",
     "output_type": "stream",
     "text": [
      "/var/folders/kb/lywh42216h13zy46p5f_0fg40000gn/T/ipykernel_3648/316629148.py:5: SettingWithCopyWarning: \n",
      "A value is trying to be set on a copy of a slice from a DataFrame.\n",
      "Try using .loc[row_indexer,col_indexer] = value instead\n",
      "\n",
      "See the caveats in the documentation: https://pandas.pydata.org/pandas-docs/stable/user_guide/indexing.html#returning-a-view-versus-a-copy\n",
      "  df2['authors'] = df2.apply(lambda row: extract_author_ids(row), axis=1)\n"
     ]
    }
   ],
   "source": [
    "def extract_author_ids(row):\n",
    "    authors = [author['author']['id'] for author in row['authorships']]\n",
    "    return authors\n",
    "\n",
    "df2['authors'] = df2.apply(lambda row: extract_author_ids(row), axis=1) "
   ]
  },
  {
   "cell_type": "code",
   "execution_count": 30,
   "id": "f0ec642f",
   "metadata": {
    "ExecuteTime": {
     "end_time": "2022-12-31T08:58:09.886289Z",
     "start_time": "2022-12-31T08:58:09.134899Z"
    }
   },
   "outputs": [],
   "source": [
    "flat_list = [item for items in df2.authorships.values for item in items if (item['raw_affiliation_string'] is not None) and ('grenoble' in item['raw_affiliation_string'].lower())]\n"
   ]
  },
  {
   "cell_type": "code",
   "execution_count": 57,
   "id": "6a005d12",
   "metadata": {
    "ExecuteTime": {
     "end_time": "2022-12-31T09:55:05.754067Z",
     "start_time": "2022-12-31T09:55:05.069118Z"
    }
   },
   "outputs": [],
   "source": [
    "authors_sim = [{'author_id': item['author']['id'],\n",
    "  'name':item['author']['display_name']}\n",
    " for item in flat_list]"
   ]
  },
  {
   "cell_type": "code",
   "execution_count": 72,
   "id": "65b55f31",
   "metadata": {
    "ExecuteTime": {
     "end_time": "2022-12-31T09:59:13.882286Z",
     "start_time": "2022-12-31T09:59:13.336110Z"
    }
   },
   "outputs": [],
   "source": [
    "grenoble_authors = pd.DataFrame.from_dict(authors_sim)"
   ]
  },
  {
   "cell_type": "code",
   "execution_count": 73,
   "id": "b67e1bf5",
   "metadata": {
    "ExecuteTime": {
     "end_time": "2022-12-31T09:59:13.929510Z",
     "start_time": "2022-12-31T09:59:13.888255Z"
    }
   },
   "outputs": [
    {
     "name": "stdout",
     "output_type": "stream",
     "text": [
      "<class 'pandas.core.frame.DataFrame'>\n",
      "RangeIndex: 115592 entries, 0 to 115591\n",
      "Data columns (total 2 columns):\n",
      " #   Column     Non-Null Count   Dtype \n",
      "---  ------     --------------   ----- \n",
      " 0   author_id  115592 non-null  object\n",
      " 1   name       115592 non-null  object\n",
      "dtypes: object(2)\n",
      "memory usage: 1.8+ MB\n"
     ]
    }
   ],
   "source": [
    "grenoble_authors.info()"
   ]
  },
  {
   "cell_type": "code",
   "execution_count": 74,
   "id": "abb3b2ed",
   "metadata": {
    "ExecuteTime": {
     "end_time": "2022-12-31T09:59:13.994778Z",
     "start_time": "2022-12-31T09:59:13.930374Z"
    }
   },
   "outputs": [],
   "source": [
    "grenoble_authors = grenoble_authors.drop_duplicates(ignore_index=True)"
   ]
  },
  {
   "cell_type": "code",
   "execution_count": 75,
   "id": "0b4782d8",
   "metadata": {
    "ExecuteTime": {
     "end_time": "2022-12-31T09:59:14.175174Z",
     "start_time": "2022-12-31T09:59:14.147622Z"
    },
    "scrolled": false
   },
   "outputs": [
    {
     "name": "stdout",
     "output_type": "stream",
     "text": [
      "<class 'pandas.core.frame.DataFrame'>\n",
      "RangeIndex: 36958 entries, 0 to 36957\n",
      "Data columns (total 2 columns):\n",
      " #   Column     Non-Null Count  Dtype \n",
      "---  ------     --------------  ----- \n",
      " 0   author_id  36958 non-null  object\n",
      " 1   name       36958 non-null  object\n",
      "dtypes: object(2)\n",
      "memory usage: 577.6+ KB\n"
     ]
    }
   ],
   "source": [
    "grenoble_authors.info()"
   ]
  },
  {
   "cell_type": "code",
   "execution_count": 76,
   "id": "627be68d",
   "metadata": {
    "ExecuteTime": {
     "end_time": "2022-12-31T09:59:16.027622Z",
     "start_time": "2022-12-31T09:59:15.936627Z"
    }
   },
   "outputs": [],
   "source": [
    "work_author_pairs = df2[df2['is_connected']==1][['id', 'authors']]"
   ]
  },
  {
   "cell_type": "code",
   "execution_count": 77,
   "id": "18bfa434",
   "metadata": {
    "ExecuteTime": {
     "end_time": "2022-12-31T09:59:16.229790Z",
     "start_time": "2022-12-31T09:59:16.133747Z"
    }
   },
   "outputs": [],
   "source": [
    "work_author_pairs = work_author_pairs.explode('authors')"
   ]
  },
  {
   "cell_type": "code",
   "execution_count": 78,
   "id": "dd2f08f3",
   "metadata": {
    "ExecuteTime": {
     "end_time": "2022-12-31T09:59:16.357069Z",
     "start_time": "2022-12-31T09:59:16.313667Z"
    }
   },
   "outputs": [],
   "source": [
    "grenoble_work_author_pairs = work_author_pairs[work_author_pairs['authors'].isin(grenoble_authors['author_id'])]"
   ]
  },
  {
   "cell_type": "code",
   "execution_count": 79,
   "id": "c3a2926b",
   "metadata": {
    "ExecuteTime": {
     "end_time": "2022-12-31T09:59:20.428739Z",
     "start_time": "2022-12-31T09:59:20.337673Z"
    },
    "scrolled": true
   },
   "outputs": [
    {
     "data": {
      "text/html": [
       "<div>\n",
       "<style scoped>\n",
       "    .dataframe tbody tr th:only-of-type {\n",
       "        vertical-align: middle;\n",
       "    }\n",
       "\n",
       "    .dataframe tbody tr th {\n",
       "        vertical-align: top;\n",
       "    }\n",
       "\n",
       "    .dataframe thead th {\n",
       "        text-align: right;\n",
       "    }\n",
       "</style>\n",
       "<table border=\"1\" class=\"dataframe\">\n",
       "  <thead>\n",
       "    <tr style=\"text-align: right;\">\n",
       "      <th></th>\n",
       "      <th>authors</th>\n",
       "      <th>id</th>\n",
       "    </tr>\n",
       "  </thead>\n",
       "  <tbody>\n",
       "    <tr>\n",
       "      <th>0</th>\n",
       "      <td>https://openalex.org/A1002805135</td>\n",
       "      <td>2</td>\n",
       "    </tr>\n",
       "    <tr>\n",
       "      <th>1</th>\n",
       "      <td>https://openalex.org/A1007915466</td>\n",
       "      <td>6</td>\n",
       "    </tr>\n",
       "    <tr>\n",
       "      <th>2</th>\n",
       "      <td>https://openalex.org/A100908830</td>\n",
       "      <td>1</td>\n",
       "    </tr>\n",
       "    <tr>\n",
       "      <th>3</th>\n",
       "      <td>https://openalex.org/A1009761877</td>\n",
       "      <td>4</td>\n",
       "    </tr>\n",
       "    <tr>\n",
       "      <th>4</th>\n",
       "      <td>https://openalex.org/A1015310080</td>\n",
       "      <td>1</td>\n",
       "    </tr>\n",
       "    <tr>\n",
       "      <th>...</th>\n",
       "      <td>...</td>\n",
       "      <td>...</td>\n",
       "    </tr>\n",
       "    <tr>\n",
       "      <th>28519</th>\n",
       "      <td>https://openalex.org/A974871389</td>\n",
       "      <td>17</td>\n",
       "    </tr>\n",
       "    <tr>\n",
       "      <th>28520</th>\n",
       "      <td>https://openalex.org/A975039927</td>\n",
       "      <td>1</td>\n",
       "    </tr>\n",
       "    <tr>\n",
       "      <th>28521</th>\n",
       "      <td>https://openalex.org/A97906723</td>\n",
       "      <td>6</td>\n",
       "    </tr>\n",
       "    <tr>\n",
       "      <th>28522</th>\n",
       "      <td>https://openalex.org/A985776687</td>\n",
       "      <td>4</td>\n",
       "    </tr>\n",
       "    <tr>\n",
       "      <th>28523</th>\n",
       "      <td>https://openalex.org/A992533987</td>\n",
       "      <td>3</td>\n",
       "    </tr>\n",
       "  </tbody>\n",
       "</table>\n",
       "<p>28524 rows × 2 columns</p>\n",
       "</div>"
      ],
      "text/plain": [
       "                                authors  id\n",
       "0      https://openalex.org/A1002805135   2\n",
       "1      https://openalex.org/A1007915466   6\n",
       "2       https://openalex.org/A100908830   1\n",
       "3      https://openalex.org/A1009761877   4\n",
       "4      https://openalex.org/A1015310080   1\n",
       "...                                 ...  ..\n",
       "28519   https://openalex.org/A974871389  17\n",
       "28520   https://openalex.org/A975039927   1\n",
       "28521    https://openalex.org/A97906723   6\n",
       "28522   https://openalex.org/A985776687   4\n",
       "28523   https://openalex.org/A992533987   3\n",
       "\n",
       "[28524 rows x 2 columns]"
      ]
     },
     "execution_count": 79,
     "metadata": {},
     "output_type": "execute_result"
    }
   ],
   "source": [
    "count_works = grenoble_work_author_pairs.groupby('authors').count().reset_index()\n",
    "count_works"
   ]
  },
  {
   "cell_type": "code",
   "execution_count": 66,
   "id": "0e028b47",
   "metadata": {
    "ExecuteTime": {
     "end_time": "2022-12-31T09:55:56.301341Z",
     "start_time": "2022-12-31T09:55:56.293469Z"
    }
   },
   "outputs": [],
   "source": [
    "def get_connectedness1(row):\n",
    "    author_id = row['author_id']\n",
    "    if not count_works['id'][count_works['authors']==author_id].empty:\n",
    "        count = count_works['id'][count_works['authors']==author_id].values[0]\n",
    "        return count\n",
    "    else:\n",
    "        return 0"
   ]
  },
  {
   "cell_type": "code",
   "execution_count": 80,
   "id": "c4158549",
   "metadata": {
    "ExecuteTime": {
     "end_time": "2022-12-31T10:00:57.987922Z",
     "start_time": "2022-12-31T09:59:23.092393Z"
    }
   },
   "outputs": [],
   "source": [
    "grenoble_authors['connectedness_1']=grenoble_authors.apply(get_connectedness1, axis=1)"
   ]
  },
  {
   "cell_type": "code",
   "execution_count": 81,
   "id": "a1cdfc99",
   "metadata": {
    "ExecuteTime": {
     "end_time": "2022-12-31T10:00:58.101051Z",
     "start_time": "2022-12-31T10:00:57.990073Z"
    },
    "scrolled": true
   },
   "outputs": [
    {
     "data": {
      "text/html": [
       "<div>\n",
       "<style scoped>\n",
       "    .dataframe tbody tr th:only-of-type {\n",
       "        vertical-align: middle;\n",
       "    }\n",
       "\n",
       "    .dataframe tbody tr th {\n",
       "        vertical-align: top;\n",
       "    }\n",
       "\n",
       "    .dataframe thead th {\n",
       "        text-align: right;\n",
       "    }\n",
       "</style>\n",
       "<table border=\"1\" class=\"dataframe\">\n",
       "  <thead>\n",
       "    <tr style=\"text-align: right;\">\n",
       "      <th></th>\n",
       "      <th>author_id</th>\n",
       "      <th>name</th>\n",
       "      <th>connectedness_1</th>\n",
       "    </tr>\n",
       "  </thead>\n",
       "  <tbody>\n",
       "    <tr>\n",
       "      <th>8</th>\n",
       "      <td>https://openalex.org/A2596381244</td>\n",
       "      <td>Jean-Louis Pépin</td>\n",
       "      <td>206</td>\n",
       "    </tr>\n",
       "    <tr>\n",
       "      <th>13161</th>\n",
       "      <td>https://openalex.org/A4227283002</td>\n",
       "      <td>Jean-Louis Pépin</td>\n",
       "      <td>1</td>\n",
       "    </tr>\n",
       "    <tr>\n",
       "      <th>19358</th>\n",
       "      <td>https://openalex.org/A4202217154</td>\n",
       "      <td>Jean-Louis Pépin</td>\n",
       "      <td>1</td>\n",
       "    </tr>\n",
       "    <tr>\n",
       "      <th>32826</th>\n",
       "      <td>https://openalex.org/A4260292885</td>\n",
       "      <td>Jean-Louis Pépin</td>\n",
       "      <td>1</td>\n",
       "    </tr>\n",
       "    <tr>\n",
       "      <th>35347</th>\n",
       "      <td>https://openalex.org/A4261509675</td>\n",
       "      <td>Jean-Louis Pépin</td>\n",
       "      <td>1</td>\n",
       "    </tr>\n",
       "  </tbody>\n",
       "</table>\n",
       "</div>"
      ],
      "text/plain": [
       "                              author_id              name  connectedness_1\n",
       "8      https://openalex.org/A2596381244  Jean-Louis Pépin              206\n",
       "13161  https://openalex.org/A4227283002  Jean-Louis Pépin                1\n",
       "19358  https://openalex.org/A4202217154  Jean-Louis Pépin                1\n",
       "32826  https://openalex.org/A4260292885  Jean-Louis Pépin                1\n",
       "35347  https://openalex.org/A4261509675  Jean-Louis Pépin                1"
      ]
     },
     "execution_count": 81,
     "metadata": {},
     "output_type": "execute_result"
    }
   ],
   "source": [
    "grenoble_authors[grenoble_authors.name==\"Jean-Louis Pépin\"]"
   ]
  },
  {
   "cell_type": "markdown",
   "id": "d7bbdcdf",
   "metadata": {},
   "source": [
    "## Connectedness 2"
   ]
  },
  {
   "cell_type": "code",
   "execution_count": 82,
   "id": "8240a0e1",
   "metadata": {
    "ExecuteTime": {
     "end_time": "2022-12-31T10:02:03.687654Z",
     "start_time": "2022-12-31T10:02:03.682484Z"
    }
   },
   "outputs": [],
   "source": [
    "def get_connectedness2(row):\n",
    "    author_id = row['author_id']\n",
    "    works = grenoble_work_author_pairs['id'][grenoble_work_author_pairs['authors']==author_id]\n",
    "    num_colabs = len(np.unique((grenoble_work_author_pairs['authors'][(grenoble_work_author_pairs['authors']!=author_id) & grenoble_work_author_pairs['id'].isin(list(works))]).values))\n",
    "    return num_colabs"
   ]
  },
  {
   "cell_type": "code",
   "execution_count": 83,
   "id": "466c59c8",
   "metadata": {
    "ExecuteTime": {
     "end_time": "2022-12-31T10:14:00.391176Z",
     "start_time": "2022-12-31T10:02:05.413556Z"
    }
   },
   "outputs": [],
   "source": [
    "grenoble_authors['connectedness_2']=grenoble_authors.apply(get_connectedness2, axis=1)\n",
    "#takes 30 minutes. save in csv at this point"
   ]
  },
  {
   "cell_type": "code",
   "execution_count": 84,
   "id": "0d01a87f",
   "metadata": {
    "ExecuteTime": {
     "end_time": "2022-12-31T10:14:00.467152Z",
     "start_time": "2022-12-31T10:14:00.393440Z"
    }
   },
   "outputs": [],
   "source": [
    "grenoble_authors.to_csv('data/grenoble_authors.csv', index=False)"
   ]
  },
  {
   "cell_type": "code",
   "execution_count": 85,
   "id": "292ec3e2",
   "metadata": {
    "ExecuteTime": {
     "end_time": "2022-12-31T10:14:00.504142Z",
     "start_time": "2022-12-31T10:14:00.467995Z"
    }
   },
   "outputs": [],
   "source": [
    "grenoble_authors = pd.read_csv('data/grenoble_authors.csv')  "
   ]
  },
  {
   "cell_type": "code",
   "execution_count": 88,
   "id": "09491dc6",
   "metadata": {
    "ExecuteTime": {
     "end_time": "2022-12-31T10:14:43.781502Z",
     "start_time": "2022-12-31T10:14:43.767415Z"
    }
   },
   "outputs": [
    {
     "data": {
      "text/html": [
       "<div>\n",
       "<style scoped>\n",
       "    .dataframe tbody tr th:only-of-type {\n",
       "        vertical-align: middle;\n",
       "    }\n",
       "\n",
       "    .dataframe tbody tr th {\n",
       "        vertical-align: top;\n",
       "    }\n",
       "\n",
       "    .dataframe thead th {\n",
       "        text-align: right;\n",
       "    }\n",
       "</style>\n",
       "<table border=\"1\" class=\"dataframe\">\n",
       "  <thead>\n",
       "    <tr style=\"text-align: right;\">\n",
       "      <th></th>\n",
       "      <th>author_id</th>\n",
       "      <th>name</th>\n",
       "      <th>connectedness_1</th>\n",
       "      <th>connectedness_2</th>\n",
       "      <th>connectedness_3</th>\n",
       "    </tr>\n",
       "  </thead>\n",
       "  <tbody>\n",
       "    <tr>\n",
       "      <th>0</th>\n",
       "      <td>https://openalex.org/A2081927895</td>\n",
       "      <td>Michel Bolla</td>\n",
       "      <td>1</td>\n",
       "      <td>8</td>\n",
       "      <td>8</td>\n",
       "    </tr>\n",
       "    <tr>\n",
       "      <th>1</th>\n",
       "      <td>https://openalex.org/A2967507403</td>\n",
       "      <td>Christian A. Thomas</td>\n",
       "      <td>0</td>\n",
       "      <td>0</td>\n",
       "      <td>0</td>\n",
       "    </tr>\n",
       "    <tr>\n",
       "      <th>2</th>\n",
       "      <td>https://openalex.org/A4208415029</td>\n",
       "      <td>Frédéric Bally</td>\n",
       "      <td>0</td>\n",
       "      <td>0</td>\n",
       "      <td>0</td>\n",
       "    </tr>\n",
       "    <tr>\n",
       "      <th>3</th>\n",
       "      <td>https://openalex.org/A2050409607</td>\n",
       "      <td>Alain Dufresne</td>\n",
       "      <td>38</td>\n",
       "      <td>36</td>\n",
       "      <td>1368</td>\n",
       "    </tr>\n",
       "    <tr>\n",
       "      <th>4</th>\n",
       "      <td>https://openalex.org/A2061986354</td>\n",
       "      <td>Pierre Hainaut</td>\n",
       "      <td>23</td>\n",
       "      <td>103</td>\n",
       "      <td>2369</td>\n",
       "    </tr>\n",
       "    <tr>\n",
       "      <th>...</th>\n",
       "      <td>...</td>\n",
       "      <td>...</td>\n",
       "      <td>...</td>\n",
       "      <td>...</td>\n",
       "      <td>...</td>\n",
       "    </tr>\n",
       "    <tr>\n",
       "      <th>36953</th>\n",
       "      <td>https://openalex.org/A4207761270</td>\n",
       "      <td>Isabelle Lordey</td>\n",
       "      <td>1</td>\n",
       "      <td>6</td>\n",
       "      <td>6</td>\n",
       "    </tr>\n",
       "    <tr>\n",
       "      <th>36954</th>\n",
       "      <td>https://openalex.org/A4208119760</td>\n",
       "      <td>Rolando Rebois</td>\n",
       "      <td>1</td>\n",
       "      <td>4</td>\n",
       "      <td>4</td>\n",
       "    </tr>\n",
       "    <tr>\n",
       "      <th>36955</th>\n",
       "      <td>https://openalex.org/A4225885156</td>\n",
       "      <td>Meulemans, Germain</td>\n",
       "      <td>0</td>\n",
       "      <td>0</td>\n",
       "      <td>0</td>\n",
       "    </tr>\n",
       "    <tr>\n",
       "      <th>36956</th>\n",
       "      <td>https://openalex.org/A4227555375</td>\n",
       "      <td>Yassine Laguel</td>\n",
       "      <td>0</td>\n",
       "      <td>0</td>\n",
       "      <td>0</td>\n",
       "    </tr>\n",
       "    <tr>\n",
       "      <th>36957</th>\n",
       "      <td>https://openalex.org/A4227915193</td>\n",
       "      <td>Yassine Laguel</td>\n",
       "      <td>0</td>\n",
       "      <td>0</td>\n",
       "      <td>0</td>\n",
       "    </tr>\n",
       "  </tbody>\n",
       "</table>\n",
       "<p>36958 rows × 5 columns</p>\n",
       "</div>"
      ],
      "text/plain": [
       "                              author_id                 name  connectedness_1  \\\n",
       "0      https://openalex.org/A2081927895         Michel Bolla                1   \n",
       "1      https://openalex.org/A2967507403  Christian A. Thomas                0   \n",
       "2      https://openalex.org/A4208415029       Frédéric Bally                0   \n",
       "3      https://openalex.org/A2050409607       Alain Dufresne               38   \n",
       "4      https://openalex.org/A2061986354       Pierre Hainaut               23   \n",
       "...                                 ...                  ...              ...   \n",
       "36953  https://openalex.org/A4207761270      Isabelle Lordey                1   \n",
       "36954  https://openalex.org/A4208119760       Rolando Rebois                1   \n",
       "36955  https://openalex.org/A4225885156   Meulemans, Germain                0   \n",
       "36956  https://openalex.org/A4227555375       Yassine Laguel                0   \n",
       "36957  https://openalex.org/A4227915193       Yassine Laguel                0   \n",
       "\n",
       "       connectedness_2  connectedness_3  \n",
       "0                    8                8  \n",
       "1                    0                0  \n",
       "2                    0                0  \n",
       "3                   36             1368  \n",
       "4                  103             2369  \n",
       "...                ...              ...  \n",
       "36953                6                6  \n",
       "36954                4                4  \n",
       "36955                0                0  \n",
       "36956                0                0  \n",
       "36957                0                0  \n",
       "\n",
       "[36958 rows x 5 columns]"
      ]
     },
     "execution_count": 88,
     "metadata": {},
     "output_type": "execute_result"
    }
   ],
   "source": [
    "grenoble_authors"
   ]
  },
  {
   "cell_type": "markdown",
   "id": "45e3d695",
   "metadata": {},
   "source": [
    "## Connectedness 3"
   ]
  },
  {
   "cell_type": "code",
   "execution_count": 89,
   "id": "f3ed6580",
   "metadata": {
    "ExecuteTime": {
     "end_time": "2022-12-31T10:14:50.386016Z",
     "start_time": "2022-12-31T10:14:50.380581Z"
    }
   },
   "outputs": [],
   "source": [
    "grenoble_authors['connectedness_3'] = grenoble_authors['connectedness_1'] * grenoble_authors['connectedness_2']"
   ]
  },
  {
   "cell_type": "code",
   "execution_count": 90,
   "id": "dfb79f10",
   "metadata": {
    "ExecuteTime": {
     "end_time": "2022-12-31T10:14:50.942411Z",
     "start_time": "2022-12-31T10:14:50.928259Z"
    },
    "scrolled": true
   },
   "outputs": [
    {
     "data": {
      "text/html": [
       "<div>\n",
       "<style scoped>\n",
       "    .dataframe tbody tr th:only-of-type {\n",
       "        vertical-align: middle;\n",
       "    }\n",
       "\n",
       "    .dataframe tbody tr th {\n",
       "        vertical-align: top;\n",
       "    }\n",
       "\n",
       "    .dataframe thead th {\n",
       "        text-align: right;\n",
       "    }\n",
       "</style>\n",
       "<table border=\"1\" class=\"dataframe\">\n",
       "  <thead>\n",
       "    <tr style=\"text-align: right;\">\n",
       "      <th></th>\n",
       "      <th>author_id</th>\n",
       "      <th>name</th>\n",
       "      <th>connectedness_1</th>\n",
       "      <th>connectedness_2</th>\n",
       "      <th>connectedness_3</th>\n",
       "    </tr>\n",
       "  </thead>\n",
       "  <tbody>\n",
       "    <tr>\n",
       "      <th>0</th>\n",
       "      <td>https://openalex.org/A2081927895</td>\n",
       "      <td>Michel Bolla</td>\n",
       "      <td>1</td>\n",
       "      <td>8</td>\n",
       "      <td>8</td>\n",
       "    </tr>\n",
       "    <tr>\n",
       "      <th>1</th>\n",
       "      <td>https://openalex.org/A2967507403</td>\n",
       "      <td>Christian A. Thomas</td>\n",
       "      <td>0</td>\n",
       "      <td>0</td>\n",
       "      <td>0</td>\n",
       "    </tr>\n",
       "    <tr>\n",
       "      <th>2</th>\n",
       "      <td>https://openalex.org/A4208415029</td>\n",
       "      <td>Frédéric Bally</td>\n",
       "      <td>0</td>\n",
       "      <td>0</td>\n",
       "      <td>0</td>\n",
       "    </tr>\n",
       "    <tr>\n",
       "      <th>3</th>\n",
       "      <td>https://openalex.org/A2050409607</td>\n",
       "      <td>Alain Dufresne</td>\n",
       "      <td>38</td>\n",
       "      <td>36</td>\n",
       "      <td>1368</td>\n",
       "    </tr>\n",
       "    <tr>\n",
       "      <th>4</th>\n",
       "      <td>https://openalex.org/A2061986354</td>\n",
       "      <td>Pierre Hainaut</td>\n",
       "      <td>23</td>\n",
       "      <td>103</td>\n",
       "      <td>2369</td>\n",
       "    </tr>\n",
       "    <tr>\n",
       "      <th>...</th>\n",
       "      <td>...</td>\n",
       "      <td>...</td>\n",
       "      <td>...</td>\n",
       "      <td>...</td>\n",
       "      <td>...</td>\n",
       "    </tr>\n",
       "    <tr>\n",
       "      <th>36953</th>\n",
       "      <td>https://openalex.org/A4207761270</td>\n",
       "      <td>Isabelle Lordey</td>\n",
       "      <td>1</td>\n",
       "      <td>6</td>\n",
       "      <td>6</td>\n",
       "    </tr>\n",
       "    <tr>\n",
       "      <th>36954</th>\n",
       "      <td>https://openalex.org/A4208119760</td>\n",
       "      <td>Rolando Rebois</td>\n",
       "      <td>1</td>\n",
       "      <td>4</td>\n",
       "      <td>4</td>\n",
       "    </tr>\n",
       "    <tr>\n",
       "      <th>36955</th>\n",
       "      <td>https://openalex.org/A4225885156</td>\n",
       "      <td>Meulemans, Germain</td>\n",
       "      <td>0</td>\n",
       "      <td>0</td>\n",
       "      <td>0</td>\n",
       "    </tr>\n",
       "    <tr>\n",
       "      <th>36956</th>\n",
       "      <td>https://openalex.org/A4227555375</td>\n",
       "      <td>Yassine Laguel</td>\n",
       "      <td>0</td>\n",
       "      <td>0</td>\n",
       "      <td>0</td>\n",
       "    </tr>\n",
       "    <tr>\n",
       "      <th>36957</th>\n",
       "      <td>https://openalex.org/A4227915193</td>\n",
       "      <td>Yassine Laguel</td>\n",
       "      <td>0</td>\n",
       "      <td>0</td>\n",
       "      <td>0</td>\n",
       "    </tr>\n",
       "  </tbody>\n",
       "</table>\n",
       "<p>36958 rows × 5 columns</p>\n",
       "</div>"
      ],
      "text/plain": [
       "                              author_id                 name  connectedness_1  \\\n",
       "0      https://openalex.org/A2081927895         Michel Bolla                1   \n",
       "1      https://openalex.org/A2967507403  Christian A. Thomas                0   \n",
       "2      https://openalex.org/A4208415029       Frédéric Bally                0   \n",
       "3      https://openalex.org/A2050409607       Alain Dufresne               38   \n",
       "4      https://openalex.org/A2061986354       Pierre Hainaut               23   \n",
       "...                                 ...                  ...              ...   \n",
       "36953  https://openalex.org/A4207761270      Isabelle Lordey                1   \n",
       "36954  https://openalex.org/A4208119760       Rolando Rebois                1   \n",
       "36955  https://openalex.org/A4225885156   Meulemans, Germain                0   \n",
       "36956  https://openalex.org/A4227555375       Yassine Laguel                0   \n",
       "36957  https://openalex.org/A4227915193       Yassine Laguel                0   \n",
       "\n",
       "       connectedness_2  connectedness_3  \n",
       "0                    8                8  \n",
       "1                    0                0  \n",
       "2                    0                0  \n",
       "3                   36             1368  \n",
       "4                  103             2369  \n",
       "...                ...              ...  \n",
       "36953                6                6  \n",
       "36954                4                4  \n",
       "36955                0                0  \n",
       "36956                0                0  \n",
       "36957                0                0  \n",
       "\n",
       "[36958 rows x 5 columns]"
      ]
     },
     "execution_count": 90,
     "metadata": {},
     "output_type": "execute_result"
    }
   ],
   "source": [
    "grenoble_authors"
   ]
  },
  {
   "cell_type": "code",
   "execution_count": 91,
   "id": "a695b99e",
   "metadata": {
    "ExecuteTime": {
     "end_time": "2022-12-31T10:14:52.786325Z",
     "start_time": "2022-12-31T10:14:52.759748Z"
    }
   },
   "outputs": [
    {
     "data": {
      "text/html": [
       "<div>\n",
       "<style scoped>\n",
       "    .dataframe tbody tr th:only-of-type {\n",
       "        vertical-align: middle;\n",
       "    }\n",
       "\n",
       "    .dataframe tbody tr th {\n",
       "        vertical-align: top;\n",
       "    }\n",
       "\n",
       "    .dataframe thead th {\n",
       "        text-align: right;\n",
       "    }\n",
       "</style>\n",
       "<table border=\"1\" class=\"dataframe\">\n",
       "  <thead>\n",
       "    <tr style=\"text-align: right;\">\n",
       "      <th></th>\n",
       "      <th>author_id</th>\n",
       "      <th>name</th>\n",
       "      <th>connectedness_1</th>\n",
       "      <th>connectedness_2</th>\n",
       "      <th>connectedness_3</th>\n",
       "    </tr>\n",
       "  </thead>\n",
       "  <tbody>\n",
       "    <tr>\n",
       "      <th>8</th>\n",
       "      <td>https://openalex.org/A2596381244</td>\n",
       "      <td>Jean-Louis Pépin</td>\n",
       "      <td>206</td>\n",
       "      <td>220</td>\n",
       "      <td>45320</td>\n",
       "    </tr>\n",
       "    <tr>\n",
       "      <th>2037</th>\n",
       "      <td>https://openalex.org/A2196954048</td>\n",
       "      <td>Gerard Ghibaudo</td>\n",
       "      <td>148</td>\n",
       "      <td>249</td>\n",
       "      <td>36852</td>\n",
       "    </tr>\n",
       "    <tr>\n",
       "      <th>173</th>\n",
       "      <td>https://openalex.org/A2420782966</td>\n",
       "      <td>Renaud Tamisier</td>\n",
       "      <td>180</td>\n",
       "      <td>179</td>\n",
       "      <td>32220</td>\n",
       "    </tr>\n",
       "    <tr>\n",
       "      <th>1397</th>\n",
       "      <td>https://openalex.org/A1975902673</td>\n",
       "      <td>Jean-François Timsit</td>\n",
       "      <td>130</td>\n",
       "      <td>207</td>\n",
       "      <td>26910</td>\n",
       "    </tr>\n",
       "    <tr>\n",
       "      <th>613</th>\n",
       "      <td>https://openalex.org/A2308027254</td>\n",
       "      <td>J.M. Hartmann</td>\n",
       "      <td>101</td>\n",
       "      <td>248</td>\n",
       "      <td>25048</td>\n",
       "    </tr>\n",
       "    <tr>\n",
       "      <th>205</th>\n",
       "      <td>https://openalex.org/A1955230402</td>\n",
       "      <td>Yohann Couté</td>\n",
       "      <td>97</td>\n",
       "      <td>244</td>\n",
       "      <td>23668</td>\n",
       "    </tr>\n",
       "    <tr>\n",
       "      <th>1430</th>\n",
       "      <td>https://openalex.org/A2974844775</td>\n",
       "      <td>Maud Vinet</td>\n",
       "      <td>88</td>\n",
       "      <td>231</td>\n",
       "      <td>20328</td>\n",
       "    </tr>\n",
       "    <tr>\n",
       "      <th>1851</th>\n",
       "      <td>https://openalex.org/A2171459722</td>\n",
       "      <td>Laurence Bouillet</td>\n",
       "      <td>94</td>\n",
       "      <td>203</td>\n",
       "      <td>19082</td>\n",
       "    </tr>\n",
       "    <tr>\n",
       "      <th>1429</th>\n",
       "      <td>https://openalex.org/A1916288200</td>\n",
       "      <td>Sylvain Barraud</td>\n",
       "      <td>92</td>\n",
       "      <td>177</td>\n",
       "      <td>16284</td>\n",
       "    </tr>\n",
       "    <tr>\n",
       "      <th>1175</th>\n",
       "      <td>https://openalex.org/A2577985073</td>\n",
       "      <td>Jean-Luc Bosson</td>\n",
       "      <td>60</td>\n",
       "      <td>255</td>\n",
       "      <td>15300</td>\n",
       "    </tr>\n",
       "  </tbody>\n",
       "</table>\n",
       "</div>"
      ],
      "text/plain": [
       "                             author_id                  name  connectedness_1  \\\n",
       "8     https://openalex.org/A2596381244      Jean-Louis Pépin              206   \n",
       "2037  https://openalex.org/A2196954048       Gerard Ghibaudo              148   \n",
       "173   https://openalex.org/A2420782966       Renaud Tamisier              180   \n",
       "1397  https://openalex.org/A1975902673  Jean-François Timsit              130   \n",
       "613   https://openalex.org/A2308027254         J.M. Hartmann              101   \n",
       "205   https://openalex.org/A1955230402          Yohann Couté               97   \n",
       "1430  https://openalex.org/A2974844775            Maud Vinet               88   \n",
       "1851  https://openalex.org/A2171459722     Laurence Bouillet               94   \n",
       "1429  https://openalex.org/A1916288200       Sylvain Barraud               92   \n",
       "1175  https://openalex.org/A2577985073       Jean-Luc Bosson               60   \n",
       "\n",
       "      connectedness_2  connectedness_3  \n",
       "8                 220            45320  \n",
       "2037              249            36852  \n",
       "173               179            32220  \n",
       "1397              207            26910  \n",
       "613               248            25048  \n",
       "205               244            23668  \n",
       "1430              231            20328  \n",
       "1851              203            19082  \n",
       "1429              177            16284  \n",
       "1175              255            15300  "
      ]
     },
     "execution_count": 91,
     "metadata": {},
     "output_type": "execute_result"
    }
   ],
   "source": [
    "grenoble_authors.nlargest(10, 'connectedness_3')"
   ]
  },
  {
   "cell_type": "code",
   "execution_count": null,
   "id": "1fe73ea7",
   "metadata": {},
   "outputs": [],
   "source": []
  },
  {
   "cell_type": "markdown",
   "id": "a9e786d7",
   "metadata": {},
   "source": [
    "# Exercise 3"
   ]
  },
  {
   "cell_type": "code",
   "execution_count": 371,
   "id": "531cbc92",
   "metadata": {
    "ExecuteTime": {
     "end_time": "2022-12-31T12:25:16.372958Z",
     "start_time": "2022-12-31T12:25:15.889138Z"
    }
   },
   "outputs": [],
   "source": [
    "df3 = df[['id', 'title', 'abstract_inverted_index']]"
   ]
  },
  {
   "cell_type": "code",
   "execution_count": 372,
   "id": "7a71639e",
   "metadata": {
    "ExecuteTime": {
     "end_time": "2022-12-31T12:25:16.419518Z",
     "start_time": "2022-12-31T12:25:16.375485Z"
    }
   },
   "outputs": [
    {
     "name": "stdout",
     "output_type": "stream",
     "text": [
      "<class 'pandas.core.frame.DataFrame'>\n",
      "RangeIndex: 49579 entries, 0 to 49578\n",
      "Data columns (total 3 columns):\n",
      " #   Column                   Non-Null Count  Dtype \n",
      "---  ------                   --------------  ----- \n",
      " 0   id                       49579 non-null  object\n",
      " 1   title                    49572 non-null  object\n",
      " 2   abstract_inverted_index  40226 non-null  object\n",
      "dtypes: object(3)\n",
      "memory usage: 1.1+ MB\n"
     ]
    }
   ],
   "source": [
    "df3.info()"
   ]
  },
  {
   "cell_type": "code",
   "execution_count": 373,
   "id": "0b5b80da",
   "metadata": {
    "ExecuteTime": {
     "end_time": "2022-12-31T12:25:16.464400Z",
     "start_time": "2022-12-31T12:25:16.420592Z"
    }
   },
   "outputs": [],
   "source": [
    "df3 = df3.dropna().reset_index().drop(columns='index')"
   ]
  },
  {
   "cell_type": "code",
   "execution_count": 374,
   "id": "a6e570bc",
   "metadata": {
    "ExecuteTime": {
     "end_time": "2022-12-31T12:25:16.718723Z",
     "start_time": "2022-12-31T12:25:16.671947Z"
    }
   },
   "outputs": [],
   "source": [
    "df3 = df3[df3['abstract_inverted_index']!={}].reset_index().drop(columns='index')\n",
    "#some indexs are empty dictionaries"
   ]
  },
  {
   "cell_type": "code",
   "execution_count": 375,
   "id": "304b0677",
   "metadata": {
    "ExecuteTime": {
     "end_time": "2022-12-31T12:25:17.176699Z",
     "start_time": "2022-12-31T12:25:17.123071Z"
    }
   },
   "outputs": [
    {
     "name": "stdout",
     "output_type": "stream",
     "text": [
      "<class 'pandas.core.frame.DataFrame'>\n",
      "RangeIndex: 40211 entries, 0 to 40210\n",
      "Data columns (total 3 columns):\n",
      " #   Column                   Non-Null Count  Dtype \n",
      "---  ------                   --------------  ----- \n",
      " 0   id                       40211 non-null  object\n",
      " 1   title                    40211 non-null  object\n",
      " 2   abstract_inverted_index  40211 non-null  object\n",
      "dtypes: object(3)\n",
      "memory usage: 942.6+ KB\n"
     ]
    }
   ],
   "source": [
    "df3.info()"
   ]
  },
  {
   "cell_type": "code",
   "execution_count": 376,
   "id": "f9f69e43",
   "metadata": {
    "ExecuteTime": {
     "end_time": "2022-12-31T12:25:17.533130Z",
     "start_time": "2022-12-31T12:25:17.505572Z"
    }
   },
   "outputs": [],
   "source": [
    "df3 = df3.drop_duplicates(subset=['title'], ignore_index=True)"
   ]
  },
  {
   "cell_type": "code",
   "execution_count": 377,
   "id": "bf355449",
   "metadata": {
    "ExecuteTime": {
     "end_time": "2022-12-31T12:25:18.005578Z",
     "start_time": "2022-12-31T12:25:17.956615Z"
    }
   },
   "outputs": [
    {
     "name": "stdout",
     "output_type": "stream",
     "text": [
      "<class 'pandas.core.frame.DataFrame'>\n",
      "RangeIndex: 39409 entries, 0 to 39408\n",
      "Data columns (total 3 columns):\n",
      " #   Column                   Non-Null Count  Dtype \n",
      "---  ------                   --------------  ----- \n",
      " 0   id                       39409 non-null  object\n",
      " 1   title                    39409 non-null  object\n",
      " 2   abstract_inverted_index  39409 non-null  object\n",
      "dtypes: object(3)\n",
      "memory usage: 923.8+ KB\n"
     ]
    }
   ],
   "source": [
    "df3.info()"
   ]
  },
  {
   "cell_type": "markdown",
   "id": "102668bb",
   "metadata": {},
   "source": [
    "## Compose index"
   ]
  },
  {
   "cell_type": "code",
   "execution_count": 378,
   "id": "c5310623",
   "metadata": {
    "ExecuteTime": {
     "end_time": "2022-12-31T12:25:18.874065Z",
     "start_time": "2022-12-31T12:25:18.868276Z"
    }
   },
   "outputs": [],
   "source": [
    "def compose_abstract(row):\n",
    "    inverted_index=row['abstract_inverted_index']\n",
    "    \n",
    "    num_to_word={}\n",
    "    for key, values in inverted_index.items():\n",
    "        for value in values:\n",
    "            num_to_word[value]=key\n",
    "\n",
    "    abstract=[]\n",
    "    k=0\n",
    "    while k <= max(num_to_word.keys()):\n",
    "        if k in num_to_word: \n",
    "            abstract.append(num_to_word[k])\n",
    "        k+=1\n",
    "\n",
    "    return ' '.join(abstract)\n"
   ]
  },
  {
   "cell_type": "code",
   "execution_count": 379,
   "id": "f3a09502",
   "metadata": {
    "ExecuteTime": {
     "end_time": "2022-12-31T12:25:38.669134Z",
     "start_time": "2022-12-31T12:25:19.184041Z"
    }
   },
   "outputs": [],
   "source": [
    "df3['abstract']=df3.apply(compose_abstract, axis=1)"
   ]
  },
  {
   "cell_type": "markdown",
   "id": "7e6ed278",
   "metadata": {},
   "source": [
    "## Extract keywords"
   ]
  },
  {
   "cell_type": "code",
   "execution_count": 293,
   "id": "9db40b9f",
   "metadata": {
    "ExecuteTime": {
     "end_time": "2022-12-31T11:53:21.588126Z",
     "start_time": "2022-12-31T11:53:21.579908Z"
    }
   },
   "outputs": [],
   "source": [
    "from nltk import TreebankWordTokenizer\n",
    "import nltk\n",
    "# nltk.download('stopwords')\n",
    "from nltk.corpus import stopwords\n",
    "# nltk.download('wordnet')\n",
    "# nltk.download('omw-1.4')\n",
    "from nltk.stem import WordNetLemmatizer\n",
    "import string\n",
    "\n",
    "tokenizer = TreebankWordTokenizer()\n",
    "stop_words_en = stopwords.words('english')\n",
    "stop_words_fr = stopwords.words('french')\n",
    "lemmatizer = WordNetLemmatizer()\n",
    "\n",
    "punct = string.punctuation\n",
    "punct = punct.replace(\"-\", \"\") # don't remove hyphens"
   ]
  },
  {
   "cell_type": "code",
   "execution_count": 294,
   "id": "d1853850",
   "metadata": {
    "ExecuteTime": {
     "end_time": "2022-12-31T11:53:21.836665Z",
     "start_time": "2022-12-31T11:53:21.834329Z"
    }
   },
   "outputs": [],
   "source": [
    "#for keyword extraction:\n",
    "#ttps://www.analyticsvidhya.com/blog/2022/01/four-of-the-easiest-and-most-effective-methods-of-keyword-extraction-from-a-single-text-using-python/"
   ]
  },
  {
   "cell_type": "code",
   "execution_count": 380,
   "id": "4811fe57",
   "metadata": {
    "ExecuteTime": {
     "end_time": "2022-12-31T12:25:48.332260Z",
     "start_time": "2022-12-31T12:25:48.319641Z"
    }
   },
   "outputs": [],
   "source": [
    "def clean_text(text_data):\n",
    "#     no_punct = text_data.translate(str.maketrans('', '', punct))\n",
    "    \n",
    "    tokens = tokenizer.tokenize(text_data)\n",
    "    \n",
    "    lowercased = [w.lower() for w in tokens]\n",
    "    \n",
    "    no_sw = [w for w in lowercased if (not w in stop_words_en and not w in stop_words_fr)]\n",
    "    \n",
    "    lemmas = [lemmatizer.lemmatize(word) for word in no_sw]\n",
    "    \n",
    "    no_punct = [w for w in lemmas if w.isalpha()]#if more time, avoid deleting dashes\n",
    "    \n",
    "    final = [w for w in no_punct if len(w)>2]\n",
    "    \n",
    "    return ' '.join(final)"
   ]
  },
  {
   "cell_type": "code",
   "execution_count": 381,
   "id": "928f0bf3",
   "metadata": {
    "ExecuteTime": {
     "end_time": "2022-12-31T12:26:29.623399Z",
     "start_time": "2022-12-31T12:25:52.006906Z"
    }
   },
   "outputs": [],
   "source": [
    "df3['clean_abstract']=df3['abstract'].apply(clean_text)"
   ]
  },
  {
   "cell_type": "code",
   "execution_count": 382,
   "id": "bb76fa9d",
   "metadata": {
    "ExecuteTime": {
     "end_time": "2022-12-31T12:26:33.315994Z",
     "start_time": "2022-12-31T12:26:29.626303Z"
    }
   },
   "outputs": [],
   "source": [
    "df3['clean_title']=df3['title'].apply(clean_text)"
   ]
  },
  {
   "cell_type": "code",
   "execution_count": 383,
   "id": "fcbf8b5f",
   "metadata": {
    "ExecuteTime": {
     "end_time": "2022-12-31T12:26:33.369988Z",
     "start_time": "2022-12-31T12:26:33.316727Z"
    }
   },
   "outputs": [
    {
     "data": {
      "text/html": [
       "<div>\n",
       "<style scoped>\n",
       "    .dataframe tbody tr th:only-of-type {\n",
       "        vertical-align: middle;\n",
       "    }\n",
       "\n",
       "    .dataframe tbody tr th {\n",
       "        vertical-align: top;\n",
       "    }\n",
       "\n",
       "    .dataframe thead th {\n",
       "        text-align: right;\n",
       "    }\n",
       "</style>\n",
       "<table border=\"1\" class=\"dataframe\">\n",
       "  <thead>\n",
       "    <tr style=\"text-align: right;\">\n",
       "      <th></th>\n",
       "      <th>id</th>\n",
       "      <th>title</th>\n",
       "      <th>abstract_inverted_index</th>\n",
       "      <th>abstract</th>\n",
       "      <th>clean_abstract</th>\n",
       "      <th>clean_title</th>\n",
       "    </tr>\n",
       "  </thead>\n",
       "  <tbody>\n",
       "    <tr>\n",
       "      <th>0</th>\n",
       "      <td>https://openalex.org/W2511949746</td>\n",
       "      <td>EAU-ESTRO-SIOG Guidelines on Prostate Cancer. ...</td>\n",
       "      <td>{'To': [0], 'present': [1, 392], 'a': [2, 49, ...</td>\n",
       "      <td>To present a summary of the 2016 version of th...</td>\n",
       "      <td>present summary version european association u...</td>\n",
       "      <td>guideline prostate part screening diagnosis lo...</td>\n",
       "    </tr>\n",
       "    <tr>\n",
       "      <th>1</th>\n",
       "      <td>https://openalex.org/W2805354595</td>\n",
       "      <td>Atezolizumab for First-Line Treatment of Metas...</td>\n",
       "      <td>{'The': [0, 84, 147, 183, 330], 'cancer-cell-k...</td>\n",
       "      <td>The cancer-cell-killing property of atezolizum...</td>\n",
       "      <td>property atezolizumab may enhanced blockade va...</td>\n",
       "      <td>atezolizumab treatment metastatic nonsquamous ...</td>\n",
       "    </tr>\n",
       "    <tr>\n",
       "      <th>2</th>\n",
       "      <td>https://openalex.org/W2796277309</td>\n",
       "      <td>Review on nanoparticles and nanostructured mat...</td>\n",
       "      <td>{'Nanomaterials': [0], '(NMs)': [1], 'have': [...</td>\n",
       "      <td>Nanomaterials (NMs) have gained prominence in ...</td>\n",
       "      <td>nanomaterials gained prominence technological ...</td>\n",
       "      <td>review nanoparticles nanostructured material h...</td>\n",
       "    </tr>\n",
       "    <tr>\n",
       "      <th>3</th>\n",
       "      <td>https://openalex.org/W2969802526</td>\n",
       "      <td>A global view of hepatocellular carcinoma: tre...</td>\n",
       "      <td>{'Hepatocellular': [0], 'carcinoma': [1], '(HC...</td>\n",
       "      <td>Hepatocellular carcinoma (HCC) is the fourth m...</td>\n",
       "      <td>hepatocellular carcinoma hcc fourth common cau...</td>\n",
       "      <td>global view hepatocellular carcinoma trend ris...</td>\n",
       "    </tr>\n",
       "    <tr>\n",
       "      <th>4</th>\n",
       "      <td>https://openalex.org/W2885896746</td>\n",
       "      <td>Clinical Practice Guidelines for the Preventio...</td>\n",
       "      <td>{'To': [0], 'update': [1], 'and': [2, 15, 27, ...</td>\n",
       "      <td>To update and expand the 2013 Clinical Practic...</td>\n",
       "      <td>update expand clinical practice guideline mana...</td>\n",
       "      <td>clinical practice guideline prevention managem...</td>\n",
       "    </tr>\n",
       "  </tbody>\n",
       "</table>\n",
       "</div>"
      ],
      "text/plain": [
       "                                 id  \\\n",
       "0  https://openalex.org/W2511949746   \n",
       "1  https://openalex.org/W2805354595   \n",
       "2  https://openalex.org/W2796277309   \n",
       "3  https://openalex.org/W2969802526   \n",
       "4  https://openalex.org/W2885896746   \n",
       "\n",
       "                                               title  \\\n",
       "0  EAU-ESTRO-SIOG Guidelines on Prostate Cancer. ...   \n",
       "1  Atezolizumab for First-Line Treatment of Metas...   \n",
       "2  Review on nanoparticles and nanostructured mat...   \n",
       "3  A global view of hepatocellular carcinoma: tre...   \n",
       "4  Clinical Practice Guidelines for the Preventio...   \n",
       "\n",
       "                             abstract_inverted_index  \\\n",
       "0  {'To': [0], 'present': [1, 392], 'a': [2, 49, ...   \n",
       "1  {'The': [0, 84, 147, 183, 330], 'cancer-cell-k...   \n",
       "2  {'Nanomaterials': [0], '(NMs)': [1], 'have': [...   \n",
       "3  {'Hepatocellular': [0], 'carcinoma': [1], '(HC...   \n",
       "4  {'To': [0], 'update': [1], 'and': [2, 15, 27, ...   \n",
       "\n",
       "                                            abstract  \\\n",
       "0  To present a summary of the 2016 version of th...   \n",
       "1  The cancer-cell-killing property of atezolizum...   \n",
       "2  Nanomaterials (NMs) have gained prominence in ...   \n",
       "3  Hepatocellular carcinoma (HCC) is the fourth m...   \n",
       "4  To update and expand the 2013 Clinical Practic...   \n",
       "\n",
       "                                      clean_abstract  \\\n",
       "0  present summary version european association u...   \n",
       "1  property atezolizumab may enhanced blockade va...   \n",
       "2  nanomaterials gained prominence technological ...   \n",
       "3  hepatocellular carcinoma hcc fourth common cau...   \n",
       "4  update expand clinical practice guideline mana...   \n",
       "\n",
       "                                         clean_title  \n",
       "0  guideline prostate part screening diagnosis lo...  \n",
       "1  atezolizumab treatment metastatic nonsquamous ...  \n",
       "2  review nanoparticles nanostructured material h...  \n",
       "3  global view hepatocellular carcinoma trend ris...  \n",
       "4  clinical practice guideline prevention managem...  "
      ]
     },
     "execution_count": 383,
     "metadata": {},
     "output_type": "execute_result"
    }
   ],
   "source": [
    "df3.head()"
   ]
  },
  {
   "cell_type": "code",
   "execution_count": 410,
   "id": "accd2a51",
   "metadata": {
    "ExecuteTime": {
     "end_time": "2022-12-31T13:30:52.176765Z",
     "start_time": "2022-12-31T13:30:52.119174Z"
    }
   },
   "outputs": [
    {
     "name": "stdout",
     "output_type": "stream",
     "text": [
      "Keyphrase:  nanomaterials gained prominence : score 0.0011750413565956707\n",
      "Keyphrase:  gained prominence technological : score 0.001643206405302012\n",
      "Keyphrase:  prominence technological advancement : score 0.001643206405302012\n",
      "Keyphrase:  tunable physical chemical : score 0.001643206405302012\n",
      "Keyphrase:  physical chemical biological : score 0.001643206405302012\n",
      "Keyphrase:  enhanced performance bulk : score 0.001643206405302012\n",
      "Keyphrase:  performance bulk categorized : score 0.001643206405302012\n",
      "Keyphrase:  bulk categorized depending : score 0.001643206405302012\n",
      "Keyphrase:  categorized depending size : score 0.001643206405302012\n",
      "Keyphrase:  depending size composition : score 0.001643206405302012\n"
     ]
    }
   ],
   "source": [
    "kw_extractor = yake.KeywordExtractor(top=10, stopwords=None)\n",
    "keywords = kw_extractor.extract_keywords(df3.clean_abstract[2])\n",
    "for kw, v in keywords:\n",
    "    print(\"Keyphrase: \",kw, \": score\", v)"
   ]
  },
  {
   "cell_type": "code",
   "execution_count": 384,
   "id": "b588e9e2",
   "metadata": {
    "ExecuteTime": {
     "end_time": "2022-12-31T12:26:49.767659Z",
     "start_time": "2022-12-31T12:26:49.760035Z"
    }
   },
   "outputs": [],
   "source": [
    "def extract_keywords(row):\n",
    "    kwds_abs = keywords.keywords(row['clean_abstract'], scores=False).split()[0:10]\n",
    "    kwds_title = keywords.keywords(row['clean_title'], scores=False).split()[0:10]\n",
    "    return list(set(kwds_abs+kwds_title))"
   ]
  },
  {
   "cell_type": "code",
   "execution_count": 385,
   "id": "c54b4944",
   "metadata": {
    "ExecuteTime": {
     "end_time": "2022-12-31T12:32:07.220725Z",
     "start_time": "2022-12-31T12:26:50.260048Z"
    }
   },
   "outputs": [],
   "source": [
    "df3['keywords'] = df3.apply(extract_keywords, axis=1)"
   ]
  },
  {
   "cell_type": "code",
   "execution_count": 386,
   "id": "efe162d1",
   "metadata": {
    "ExecuteTime": {
     "end_time": "2022-12-31T12:32:11.858506Z",
     "start_time": "2022-12-31T12:32:07.278858Z"
    }
   },
   "outputs": [],
   "source": [
    "df3.to_csv('data/extracted_keywords.csv', index=False)"
   ]
  },
  {
   "cell_type": "code",
   "execution_count": 387,
   "id": "7d745eed",
   "metadata": {
    "ExecuteTime": {
     "end_time": "2022-12-31T12:32:14.007272Z",
     "start_time": "2022-12-31T12:32:11.869383Z"
    }
   },
   "outputs": [],
   "source": [
    "df3 = pd.read_csv('data/extracted_keywords.csv')  "
   ]
  },
  {
   "cell_type": "code",
   "execution_count": 388,
   "id": "0bd1cd1c",
   "metadata": {
    "ExecuteTime": {
     "end_time": "2022-12-31T12:32:14.027388Z",
     "start_time": "2022-12-31T12:32:14.013019Z"
    },
    "scrolled": true
   },
   "outputs": [
    {
     "data": {
      "text/html": [
       "<div>\n",
       "<style scoped>\n",
       "    .dataframe tbody tr th:only-of-type {\n",
       "        vertical-align: middle;\n",
       "    }\n",
       "\n",
       "    .dataframe tbody tr th {\n",
       "        vertical-align: top;\n",
       "    }\n",
       "\n",
       "    .dataframe thead th {\n",
       "        text-align: right;\n",
       "    }\n",
       "</style>\n",
       "<table border=\"1\" class=\"dataframe\">\n",
       "  <thead>\n",
       "    <tr style=\"text-align: right;\">\n",
       "      <th></th>\n",
       "      <th>id</th>\n",
       "      <th>title</th>\n",
       "      <th>abstract_inverted_index</th>\n",
       "      <th>abstract</th>\n",
       "      <th>clean_abstract</th>\n",
       "      <th>clean_title</th>\n",
       "      <th>keywords</th>\n",
       "    </tr>\n",
       "  </thead>\n",
       "  <tbody>\n",
       "    <tr>\n",
       "      <th>0</th>\n",
       "      <td>https://openalex.org/W2511949746</td>\n",
       "      <td>EAU-ESTRO-SIOG Guidelines on Prostate Cancer. ...</td>\n",
       "      <td>{'To': [0], 'present': [1, 392], 'a': [2, 49, ...</td>\n",
       "      <td>To present a summary of the 2016 version of th...</td>\n",
       "      <td>present summary version european association u...</td>\n",
       "      <td>guideline prostate part screening diagnosis lo...</td>\n",
       "      <td>['local', 'increased', 'screening', 'discussio...</td>\n",
       "    </tr>\n",
       "    <tr>\n",
       "      <th>1</th>\n",
       "      <td>https://openalex.org/W2805354595</td>\n",
       "      <td>Atezolizumab for First-Line Treatment of Metas...</td>\n",
       "      <td>{'The': [0, 84, 147, 183, 330], 'cancer-cell-k...</td>\n",
       "      <td>The cancer-cell-killing property of atezolizum...</td>\n",
       "      <td>property atezolizumab may enhanced blockade va...</td>\n",
       "      <td>atezolizumab treatment metastatic nonsquamous ...</td>\n",
       "      <td>['expression', 'abcp', 'atezolizumab', 'popula...</td>\n",
       "    </tr>\n",
       "    <tr>\n",
       "      <th>2</th>\n",
       "      <td>https://openalex.org/W2796277309</td>\n",
       "      <td>Review on nanoparticles and nanostructured mat...</td>\n",
       "      <td>{'Nanomaterials': [0], '(NMs)': [1], 'have': [...</td>\n",
       "      <td>Nanomaterials (NMs) have gained prominence in ...</td>\n",
       "      <td>nanomaterials gained prominence technological ...</td>\n",
       "      <td>review nanoparticles nanostructured material h...</td>\n",
       "      <td>['naturally', 'nsms', 'nanoparticles', 'associ...</td>\n",
       "    </tr>\n",
       "    <tr>\n",
       "      <th>3</th>\n",
       "      <td>https://openalex.org/W2969802526</td>\n",
       "      <td>A global view of hepatocellular carcinoma: tre...</td>\n",
       "      <td>{'Hepatocellular': [0], 'carcinoma': [1], '(HC...</td>\n",
       "      <td>Hepatocellular carcinoma (HCC) is the fourth m...</td>\n",
       "      <td>hepatocellular carcinoma hcc fourth common cau...</td>\n",
       "      <td>global view hepatocellular carcinoma trend ris...</td>\n",
       "      <td>['potentially', 'view', 'prevention', 'treatme...</td>\n",
       "    </tr>\n",
       "    <tr>\n",
       "      <th>4</th>\n",
       "      <td>https://openalex.org/W2885896746</td>\n",
       "      <td>Clinical Practice Guidelines for the Preventio...</td>\n",
       "      <td>{'To': [0], 'update': [1], 'and': [2, 15, 27, ...</td>\n",
       "      <td>To update and expand the 2013 Clinical Practic...</td>\n",
       "      <td>update expand clinical practice guideline mana...</td>\n",
       "      <td>clinical practice guideline prevention managem...</td>\n",
       "      <td>['question', 'recommendation', 'evidence', 'gu...</td>\n",
       "    </tr>\n",
       "    <tr>\n",
       "      <th>...</th>\n",
       "      <td>...</td>\n",
       "      <td>...</td>\n",
       "      <td>...</td>\n",
       "      <td>...</td>\n",
       "      <td>...</td>\n",
       "      <td>...</td>\n",
       "      <td>...</td>\n",
       "    </tr>\n",
       "    <tr>\n",
       "      <th>39404</th>\n",
       "      <td>https://openalex.org/W3206012900</td>\n",
       "      <td>Effect of ground technicity on cardio-respirat...</td>\n",
       "      <td>{'The': [0, 256], 'goal': [1], 'of': [2, 10, 7...</td>\n",
       "      <td>The goal of this study was to analyse the effe...</td>\n",
       "      <td>goal study analyse effect ground technicity bi...</td>\n",
       "      <td>effect ground technicity biomechanical paramet...</td>\n",
       "      <td>['technicities', 'biomechanical', 'trail', 'di...</td>\n",
       "    </tr>\n",
       "    <tr>\n",
       "      <th>39405</th>\n",
       "      <td>https://openalex.org/W4200599600</td>\n",
       "      <td>Superquantiles at Work: Machine Learning Appli...</td>\n",
       "      <td>{'R.': [0], 'Tyrell': [1], 'Rockafellar': [2],...</td>\n",
       "      <td>R. Tyrell Rockafellar and his collaborators in...</td>\n",
       "      <td>tyrell rockafellar collaborator introduced ser...</td>\n",
       "      <td>superquantiles work machine learning applicati...</td>\n",
       "      <td>['new', 'recent', 'toy', 'method', 'smooth', '...</td>\n",
       "    </tr>\n",
       "    <tr>\n",
       "      <th>39406</th>\n",
       "      <td>https://openalex.org/W4205416072</td>\n",
       "      <td>Combined Use of Whole Exome Sequencing and CRI...</td>\n",
       "      <td>{'The': [0], 'genetic': [1], 'landscape': [2],...</td>\n",
       "      <td>The genetic landscape of male infertility is h...</td>\n",
       "      <td>genetic landscape male infertility highly esti...</td>\n",
       "      <td>combined use whole exome sequencing study etio...</td>\n",
       "      <td>['noa', 'spermatogenesis', 'involved', 'mouse'...</td>\n",
       "    </tr>\n",
       "    <tr>\n",
       "      <th>39407</th>\n",
       "      <td>https://openalex.org/W4205834098</td>\n",
       "      <td>Nanoscale mineralogy and organic structure in ...</td>\n",
       "      <td>{'Meteorite': [0], 'matrices': [1, 187], 'from...</td>\n",
       "      <td>Meteorite matrices from primitive chondrites a...</td>\n",
       "      <td>meteorite matrix primitive chondrite interplay...</td>\n",
       "      <td>nanoscale mineralogy organic structure orgueil...</td>\n",
       "      <td>['meteorite', 'primitive', 'impact', 'composit...</td>\n",
       "    </tr>\n",
       "    <tr>\n",
       "      <th>39408</th>\n",
       "      <td>https://openalex.org/W4207070375</td>\n",
       "      <td>HIV-1 Nef Protein Affects Cytokine and Extrace...</td>\n",
       "      <td>{'Plasmacytoid': [0], 'dendritic': [1, 7, 73],...</td>\n",
       "      <td>Plasmacytoid dendritic cells (pDCs) are a uniq...</td>\n",
       "      <td>plasmacytoid dendritic cell pdcs unique dendri...</td>\n",
       "      <td>nef protein affect cytokine extracellular vesi...</td>\n",
       "      <td>['cell', 'pdcs', 'induced', 'release', 'produc...</td>\n",
       "    </tr>\n",
       "  </tbody>\n",
       "</table>\n",
       "<p>39409 rows × 7 columns</p>\n",
       "</div>"
      ],
      "text/plain": [
       "                                     id  \\\n",
       "0      https://openalex.org/W2511949746   \n",
       "1      https://openalex.org/W2805354595   \n",
       "2      https://openalex.org/W2796277309   \n",
       "3      https://openalex.org/W2969802526   \n",
       "4      https://openalex.org/W2885896746   \n",
       "...                                 ...   \n",
       "39404  https://openalex.org/W3206012900   \n",
       "39405  https://openalex.org/W4200599600   \n",
       "39406  https://openalex.org/W4205416072   \n",
       "39407  https://openalex.org/W4205834098   \n",
       "39408  https://openalex.org/W4207070375   \n",
       "\n",
       "                                                   title  \\\n",
       "0      EAU-ESTRO-SIOG Guidelines on Prostate Cancer. ...   \n",
       "1      Atezolizumab for First-Line Treatment of Metas...   \n",
       "2      Review on nanoparticles and nanostructured mat...   \n",
       "3      A global view of hepatocellular carcinoma: tre...   \n",
       "4      Clinical Practice Guidelines for the Preventio...   \n",
       "...                                                  ...   \n",
       "39404  Effect of ground technicity on cardio-respirat...   \n",
       "39405  Superquantiles at Work: Machine Learning Appli...   \n",
       "39406  Combined Use of Whole Exome Sequencing and CRI...   \n",
       "39407  Nanoscale mineralogy and organic structure in ...   \n",
       "39408  HIV-1 Nef Protein Affects Cytokine and Extrace...   \n",
       "\n",
       "                                 abstract_inverted_index  \\\n",
       "0      {'To': [0], 'present': [1, 392], 'a': [2, 49, ...   \n",
       "1      {'The': [0, 84, 147, 183, 330], 'cancer-cell-k...   \n",
       "2      {'Nanomaterials': [0], '(NMs)': [1], 'have': [...   \n",
       "3      {'Hepatocellular': [0], 'carcinoma': [1], '(HC...   \n",
       "4      {'To': [0], 'update': [1], 'and': [2, 15, 27, ...   \n",
       "...                                                  ...   \n",
       "39404  {'The': [0, 256], 'goal': [1], 'of': [2, 10, 7...   \n",
       "39405  {'R.': [0], 'Tyrell': [1], 'Rockafellar': [2],...   \n",
       "39406  {'The': [0], 'genetic': [1], 'landscape': [2],...   \n",
       "39407  {'Meteorite': [0], 'matrices': [1, 187], 'from...   \n",
       "39408  {'Plasmacytoid': [0], 'dendritic': [1, 7, 73],...   \n",
       "\n",
       "                                                abstract  \\\n",
       "0      To present a summary of the 2016 version of th...   \n",
       "1      The cancer-cell-killing property of atezolizum...   \n",
       "2      Nanomaterials (NMs) have gained prominence in ...   \n",
       "3      Hepatocellular carcinoma (HCC) is the fourth m...   \n",
       "4      To update and expand the 2013 Clinical Practic...   \n",
       "...                                                  ...   \n",
       "39404  The goal of this study was to analyse the effe...   \n",
       "39405  R. Tyrell Rockafellar and his collaborators in...   \n",
       "39406  The genetic landscape of male infertility is h...   \n",
       "39407  Meteorite matrices from primitive chondrites a...   \n",
       "39408  Plasmacytoid dendritic cells (pDCs) are a uniq...   \n",
       "\n",
       "                                          clean_abstract  \\\n",
       "0      present summary version european association u...   \n",
       "1      property atezolizumab may enhanced blockade va...   \n",
       "2      nanomaterials gained prominence technological ...   \n",
       "3      hepatocellular carcinoma hcc fourth common cau...   \n",
       "4      update expand clinical practice guideline mana...   \n",
       "...                                                  ...   \n",
       "39404  goal study analyse effect ground technicity bi...   \n",
       "39405  tyrell rockafellar collaborator introduced ser...   \n",
       "39406  genetic landscape male infertility highly esti...   \n",
       "39407  meteorite matrix primitive chondrite interplay...   \n",
       "39408  plasmacytoid dendritic cell pdcs unique dendri...   \n",
       "\n",
       "                                             clean_title  \\\n",
       "0      guideline prostate part screening diagnosis lo...   \n",
       "1      atezolizumab treatment metastatic nonsquamous ...   \n",
       "2      review nanoparticles nanostructured material h...   \n",
       "3      global view hepatocellular carcinoma trend ris...   \n",
       "4      clinical practice guideline prevention managem...   \n",
       "...                                                  ...   \n",
       "39404  effect ground technicity biomechanical paramet...   \n",
       "39405  superquantiles work machine learning applicati...   \n",
       "39406  combined use whole exome sequencing study etio...   \n",
       "39407  nanoscale mineralogy organic structure orgueil...   \n",
       "39408  nef protein affect cytokine extracellular vesi...   \n",
       "\n",
       "                                                keywords  \n",
       "0      ['local', 'increased', 'screening', 'discussio...  \n",
       "1      ['expression', 'abcp', 'atezolizumab', 'popula...  \n",
       "2      ['naturally', 'nsms', 'nanoparticles', 'associ...  \n",
       "3      ['potentially', 'view', 'prevention', 'treatme...  \n",
       "4      ['question', 'recommendation', 'evidence', 'gu...  \n",
       "...                                                  ...  \n",
       "39404  ['technicities', 'biomechanical', 'trail', 'di...  \n",
       "39405  ['new', 'recent', 'toy', 'method', 'smooth', '...  \n",
       "39406  ['noa', 'spermatogenesis', 'involved', 'mouse'...  \n",
       "39407  ['meteorite', 'primitive', 'impact', 'composit...  \n",
       "39408  ['cell', 'pdcs', 'induced', 'release', 'produc...  \n",
       "\n",
       "[39409 rows x 7 columns]"
      ]
     },
     "execution_count": 388,
     "metadata": {},
     "output_type": "execute_result"
    }
   ],
   "source": [
    "df3"
   ]
  },
  {
   "cell_type": "code",
   "execution_count": 389,
   "id": "6e7598f4",
   "metadata": {
    "ExecuteTime": {
     "end_time": "2022-12-31T12:32:19.175411Z",
     "start_time": "2022-12-31T12:32:18.448001Z"
    },
    "scrolled": true
   },
   "outputs": [],
   "source": [
    "flat_kwds = [item for items in [ast.literal_eval(item) for item in df3.keywords.values] for item in items]\n"
   ]
  },
  {
   "cell_type": "code",
   "execution_count": 395,
   "id": "25757b6f",
   "metadata": {
    "ExecuteTime": {
     "end_time": "2022-12-31T12:48:51.617670Z",
     "start_time": "2022-12-31T12:48:51.606622Z"
    }
   },
   "outputs": [],
   "source": [
    "common_academic_ws = 'ability, absence, account, achievement, act, action, activity, addition, adoption, adult, advance, advantage, advice, age, aim, alternative, amount, analogy, analysis, application, approach, argument, aspect, assertion, assessment, assistance, association, assumption, attempt, attention, attitude, author, awareness, balance, basis, behaviour, being, belief, benefit, bias, birth, capacity, case, category, cause, centre, challenge, change, character, characteristic, choice, circumstance, class, classification, code, colleague, combination, commitment, committee, communication, community, comparison, complexity, compromise, concentration, concept, conception, concern, conclusion, condition, conduct, conflict, consensus, consequence, consideration, constraint, construction, content, contradiction, contrast, contribution, control, convention, correlation, country, creation, crisis, criterion, criticism, culture, damage, data, debate, decision, decline, defence, definition, degree, demand, description, destruction, determination, development, difference, difficulty, dilemma, dimension, disadvantage, discovery, discrimination, discussion, distinction, diversity, division, doctrine, effect, effectiveness, element, emphasis, environment, error, essence, establishment, evaluation, event, evidence, evolution, examination, example, exception, exclusion, existence, expansion, experience, experiment, explanation, exposure, extent, extreme, fact, factor, failure, feature, female, figure, finding, force, form, formation, function, future, gain, group, growth, guidance, guideline, hypothesis, idea, identity, impact, implication, importance, improvement, increase, indication, individual, influence, information, insight, instance, institution, integration, interaction, interest, interpretation, intervention, introduction, investigation, isolation, issue, kind, knowledge, lack, learning, level, likelihood, limit, limitation, link, list, literature, logic, loss, maintenance, majority, male, manipulation, mankind, material, means, measure, medium, member, method, minority, mode, model, motivation, movement, need, network, norm, notion, number, observation, observer, occurrence, operation, opportunity, option, organisation, outcome, output, parallel, parent, part, participant, past, pattern, percentage, perception, period, person, personality, perspective, phenomenon, point, policy, population, position, possibility, potential, practice, presence, pressure, problem, procedure, process, production, programme, progress, property, proportion, proposition, protection, provision, publication, purpose, quality, question, range, rate, reader, reality, reason, reasoning, recognition, reduction, reference, relation, relationship, relevance, report, representative, reproduction, requirement, research, resistance, resolution, resource, respect, restriction, result, review, rise, risk, role, rule, sample, scale, scheme, scope, search, section, selection, sense, separation, series, service, set, sex, shift, significance, similarity, situation, skill, society, solution, source, space, spread, standard, statistics, stimulus, strategy, stress, structure, subject, success, summary, support, survey, system, target, task, team, technique, tendency, tension, term, theme, theory, tolerance, topic, tradition, transition, trend, type, uncertainty, understanding, unit, use, validity, value, variation, variety, version, view, viewpoint, volume, whole, work, world, accept, account (for), achieve, acquire, act, adapt, adopt, advance, advocate, affect, aid, aim, allocate, allow, alter, analyse, appear, apply, argue, arise, assert, assess, assign, associate, assist, assume, attain, attempt, attend, attribute, avoid, base, be, become, benefit, can, cause, characterise, choose, cite, claim, clarify, classify, coincide, combine, compare, compete, comprise, concentrate, concern, conclude, conduct, confine, conform, connect, consider, consist, constitute, construct, contain, contrast, contribute, control, convert, correspond, create, damage, deal, decline, define, demonstrate, depend, derive, describe, design, destroy, determine, develop, differ, differentiate, diminish, direct, discuss, display, distinguish, divide, dominate, effect, eliminate, emerge, emphasize, employ, enable, encounter, encourage, enhance, ensure, establish, evaluate, evolve, examine, exceed, exclude, exemplify, exist, expand, experience, explain, expose, express, extend, facilitate, fail, favour, finance, focus, follow, form, formulate, function, gain, generate, govern, highlight, identify, illustrate, imply, impose, improve, include, incorporate, increase, indicate, induce, influence, initiate, integrate, interpret, introduce, investigate, involve, isolate, label, lack, lead, limit, link, locate, maintain, may, measure, neglect, note, obtain, occur, operate, outline, overcome, participate, perceive, perform, permit, pose, possess, precede, predict, present, preserve, prevent, produce, promote, propose, prove, provide, publish, pursue, quote, receive, record, reduce, refer, reflect, regard, regulate, reinforce, reject, relate, rely, remain, remove, render, replace, report, represent, reproduce, require, resolve, respond, restrict, result, retain, reveal, seek, select, separate, should, show, solve, specify, state, stimulate, strengthen, stress, study, submit, suffer, suggest, summarise, supply, support, sustain, tackle, tend, term, transform, treat, undermine, undertake, use, vary, view, write, yield, absolute, abstract, acceptable, accessible, active, actual, acute, additional, adequate, alternative, apparent, applicable, appropriate, arbitrary, available, average, basic, central, certain, clear, common, competitive, complete, complex, comprehensive, considerable, consistent, conventional, correct, critical, crucial, dependent, detailed, different, difficult, distinct, dominant, early, effective, equal, equivalent, essential, evident, excessive, experimental, explicit, extensive, extreme, far, favourable, final, fixed, following, formal, frequent, fundamental, future, general, great, high, human, ideal, identical, immediate, important, inadequate, incomplete, independent, indirect, individual, inferior, influential, inherent, initial, interesting, internal, large, late, leading, likely, limited, local, logical, main, major, male, maximum, mental, minimal, minor, misleading, modern, mutual, natural, necessary, negative, new, normal, obvious, original, other, overall, parallel, partial, particular, passive, past, permanent, physical, positive, possible, potential, practical, present, previous, primary, prime, principal, productive, profound, progressive, prominent, psychological, radical, random, rapid, rational, real, realistic, recent, related, relative, relevant, representative, responsible, restricted, scientific, secondary, selective, separate, severe, sexual, significant, similar, simple, single, so-called, social, special, specific, stable, standard, strict, subsequent, substantial, successful, successive, sufficient, suitable, surprising, symbolic, systematic, theoretical, total, traditional, true, typical, unique, unlike, unlikely, unsuccessful, useful, valid, valuable, varied, various, visual, vital, wide, widespread, above, accordingly, accurately, adequately, also, approximately, at best, basically, clearly, closely, commonly, consequently, considerably, conversely, correctly, directly, effectively, e.g., either, equally, especially, essentially, explicitly, extremely, fairly, far, for example, for instance, frequently, fully, further, generally, greatly, hence, highly, however, increasingly, indeed, independently, indirectly, inevitably, initially, in general, in particular, largely, less, mainly, more, moreover, most, namely, necessarily, normally, notably, often, only, originally, over, partially, particularly, potentially, previously, primarily, purely, readily, recently, relatively, secondly, significantly, similarly, simply, socially, solely somewhat, specifically, strongly, subsequently, successfully, thereby, therefore, thus, traditionally, typically, ultimately, virtually, wholly, widely, according to, although, an, as, as opposed to, as to, as well as, because, because of, between, both, by, contrary to, depending on, despite, due to, during, each, even though, fewer, first, former, from, for, given that, in, in addition to, in common with, in favour of, in relation to, in response to, in terms of, in that, in the light of, including, its, itself, latter, less, little, many, most, of, or, other than, per, prior to, provided, rather than, same, second, several, since, some, subject to, such, such as, than, that, the, their, themselves, these, third, this, those, to, unlike, upon, versus, whereas, whether, whether or not, which, within'\n",
    "# Comes from here: https://uclouvain.be/en/research-institutes/ilc/cecl/the-academic-keyword-list-akl.html\n",
    "# if more time, refine this list"
   ]
  },
  {
   "cell_type": "code",
   "execution_count": 396,
   "id": "2f760080",
   "metadata": {
    "ExecuteTime": {
     "end_time": "2022-12-31T12:48:51.875728Z",
     "start_time": "2022-12-31T12:48:51.851192Z"
    }
   },
   "outputs": [
    {
     "data": {
      "text/plain": [
       "['ability',\n",
       " 'absence',\n",
       " 'account',\n",
       " 'achievement',\n",
       " 'act',\n",
       " 'action',\n",
       " 'activity',\n",
       " 'addition',\n",
       " 'adoption',\n",
       " 'adult',\n",
       " 'advance',\n",
       " 'advantage',\n",
       " 'advice',\n",
       " 'age',\n",
       " 'aim',\n",
       " 'alternative',\n",
       " 'amount',\n",
       " 'analogy',\n",
       " 'analysis',\n",
       " 'application',\n",
       " 'approach',\n",
       " 'argument',\n",
       " 'aspect',\n",
       " 'assertion',\n",
       " 'assessment',\n",
       " 'assistance',\n",
       " 'association',\n",
       " 'assumption',\n",
       " 'attempt',\n",
       " 'attention',\n",
       " 'attitude',\n",
       " 'author',\n",
       " 'awareness',\n",
       " 'balance',\n",
       " 'basis',\n",
       " 'behaviour',\n",
       " 'being',\n",
       " 'belief',\n",
       " 'benefit',\n",
       " 'bias',\n",
       " 'birth',\n",
       " 'capacity',\n",
       " 'case',\n",
       " 'category',\n",
       " 'cause',\n",
       " 'centre',\n",
       " 'challenge',\n",
       " 'change',\n",
       " 'character',\n",
       " 'characteristic',\n",
       " 'choice',\n",
       " 'circumstance',\n",
       " 'class',\n",
       " 'classification',\n",
       " 'code',\n",
       " 'colleague',\n",
       " 'combination',\n",
       " 'commitment',\n",
       " 'committee',\n",
       " 'communication',\n",
       " 'community',\n",
       " 'comparison',\n",
       " 'complexity',\n",
       " 'compromise',\n",
       " 'concentration',\n",
       " 'concept',\n",
       " 'conception',\n",
       " 'concern',\n",
       " 'conclusion',\n",
       " 'condition',\n",
       " 'conduct',\n",
       " 'conflict',\n",
       " 'consensus',\n",
       " 'consequence',\n",
       " 'consideration',\n",
       " 'constraint',\n",
       " 'construction',\n",
       " 'content',\n",
       " 'contradiction',\n",
       " 'contrast',\n",
       " 'contribution',\n",
       " 'control',\n",
       " 'convention',\n",
       " 'correlation',\n",
       " 'country',\n",
       " 'creation',\n",
       " 'crisis',\n",
       " 'criterion',\n",
       " 'criticism',\n",
       " 'culture',\n",
       " 'damage',\n",
       " 'data',\n",
       " 'debate',\n",
       " 'decision',\n",
       " 'decline',\n",
       " 'defence',\n",
       " 'definition',\n",
       " 'degree',\n",
       " 'demand',\n",
       " 'description',\n",
       " 'destruction',\n",
       " 'determination',\n",
       " 'development',\n",
       " 'difference',\n",
       " 'difficulty',\n",
       " 'dilemma',\n",
       " 'dimension',\n",
       " 'disadvantage',\n",
       " 'discovery',\n",
       " 'discrimination',\n",
       " 'discussion',\n",
       " 'distinction',\n",
       " 'diversity',\n",
       " 'division',\n",
       " 'doctrine',\n",
       " 'effect',\n",
       " 'effectiveness',\n",
       " 'element',\n",
       " 'emphasis',\n",
       " 'environment',\n",
       " 'error',\n",
       " 'essence',\n",
       " 'establishment',\n",
       " 'evaluation',\n",
       " 'event',\n",
       " 'evidence',\n",
       " 'evolution',\n",
       " 'examination',\n",
       " 'example',\n",
       " 'exception',\n",
       " 'exclusion',\n",
       " 'existence',\n",
       " 'expansion',\n",
       " 'experience',\n",
       " 'experiment',\n",
       " 'explanation',\n",
       " 'exposure',\n",
       " 'extent',\n",
       " 'extreme',\n",
       " 'fact',\n",
       " 'factor',\n",
       " 'failure',\n",
       " 'feature',\n",
       " 'female',\n",
       " 'figure',\n",
       " 'finding',\n",
       " 'force',\n",
       " 'form',\n",
       " 'formation',\n",
       " 'function',\n",
       " 'future',\n",
       " 'gain',\n",
       " 'group',\n",
       " 'growth',\n",
       " 'guidance',\n",
       " 'guideline',\n",
       " 'hypothesis',\n",
       " 'idea',\n",
       " 'identity',\n",
       " 'impact',\n",
       " 'implication',\n",
       " 'importance',\n",
       " 'improvement',\n",
       " 'increase',\n",
       " 'indication',\n",
       " 'individual',\n",
       " 'influence',\n",
       " 'information',\n",
       " 'insight',\n",
       " 'instance',\n",
       " 'institution',\n",
       " 'integration',\n",
       " 'interaction',\n",
       " 'interest',\n",
       " 'interpretation',\n",
       " 'intervention',\n",
       " 'introduction',\n",
       " 'investigation',\n",
       " 'isolation',\n",
       " 'issue',\n",
       " 'kind',\n",
       " 'knowledge',\n",
       " 'lack',\n",
       " 'learning',\n",
       " 'level',\n",
       " 'likelihood',\n",
       " 'limit',\n",
       " 'limitation',\n",
       " 'link',\n",
       " 'list',\n",
       " 'literature',\n",
       " 'logic',\n",
       " 'loss',\n",
       " 'maintenance',\n",
       " 'majority',\n",
       " 'male',\n",
       " 'manipulation',\n",
       " 'mankind',\n",
       " 'material',\n",
       " 'means',\n",
       " 'measure',\n",
       " 'medium',\n",
       " 'member',\n",
       " 'method',\n",
       " 'minority',\n",
       " 'mode',\n",
       " 'model',\n",
       " 'motivation',\n",
       " 'movement',\n",
       " 'need',\n",
       " 'network',\n",
       " 'norm',\n",
       " 'notion',\n",
       " 'number',\n",
       " 'observation',\n",
       " 'observer',\n",
       " 'occurrence',\n",
       " 'operation',\n",
       " 'opportunity',\n",
       " 'option',\n",
       " 'organisation',\n",
       " 'outcome',\n",
       " 'output',\n",
       " 'parallel',\n",
       " 'parent',\n",
       " 'part',\n",
       " 'participant',\n",
       " 'past',\n",
       " 'pattern',\n",
       " 'percentage',\n",
       " 'perception',\n",
       " 'period',\n",
       " 'person',\n",
       " 'personality',\n",
       " 'perspective',\n",
       " 'phenomenon',\n",
       " 'point',\n",
       " 'policy',\n",
       " 'population',\n",
       " 'position',\n",
       " 'possibility',\n",
       " 'potential',\n",
       " 'practice',\n",
       " 'presence',\n",
       " 'pressure',\n",
       " 'problem',\n",
       " 'procedure',\n",
       " 'process',\n",
       " 'production',\n",
       " 'programme',\n",
       " 'progress',\n",
       " 'property',\n",
       " 'proportion',\n",
       " 'proposition',\n",
       " 'protection',\n",
       " 'provision',\n",
       " 'publication',\n",
       " 'purpose',\n",
       " 'quality',\n",
       " 'question',\n",
       " 'range',\n",
       " 'rate',\n",
       " 'reader',\n",
       " 'reality',\n",
       " 'reason',\n",
       " 'reasoning',\n",
       " 'recognition',\n",
       " 'reduction',\n",
       " 'reference',\n",
       " 'relation',\n",
       " 'relationship',\n",
       " 'relevance',\n",
       " 'report',\n",
       " 'representative',\n",
       " 'reproduction',\n",
       " 'requirement',\n",
       " 'research',\n",
       " 'resistance',\n",
       " 'resolution',\n",
       " 'resource',\n",
       " 'respect',\n",
       " 'restriction',\n",
       " 'result',\n",
       " 'review',\n",
       " 'rise',\n",
       " 'risk',\n",
       " 'role',\n",
       " 'rule',\n",
       " 'sample',\n",
       " 'scale',\n",
       " 'scheme',\n",
       " 'scope',\n",
       " 'search',\n",
       " 'section',\n",
       " 'selection',\n",
       " 'sense',\n",
       " 'separation',\n",
       " 'series',\n",
       " 'service',\n",
       " 'set',\n",
       " 'sex',\n",
       " 'shift',\n",
       " 'significance',\n",
       " 'similarity',\n",
       " 'situation',\n",
       " 'skill',\n",
       " 'society',\n",
       " 'solution',\n",
       " 'source',\n",
       " 'space',\n",
       " 'spread',\n",
       " 'standard',\n",
       " 'statistics',\n",
       " 'stimulus',\n",
       " 'strategy',\n",
       " 'stress',\n",
       " 'structure',\n",
       " 'subject',\n",
       " 'success',\n",
       " 'summary',\n",
       " 'support',\n",
       " 'survey',\n",
       " 'system',\n",
       " 'target',\n",
       " 'task',\n",
       " 'team',\n",
       " 'technique',\n",
       " 'tendency',\n",
       " 'tension',\n",
       " 'term',\n",
       " 'theme',\n",
       " 'theory',\n",
       " 'tolerance',\n",
       " 'topic',\n",
       " 'tradition',\n",
       " 'transition',\n",
       " 'trend',\n",
       " 'type',\n",
       " 'uncertainty',\n",
       " 'understanding',\n",
       " 'unit',\n",
       " 'use',\n",
       " 'validity',\n",
       " 'value',\n",
       " 'variation',\n",
       " 'variety',\n",
       " 'version',\n",
       " 'view',\n",
       " 'viewpoint',\n",
       " 'volume',\n",
       " 'whole',\n",
       " 'work',\n",
       " 'world',\n",
       " 'accept',\n",
       " 'account (for)',\n",
       " 'achieve',\n",
       " 'acquire',\n",
       " 'act',\n",
       " 'adapt',\n",
       " 'adopt',\n",
       " 'advance',\n",
       " 'advocate',\n",
       " 'affect',\n",
       " 'aid',\n",
       " 'aim',\n",
       " 'allocate',\n",
       " 'allow',\n",
       " 'alter',\n",
       " 'analyse',\n",
       " 'appear',\n",
       " 'apply',\n",
       " 'argue',\n",
       " 'arise',\n",
       " 'assert',\n",
       " 'assess',\n",
       " 'assign',\n",
       " 'associate',\n",
       " 'assist',\n",
       " 'assume',\n",
       " 'attain',\n",
       " 'attempt',\n",
       " 'attend',\n",
       " 'attribute',\n",
       " 'avoid',\n",
       " 'base',\n",
       " 'be',\n",
       " 'become',\n",
       " 'benefit',\n",
       " 'can',\n",
       " 'cause',\n",
       " 'characterise',\n",
       " 'choose',\n",
       " 'cite',\n",
       " 'claim',\n",
       " 'clarify',\n",
       " 'classify',\n",
       " 'coincide',\n",
       " 'combine',\n",
       " 'compare',\n",
       " 'compete',\n",
       " 'comprise',\n",
       " 'concentrate',\n",
       " 'concern',\n",
       " 'conclude',\n",
       " 'conduct',\n",
       " 'confine',\n",
       " 'conform',\n",
       " 'connect',\n",
       " 'consider',\n",
       " 'consist',\n",
       " 'constitute',\n",
       " 'construct',\n",
       " 'contain',\n",
       " 'contrast',\n",
       " 'contribute',\n",
       " 'control',\n",
       " 'convert',\n",
       " 'correspond',\n",
       " 'create',\n",
       " 'damage',\n",
       " 'deal',\n",
       " 'decline',\n",
       " 'define',\n",
       " 'demonstrate',\n",
       " 'depend',\n",
       " 'derive',\n",
       " 'describe',\n",
       " 'design',\n",
       " 'destroy',\n",
       " 'determine',\n",
       " 'develop',\n",
       " 'differ',\n",
       " 'differentiate',\n",
       " 'diminish',\n",
       " 'direct',\n",
       " 'discuss',\n",
       " 'display',\n",
       " 'distinguish',\n",
       " 'divide',\n",
       " 'dominate',\n",
       " 'effect',\n",
       " 'eliminate',\n",
       " 'emerge',\n",
       " 'emphasize',\n",
       " 'employ',\n",
       " 'enable',\n",
       " 'encounter',\n",
       " 'encourage',\n",
       " 'enhance',\n",
       " 'ensure',\n",
       " 'establish',\n",
       " 'evaluate',\n",
       " 'evolve',\n",
       " 'examine',\n",
       " 'exceed',\n",
       " 'exclude',\n",
       " 'exemplify',\n",
       " 'exist',\n",
       " 'expand',\n",
       " 'experience',\n",
       " 'explain',\n",
       " 'expose',\n",
       " 'express',\n",
       " 'extend',\n",
       " 'facilitate',\n",
       " 'fail',\n",
       " 'favour',\n",
       " 'finance',\n",
       " 'focus',\n",
       " 'follow',\n",
       " 'form',\n",
       " 'formulate',\n",
       " 'function',\n",
       " 'gain',\n",
       " 'generate',\n",
       " 'govern',\n",
       " 'highlight',\n",
       " 'identify',\n",
       " 'illustrate',\n",
       " 'imply',\n",
       " 'impose',\n",
       " 'improve',\n",
       " 'include',\n",
       " 'incorporate',\n",
       " 'increase',\n",
       " 'indicate',\n",
       " 'induce',\n",
       " 'influence',\n",
       " 'initiate',\n",
       " 'integrate',\n",
       " 'interpret',\n",
       " 'introduce',\n",
       " 'investigate',\n",
       " 'involve',\n",
       " 'isolate',\n",
       " 'label',\n",
       " 'lack',\n",
       " 'lead',\n",
       " 'limit',\n",
       " 'link',\n",
       " 'locate',\n",
       " 'maintain',\n",
       " 'may',\n",
       " 'measure',\n",
       " 'neglect',\n",
       " 'note',\n",
       " 'obtain',\n",
       " 'occur',\n",
       " 'operate',\n",
       " 'outline',\n",
       " 'overcome',\n",
       " 'participate',\n",
       " 'perceive',\n",
       " 'perform',\n",
       " 'permit',\n",
       " 'pose',\n",
       " 'possess',\n",
       " 'precede',\n",
       " 'predict',\n",
       " 'present',\n",
       " 'preserve',\n",
       " 'prevent',\n",
       " 'produce',\n",
       " 'promote',\n",
       " 'propose',\n",
       " 'prove',\n",
       " 'provide',\n",
       " 'publish',\n",
       " 'pursue',\n",
       " 'quote',\n",
       " 'receive',\n",
       " 'record',\n",
       " 'reduce',\n",
       " 'refer',\n",
       " 'reflect',\n",
       " 'regard',\n",
       " 'regulate',\n",
       " 'reinforce',\n",
       " 'reject',\n",
       " 'relate',\n",
       " 'rely',\n",
       " 'remain',\n",
       " 'remove',\n",
       " 'render',\n",
       " 'replace',\n",
       " 'report',\n",
       " 'represent',\n",
       " 'reproduce',\n",
       " 'require',\n",
       " 'resolve',\n",
       " 'respond',\n",
       " 'restrict',\n",
       " 'result',\n",
       " 'retain',\n",
       " 'reveal',\n",
       " 'seek',\n",
       " 'select',\n",
       " 'separate',\n",
       " 'should',\n",
       " 'show',\n",
       " 'solve',\n",
       " 'specify',\n",
       " 'state',\n",
       " 'stimulate',\n",
       " 'strengthen',\n",
       " 'stress',\n",
       " 'study',\n",
       " 'submit',\n",
       " 'suffer',\n",
       " 'suggest',\n",
       " 'summarise',\n",
       " 'supply',\n",
       " 'support',\n",
       " 'sustain',\n",
       " 'tackle',\n",
       " 'tend',\n",
       " 'term',\n",
       " 'transform',\n",
       " 'treat',\n",
       " 'undermine',\n",
       " 'undertake',\n",
       " 'use',\n",
       " 'vary',\n",
       " 'view',\n",
       " 'write',\n",
       " 'yield',\n",
       " 'absolute',\n",
       " 'abstract',\n",
       " 'acceptable',\n",
       " 'accessible',\n",
       " 'active',\n",
       " 'actual',\n",
       " 'acute',\n",
       " 'additional',\n",
       " 'adequate',\n",
       " 'alternative',\n",
       " 'apparent',\n",
       " 'applicable',\n",
       " 'appropriate',\n",
       " 'arbitrary',\n",
       " 'available',\n",
       " 'average',\n",
       " 'basic',\n",
       " 'central',\n",
       " 'certain',\n",
       " 'clear',\n",
       " 'common',\n",
       " 'competitive',\n",
       " 'complete',\n",
       " 'complex',\n",
       " 'comprehensive',\n",
       " 'considerable',\n",
       " 'consistent',\n",
       " 'conventional',\n",
       " 'correct',\n",
       " 'critical',\n",
       " 'crucial',\n",
       " 'dependent',\n",
       " 'detailed',\n",
       " 'different',\n",
       " 'difficult',\n",
       " 'distinct',\n",
       " 'dominant',\n",
       " 'early',\n",
       " 'effective',\n",
       " 'equal',\n",
       " 'equivalent',\n",
       " 'essential',\n",
       " 'evident',\n",
       " 'excessive',\n",
       " 'experimental',\n",
       " 'explicit',\n",
       " 'extensive',\n",
       " 'extreme',\n",
       " 'far',\n",
       " 'favourable',\n",
       " 'final',\n",
       " 'fixed',\n",
       " 'following',\n",
       " 'formal',\n",
       " 'frequent',\n",
       " 'fundamental',\n",
       " 'future',\n",
       " 'general',\n",
       " 'great',\n",
       " 'high',\n",
       " 'human',\n",
       " 'ideal',\n",
       " 'identical',\n",
       " 'immediate',\n",
       " 'important',\n",
       " 'inadequate',\n",
       " 'incomplete',\n",
       " 'independent',\n",
       " 'indirect',\n",
       " 'individual',\n",
       " 'inferior',\n",
       " 'influential',\n",
       " 'inherent',\n",
       " 'initial',\n",
       " 'interesting',\n",
       " 'internal',\n",
       " 'large',\n",
       " 'late',\n",
       " 'leading',\n",
       " 'likely',\n",
       " 'limited',\n",
       " 'local',\n",
       " 'logical',\n",
       " 'main',\n",
       " 'major',\n",
       " 'male',\n",
       " 'maximum',\n",
       " 'mental',\n",
       " 'minimal',\n",
       " 'minor',\n",
       " 'misleading',\n",
       " 'modern',\n",
       " 'mutual',\n",
       " 'natural',\n",
       " 'necessary',\n",
       " 'negative',\n",
       " 'new',\n",
       " 'normal',\n",
       " 'obvious',\n",
       " 'original',\n",
       " 'other',\n",
       " 'overall',\n",
       " 'parallel',\n",
       " 'partial',\n",
       " 'particular',\n",
       " 'passive',\n",
       " 'past',\n",
       " 'permanent',\n",
       " 'physical',\n",
       " 'positive',\n",
       " 'possible',\n",
       " 'potential',\n",
       " 'practical',\n",
       " 'present',\n",
       " 'previous',\n",
       " 'primary',\n",
       " 'prime',\n",
       " 'principal',\n",
       " 'productive',\n",
       " 'profound',\n",
       " 'progressive',\n",
       " 'prominent',\n",
       " 'psychological',\n",
       " 'radical',\n",
       " 'random',\n",
       " 'rapid',\n",
       " 'rational',\n",
       " 'real',\n",
       " 'realistic',\n",
       " 'recent',\n",
       " 'related',\n",
       " 'relative',\n",
       " 'relevant',\n",
       " 'representative',\n",
       " 'responsible',\n",
       " 'restricted',\n",
       " 'scientific',\n",
       " 'secondary',\n",
       " 'selective',\n",
       " 'separate',\n",
       " 'severe',\n",
       " 'sexual',\n",
       " 'significant',\n",
       " 'similar',\n",
       " 'simple',\n",
       " 'single',\n",
       " 'so-called',\n",
       " 'social',\n",
       " 'special',\n",
       " 'specific',\n",
       " 'stable',\n",
       " 'standard',\n",
       " 'strict',\n",
       " 'subsequent',\n",
       " 'substantial',\n",
       " 'successful',\n",
       " 'successive',\n",
       " 'sufficient',\n",
       " 'suitable',\n",
       " 'surprising',\n",
       " 'symbolic',\n",
       " 'systematic',\n",
       " 'theoretical',\n",
       " 'total',\n",
       " 'traditional',\n",
       " 'true',\n",
       " 'typical',\n",
       " 'unique',\n",
       " 'unlike',\n",
       " 'unlikely',\n",
       " 'unsuccessful',\n",
       " 'useful',\n",
       " 'valid',\n",
       " 'valuable',\n",
       " 'varied',\n",
       " 'various',\n",
       " 'visual',\n",
       " 'vital',\n",
       " 'wide',\n",
       " 'widespread',\n",
       " 'above',\n",
       " 'accordingly',\n",
       " 'accurately',\n",
       " 'adequately',\n",
       " 'also',\n",
       " 'approximately',\n",
       " 'at best',\n",
       " 'basically',\n",
       " 'clearly',\n",
       " 'closely',\n",
       " 'commonly',\n",
       " 'consequently',\n",
       " 'considerably',\n",
       " 'conversely',\n",
       " 'correctly',\n",
       " 'directly',\n",
       " 'effectively',\n",
       " 'e.g.',\n",
       " 'either',\n",
       " 'equally',\n",
       " 'especially',\n",
       " 'essentially',\n",
       " 'explicitly',\n",
       " 'extremely',\n",
       " 'fairly',\n",
       " 'far',\n",
       " 'for example',\n",
       " 'for instance',\n",
       " 'frequently',\n",
       " 'fully',\n",
       " 'further',\n",
       " 'generally',\n",
       " 'greatly',\n",
       " 'hence',\n",
       " 'highly',\n",
       " 'however',\n",
       " 'increasingly',\n",
       " 'indeed',\n",
       " 'independently',\n",
       " 'indirectly',\n",
       " 'inevitably',\n",
       " 'initially',\n",
       " 'in general',\n",
       " 'in particular',\n",
       " 'largely',\n",
       " 'less',\n",
       " 'mainly',\n",
       " 'more',\n",
       " 'moreover',\n",
       " 'most',\n",
       " 'namely',\n",
       " 'necessarily',\n",
       " 'normally',\n",
       " 'notably',\n",
       " 'often',\n",
       " 'only',\n",
       " 'originally',\n",
       " 'over',\n",
       " 'partially',\n",
       " 'particularly',\n",
       " 'potentially',\n",
       " 'previously',\n",
       " 'primarily',\n",
       " 'purely',\n",
       " 'readily',\n",
       " 'recently',\n",
       " 'relatively',\n",
       " 'secondly',\n",
       " 'significantly',\n",
       " 'similarly',\n",
       " 'simply',\n",
       " 'socially',\n",
       " 'solely somewhat',\n",
       " 'specifically',\n",
       " 'strongly',\n",
       " 'subsequently',\n",
       " 'successfully',\n",
       " 'thereby',\n",
       " 'therefore',\n",
       " 'thus',\n",
       " 'traditionally',\n",
       " 'typically',\n",
       " 'ultimately',\n",
       " 'virtually',\n",
       " 'wholly',\n",
       " 'widely',\n",
       " 'according to',\n",
       " 'although',\n",
       " 'an',\n",
       " 'as',\n",
       " 'as opposed to',\n",
       " 'as to',\n",
       " 'as well as',\n",
       " 'because',\n",
       " 'because of',\n",
       " 'between',\n",
       " 'both',\n",
       " 'by',\n",
       " 'contrary to',\n",
       " 'depending on',\n",
       " 'despite',\n",
       " 'due to',\n",
       " 'during',\n",
       " 'each',\n",
       " 'even though',\n",
       " 'fewer',\n",
       " 'first',\n",
       " 'former',\n",
       " 'from',\n",
       " 'for',\n",
       " 'given that',\n",
       " 'in',\n",
       " 'in addition to',\n",
       " 'in common with',\n",
       " 'in favour of',\n",
       " 'in relation to',\n",
       " 'in response to',\n",
       " 'in terms of',\n",
       " 'in that',\n",
       " 'in the light of',\n",
       " 'including',\n",
       " 'its',\n",
       " 'itself',\n",
       " 'latter',\n",
       " 'less',\n",
       " 'little',\n",
       " 'many',\n",
       " 'most',\n",
       " 'of',\n",
       " 'or',\n",
       " 'other than',\n",
       " 'per',\n",
       " 'prior to',\n",
       " 'provided',\n",
       " 'rather than',\n",
       " 'same',\n",
       " 'second',\n",
       " 'several',\n",
       " 'since',\n",
       " 'some',\n",
       " 'subject to',\n",
       " 'such',\n",
       " 'such as',\n",
       " 'than',\n",
       " 'that',\n",
       " 'the',\n",
       " 'their',\n",
       " 'themselves',\n",
       " 'these',\n",
       " 'third',\n",
       " 'this',\n",
       " 'those',\n",
       " 'to',\n",
       " 'unlike',\n",
       " 'upon',\n",
       " 'versus',\n",
       " 'whereas',\n",
       " 'whether',\n",
       " 'whether or not',\n",
       " 'which',\n",
       " 'within']"
      ]
     },
     "execution_count": 396,
     "metadata": {},
     "output_type": "execute_result"
    }
   ],
   "source": [
    "common_academic_ws = common_academic_ws.split(\", \")\n",
    "common_academic_ws"
   ]
  },
  {
   "cell_type": "code",
   "execution_count": 397,
   "id": "561e4e08",
   "metadata": {
    "ExecuteTime": {
     "end_time": "2022-12-31T12:49:35.767578Z",
     "start_time": "2022-12-31T12:49:33.161143Z"
    }
   },
   "outputs": [],
   "source": [
    "clean_kwds = [word for word in flat_kwds if word not in common_academic_ws]"
   ]
  },
  {
   "cell_type": "code",
   "execution_count": 404,
   "id": "5fb1ee08",
   "metadata": {
    "ExecuteTime": {
     "end_time": "2022-12-31T13:27:55.108027Z",
     "start_time": "2022-12-31T13:27:55.034109Z"
    }
   },
   "outputs": [
    {
     "name": "stdout",
     "output_type": "stream",
     "text": [
      "[('patient', 2960), ('magnetic', 1388), ('cell', 1089), ('temperature', 1084), ('structural', 1027), ('phase', 997), ('measurement', 986), ('energy', 935), ('performance', 913), ('surface', 819)]\n"
     ]
    }
   ],
   "source": [
    "from collections import Counter\n",
    " \n",
    "def top_frequent(List):\n",
    "    occurence_count = Counter(List)\n",
    "    return occurence_count.most_common(10)\n",
    "   \n",
    "print(top_frequent(clean_kwds))"
   ]
  },
  {
   "cell_type": "code",
   "execution_count": 405,
   "id": "7b1bf1ad",
   "metadata": {
    "ExecuteTime": {
     "end_time": "2022-12-31T13:27:55.790855Z",
     "start_time": "2022-12-31T13:27:55.785532Z"
    }
   },
   "outputs": [],
   "source": [
    "common_academic_ws.extend(['proposed', 'based', 'observed', 'associated', 'paper', 'studied', 'compared', 'provides'])"
   ]
  },
  {
   "cell_type": "code",
   "execution_count": 406,
   "id": "67bfb85e",
   "metadata": {
    "ExecuteTime": {
     "end_time": "2022-12-31T13:27:58.875694Z",
     "start_time": "2022-12-31T13:27:56.177564Z"
    }
   },
   "outputs": [
    {
     "name": "stdout",
     "output_type": "stream",
     "text": [
      "[('patient', 2960), ('magnetic', 1388), ('cell', 1089), ('temperature', 1084), ('structural', 1027), ('phase', 997), ('measurement', 986), ('energy', 935), ('performance', 913), ('surface', 819)]\n"
     ]
    }
   ],
   "source": [
    "clean_kwds = [word for word in flat_kwds if word not in common_academic_ws]\n",
    "print(top_frequent(clean_kwds))"
   ]
  },
  {
   "cell_type": "code",
   "execution_count": null,
   "id": "2ca9c497",
   "metadata": {},
   "outputs": [],
   "source": [
    "#if more time: ngrams, translate french into English for normalization, refine list, other algorithms for keyword extraction\n"
   ]
  },
  {
   "cell_type": "markdown",
   "id": "41f9fc75",
   "metadata": {},
   "source": [
    "# Exercise 4"
   ]
  },
  {
   "cell_type": "code",
   "execution_count": 1,
   "id": "2f9822a0",
   "metadata": {
    "ExecuteTime": {
     "end_time": "2023-01-01T13:02:08.807278Z",
     "start_time": "2023-01-01T13:01:39.715840Z"
    }
   },
   "outputs": [
    {
     "name": "stdout",
     "output_type": "stream",
     "text": [
      "Looking in indexes: https://pypi.org/simple, https://dl.cloudsmith.io/OvYIpzsClnkGBlsi/ailylabs/base-ai/python/simple/\n",
      "Collecting scispacy\n",
      "  Using cached scispacy-0.5.1-py3-none-any.whl (44 kB)\n",
      "Requirement already satisfied: requests<3.0.0,>=2.0.0 in /Users/bertagrimau/miniforge3/lib/python3.9/site-packages (from scispacy) (2.27.1)\n",
      "Collecting scikit-learn>=0.20.3\n",
      "  Downloading scikit_learn-1.2.0-cp39-cp39-macosx_12_0_arm64.whl (8.3 MB)\n",
      "\u001b[2K     \u001b[38;2;114;156;31m━━━━━━━━━━━━━━━━━━━━━━━━━━━━━━━━━━━━━━━━\u001b[0m \u001b[32m8.3/8.3 MB\u001b[0m \u001b[31m10.3 MB/s\u001b[0m eta \u001b[36m0:00:00\u001b[0mm eta \u001b[36m0:00:01\u001b[0m0:01\u001b[0m:01\u001b[0m\n",
      "\u001b[?25hCollecting nmslib>=1.7.3.6\n",
      "  Using cached nmslib-2.1.1.tar.gz (188 kB)\n",
      "  Preparing metadata (setup.py) ... \u001b[?25ldone\n",
      "\u001b[?25hCollecting pysbd\n",
      "  Using cached pysbd-0.3.4-py3-none-any.whl (71 kB)\n",
      "Requirement already satisfied: numpy in /Users/bertagrimau/miniforge3/lib/python3.9/site-packages (from scispacy) (1.22.4)\n",
      "Collecting joblib\n",
      "  Using cached joblib-1.2.0-py3-none-any.whl (297 kB)\n",
      "Collecting conllu\n",
      "  Using cached conllu-4.5.2-py2.py3-none-any.whl (16 kB)\n",
      "Collecting spacy<3.5.0,>=3.4.0\n",
      "  Downloading spacy-3.4.4-cp39-cp39-macosx_11_0_arm64.whl (6.5 MB)\n",
      "\u001b[2K     \u001b[38;2;114;156;31m━━━━━━━━━━━━━━━━━━━━━━━━━━━━━━━━━━━━━━━━\u001b[0m \u001b[32m6.5/6.5 MB\u001b[0m \u001b[31m5.9 MB/s\u001b[0m eta \u001b[36m0:00:00\u001b[0mm eta \u001b[36m0:00:01\u001b[0m[36m0:00:01\u001b[0m\n",
      "\u001b[?25hCollecting pybind11<2.6.2\n",
      "  Using cached pybind11-2.6.1-py2.py3-none-any.whl (188 kB)\n",
      "Collecting psutil\n",
      "  Using cached psutil-5.9.4-cp38-abi3-macosx_11_0_arm64.whl (244 kB)\n",
      "Requirement already satisfied: idna<4,>=2.5 in /Users/bertagrimau/miniforge3/lib/python3.9/site-packages (from requests<3.0.0,>=2.0.0->scispacy) (3.3)\n",
      "Requirement already satisfied: urllib3<1.27,>=1.21.1 in /Users/bertagrimau/miniforge3/lib/python3.9/site-packages (from requests<3.0.0,>=2.0.0->scispacy) (1.26.9)\n",
      "Requirement already satisfied: charset-normalizer~=2.0.0 in /Users/bertagrimau/miniforge3/lib/python3.9/site-packages (from requests<3.0.0,>=2.0.0->scispacy) (2.0.12)\n",
      "Requirement already satisfied: certifi>=2017.4.17 in /Users/bertagrimau/miniforge3/lib/python3.9/site-packages (from requests<3.0.0,>=2.0.0->scispacy) (2021.10.8)\n",
      "Collecting threadpoolctl>=2.0.0\n",
      "  Using cached threadpoolctl-3.1.0-py3-none-any.whl (14 kB)\n",
      "Requirement already satisfied: scipy>=1.3.2 in /Users/bertagrimau/miniforge3/lib/python3.9/site-packages (from scikit-learn>=0.20.3->scispacy) (1.8.1)\n",
      "Requirement already satisfied: srsly<3.0.0,>=2.4.3 in /Users/bertagrimau/miniforge3/lib/python3.9/site-packages (from spacy<3.5.0,>=3.4.0->scispacy) (2.4.3)\n",
      "Requirement already satisfied: pydantic!=1.8,!=1.8.1,<1.11.0,>=1.7.4 in /Users/bertagrimau/miniforge3/lib/python3.9/site-packages (from spacy<3.5.0,>=3.4.0->scispacy) (1.8.2)\n",
      "Requirement already satisfied: murmurhash<1.1.0,>=0.28.0 in /Users/bertagrimau/miniforge3/lib/python3.9/site-packages (from spacy<3.5.0,>=3.4.0->scispacy) (1.0.7)\n",
      "Collecting spacy-legacy<3.1.0,>=3.0.10\n",
      "  Using cached spacy_legacy-3.0.11-py2.py3-none-any.whl (24 kB)\n",
      "Requirement already satisfied: catalogue<2.1.0,>=2.0.6 in /Users/bertagrimau/miniforge3/lib/python3.9/site-packages (from spacy<3.5.0,>=3.4.0->scispacy) (2.0.7)\n",
      "Collecting thinc<8.2.0,>=8.1.0\n",
      "  Downloading thinc-8.1.6-cp39-cp39-macosx_11_0_arm64.whl (701 kB)\n",
      "\u001b[2K     \u001b[38;2;114;156;31m━━━━━━━━━━━━━━━━━━━━━━━━━━━━━━━━━━━━━━\u001b[0m \u001b[32m701.8/701.8 KB\u001b[0m \u001b[31m12.2 MB/s\u001b[0m eta \u001b[36m0:00:00\u001b[0mm eta \u001b[36m0:00:01\u001b[0m\n",
      "\u001b[?25hRequirement already satisfied: cymem<2.1.0,>=2.0.2 in /Users/bertagrimau/miniforge3/lib/python3.9/site-packages (from spacy<3.5.0,>=3.4.0->scispacy) (2.0.6)\n",
      "Requirement already satisfied: packaging>=20.0 in /Users/bertagrimau/miniforge3/lib/python3.9/site-packages (from spacy<3.5.0,>=3.4.0->scispacy) (21.3)\n",
      "Requirement already satisfied: smart-open<7.0.0,>=5.2.1 in /Users/bertagrimau/miniforge3/lib/python3.9/site-packages (from spacy<3.5.0,>=3.4.0->scispacy) (5.2.1)\n",
      "Requirement already satisfied: tqdm<5.0.0,>=4.38.0 in /Users/bertagrimau/miniforge3/lib/python3.9/site-packages (from spacy<3.5.0,>=3.4.0->scispacy) (4.63.0)\n",
      "Requirement already satisfied: preshed<3.1.0,>=3.0.2 in /Users/bertagrimau/miniforge3/lib/python3.9/site-packages (from spacy<3.5.0,>=3.4.0->scispacy) (3.0.6)\n",
      "Requirement already satisfied: jinja2 in /Users/bertagrimau/miniforge3/lib/python3.9/site-packages (from spacy<3.5.0,>=3.4.0->scispacy) (3.1.2)\n",
      "Requirement already satisfied: typer<0.8.0,>=0.3.0 in /Users/bertagrimau/miniforge3/lib/python3.9/site-packages (from spacy<3.5.0,>=3.4.0->scispacy) (0.4.1)\n",
      "Requirement already satisfied: wasabi<1.1.0,>=0.9.1 in /Users/bertagrimau/miniforge3/lib/python3.9/site-packages (from spacy<3.5.0,>=3.4.0->scispacy) (0.9.1)\n",
      "Requirement already satisfied: spacy-loggers<2.0.0,>=1.0.0 in /Users/bertagrimau/miniforge3/lib/python3.9/site-packages (from spacy<3.5.0,>=3.4.0->scispacy) (1.0.2)\n",
      "Requirement already satisfied: langcodes<4.0.0,>=3.2.0 in /Users/bertagrimau/miniforge3/lib/python3.9/site-packages (from spacy<3.5.0,>=3.4.0->scispacy) (3.3.0)\n",
      "Requirement already satisfied: pathy>=0.3.5 in /Users/bertagrimau/miniforge3/lib/python3.9/site-packages (from spacy<3.5.0,>=3.4.0->scispacy) (0.6.1)\n",
      "Requirement already satisfied: setuptools in /Users/bertagrimau/miniforge3/lib/python3.9/site-packages (from spacy<3.5.0,>=3.4.0->scispacy) (60.10.0)\n",
      "Requirement already satisfied: pyparsing!=3.0.5,>=2.0.2 in /Users/bertagrimau/miniforge3/lib/python3.9/site-packages (from packaging>=20.0->spacy<3.5.0,>=3.4.0->scispacy) (3.0.9)\n",
      "Requirement already satisfied: typing-extensions>=3.7.4.3 in /Users/bertagrimau/miniforge3/lib/python3.9/site-packages (from pydantic!=1.8,!=1.8.1,<1.11.0,>=1.7.4->spacy<3.5.0,>=3.4.0->scispacy) (4.2.0)\n",
      "Collecting confection<1.0.0,>=0.0.1\n",
      "  Using cached confection-0.0.3-py3-none-any.whl (32 kB)\n",
      "Collecting blis<0.8.0,>=0.7.8\n",
      "  Downloading blis-0.7.9-cp39-cp39-macosx_11_0_arm64.whl (1.1 MB)\n",
      "\u001b[2K     \u001b[38;2;114;156;31m━━━━━━━━━━━━━━━━━━━━━━━━━━━━━━━━━━━━━━━━\u001b[0m \u001b[32m1.1/1.1 MB\u001b[0m \u001b[31m23.7 MB/s\u001b[0m eta \u001b[36m0:00:00\u001b[0mm eta \u001b[36m0:00:01\u001b[0m\n",
      "\u001b[?25hRequirement already satisfied: click<9.0.0,>=7.1.1 in /Users/bertagrimau/miniforge3/lib/python3.9/site-packages (from typer<0.8.0,>=0.3.0->spacy<3.5.0,>=3.4.0->scispacy) (8.1.3)\n",
      "Requirement already satisfied: MarkupSafe>=2.0 in /Users/bertagrimau/miniforge3/lib/python3.9/site-packages (from jinja2->spacy<3.5.0,>=3.4.0->scispacy) (2.1.1)\n",
      "Building wheels for collected packages: nmslib\n",
      "  Building wheel for nmslib (setup.py) ... \u001b[?25lerror\n",
      "  \u001b[1;31merror\u001b[0m: \u001b[1msubprocess-exited-with-error\u001b[0m\n",
      "  \n",
      "  \u001b[31m×\u001b[0m \u001b[32mpython setup.py bdist_wheel\u001b[0m did not run successfully.\n",
      "  \u001b[31m│\u001b[0m exit code: \u001b[1;36m1\u001b[0m\n",
      "  \u001b[31m╰─>\u001b[0m \u001b[31m[33 lines of output]\u001b[0m\n",
      "  \u001b[31m   \u001b[0m Dependence list: ['pybind11<2.6.2', 'psutil', \"numpy>=1.10.0,<1.17 ; python_version=='2.7'\", \"numpy>=1.10.0 ; python_version>='3.5'\"]\n",
      "  \u001b[31m   \u001b[0m /Users/bertagrimau/miniforge3/lib/python3.9/site-packages/setuptools/dist.py:739: UserWarning: Usage of dash-separated 'description-file' will not be supported in future versions. Please use the underscore name 'description_file' instead\n",
      "  \u001b[31m   \u001b[0m   warnings.warn(\n",
      "  \u001b[31m   \u001b[0m /Users/bertagrimau/miniforge3/lib/python3.9/site-packages/setuptools/installer.py:27: SetuptoolsDeprecationWarning: setuptools.installer is deprecated. Requirements should be satisfied by a PEP 517 installer.\n",
      "  \u001b[31m   \u001b[0m   warnings.warn(\n",
      "  \u001b[31m   \u001b[0m Traceback (most recent call last):\n",
      "  \u001b[31m   \u001b[0m   File \"<string>\", line 2, in <module>\n",
      "  \u001b[31m   \u001b[0m   File \"<pip-setuptools-caller>\", line 34, in <module>\n",
      "  \u001b[31m   \u001b[0m   File \"/private/var/folders/kb/lywh42216h13zy46p5f_0fg40000gn/T/pip-install-g1rrdwpc/nmslib_11f375812ae04417946dda89ca857ad4/setup.py\", line 170, in <module>\n",
      "  \u001b[31m   \u001b[0m     setup(\n",
      "  \u001b[31m   \u001b[0m   File \"/Users/bertagrimau/miniforge3/lib/python3.9/site-packages/setuptools/__init__.py\", line 154, in setup\n",
      "  \u001b[31m   \u001b[0m     _install_setup_requires(attrs)\n",
      "  \u001b[31m   \u001b[0m   File \"/Users/bertagrimau/miniforge3/lib/python3.9/site-packages/setuptools/__init__.py\", line 148, in _install_setup_requires\n",
      "  \u001b[31m   \u001b[0m     dist.fetch_build_eggs(dist.setup_requires)\n",
      "  \u001b[31m   \u001b[0m   File \"/Users/bertagrimau/miniforge3/lib/python3.9/site-packages/setuptools/dist.py\", line 827, in fetch_build_eggs\n",
      "  \u001b[31m   \u001b[0m     resolved_dists = pkg_resources.working_set.resolve(\n",
      "  \u001b[31m   \u001b[0m   File \"/Users/bertagrimau/miniforge3/lib/python3.9/site-packages/pkg_resources/__init__.py\", line 777, in resolve\n",
      "  \u001b[31m   \u001b[0m     dist = best[req.key] = env.best_match(\n",
      "  \u001b[31m   \u001b[0m   File \"/Users/bertagrimau/miniforge3/lib/python3.9/site-packages/pkg_resources/__init__.py\", line 1062, in best_match\n",
      "  \u001b[31m   \u001b[0m     return self.obtain(req, installer)\n",
      "  \u001b[31m   \u001b[0m   File \"/Users/bertagrimau/miniforge3/lib/python3.9/site-packages/pkg_resources/__init__.py\", line 1074, in obtain\n",
      "  \u001b[31m   \u001b[0m     return installer(requirement)\n",
      "  \u001b[31m   \u001b[0m   File \"/Users/bertagrimau/miniforge3/lib/python3.9/site-packages/setuptools/dist.py\", line 907, in fetch_build_egg\n",
      "  \u001b[31m   \u001b[0m     return fetch_build_egg(self, req)\n",
      "  \u001b[31m   \u001b[0m   File \"/Users/bertagrimau/miniforge3/lib/python3.9/site-packages/setuptools/installer.py\", line 87, in fetch_build_egg\n",
      "  \u001b[31m   \u001b[0m     wheel.install_as_egg(dist_location)\n",
      "  \u001b[31m   \u001b[0m   File \"/Users/bertagrimau/miniforge3/lib/python3.9/site-packages/setuptools/wheel.py\", line 95, in install_as_egg\n",
      "  \u001b[31m   \u001b[0m     self._install_as_egg(destination_eggdir, zf)\n",
      "  \u001b[31m   \u001b[0m   File \"/Users/bertagrimau/miniforge3/lib/python3.9/site-packages/setuptools/wheel.py\", line 103, in _install_as_egg\n",
      "  \u001b[31m   \u001b[0m     self._convert_metadata(zf, destination_eggdir, dist_info, egg_info)\n",
      "  \u001b[31m   \u001b[0m   File \"/Users/bertagrimau/miniforge3/lib/python3.9/site-packages/setuptools/wheel.py\", line 124, in _convert_metadata\n",
      "  \u001b[31m   \u001b[0m     os.mkdir(destination_eggdir)\n",
      "  \u001b[31m   \u001b[0m FileExistsError: [Errno 17] File exists: '/private/var/folders/kb/lywh42216h13zy46p5f_0fg40000gn/T/pip-install-g1rrdwpc/nmslib_11f375812ae04417946dda89ca857ad4/.eggs/psutil-5.9.4-py3.9-macosx-11.0-arm64.egg'\n",
      "  \u001b[31m   \u001b[0m \u001b[31m[end of output]\u001b[0m\n",
      "  \n",
      "  \u001b[1;35mnote\u001b[0m: This error originates from a subprocess, and is likely not a problem with pip.\n",
      "\u001b[31m  ERROR: Failed building wheel for nmslib\u001b[0m\u001b[31m\n",
      "\u001b[0m\u001b[?25h  Running setup.py clean for nmslib\n"
     ]
    },
    {
     "name": "stdout",
     "output_type": "stream",
     "text": [
      "  \u001b[1;31merror\u001b[0m: \u001b[1msubprocess-exited-with-error\u001b[0m\n",
      "  \n",
      "  \u001b[31m×\u001b[0m \u001b[32mpython setup.py clean\u001b[0m did not run successfully.\n",
      "  \u001b[31m│\u001b[0m exit code: \u001b[1;36m1\u001b[0m\n",
      "  \u001b[31m╰─>\u001b[0m \u001b[31m[33 lines of output]\u001b[0m\n",
      "  \u001b[31m   \u001b[0m Dependence list: ['pybind11<2.6.2', 'psutil', \"numpy>=1.10.0,<1.17 ; python_version=='2.7'\", \"numpy>=1.10.0 ; python_version>='3.5'\"]\n",
      "  \u001b[31m   \u001b[0m /Users/bertagrimau/miniforge3/lib/python3.9/site-packages/setuptools/dist.py:739: UserWarning: Usage of dash-separated 'description-file' will not be supported in future versions. Please use the underscore name 'description_file' instead\n",
      "  \u001b[31m   \u001b[0m   warnings.warn(\n",
      "  \u001b[31m   \u001b[0m /Users/bertagrimau/miniforge3/lib/python3.9/site-packages/setuptools/installer.py:27: SetuptoolsDeprecationWarning: setuptools.installer is deprecated. Requirements should be satisfied by a PEP 517 installer.\n",
      "  \u001b[31m   \u001b[0m   warnings.warn(\n",
      "  \u001b[31m   \u001b[0m Traceback (most recent call last):\n",
      "  \u001b[31m   \u001b[0m   File \"<string>\", line 2, in <module>\n",
      "  \u001b[31m   \u001b[0m   File \"<pip-setuptools-caller>\", line 34, in <module>\n",
      "  \u001b[31m   \u001b[0m   File \"/private/var/folders/kb/lywh42216h13zy46p5f_0fg40000gn/T/pip-install-g1rrdwpc/nmslib_11f375812ae04417946dda89ca857ad4/setup.py\", line 170, in <module>\n",
      "  \u001b[31m   \u001b[0m     setup(\n",
      "  \u001b[31m   \u001b[0m   File \"/Users/bertagrimau/miniforge3/lib/python3.9/site-packages/setuptools/__init__.py\", line 154, in setup\n",
      "  \u001b[31m   \u001b[0m     _install_setup_requires(attrs)\n",
      "  \u001b[31m   \u001b[0m   File \"/Users/bertagrimau/miniforge3/lib/python3.9/site-packages/setuptools/__init__.py\", line 148, in _install_setup_requires\n",
      "  \u001b[31m   \u001b[0m     dist.fetch_build_eggs(dist.setup_requires)\n",
      "  \u001b[31m   \u001b[0m   File \"/Users/bertagrimau/miniforge3/lib/python3.9/site-packages/setuptools/dist.py\", line 827, in fetch_build_eggs\n",
      "  \u001b[31m   \u001b[0m     resolved_dists = pkg_resources.working_set.resolve(\n",
      "  \u001b[31m   \u001b[0m   File \"/Users/bertagrimau/miniforge3/lib/python3.9/site-packages/pkg_resources/__init__.py\", line 777, in resolve\n",
      "  \u001b[31m   \u001b[0m     dist = best[req.key] = env.best_match(\n",
      "  \u001b[31m   \u001b[0m   File \"/Users/bertagrimau/miniforge3/lib/python3.9/site-packages/pkg_resources/__init__.py\", line 1062, in best_match\n",
      "  \u001b[31m   \u001b[0m     return self.obtain(req, installer)\n",
      "  \u001b[31m   \u001b[0m   File \"/Users/bertagrimau/miniforge3/lib/python3.9/site-packages/pkg_resources/__init__.py\", line 1074, in obtain\n",
      "  \u001b[31m   \u001b[0m     return installer(requirement)\n",
      "  \u001b[31m   \u001b[0m   File \"/Users/bertagrimau/miniforge3/lib/python3.9/site-packages/setuptools/dist.py\", line 907, in fetch_build_egg\n",
      "  \u001b[31m   \u001b[0m     return fetch_build_egg(self, req)\n",
      "  \u001b[31m   \u001b[0m   File \"/Users/bertagrimau/miniforge3/lib/python3.9/site-packages/setuptools/installer.py\", line 87, in fetch_build_egg\n",
      "  \u001b[31m   \u001b[0m     wheel.install_as_egg(dist_location)\n",
      "  \u001b[31m   \u001b[0m   File \"/Users/bertagrimau/miniforge3/lib/python3.9/site-packages/setuptools/wheel.py\", line 95, in install_as_egg\n",
      "  \u001b[31m   \u001b[0m     self._install_as_egg(destination_eggdir, zf)\n",
      "  \u001b[31m   \u001b[0m   File \"/Users/bertagrimau/miniforge3/lib/python3.9/site-packages/setuptools/wheel.py\", line 103, in _install_as_egg\n",
      "  \u001b[31m   \u001b[0m     self._convert_metadata(zf, destination_eggdir, dist_info, egg_info)\n",
      "  \u001b[31m   \u001b[0m   File \"/Users/bertagrimau/miniforge3/lib/python3.9/site-packages/setuptools/wheel.py\", line 124, in _convert_metadata\n",
      "  \u001b[31m   \u001b[0m     os.mkdir(destination_eggdir)\n",
      "  \u001b[31m   \u001b[0m FileExistsError: [Errno 17] File exists: '/private/var/folders/kb/lywh42216h13zy46p5f_0fg40000gn/T/pip-install-g1rrdwpc/nmslib_11f375812ae04417946dda89ca857ad4/.eggs/psutil-5.9.4-py3.9-macosx-11.0-arm64.egg'\n",
      "  \u001b[31m   \u001b[0m \u001b[31m[end of output]\u001b[0m\n",
      "  \n",
      "  \u001b[1;35mnote\u001b[0m: This error originates from a subprocess, and is likely not a problem with pip.\n",
      "\u001b[31m  ERROR: Failed cleaning build dir for nmslib\u001b[0m\u001b[31m\n",
      "\u001b[0mFailed to build nmslib\n",
      "Installing collected packages: threadpoolctl, spacy-legacy, pysbd, pybind11, psutil, joblib, conllu, blis, scikit-learn, nmslib, confection, thinc, spacy, scispacy\n",
      "  Attempting uninstall: spacy-legacy\n",
      "    Found existing installation: spacy-legacy 3.0.9\n",
      "    Uninstalling spacy-legacy-3.0.9:\n",
      "      Successfully uninstalled spacy-legacy-3.0.9\n",
      "  Attempting uninstall: blis\n",
      "    Found existing installation: blis 0.7.7\n",
      "    Uninstalling blis-0.7.7:\n",
      "      Successfully uninstalled blis-0.7.7\n",
      "  Running setup.py install for nmslib ... \u001b[?25lerror\n",
      "  \u001b[1;31merror\u001b[0m: \u001b[1msubprocess-exited-with-error\u001b[0m\n",
      "  \n",
      "  \u001b[31m×\u001b[0m \u001b[32mRunning setup.py install for nmslib\u001b[0m did not run successfully.\n",
      "  \u001b[31m│\u001b[0m exit code: \u001b[1;36m1\u001b[0m\n",
      "  \u001b[31m╰─>\u001b[0m \u001b[31m[27 lines of output]\u001b[0m\n",
      "  \u001b[31m   \u001b[0m Dependence list: ['pybind11<2.6.2', 'psutil', \"numpy>=1.10.0,<1.17 ; python_version=='2.7'\", \"numpy>=1.10.0 ; python_version>='3.5'\"]\n",
      "  \u001b[31m   \u001b[0m /Users/bertagrimau/miniforge3/lib/python3.9/site-packages/setuptools/dist.py:739: UserWarning: Usage of dash-separated 'description-file' will not be supported in future versions. Please use the underscore name 'description_file' instead\n",
      "  \u001b[31m   \u001b[0m   warnings.warn(\n",
      "  \u001b[31m   \u001b[0m running install\n",
      "  \u001b[31m   \u001b[0m /Users/bertagrimau/miniforge3/lib/python3.9/site-packages/setuptools/command/install.py:34: SetuptoolsDeprecationWarning: setup.py install is deprecated. Use build and pip and other standards-based tools.\n",
      "  \u001b[31m   \u001b[0m   warnings.warn(\n",
      "  \u001b[31m   \u001b[0m running build\n",
      "  \u001b[31m   \u001b[0m running build_ext\n",
      "  \u001b[31m   \u001b[0m creating var\n",
      "  \u001b[31m   \u001b[0m creating var/folders\n",
      "  \u001b[31m   \u001b[0m creating var/folders/kb\n",
      "  \u001b[31m   \u001b[0m creating var/folders/kb/lywh42216h13zy46p5f_0fg40000gn\n",
      "  \u001b[31m   \u001b[0m creating var/folders/kb/lywh42216h13zy46p5f_0fg40000gn/T\n",
      "  \u001b[31m   \u001b[0m clang -Wno-unused-result -Wsign-compare -Wunreachable-code -DNDEBUG -fwrapv -O2 -Wall -fPIC -O2 -isystem /Users/bertagrimau/miniforge3/include -arch arm64 -fPIC -O2 -isystem /Users/bertagrimau/miniforge3/include -arch arm64 -I/Users/bertagrimau/miniforge3/include/python3.9 -c /var/folders/kb/lywh42216h13zy46p5f_0fg40000gn/T/tmpf6spmydp.cpp -o var/folders/kb/lywh42216h13zy46p5f_0fg40000gn/T/tmpf6spmydp.o -std=c++14\n",
      "  \u001b[31m   \u001b[0m clang -Wno-unused-result -Wsign-compare -Wunreachable-code -DNDEBUG -fwrapv -O2 -Wall -fPIC -O2 -isystem /Users/bertagrimau/miniforge3/include -arch arm64 -fPIC -O2 -isystem /Users/bertagrimau/miniforge3/include -arch arm64 -I/Users/bertagrimau/miniforge3/include/python3.9 -c /var/folders/kb/lywh42216h13zy46p5f_0fg40000gn/T/tmp6ld8uz0d.cpp -o var/folders/kb/lywh42216h13zy46p5f_0fg40000gn/T/tmp6ld8uz0d.o -fvisibility=hidden\n",
      "  \u001b[31m   \u001b[0m Extra compilation arguments: ['-O3', '-march=native', '-stdlib=libc++', '-mmacosx-version-min=10.7', '-DVERSION_INFO=\"2.1.1\"', '-std=c++14', '-fvisibility=hidden']\n",
      "  \u001b[31m   \u001b[0m building 'nmslib' extension\n",
      "  \u001b[31m   \u001b[0m creating build\n",
      "  \u001b[31m   \u001b[0m creating build/temp.macosx-11.0-arm64-3.9\n",
      "  \u001b[31m   \u001b[0m creating build/temp.macosx-11.0-arm64-3.9/similarity_search\n",
      "  \u001b[31m   \u001b[0m creating build/temp.macosx-11.0-arm64-3.9/similarity_search/src\n",
      "  \u001b[31m   \u001b[0m creating build/temp.macosx-11.0-arm64-3.9/similarity_search/src/method\n",
      "  \u001b[31m   \u001b[0m creating build/temp.macosx-11.0-arm64-3.9/similarity_search/src/space\n",
      "  \u001b[31m   \u001b[0m creating build/temp.macosx-11.0-arm64-3.9/tensorflow\n",
      "  \u001b[31m   \u001b[0m clang -Wno-unused-result -Wsign-compare -Wunreachable-code -DNDEBUG -fwrapv -O2 -Wall -fPIC -O2 -isystem /Users/bertagrimau/miniforge3/include -arch arm64 -fPIC -O2 -isystem /Users/bertagrimau/miniforge3/include -arch arm64 -I./similarity_search/include -Itensorflow -I/Users/bertagrimau/miniforge3/lib/python3.9/site-packages/pybind11/include -I/Users/bertagrimau/miniforge3/lib/python3.9/site-packages/pybind11/include -I/Users/bertagrimau/miniforge3/lib/python3.9/site-packages/pybind11/include -I/Users/bertagrimau/miniforge3/lib/python3.9/site-packages/pybind11/include -I/Users/bertagrimau/miniforge3/lib/python3.9/site-packages/numpy/core/include -I/Users/bertagrimau/miniforge3/include/python3.9 -c ./similarity_search/src/distcomp_bregman.cc -o build/temp.macosx-11.0-arm64-3.9/./similarity_search/src/distcomp_bregman.o -O3 -march=native -stdlib=libc++ -mmacosx-version-min=10.7 -DVERSION_INFO=\\\"2.1.1\\\" -std=c++14 -fvisibility=hidden\n",
      "  \u001b[31m   \u001b[0m clang: error: the clang compiler does not support '-march=native'\n",
      "  \u001b[31m   \u001b[0m error: command '/usr/bin/clang' failed with exit code 1\n",
      "  \u001b[31m   \u001b[0m \u001b[31m[end of output]\u001b[0m\n",
      "  \n",
      "  \u001b[1;35mnote\u001b[0m: This error originates from a subprocess, and is likely not a problem with pip.\n",
      "\u001b[1;31merror\u001b[0m: \u001b[1mlegacy-install-failure\u001b[0m\n",
      "\n",
      "\u001b[31m×\u001b[0m Encountered error while trying to install package.\n",
      "\u001b[31m╰─>\u001b[0m nmslib\n",
      "\n",
      "\u001b[1;35mnote\u001b[0m: This is an issue with the package mentioned above, not pip.\n",
      "\u001b[1;36mhint\u001b[0m: See above for output from the failure.\n"
     ]
    },
    {
     "name": "stdout",
     "output_type": "stream",
     "text": [
      "\u001b[?25h"
     ]
    }
   ],
   "source": [
    "!pip install scispacy"
   ]
  },
  {
   "cell_type": "code",
   "execution_count": null,
   "id": "f225d9b7",
   "metadata": {},
   "outputs": [],
   "source": [
    "#!pip install https://s3-us-west-2.amazonaws.com/ai2-s2-scispacy/releases/v0.5.1/en_ner_bc5cdr_md-0.5.1.tar.gz"
   ]
  },
  {
   "cell_type": "code",
   "execution_count": null,
   "id": "eb412477",
   "metadata": {},
   "outputs": [],
   "source": [
    "import scispacy\n",
    "import spacy"
   ]
  },
  {
   "cell_type": "code",
   "execution_count": null,
   "id": "6160b96f",
   "metadata": {},
   "outputs": [],
   "source": [
    "nlp = spacy.load(\"en_ner_bc5cdr_md\")"
   ]
  },
  {
   "cell_type": "code",
   "execution_count": null,
   "id": "9b1af46e",
   "metadata": {},
   "outputs": [],
   "source": [
    "text = \"\"\"\n",
    "Spinal and bulbar muscular atrophy (SBMA) is an \\\n",
    "           inherited motor neuron disease caused by the expansion \\\n",
    "           of a polyglutamine tract within the androgen receptor (AR). \\\n",
    "           SBMA can be caused by this easily.\n",
    "\"\"\"\n",
    "doc = nlp(text)"
   ]
  },
  {
   "cell_type": "code",
   "execution_count": null,
   "id": "8ccf83ca",
   "metadata": {},
   "outputs": [],
   "source": [
    "print(doc.ents)"
   ]
  },
  {
   "cell_type": "code",
   "execution_count": null,
   "id": "8a0b4d7e",
   "metadata": {},
   "outputs": [],
   "source": []
  },
  {
   "cell_type": "code",
   "execution_count": null,
   "id": "da2fbc61",
   "metadata": {},
   "outputs": [],
   "source": []
  },
  {
   "cell_type": "code",
   "execution_count": 432,
   "id": "4cbeb003",
   "metadata": {
    "ExecuteTime": {
     "end_time": "2022-12-31T13:33:57.019703Z",
     "start_time": "2022-12-31T13:33:57.002620Z"
    }
   },
   "outputs": [],
   "source": [
    "df4 = final[final[\"Medicine\"]==1].reset_index().drop(columns='index')"
   ]
  },
  {
   "cell_type": "code",
   "execution_count": 433,
   "id": "574d3da5",
   "metadata": {
    "ExecuteTime": {
     "end_time": "2022-12-31T13:33:57.696819Z",
     "start_time": "2022-12-31T13:33:57.672121Z"
    },
    "scrolled": true
   },
   "outputs": [
    {
     "name": "stdout",
     "output_type": "stream",
     "text": [
      "<class 'pandas.core.frame.DataFrame'>\n",
      "RangeIndex: 10361 entries, 0 to 10360\n",
      "Data columns (total 24 columns):\n",
      " #   Column                 Non-Null Count  Dtype         \n",
      "---  ------                 --------------  -----         \n",
      " 0   id                     10361 non-null  object        \n",
      " 1   title                  10361 non-null  object        \n",
      " 2   publication_year       10361 non-null  int64         \n",
      " 3   publication_date       10361 non-null  datetime64[ns]\n",
      " 4   month_year             10361 non-null  period[M]     \n",
      " 5   Art                    10361 non-null  uint8         \n",
      " 6   Biology                10361 non-null  uint8         \n",
      " 7   Business               10361 non-null  uint8         \n",
      " 8   Chemistry              10361 non-null  uint8         \n",
      " 9   Computer science       10361 non-null  uint8         \n",
      " 10  Economics              10361 non-null  uint8         \n",
      " 11  Engineering            10361 non-null  uint8         \n",
      " 12  Environmental science  10361 non-null  uint8         \n",
      " 13  Geography              10361 non-null  uint8         \n",
      " 14  Geology                10361 non-null  uint8         \n",
      " 15  History                10361 non-null  uint8         \n",
      " 16  Materials science      10361 non-null  uint8         \n",
      " 17  Mathematics            10361 non-null  uint8         \n",
      " 18  Medicine               10361 non-null  uint8         \n",
      " 19  Philosophy             10361 non-null  uint8         \n",
      " 20  Physics                10361 non-null  uint8         \n",
      " 21  Political science      10361 non-null  uint8         \n",
      " 22  Psychology             10361 non-null  uint8         \n",
      " 23  Sociology              10361 non-null  uint8         \n",
      "dtypes: datetime64[ns](1), int64(1), object(2), period[M](1), uint8(19)\n",
      "memory usage: 597.1+ KB\n"
     ]
    }
   ],
   "source": [
    "df4=df4[['id']]"
   ]
  },
  {
   "cell_type": "code",
   "execution_count": 202,
   "id": "245fb0c7",
   "metadata": {
    "ExecuteTime": {
     "end_time": "2022-12-30T15:51:22.046930Z",
     "start_time": "2022-12-30T15:51:22.032321Z"
    }
   },
   "outputs": [],
   "source": [
    "PER_PAGE=200\n",
    "WAIT_SECS=0.15\n",
    "WORKS_FILE_PATH = './data/authors.json'"
   ]
  },
  {
   "cell_type": "code",
   "execution_count": 66,
   "id": "8fe92937",
   "metadata": {
    "ExecuteTime": {
     "end_time": "2022-12-29T16:16:29.440070Z",
     "start_time": "2022-12-29T16:16:29.424932Z"
    }
   },
   "outputs": [],
   "source": [
    "def fetch_page(cursor):\n",
    "    base_url='https://api.openalex.org/authors'\n",
    "    url = '{base_url}?filter=last_known_institution.search:grenoble&cursor={cursor}&per-page={per_page}&mailto={mailto}'.format(\n",
    "        base_url=base_url,\n",
    "        cursor=cursor,\n",
    "        per_page=PER_PAGE,\n",
    "        mailto='bertagrim@gmail.com'\n",
    "    )\n",
    "    print('Senging GET {url}'.format(url=url))\n",
    "          \n",
    "    response = requests.get(url)\n",
    "    \n",
    "    if (response.status_code == 200):\n",
    "        print('OK')\n",
    "        return response.json()\n",
    "    else:\n",
    "        print('Request failed: {status_code}'.format(status_code=response.status_code))\n",
    "        print(response.text)\n",
    "    \n"
   ]
  },
  {
   "cell_type": "code",
   "execution_count": 67,
   "id": "eea16aea",
   "metadata": {
    "ExecuteTime": {
     "end_time": "2022-12-29T16:16:31.616092Z",
     "start_time": "2022-12-29T16:16:31.610338Z"
    }
   },
   "outputs": [],
   "source": [
    "def save_entries(page_n, results):\n",
    "    offset = page_n * PER_PAGE\n",
    "    from_entry_num = offset\n",
    "    to_entry_num = from_entry_num + len(results)\n",
    "    print('Saving new entries in positions: {from_entry_num}..{to_entry_num}'.format(\n",
    "        from_entry_num=from_entry_num,\n",
    "        to_entry_num=to_entry_num\n",
    "    ))\n",
    "    with open(WORKS_FILE_PATH, 'r+', encoding='utf-8') as file:\n",
    "        entries = json.load(file)\n",
    "        entries[from_entry_num:] = results\n",
    "        file.seek(0)\n",
    "        json.dump(entries, file)"
   ]
  },
  {
   "cell_type": "code",
   "execution_count": 68,
   "id": "f5bb54e6",
   "metadata": {
    "ExecuteTime": {
     "end_time": "2022-12-29T16:16:41.134778Z",
     "start_time": "2022-12-29T16:16:37.232963Z"
    }
   },
   "outputs": [
    {
     "name": "stdout",
     "output_type": "stream",
     "text": [
      "Senging GET https://api.openalex.org/works?filter=from_publication_date:2017-01-01,to_publication_date:2021-12-31,raw_affiliation_string.search:grenoble&cursor=*&per-page=200&mailto=bertagrim@gmail.com\n",
      "OK\n"
     ]
    },
    {
     "data": {
      "text/plain": [
       "248"
      ]
     },
     "execution_count": 68,
     "metadata": {},
     "output_type": "execute_result"
    }
   ],
   "source": [
    "page_1 = fetch_page('*')\n",
    "num_pages = math.ceil(page_1['meta']['count']/PER_PAGE)\n",
    "num_pages"
   ]
  },
  {
   "cell_type": "code",
   "execution_count": 70,
   "id": "20ef3c9b",
   "metadata": {
    "ExecuteTime": {
     "end_time": "2022-12-29T16:19:07.543645Z",
     "start_time": "2022-12-29T16:19:07.529928Z"
    }
   },
   "outputs": [
    {
     "data": {
      "text/plain": [
       "248"
      ]
     },
     "execution_count": 70,
     "metadata": {},
     "output_type": "execute_result"
    }
   ],
   "source": [
    "len(range(num_pages))"
   ]
  },
  {
   "cell_type": "code",
   "execution_count": 73,
   "id": "cdd35504",
   "metadata": {
    "ExecuteTime": {
     "end_time": "2022-12-29T17:37:37.223898Z",
     "start_time": "2022-12-29T17:29:04.480157Z"
    }
   },
   "outputs": [
    {
     "name": "stdout",
     "output_type": "stream",
     "text": [
      "Fetching page 0 ...\n",
      "Senging GET https://api.openalex.org/works?filter=from_publication_date:2017-01-01,to_publication_date:2021-12-31,raw_affiliation_string.search:grenoble&cursor=*&per-page=200&mailto=bertagrim@gmail.com\n",
      "OK\n",
      "Fetching page 1 ...\n",
      "Senging GET https://api.openalex.org/works?filter=from_publication_date:2017-01-01,to_publication_date:2021-12-31,raw_affiliation_string.search:grenoble&cursor=Ils0NjMuODIzNTIsIDE0OTg0MzUyMDAwMDAsICdodHRwczovL29wZW5hbGV4Lm9yZy9XMjY4MzcwMjY5OCddIg==&per-page=200&mailto=bertagrim@gmail.com\n",
      "OK\n",
      "Fetching page 2 ...\n",
      "Senging GET https://api.openalex.org/works?filter=from_publication_date:2017-01-01,to_publication_date:2021-12-31,raw_affiliation_string.search:grenoble&cursor=IlszODEuNDI1MzUsIDE1OTc4ODE2MDAwMDAsICdodHRwczovL29wZW5hbGV4Lm9yZy9XMzA2MTExOTc1NCddIg==&per-page=200&mailto=bertagrim@gmail.com\n",
      "OK\n",
      "Fetching page 3 ...\n",
      "Senging GET https://api.openalex.org/works?filter=from_publication_date:2017-01-01,to_publication_date:2021-12-31,raw_affiliation_string.search:grenoble&cursor=IlszNDIuMTU0NywgMTU2NDYxNzYwMDAwMCwgJ2h0dHBzOi8vb3BlbmFsZXgub3JnL1cyOTU0NDM2MzA2J10i&per-page=200&mailto=bertagrim@gmail.com\n",
      "OK\n",
      "Fetching page 4 ...\n",
      "Senging GET https://api.openalex.org/works?filter=from_publication_date:2017-01-01,to_publication_date:2021-12-31,raw_affiliation_string.search:grenoble&cursor=IlszMTIuNjkzMDUsIDE1NTY2Njg4MDAwMDAsICdodHRwczovL29wZW5hbGV4Lm9yZy9XMjkyMjQ2MzY4MCddIg==&per-page=200&mailto=bertagrim@gmail.com\n",
      "OK\n",
      "Fetching page 5 ...\n",
      "Senging GET https://api.openalex.org/works?filter=from_publication_date:2017-01-01,to_publication_date:2021-12-31,raw_affiliation_string.search:grenoble&cursor=IlsyOTIuNjE4LCAxNDgzMjI4ODAwMDAwLCAnaHR0cHM6Ly9vcGVuYWxleC5vcmcvVzI1MjAzOTQxMjgnXSI=&per-page=200&mailto=bertagrim@gmail.com\n",
      "OK\n",
      "Fetching page 6 ...\n",
      "Senging GET https://api.openalex.org/works?filter=from_publication_date:2017-01-01,to_publication_date:2021-12-31,raw_affiliation_string.search:grenoble&cursor=IlsyNzguODUxMTQsIDE1ODkxNTUyMDAwMDAsICdodHRwczovL29wZW5hbGV4Lm9yZy9XMzAyMjEwNDU0NyddIg==&per-page=200&mailto=bertagrim@gmail.com\n",
      "OK\n",
      "Fetching page 7 ...\n",
      "Senging GET https://api.openalex.org/works?filter=from_publication_date:2017-01-01,to_publication_date:2021-12-31,raw_affiliation_string.search:grenoble&cursor=IlsyNjcuNjA3NywgMTU3OTA0NjQwMDAwMCwgJ2h0dHBzOi8vb3BlbmFsZXgub3JnL1cyOTgwNTk5NjYxJ10i&per-page=200&mailto=bertagrim@gmail.com\n",
      "OK\n",
      "Fetching page 8 ...\n",
      "Senging GET https://api.openalex.org/works?filter=from_publication_date:2017-01-01,to_publication_date:2021-12-31,raw_affiliation_string.search:grenoble&cursor=IlsyNTcuMTAyODQsIDE1MDc1MDcyMDAwMDAsICdodHRwczovL29wZW5hbGV4Lm9yZy9XMjk1MzI3NjE4MiddIg==&per-page=200&mailto=bertagrim@gmail.com\n",
      "OK\n",
      "Fetching page 9 ...\n",
      "Senging GET https://api.openalex.org/works?filter=from_publication_date:2017-01-01,to_publication_date:2021-12-31,raw_affiliation_string.search:grenoble&cursor=IlsyNDguNDExNSwgMTU4NTI2NzIwMDAwMCwgJ2h0dHBzOi8vb3BlbmFsZXgub3JnL1czMDEzMDE1MDEwJ10i&per-page=200&mailto=bertagrim@gmail.com\n",
      "OK\n",
      "Fetching page 10 ...\n",
      "Senging GET https://api.openalex.org/works?filter=from_publication_date:2017-01-01,to_publication_date:2021-12-31,raw_affiliation_string.search:grenoble&cursor=IlsyNDAuMTA4NDksIDE0OTYyNzUyMDAwMDAsICdodHRwczovL29wZW5hbGV4Lm9yZy9XMjUwODkzMTY4NiddIg==&per-page=200&mailto=bertagrim@gmail.com\n",
      "OK\n",
      "Fetching page 11 ...\n",
      "Senging GET https://api.openalex.org/works?filter=from_publication_date:2017-01-01,to_publication_date:2021-12-31,raw_affiliation_string.search:grenoble&cursor=IlsyMzMuMjI3OTQsIDE1ODgyOTEyMDAwMDAsICdodHRwczovL29wZW5hbGV4Lm9yZy9XMjk5NTgyNjUxMyddIg==&per-page=200&mailto=bertagrim@gmail.com\n",
      "OK\n",
      "Fetching page 12 ...\n",
      "Senging GET https://api.openalex.org/works?filter=from_publication_date:2017-01-01,to_publication_date:2021-12-31,raw_affiliation_string.search:grenoble&cursor=IlsyMjYuODkwMzgsIDE1NTQwNzY4MDAwMDAsICdodHRwczovL29wZW5hbGV4Lm9yZy9XMjkxNDY5OTk4MSddIg==&per-page=200&mailto=bertagrim@gmail.com\n",
      "OK\n",
      "Fetching page 13 ...\n",
      "Senging GET https://api.openalex.org/works?filter=from_publication_date:2017-01-01,to_publication_date:2021-12-31,raw_affiliation_string.search:grenoble&cursor=IlsyMjAuNTI5ODYsIDE0ODg2NzIwMDAwMDAsICdodHRwczovL29wZW5hbGV4Lm9yZy9XMjU1MDQyNDc4NCddIg==&per-page=200&mailto=bertagrim@gmail.com\n",
      "OK\n",
      "Fetching page 14 ...\n",
      "Senging GET https://api.openalex.org/works?filter=from_publication_date:2017-01-01,to_publication_date:2021-12-31,raw_affiliation_string.search:grenoble&cursor=IlsyMTQuMzQ3MjYsIDE1NjEzMzQ0MDAwMDAsICdodHRwczovL29wZW5hbGV4Lm9yZy9XMjk0OTQ3MTE4NCddIg==&per-page=200&mailto=bertagrim@gmail.com\n",
      "OK\n",
      "Fetching page 15 ...\n",
      "Senging GET https://api.openalex.org/works?filter=from_publication_date:2017-01-01,to_publication_date:2021-12-31,raw_affiliation_string.search:grenoble&cursor=IlsyMDkuNzE5MjQsIDE1MTUxMTA0MDAwMDAsICdodHRwczovL29wZW5hbGV4Lm9yZy9XMjc2NjgxNTMzNSddIg==&per-page=200&mailto=bertagrim@gmail.com\n",
      "OK\n",
      "Fetching page 16 ...\n",
      "Senging GET https://api.openalex.org/works?filter=from_publication_date:2017-01-01,to_publication_date:2021-12-31,raw_affiliation_string.search:grenoble&cursor=IlsyMDMuOTE4LCAxNTA0MjI0MDAwMDAwLCAnaHR0cHM6Ly9vcGVuYWxleC5vcmcvVzI1OTAzMDYyNzcnXSI=&per-page=200&mailto=bertagrim@gmail.com\n",
      "OK\n",
      "Fetching page 17 ...\n",
      "Senging GET https://api.openalex.org/works?filter=from_publication_date:2017-01-01,to_publication_date:2021-12-31,raw_affiliation_string.search:grenoble&cursor=IlsxOTkuMjYxMjgsIDE0OTYyNzUyMDAwMDAsICdodHRwczovL29wZW5hbGV4Lm9yZy9XMjU4Nzg2ODE4NCddIg==&per-page=200&mailto=bertagrim@gmail.com\n",
      "OK\n",
      "Fetching page 18 ...\n",
      "Senging GET https://api.openalex.org/works?filter=from_publication_date:2017-01-01,to_publication_date:2021-12-31,raw_affiliation_string.search:grenoble&cursor=IlsxOTUuMzU3ODgsIDE1NDMyNzY4MDAwMDAsICdodHRwczovL29wZW5hbGV4Lm9yZy9XMjkwMDk5MDgyOCddIg==&per-page=200&mailto=bertagrim@gmail.com\n",
      "OK\n",
      "Fetching page 19 ...\n",
      "Senging GET https://api.openalex.org/works?filter=from_publication_date:2017-01-01,to_publication_date:2021-12-31,raw_affiliation_string.search:grenoble&cursor=IlsxOTEuNDA2NzUsIDE1NDAxNjY0MDAwMDAsICdodHRwczovL29wZW5hbGV4Lm9yZy9XMjg5NjIwODY2MiddIg==&per-page=200&mailto=bertagrim@gmail.com\n",
      "OK\n",
      "Fetching page 20 ...\n",
      "Senging GET https://api.openalex.org/works?filter=from_publication_date:2017-01-01,to_publication_date:2021-12-31,raw_affiliation_string.search:grenoble&cursor=IlsxODcuODk0NTgsIDE1Nzc4MzY4MDAwMDAsICdodHRwczovL29wZW5hbGV4Lm9yZy9XMjk4MjY2NDMyNSddIg==&per-page=200&mailto=bertagrim@gmail.com\n",
      "OK\n",
      "Fetching page 21 ...\n",
      "Senging GET https://api.openalex.org/works?filter=from_publication_date:2017-01-01,to_publication_date:2021-12-31,raw_affiliation_string.search:grenoble&cursor=IlsxODQuNTUzMTYsIDE2MTIzMTA0MDAwMDAsICdodHRwczovL29wZW5hbGV4Lm9yZy9XMzEyNjMwMTg5NiddIg==&per-page=200&mailto=bertagrim@gmail.com\n",
      "OK\n",
      "Fetching page 22 ...\n",
      "Senging GET https://api.openalex.org/works?filter=from_publication_date:2017-01-01,to_publication_date:2021-12-31,raw_affiliation_string.search:grenoble&cursor=IlsxODEuNjQwNDQsIDE1MTY2NjU2MDAwMDAsICdodHRwczovL29wZW5hbGV4Lm9yZy9XMjc4NDYyMjYxMiddIg==&per-page=200&mailto=bertagrim@gmail.com\n",
      "OK\n",
      "Fetching page 23 ...\n",
      "Senging GET https://api.openalex.org/works?filter=from_publication_date:2017-01-01,to_publication_date:2021-12-31,raw_affiliation_string.search:grenoble&cursor=IlsxNzguMjM3ODgsIDE1NDIwNjcyMDAwMDAsICdodHRwczovL29wZW5hbGV4Lm9yZy9XMjkwMTQ5MDk0MyddIg==&per-page=200&mailto=bertagrim@gmail.com\n",
      "OK\n",
      "Fetching page 24 ...\n",
      "Senging GET https://api.openalex.org/works?filter=from_publication_date:2017-01-01,to_publication_date:2021-12-31,raw_affiliation_string.search:grenoble&cursor=IlsxNzUuNDc2MDMsIDE1MDUzNDcyMDAwMDAsICdodHRwczovL29wZW5hbGV4Lm9yZy9XMjc1NjAwNDYzOSddIg==&per-page=200&mailto=bertagrim@gmail.com\n",
      "OK\n",
      "Fetching page 25 ...\n",
      "Senging GET https://api.openalex.org/works?filter=from_publication_date:2017-01-01,to_publication_date:2021-12-31,raw_affiliation_string.search:grenoble&cursor=IlsxNzIuNzYwNDIsIDE0ODQ2OTc2MDAwMDAsICdodHRwczovL29wZW5hbGV4Lm9yZy9XMjU2MzMzNDcwMiddIg==&per-page=200&mailto=bertagrim@gmail.com\n",
      "OK\n",
      "Fetching page 26 ...\n",
      "Senging GET https://api.openalex.org/works?filter=from_publication_date:2017-01-01,to_publication_date:2021-12-31,raw_affiliation_string.search:grenoble&cursor=IlsxNzAuMDAzMjUsIDE1NzAxNDcyMDAwMDAsICdodHRwczovL29wZW5hbGV4Lm9yZy9XMjk3ODg1MTkwNCddIg==&per-page=200&mailto=bertagrim@gmail.com\n"
     ]
    },
    {
     "name": "stdout",
     "output_type": "stream",
     "text": [
      "OK\n",
      "Fetching page 27 ...\n",
      "Senging GET https://api.openalex.org/works?filter=from_publication_date:2017-01-01,to_publication_date:2021-12-31,raw_affiliation_string.search:grenoble&cursor=IlsxNjcuMDk4MjUsIDE2Mjc0MzA0MDAwMDAsICdodHRwczovL29wZW5hbGV4Lm9yZy9XMzE4NjY0MjYyNCddIg==&per-page=200&mailto=bertagrim@gmail.com\n",
      "OK\n",
      "Fetching page 28 ...\n",
      "Senging GET https://api.openalex.org/works?filter=from_publication_date:2017-01-01,to_publication_date:2021-12-31,raw_affiliation_string.search:grenoble&cursor=IlsxNjUuMjUyMTIsIDE1OTM1NjE2MDAwMDAsICdodHRwczovL29wZW5hbGV4Lm9yZy9XMjkwMzE2MTk2OSddIg==&per-page=200&mailto=bertagrim@gmail.com\n",
      "OK\n",
      "Fetching page 29 ...\n",
      "Senging GET https://api.openalex.org/works?filter=from_publication_date:2017-01-01,to_publication_date:2021-12-31,raw_affiliation_string.search:grenoble&cursor=IlsxNjIuNDk2MTUsIDE1NDg5NzkyMDAwMDAsICdodHRwczovL29wZW5hbGV4Lm9yZy9XMjg5NTU1NjIyNCddIg==&per-page=200&mailto=bertagrim@gmail.com\n",
      "OK\n",
      "Fetching page 30 ...\n",
      "Senging GET https://api.openalex.org/works?filter=from_publication_date:2017-01-01,to_publication_date:2021-12-31,raw_affiliation_string.search:grenoble&cursor=IlsxNjAuOTQxOTMsIDE1NDYzMDA4MDAwMDAsICdodHRwczovL29wZW5hbGV4Lm9yZy9XMjkwMjg4MDYxOCddIg==&per-page=200&mailto=bertagrim@gmail.com\n",
      "OK\n",
      "Fetching page 31 ...\n",
      "Senging GET https://api.openalex.org/works?filter=from_publication_date:2017-01-01,to_publication_date:2021-12-31,raw_affiliation_string.search:grenoble&cursor=IlsxNTguMjAyNDgsIDE0OTYyNzUyMDAwMDAsICdodHRwczovL29wZW5hbGV4Lm9yZy9XMjU5MzY2ODk2MSddIg==&per-page=200&mailto=bertagrim@gmail.com\n",
      "OK\n",
      "Fetching page 32 ...\n",
      "Senging GET https://api.openalex.org/works?filter=from_publication_date:2017-01-01,to_publication_date:2021-12-31,raw_affiliation_string.search:grenoble&cursor=IlsxNTYuNDg4MDgsIDE1ODA1MTUyMDAwMDAsICdodHRwczovL29wZW5hbGV4Lm9yZy9XMjk5MDYzNDIyNiddIg==&per-page=200&mailto=bertagrim@gmail.com\n",
      "OK\n",
      "Fetching page 33 ...\n",
      "Senging GET https://api.openalex.org/works?filter=from_publication_date:2017-01-01,to_publication_date:2021-12-31,raw_affiliation_string.search:grenoble&cursor=IlsxNTQuMTAyMzMsIDE1MjQ3ODcyMDAwMDAsICdodHRwczovL29wZW5hbGV4Lm9yZy9XMjc2NzY1MTUxMiddIg==&per-page=200&mailto=bertagrim@gmail.com\n",
      "OK\n",
      "Fetching page 34 ...\n",
      "Senging GET https://api.openalex.org/works?filter=from_publication_date:2017-01-01,to_publication_date:2021-12-31,raw_affiliation_string.search:grenoble&cursor=IlsxNTIuNTkzNywgMTUxNDg1MTIwMDAwMCwgJ2h0dHBzOi8vb3BlbmFsZXgub3JnL1cyNzc0Mjg5MTU4J10i&per-page=200&mailto=bertagrim@gmail.com\n",
      "OK\n",
      "Fetching page 35 ...\n",
      "Senging GET https://api.openalex.org/works?filter=from_publication_date:2017-01-01,to_publication_date:2021-12-31,raw_affiliation_string.search:grenoble&cursor=IlsxNTAuNDkyODksIDE1MTM4MTQ0MDAwMDAsICdodHRwczovL29wZW5hbGV4Lm9yZy9XMjc4MDYyMzQ5NSddIg==&per-page=200&mailto=bertagrim@gmail.com\n",
      "OK\n",
      "Fetching page 36 ...\n",
      "Senging GET https://api.openalex.org/works?filter=from_publication_date:2017-01-01,to_publication_date:2021-12-31,raw_affiliation_string.search:grenoble&cursor=IlsxNDguODc5NjgsIDE1Mjc1NTIwMDAwMDAsICdodHRwczovL29wZW5hbGV4Lm9yZy9XMjgwNjU3MzcwOSddIg==&per-page=200&mailto=bertagrim@gmail.com\n",
      "OK\n",
      "Fetching page 37 ...\n",
      "Senging GET https://api.openalex.org/works?filter=from_publication_date:2017-01-01,to_publication_date:2021-12-31,raw_affiliation_string.search:grenoble&cursor=IlsxNDcuMDYwOCwgMTU0OTU4NDAwMDAwMCwgJ2h0dHBzOi8vb3BlbmFsZXgub3JnL1cyOTExMzczODU3J10i&per-page=200&mailto=bertagrim@gmail.com\n",
      "OK\n",
      "Fetching page 38 ...\n",
      "Senging GET https://api.openalex.org/works?filter=from_publication_date:2017-01-01,to_publication_date:2021-12-31,raw_affiliation_string.search:grenoble&cursor=IlsxNDQuNjA0NTcsIDE1NDY5MDU2MDAwMDAsICdodHRwczovL29wZW5hbGV4Lm9yZy9XMjkxMDA1NTU3MSddIg==&per-page=200&mailto=bertagrim@gmail.com\n",
      "OK\n",
      "Fetching page 39 ...\n",
      "Senging GET https://api.openalex.org/works?filter=from_publication_date:2017-01-01,to_publication_date:2021-12-31,raw_affiliation_string.search:grenoble&cursor=IlsxNDMuMzEwNjQsIDE1Mjc4MTEyMDAwMDAsICdodHRwczovL29wZW5hbGV4Lm9yZy9XMjgwNTM5MDkwMSddIg==&per-page=200&mailto=bertagrim@gmail.com\n",
      "OK\n",
      "Fetching page 40 ...\n",
      "Senging GET https://api.openalex.org/works?filter=from_publication_date:2017-01-01,to_publication_date:2021-12-31,raw_affiliation_string.search:grenoble&cursor=IlsxNDEuNDg0NzksIDE1MTAxODU2MDAwMDAsICdodHRwczovL29wZW5hbGV4Lm9yZy9XMjc2Nzg2NjE2MiddIg==&per-page=200&mailto=bertagrim@gmail.com\n",
      "OK\n",
      "Fetching page 41 ...\n",
      "Senging GET https://api.openalex.org/works?filter=from_publication_date:2017-01-01,to_publication_date:2021-12-31,raw_affiliation_string.search:grenoble&cursor=IlsxMzkuOTAxNDksIDE1MTM4MTQ0MDAwMDAsICdodHRwczovL29wZW5hbGV4Lm9yZy9XMjc3Njc0NjE5NyddIg==&per-page=200&mailto=bertagrim@gmail.com\n",
      "OK\n",
      "Fetching page 42 ...\n",
      "Senging GET https://api.openalex.org/works?filter=from_publication_date:2017-01-01,to_publication_date:2021-12-31,raw_affiliation_string.search:grenoble&cursor=IlsxMzguMzYyMzgsIDE1MzA0MDMyMDAwMDAsICdodHRwczovL29wZW5hbGV4Lm9yZy9XMjgwMzAyMDUyNCddIg==&per-page=200&mailto=bertagrim@gmail.com\n",
      "OK\n",
      "Fetching page 43 ...\n",
      "Senging GET https://api.openalex.org/works?filter=from_publication_date:2017-01-01,to_publication_date:2021-12-31,raw_affiliation_string.search:grenoble&cursor=IlsxMzYuMjc2MTUsIDE0ODQwMDY0MDAwMDAsICdodHRwczovL29wZW5hbGV4Lm9yZy9XMjU2NDcwNDEyNCddIg==&per-page=200&mailto=bertagrim@gmail.com\n",
      "OK\n",
      "Fetching page 44 ...\n",
      "Senging GET https://api.openalex.org/works?filter=from_publication_date:2017-01-01,to_publication_date:2021-12-31,raw_affiliation_string.search:grenoble&cursor=IlsxMzUuMDQwMTksIDE1NTkzNDcyMDAwMDAsICdodHRwczovL29wZW5hbGV4Lm9yZy9XMjk2MzQ3ODU3MSddIg==&per-page=200&mailto=bertagrim@gmail.com\n",
      "OK\n",
      "Fetching page 45 ...\n",
      "Senging GET https://api.openalex.org/works?filter=from_publication_date:2017-01-01,to_publication_date:2021-12-31,raw_affiliation_string.search:grenoble&cursor=IlsxMzMuMjA2NzksIDE2MTQ1NTY4MDAwMDAsICdodHRwczovL29wZW5hbGV4Lm9yZy9XMzExNTIwMDI3NiddIg==&per-page=200&mailto=bertagrim@gmail.com\n",
      "OK\n",
      "Fetching page 46 ...\n",
      "Senging GET https://api.openalex.org/works?filter=from_publication_date:2017-01-01,to_publication_date:2021-12-31,raw_affiliation_string.search:grenoble&cursor=IlsxMzEuNzk1OTYsIDE1ODg1NTA0MDAwMDAsICdodHRwczovL29wZW5hbGV4Lm9yZy9XMzAxOTEyNTU4NCddIg==&per-page=200&mailto=bertagrim@gmail.com\n",
      "OK\n",
      "Fetching page 47 ...\n",
      "Senging GET https://api.openalex.org/works?filter=from_publication_date:2017-01-01,to_publication_date:2021-12-31,raw_affiliation_string.search:grenoble&cursor=IlsxMzAuMzU4OCwgMTU0OTQxMTIwMDAwMCwgJ2h0dHBzOi8vb3BlbmFsZXgub3JnL1cyOTA5MTY0NDQxJ10i&per-page=200&mailto=bertagrim@gmail.com\n",
      "OK\n",
      "Fetching page 48 ...\n",
      "Senging GET https://api.openalex.org/works?filter=from_publication_date:2017-01-01,to_publication_date:2021-12-31,raw_affiliation_string.search:grenoble&cursor=IlsxMjguOTk4NTIsIDE1NDg4MDY0MDAwMDAsICdodHRwczovL29wZW5hbGV4Lm9yZy9XMjkxNDQ2NDEwOCddIg==&per-page=200&mailto=bertagrim@gmail.com\n",
      "OK\n",
      "Fetching page 49 ...\n",
      "Senging GET https://api.openalex.org/works?filter=from_publication_date:2017-01-01,to_publication_date:2021-12-31,raw_affiliation_string.search:grenoble&cursor=IlsxMjcuMzExOTgsIDE1OTA5Njk2MDAwMDAsICdodHRwczovL29wZW5hbGV4Lm9yZy9XMzAxNDEyODg0MSddIg==&per-page=200&mailto=bertagrim@gmail.com\n",
      "OK\n",
      "Fetching page 50 ...\n",
      "Senging GET https://api.openalex.org/works?filter=from_publication_date:2017-01-01,to_publication_date:2021-12-31,raw_affiliation_string.search:grenoble&cursor=IlsxMjYuMjYwNzUsIDE1OTYyNDAwMDAwMDAsICdodHRwczovL29wZW5hbGV4Lm9yZy9XMzAxNDU5MzA5NyddIg==&per-page=200&mailto=bertagrim@gmail.com\n",
      "OK\n",
      "Fetching page 51 ...\n",
      "Senging GET https://api.openalex.org/works?filter=from_publication_date:2017-01-01,to_publication_date:2021-12-31,raw_affiliation_string.search:grenoble&cursor=IlsxMjUuMDg1MzIsIDE2MjczNDQwMDAwMDAsICdodHRwczovL29wZW5hbGV4Lm9yZy9XMzE2ODM3MzgyMSddIg==&per-page=200&mailto=bertagrim@gmail.com\n",
      "OK\n",
      "Fetching page 52 ...\n",
      "Senging GET https://api.openalex.org/works?filter=from_publication_date:2017-01-01,to_publication_date:2021-12-31,raw_affiliation_string.search:grenoble&cursor=IlsxMjMuNDcxNzgsIDE2MzQ3NzQ0MDAwMDAsICdodHRwczovL29wZW5hbGV4Lm9yZy9XMzIwNjk5NzY3MyddIg==&per-page=200&mailto=bertagrim@gmail.com\n",
      "OK\n",
      "Fetching page 53 ...\n",
      "Senging GET https://api.openalex.org/works?filter=from_publication_date:2017-01-01,to_publication_date:2021-12-31,raw_affiliation_string.search:grenoble&cursor=IlsxMjEuNzc0ODY0LCAxNjM2NDE2MDAwMDAwLCAnaHR0cHM6Ly9vcGVuYWxleC5vcmcvVzMyMTI3OTU5MTUnXSI=&per-page=200&mailto=bertagrim@gmail.com\n"
     ]
    },
    {
     "name": "stdout",
     "output_type": "stream",
     "text": [
      "OK\n",
      "Fetching page 54 ...\n",
      "Senging GET https://api.openalex.org/works?filter=from_publication_date:2017-01-01,to_publication_date:2021-12-31,raw_affiliation_string.search:grenoble&cursor=IlsxMjAuNzk5MjUsIDE1MTQ3NjQ4MDAwMDAsICdodHRwczovL29wZW5hbGV4Lm9yZy9XMjc3NDc5MTkwMCddIg==&per-page=200&mailto=bertagrim@gmail.com\n",
      "OK\n",
      "Fetching page 55 ...\n",
      "Senging GET https://api.openalex.org/works?filter=from_publication_date:2017-01-01,to_publication_date:2021-12-31,raw_affiliation_string.search:grenoble&cursor=IlsxMjAuMDkxNzc0LCAxNTA0MTM3NjAwMDAwLCAnaHR0cHM6Ly9vcGVuYWxleC5vcmcvVzMwOTkyNjg2MDMnXSI=&per-page=200&mailto=bertagrim@gmail.com\n",
      "OK\n",
      "Fetching page 56 ...\n",
      "Senging GET https://api.openalex.org/works?filter=from_publication_date:2017-01-01,to_publication_date:2021-12-31,raw_affiliation_string.search:grenoble&cursor=IlsxMTguMTcwMDcsIDE1MTQ3NjQ4MDAwMDAsICdodHRwczovL29wZW5hbGV4Lm9yZy9XMjc2OTA0ODM1OSddIg==&per-page=200&mailto=bertagrim@gmail.com\n",
      "OK\n",
      "Fetching page 57 ...\n",
      "Senging GET https://api.openalex.org/works?filter=from_publication_date:2017-01-01,to_publication_date:2021-12-31,raw_affiliation_string.search:grenoble&cursor=IlsxMTYuODc0MzQsIDE2MTQ1NTY4MDAwMDAsICdodHRwczovL29wZW5hbGV4Lm9yZy9XMzEwODA0MDAxOSddIg==&per-page=200&mailto=bertagrim@gmail.com\n",
      "OK\n",
      "Fetching page 58 ...\n",
      "Senging GET https://api.openalex.org/works?filter=from_publication_date:2017-01-01,to_publication_date:2021-12-31,raw_affiliation_string.search:grenoble&cursor=IlsxMTUuNTczNTU1LCAxNjI4NTUzNjAwMDAwLCAnaHR0cHM6Ly9vcGVuYWxleC5vcmcvVzMxOTE1NzIxNTUnXSI=&per-page=200&mailto=bertagrim@gmail.com\n",
      "OK\n",
      "Fetching page 59 ...\n",
      "Senging GET https://api.openalex.org/works?filter=from_publication_date:2017-01-01,to_publication_date:2021-12-31,raw_affiliation_string.search:grenoble&cursor=IlsxMTQuNTMwMzcsIDE1ODU1MjY0MDAwMDAsICdodHRwczovL29wZW5hbGV4Lm9yZy9XMzAxMzY5ODUzOSddIg==&per-page=200&mailto=bertagrim@gmail.com\n",
      "OK\n",
      "Fetching page 60 ...\n",
      "Senging GET https://api.openalex.org/works?filter=from_publication_date:2017-01-01,to_publication_date:2021-12-31,raw_affiliation_string.search:grenoble&cursor=IlsxMTMuOTkwMDM2LCAxNTg4MjkxMjAwMDAwLCAnaHR0cHM6Ly9vcGVuYWxleC5vcmcvVzMwMTI0MjYxOTEnXSI=&per-page=200&mailto=bertagrim@gmail.com\n",
      "OK\n",
      "Fetching page 61 ...\n",
      "Senging GET https://api.openalex.org/works?filter=from_publication_date:2017-01-01,to_publication_date:2021-12-31,raw_affiliation_string.search:grenoble&cursor=IlsxMTIuNjMwOTgsIDE1Njk0NTYwMDAwMDAsICdodHRwczovL29wZW5hbGV4Lm9yZy9XMjk3MTkxNTAzMSddIg==&per-page=200&mailto=bertagrim@gmail.com\n",
      "OK\n",
      "Fetching page 62 ...\n",
      "Senging GET https://api.openalex.org/works?filter=from_publication_date:2017-01-01,to_publication_date:2021-12-31,raw_affiliation_string.search:grenoble&cursor=IlsxMTEuMTAzNDgsIDE2MTIxMzc2MDAwMDAsICdodHRwczovL29wZW5hbGV4Lm9yZy9XMzA4NjE0ODcwMyddIg==&per-page=200&mailto=bertagrim@gmail.com\n",
      "OK\n",
      "Fetching page 63 ...\n",
      "Senging GET https://api.openalex.org/works?filter=from_publication_date:2017-01-01,to_publication_date:2021-12-31,raw_affiliation_string.search:grenoble&cursor=IlsxMDkuNTUyNTgsIDE1MzgwOTI4MDAwMDAsICdodHRwczovL29wZW5hbGV4Lm9yZy9XMjg5MjU3NjI3MSddIg==&per-page=200&mailto=bertagrim@gmail.com\n",
      "OK\n",
      "Fetching page 64 ...\n",
      "Senging GET https://api.openalex.org/works?filter=from_publication_date:2017-01-01,to_publication_date:2021-12-31,raw_affiliation_string.search:grenoble&cursor=IlsxMDguODkxMzcsIDE0OTA3NDU2MDAwMDAsICdodHRwczovL29wZW5hbGV4Lm9yZy9XMjU5NzQ1Mzc2NCddIg==&per-page=200&mailto=bertagrim@gmail.com\n",
      "OK\n",
      "Fetching page 65 ...\n",
      "Senging GET https://api.openalex.org/works?filter=from_publication_date:2017-01-01,to_publication_date:2021-12-31,raw_affiliation_string.search:grenoble&cursor=IlsxMDguMDk0NjUsIDE1ODA1MTUyMDAwMDAsICdodHRwczovL29wZW5hbGV4Lm9yZy9XMjk5MzQ5ODY1NyddIg==&per-page=200&mailto=bertagrim@gmail.com\n",
      "OK\n",
      "Fetching page 66 ...\n",
      "Senging GET https://api.openalex.org/works?filter=from_publication_date:2017-01-01,to_publication_date:2021-12-31,raw_affiliation_string.search:grenoble&cursor=IlsxMDYuOTg3MywgMTU3MTcwMjQwMDAwMCwgJ2h0dHBzOi8vb3BlbmFsZXgub3JnL1cyOTgxNzc4MzUxJ10i&per-page=200&mailto=bertagrim@gmail.com\n",
      "OK\n",
      "Fetching page 67 ...\n",
      "Senging GET https://api.openalex.org/works?filter=from_publication_date:2017-01-01,to_publication_date:2021-12-31,raw_affiliation_string.search:grenoble&cursor=IlsxMDUuMzM3MDUsIDE1NTUyMDAwMDAwMDAsICdodHRwczovL29wZW5hbGV4Lm9yZy9XMjk2NjQzMTY0MCddIg==&per-page=200&mailto=bertagrim@gmail.com\n",
      "OK\n",
      "Fetching page 68 ...\n",
      "Senging GET https://api.openalex.org/works?filter=from_publication_date:2017-01-01,to_publication_date:2021-12-31,raw_affiliation_string.search:grenoble&cursor=IlsxMDQuMzE2ODEsIDE1ODQ0MDMyMDAwMDAsICdodHRwczovL29wZW5hbGV4Lm9yZy9XMzAxMTg1OTI3NiddIg==&per-page=200&mailto=bertagrim@gmail.com\n",
      "OK\n",
      "Fetching page 69 ...\n",
      "Senging GET https://api.openalex.org/works?filter=from_publication_date:2017-01-01,to_publication_date:2021-12-31,raw_affiliation_string.search:grenoble&cursor=IlsxMDMuNDc1MjgsIDE1MTc0NDMyMDAwMDAsICdodHRwczovL29wZW5hbGV4Lm9yZy9XMjc4MTU5MzM1NyddIg==&per-page=200&mailto=bertagrim@gmail.com\n",
      "OK\n",
      "Fetching page 70 ...\n",
      "Senging GET https://api.openalex.org/works?filter=from_publication_date:2017-01-01,to_publication_date:2021-12-31,raw_affiliation_string.search:grenoble&cursor=IlsxMDIuMzk1MzU1LCAxNTE0Njc4NDAwMDAwLCAnaHR0cHM6Ly9vcGVuYWxleC5vcmcvVzI3NDA4MjEwMDQnXSI=&per-page=200&mailto=bertagrim@gmail.com\n",
      "OK\n",
      "Fetching page 71 ...\n",
      "Senging GET https://api.openalex.org/works?filter=from_publication_date:2017-01-01,to_publication_date:2021-12-31,raw_affiliation_string.search:grenoble&cursor=IlsxMDEuMTU2MzEsIDE0OTg4NjcyMDAwMDAsICdodHRwczovL29wZW5hbGV4Lm9yZy9XMjYwODk1OTExMSddIg==&per-page=200&mailto=bertagrim@gmail.com\n",
      "OK\n",
      "Fetching page 72 ...\n",
      "Senging GET https://api.openalex.org/works?filter=from_publication_date:2017-01-01,to_publication_date:2021-12-31,raw_affiliation_string.search:grenoble&cursor=Ils5OS45MTgyMDUsIDE1MzI5MDg4MDAwMDAsICdodHRwczovL29wZW5hbGV4Lm9yZy9XMjg4NDM1MDQ1OSddIg==&per-page=200&mailto=bertagrim@gmail.com\n",
      "OK\n",
      "Fetching page 73 ...\n",
      "Senging GET https://api.openalex.org/works?filter=from_publication_date:2017-01-01,to_publication_date:2021-12-31,raw_affiliation_string.search:grenoble&cursor=Ils5OS4xODI2NiwgMTU5MDYyNDAwMDAwMCwgJ2h0dHBzOi8vb3BlbmFsZXgub3JnL1czMDM1NjI5NDY5J10i&per-page=200&mailto=bertagrim@gmail.com\n",
      "OK\n",
      "Fetching page 74 ...\n",
      "Senging GET https://api.openalex.org/works?filter=from_publication_date:2017-01-01,to_publication_date:2021-12-31,raw_affiliation_string.search:grenoble&cursor=Ils5OC42NjI5NiwgMTU3NTE1ODQwMDAwMCwgJ2h0dHBzOi8vb3BlbmFsZXgub3JnL1cyNzk0MTc3ODM2J10i&per-page=200&mailto=bertagrim@gmail.com\n",
      "OK\n",
      "Fetching page 75 ...\n",
      "Senging GET https://api.openalex.org/works?filter=from_publication_date:2017-01-01,to_publication_date:2021-12-31,raw_affiliation_string.search:grenoble&cursor=Ils5Ni43OTkyNTUsIDE1NTkzNDcyMDAwMDAsICdodHRwczovL29wZW5hbGV4Lm9yZy9XMjg5Nzk2ODkwNiddIg==&per-page=200&mailto=bertagrim@gmail.com\n",
      "OK\n",
      "Fetching page 76 ...\n",
      "Senging GET https://api.openalex.org/works?filter=from_publication_date:2017-01-01,to_publication_date:2021-12-31,raw_affiliation_string.search:grenoble&cursor=Ils5NS43OTQ1LCAxNjA5NDU5MjAwMDAwLCAnaHR0cHM6Ly9vcGVuYWxleC5vcmcvVzMwNDc5MzIyMzcnXSI=&per-page=200&mailto=bertagrim@gmail.com\n",
      "OK\n",
      "Fetching page 77 ...\n",
      "Senging GET https://api.openalex.org/works?filter=from_publication_date:2017-01-01,to_publication_date:2021-12-31,raw_affiliation_string.search:grenoble&cursor=Ils5NC43NzcyMSwgMTYzMzA0NjQwMDAwMCwgJ2h0dHBzOi8vb3BlbmFsZXgub3JnL1czMTg3NzEwMzEwJ10i&per-page=200&mailto=bertagrim@gmail.com\n",
      "OK\n",
      "Fetching page 78 ...\n",
      "Senging GET https://api.openalex.org/works?filter=from_publication_date:2017-01-01,to_publication_date:2021-12-31,raw_affiliation_string.search:grenoble&cursor=Ils5My44ODA2NiwgMTU4ODAzMjAwMDAwMCwgJ2h0dHBzOi8vb3BlbmFsZXgub3JnL1czMDIzMzE2NzMxJ10i&per-page=200&mailto=bertagrim@gmail.com\n",
      "OK\n",
      "Fetching page 79 ...\n",
      "Senging GET https://api.openalex.org/works?filter=from_publication_date:2017-01-01,to_publication_date:2021-12-31,raw_affiliation_string.search:grenoble&cursor=Ils5My41MTQ5MywgMTU3OTczNzYwMDAwMCwgJ2h0dHBzOi8vb3BlbmFsZXgub3JnL1cyOTg1NjU1OTE0J10i&per-page=200&mailto=bertagrim@gmail.com\n",
      "OK\n",
      "Fetching page 80 ...\n",
      "Senging GET https://api.openalex.org/works?filter=from_publication_date:2017-01-01,to_publication_date:2021-12-31,raw_affiliation_string.search:grenoble&cursor=Ils5MS45MTExMywgMTU2MTkzOTIwMDAwMCwgJ2h0dHBzOi8vb3BlbmFsZXgub3JnL1cyODAwMTQyMTQ4J10i&per-page=200&mailto=bertagrim@gmail.com\n"
     ]
    },
    {
     "name": "stdout",
     "output_type": "stream",
     "text": [
      "OK\n",
      "Fetching page 81 ...\n",
      "Senging GET https://api.openalex.org/works?filter=from_publication_date:2017-01-01,to_publication_date:2021-12-31,raw_affiliation_string.search:grenoble&cursor=Ils5MC40MzI2MjUsIDE1ODE5ODQwMDAwMDAsICdodHRwczovL29wZW5hbGV4Lm9yZy9XMzAwOTAxNTg5MyddIg==&per-page=200&mailto=bertagrim@gmail.com\n",
      "OK\n",
      "Fetching page 82 ...\n",
      "Senging GET https://api.openalex.org/works?filter=from_publication_date:2017-01-01,to_publication_date:2021-12-31,raw_affiliation_string.search:grenoble&cursor=Ils4OS42MDYyMSwgMTUzMzg1OTIwMDAwMCwgJ2h0dHBzOi8vb3BlbmFsZXgub3JnL1cyODg2ODk3MjA3J10i&per-page=200&mailto=bertagrim@gmail.com\n",
      "OK\n",
      "Fetching page 83 ...\n",
      "Senging GET https://api.openalex.org/works?filter=from_publication_date:2017-01-01,to_publication_date:2021-12-31,raw_affiliation_string.search:grenoble&cursor=Ils4OC45ODQzNzUsIDE0OTk2NDQ4MDAwMDAsICdodHRwczovL29wZW5hbGV4Lm9yZy9XMjcyNjI1NjYyMSddIg==&per-page=200&mailto=bertagrim@gmail.com\n",
      "OK\n",
      "Fetching page 84 ...\n",
      "Senging GET https://api.openalex.org/works?filter=from_publication_date:2017-01-01,to_publication_date:2021-12-31,raw_affiliation_string.search:grenoble&cursor=Ils4Ny43OTg5NjUsIDE2MjI3NjQ4MDAwMDAsICdodHRwczovL29wZW5hbGV4Lm9yZy9XMzE1NzAzMTc2MyddIg==&per-page=200&mailto=bertagrim@gmail.com\n",
      "OK\n",
      "Fetching page 85 ...\n",
      "Senging GET https://api.openalex.org/works?filter=from_publication_date:2017-01-01,to_publication_date:2021-12-31,raw_affiliation_string.search:grenoble&cursor=Ils4Ny4wOTM4NiwgMTYxOTgyNzIwMDAwMCwgJ2h0dHBzOi8vb3BlbmFsZXgub3JnL1czMDQzODA5MjE2J10i&per-page=200&mailto=bertagrim@gmail.com\n",
      "OK\n",
      "Fetching page 86 ...\n",
      "Senging GET https://api.openalex.org/works?filter=from_publication_date:2017-01-01,to_publication_date:2021-12-31,raw_affiliation_string.search:grenoble&cursor=Ils4Ni4yNzM3LCAxNDkxMDA0ODAwMDAwLCAnaHR0cHM6Ly9vcGVuYWxleC5vcmcvVzI1ODAyNDAzMzUnXSI=&per-page=200&mailto=bertagrim@gmail.com\n",
      "OK\n",
      "Fetching page 87 ...\n",
      "Senging GET https://api.openalex.org/works?filter=from_publication_date:2017-01-01,to_publication_date:2021-12-31,raw_affiliation_string.search:grenoble&cursor=Ils4NS43NzY1OCwgMTU5ODkxODQwMDAwMCwgJ2h0dHBzOi8vb3BlbmFsZXgub3JnL1czMDgyODIyNjE1J10i&per-page=200&mailto=bertagrim@gmail.com\n",
      "OK\n",
      "Fetching page 88 ...\n",
      "Senging GET https://api.openalex.org/works?filter=from_publication_date:2017-01-01,to_publication_date:2021-12-31,raw_affiliation_string.search:grenoble&cursor=Ils4NC4yMjQ1LCAxNTA5NDk0NDAwMDAwLCAnaHR0cHM6Ly9vcGVuYWxleC5vcmcvVzI1MDkxNDE5MzEnXSI=&per-page=200&mailto=bertagrim@gmail.com\n",
      "OK\n",
      "Fetching page 89 ...\n",
      "Senging GET https://api.openalex.org/works?filter=from_publication_date:2017-01-01,to_publication_date:2021-12-31,raw_affiliation_string.search:grenoble&cursor=Ils4My4zNjY0MywgMTUwNTE3NDQwMDAwMCwgJ2h0dHBzOi8vb3BlbmFsZXgub3JnL1cyNzUzODA5NDAyJ10i&per-page=200&mailto=bertagrim@gmail.com\n",
      "OK\n",
      "Fetching page 90 ...\n",
      "Senging GET https://api.openalex.org/works?filter=from_publication_date:2017-01-01,to_publication_date:2021-12-31,raw_affiliation_string.search:grenoble&cursor=Ils4Mi40NDEyMiwgMTUxNTk3NDQwMDAwMCwgJ2h0dHBzOi8vb3BlbmFsZXgub3JnL1cyNzY1MzEzNDI5J10i&per-page=200&mailto=bertagrim@gmail.com\n",
      "OK\n",
      "Fetching page 91 ...\n",
      "Senging GET https://api.openalex.org/works?filter=from_publication_date:2017-01-01,to_publication_date:2021-12-31,raw_affiliation_string.search:grenoble&cursor=Ils4MS44MTUxLCAxNTA0MjI0MDAwMDAwLCAnaHR0cHM6Ly9vcGVuYWxleC5vcmcvVzI3OTA3Mjk5MjknXSI=&per-page=200&mailto=bertagrim@gmail.com\n",
      "OK\n",
      "Fetching page 92 ...\n",
      "Senging GET https://api.openalex.org/works?filter=from_publication_date:2017-01-01,to_publication_date:2021-12-31,raw_affiliation_string.search:grenoble&cursor=Ils4MS4yNTQyNiwgMTU4NTY5OTIwMDAwMCwgJ2h0dHBzOi8vb3BlbmFsZXgub3JnL1cyOTk1NDYxMjExJ10i&per-page=200&mailto=bertagrim@gmail.com\n",
      "OK\n",
      "Fetching page 93 ...\n",
      "Senging GET https://api.openalex.org/works?filter=from_publication_date:2017-01-01,to_publication_date:2021-12-31,raw_affiliation_string.search:grenoble&cursor=Ils3OS45MDU5MSwgMTU0ODk3OTIwMDAwMCwgJ2h0dHBzOi8vb3BlbmFsZXgub3JnL1cyOTQwNjQ0MTYzJ10i&per-page=200&mailto=bertagrim@gmail.com\n",
      "OK\n",
      "Fetching page 94 ...\n",
      "Senging GET https://api.openalex.org/works?filter=from_publication_date:2017-01-01,to_publication_date:2021-12-31,raw_affiliation_string.search:grenoble&cursor=Ils3OC43NDA5MywgMTYxNDkwMjQwMDAwMCwgJ2h0dHBzOi8vb3BlbmFsZXgub3JnL1czMDk3NzEwNDY3J10i&per-page=200&mailto=bertagrim@gmail.com\n",
      "OK\n",
      "Fetching page 95 ...\n",
      "Senging GET https://api.openalex.org/works?filter=from_publication_date:2017-01-01,to_publication_date:2021-12-31,raw_affiliation_string.search:grenoble&cursor=Ils3OC4wNTExNiwgMTU0MjE1MzYwMDAwMCwgJ2h0dHBzOi8vb3BlbmFsZXgub3JnL1cyOTAwNTExOTIyJ10i&per-page=200&mailto=bertagrim@gmail.com\n",
      "OK\n",
      "Fetching page 96 ...\n",
      "Senging GET https://api.openalex.org/works?filter=from_publication_date:2017-01-01,to_publication_date:2021-12-31,raw_affiliation_string.search:grenoble&cursor=Ils3Ny40NTY2OCwgMTUwODk3NjAwMDAwMCwgJ2h0dHBzOi8vb3BlbmFsZXgub3JnL1cyNzU5ODY5ODg4J10i&per-page=200&mailto=bertagrim@gmail.com\n",
      "OK\n",
      "Fetching page 97 ...\n",
      "Senging GET https://api.openalex.org/works?filter=from_publication_date:2017-01-01,to_publication_date:2021-12-31,raw_affiliation_string.search:grenoble&cursor=Ils3Ni45Mzc3MywgMTU3OTEzMjgwMDAwMCwgJ2h0dHBzOi8vb3BlbmFsZXgub3JnL1cyOTk0OTUxODcwJ10i&per-page=200&mailto=bertagrim@gmail.com\n",
      "OK\n",
      "Fetching page 98 ...\n",
      "Senging GET https://api.openalex.org/works?filter=from_publication_date:2017-01-01,to_publication_date:2021-12-31,raw_affiliation_string.search:grenoble&cursor=Ils3NS45ODI0MSwgMTU3Mzc3NjAwMDAwMCwgJ2h0dHBzOi8vb3BlbmFsZXgub3JnL1cyOTczNjE1NDM3J10i&per-page=200&mailto=bertagrim@gmail.com\n",
      "OK\n",
      "Fetching page 99 ...\n",
      "Senging GET https://api.openalex.org/works?filter=from_publication_date:2017-01-01,to_publication_date:2021-12-31,raw_affiliation_string.search:grenoble&cursor=Ils3NS4wNzAzMywgMTU1NDA3NjgwMDAwMCwgJ2h0dHBzOi8vb3BlbmFsZXgub3JnL1cyOTY5NDA3MDA2J10i&per-page=200&mailto=bertagrim@gmail.com\n",
      "OK\n",
      "Fetching page 100 ...\n",
      "Senging GET https://api.openalex.org/works?filter=from_publication_date:2017-01-01,to_publication_date:2021-12-31,raw_affiliation_string.search:grenoble&cursor=Ils3My45NDg4MTQsIDE1MjUyMTkyMDAwMDAsICdodHRwczovL29wZW5hbGV4Lm9yZy9XMjgwMzgzOTU3MiddIg==&per-page=200&mailto=bertagrim@gmail.com\n",
      "OK\n",
      "Fetching page 101 ...\n",
      "Senging GET https://api.openalex.org/works?filter=from_publication_date:2017-01-01,to_publication_date:2021-12-31,raw_affiliation_string.search:grenoble&cursor=Ils3My4yMzc1NjQsIDE1NTAyNzUyMDAwMDAsICdodHRwczovL29wZW5hbGV4Lm9yZy9XMjkxNDY4NzgyMyddIg==&per-page=200&mailto=bertagrim@gmail.com\n",
      "OK\n",
      "Fetching page 102 ...\n",
      "Senging GET https://api.openalex.org/works?filter=from_publication_date:2017-01-01,to_publication_date:2021-12-31,raw_affiliation_string.search:grenoble&cursor=Ils3MS42MDcxNywgMTYxNDU1NjgwMDAwMCwgJ2h0dHBzOi8vb3BlbmFsZXgub3JnL1czMTM3Njg3OTU1J10i&per-page=200&mailto=bertagrim@gmail.com\n",
      "OK\n",
      "Fetching page 103 ...\n",
      "Senging GET https://api.openalex.org/works?filter=from_publication_date:2017-01-01,to_publication_date:2021-12-31,raw_affiliation_string.search:grenoble&cursor=Ils3MS4yMjEwNSwgMTYzODMxNjgwMDAwMCwgJ2h0dHBzOi8vb3BlbmFsZXgub3JnL1czMTk5NTYyOTE2J10i&per-page=200&mailto=bertagrim@gmail.com\n",
      "OK\n",
      "Fetching page 104 ...\n",
      "Senging GET https://api.openalex.org/works?filter=from_publication_date:2017-01-01,to_publication_date:2021-12-31,raw_affiliation_string.search:grenoble&cursor=Ils3MC41MDI4OSwgMTU5MTkyMDAwMDAwMCwgJ2h0dHBzOi8vb3BlbmFsZXgub3JnL1czMDM1MzExMjM0J10i&per-page=200&mailto=bertagrim@gmail.com\n",
      "OK\n",
      "Fetching page 105 ...\n",
      "Senging GET https://api.openalex.org/works?filter=from_publication_date:2017-01-01,to_publication_date:2021-12-31,raw_affiliation_string.search:grenoble&cursor=Ils2OC40OTk0NiwgMTUwODE5ODQwMDAwMCwgJ2h0dHBzOi8vb3BlbmFsZXgub3JnL1cyNzYxMDIyMDU0J10i&per-page=200&mailto=bertagrim@gmail.com\n",
      "OK\n",
      "Fetching page 106 ...\n",
      "Senging GET https://api.openalex.org/works?filter=from_publication_date:2017-01-01,to_publication_date:2021-12-31,raw_affiliation_string.search:grenoble&cursor=Ils2Ny45MTM0MiwgMTYxNTkzOTIwMDAwMCwgJ2h0dHBzOi8vb3BlbmFsZXgub3JnL1cyOTk1NDU2NDk3J10i&per-page=200&mailto=bertagrim@gmail.com\n",
      "OK\n",
      "Fetching page 107 ...\n",
      "Senging GET https://api.openalex.org/works?filter=from_publication_date:2017-01-01,to_publication_date:2021-12-31,raw_affiliation_string.search:grenoble&cursor=Ils2Ny42MDMzOSwgMTYxNTMzNDQwMDAwMCwgJ2h0dHBzOi8vb3BlbmFsZXgub3JnL1czMTMzOTczNTM4J10i&per-page=200&mailto=bertagrim@gmail.com\n"
     ]
    },
    {
     "name": "stdout",
     "output_type": "stream",
     "text": [
      "OK\n",
      "Fetching page 108 ...\n",
      "Senging GET https://api.openalex.org/works?filter=from_publication_date:2017-01-01,to_publication_date:2021-12-31,raw_affiliation_string.search:grenoble&cursor=Ils2Ni45Njk0NDQsIDE1ODA1MTUyMDAwMDAsICdodHRwczovL29wZW5hbGV4Lm9yZy9XMjk4MTExMDg2NSddIg==&per-page=200&mailto=bertagrim@gmail.com\n",
      "OK\n",
      "Fetching page 109 ...\n",
      "Senging GET https://api.openalex.org/works?filter=from_publication_date:2017-01-01,to_publication_date:2021-12-31,raw_affiliation_string.search:grenoble&cursor=Ils2Ni44OTMwNiwgMTU5NjI0MDAwMDAwMCwgJ2h0dHBzOi8vb3BlbmFsZXgub3JnL1czMDI4OTc0MTQ5J10i&per-page=200&mailto=bertagrim@gmail.com\n",
      "OK\n",
      "Fetching page 110 ...\n",
      "Senging GET https://api.openalex.org/works?filter=from_publication_date:2017-01-01,to_publication_date:2021-12-31,raw_affiliation_string.search:grenoble&cursor=Ils2Ni43MTA4MywgMTYwNzM4NTYwMDAwMCwgJ2h0dHBzOi8vb3BlbmFsZXgub3JnL1czMDg0MzEyMDM4J10i&per-page=200&mailto=bertagrim@gmail.com\n",
      "OK\n",
      "Fetching page 111 ...\n",
      "Senging GET https://api.openalex.org/works?filter=from_publication_date:2017-01-01,to_publication_date:2021-12-31,raw_affiliation_string.search:grenoble&cursor=Ils2NS41NzY3NywgMTU1ODU2OTYwMDAwMCwgJ2h0dHBzOi8vb3BlbmFsZXgub3JnL1cyOTQ2NjcyNzA2J10i&per-page=200&mailto=bertagrim@gmail.com\n",
      "OK\n",
      "Fetching page 112 ...\n",
      "Senging GET https://api.openalex.org/works?filter=from_publication_date:2017-01-01,to_publication_date:2021-12-31,raw_affiliation_string.search:grenoble&cursor=Ils2NC4zNDE3OCwgMTU3MTk2MTYwMDAwMCwgJ2h0dHBzOi8vb3BlbmFsZXgub3JnL1cyOTgxMzM3OTU2J10i&per-page=200&mailto=bertagrim@gmail.com\n",
      "OK\n",
      "Fetching page 113 ...\n",
      "Senging GET https://api.openalex.org/works?filter=from_publication_date:2017-01-01,to_publication_date:2021-12-31,raw_affiliation_string.search:grenoble&cursor=Ils2My45NDY5NDUsIDE1MTQ3NjQ4MDAwMDAsICdodHRwczovL29wZW5hbGV4Lm9yZy9XMjc2Mjg1NzU1MCddIg==&per-page=200&mailto=bertagrim@gmail.com\n",
      "OK\n",
      "Fetching page 114 ...\n",
      "Senging GET https://api.openalex.org/works?filter=from_publication_date:2017-01-01,to_publication_date:2021-12-31,raw_affiliation_string.search:grenoble&cursor=Ils2My42NzE0MTcsIDE1MDcxNjE2MDAwMDAsICdodHRwczovL29wZW5hbGV4Lm9yZy9XMjc2Mzg3Nzc1NyddIg==&per-page=200&mailto=bertagrim@gmail.com\n",
      "OK\n",
      "Fetching page 115 ...\n",
      "Senging GET https://api.openalex.org/works?filter=from_publication_date:2017-01-01,to_publication_date:2021-12-31,raw_affiliation_string.search:grenoble&cursor=Ils2Mi4zOTM1NjIsIDE1NzY1NDA4MDAwMDAsICdodHRwczovL29wZW5hbGV4Lm9yZy9XMjk5NjY5MDI1NCddIg==&per-page=200&mailto=bertagrim@gmail.com\n",
      "OK\n",
      "Fetching page 116 ...\n",
      "Senging GET https://api.openalex.org/works?filter=from_publication_date:2017-01-01,to_publication_date:2021-12-31,raw_affiliation_string.search:grenoble&cursor=Ils1OS4yNjIzNDQsIDE2MTc4NDAwMDAwMDAsICdodHRwczovL29wZW5hbGV4Lm9yZy9XMzE0MTE5MTM2MSddIg==&per-page=200&mailto=bertagrim@gmail.com\n",
      "OK\n",
      "Fetching page 117 ...\n",
      "Senging GET https://api.openalex.org/works?filter=from_publication_date:2017-01-01,to_publication_date:2021-12-31,raw_affiliation_string.search:grenoble&cursor=Ils1OC43MTE3NCwgMTYxNDU1NjgwMDAwMCwgJ2h0dHBzOi8vb3BlbmFsZXgub3JnL1czMTM1Mzg0ODQ0J10i&per-page=200&mailto=bertagrim@gmail.com\n",
      "OK\n",
      "Fetching page 118 ...\n",
      "Senging GET https://api.openalex.org/works?filter=from_publication_date:2017-01-01,to_publication_date:2021-12-31,raw_affiliation_string.search:grenoble&cursor=Ils1OC4wNDkzMjQsIDE1NzgzNTUyMDAwMDAsICdodHRwczovL29wZW5hbGV4Lm9yZy9XMjk4MjEyMTkxNyddIg==&per-page=200&mailto=bertagrim@gmail.com\n",
      "OK\n",
      "Fetching page 119 ...\n",
      "Senging GET https://api.openalex.org/works?filter=from_publication_date:2017-01-01,to_publication_date:2021-12-31,raw_affiliation_string.search:grenoble&cursor=Ils1Ny45Mjk3MDMsIDE1Nzc4MzY4MDAwMDAsICdodHRwczovL29wZW5hbGV4Lm9yZy9XMjk0NTAzMDc1OSddIg==&per-page=200&mailto=bertagrim@gmail.com\n",
      "OK\n",
      "Fetching page 120 ...\n",
      "Senging GET https://api.openalex.org/works?filter=from_publication_date:2017-01-01,to_publication_date:2021-12-31,raw_affiliation_string.search:grenoble&cursor=Ils1Ny4wNTkwOTcsIDE1NTY2Njg4MDAwMDAsICdodHRwczovL29wZW5hbGV4Lm9yZy9XMjkzODQzNTIzNSddIg==&per-page=200&mailto=bertagrim@gmail.com\n",
      "OK\n",
      "Fetching page 121 ...\n",
      "Senging GET https://api.openalex.org/works?filter=from_publication_date:2017-01-01,to_publication_date:2021-12-31,raw_affiliation_string.search:grenoble&cursor=Ils1Ni4yNjQwMywgMTYxNDU1NjgwMDAwMCwgJ2h0dHBzOi8vb3BlbmFsZXgub3JnL1czMTMyODAxMjQwJ10i&per-page=200&mailto=bertagrim@gmail.com\n",
      "OK\n",
      "Fetching page 122 ...\n",
      "Senging GET https://api.openalex.org/works?filter=from_publication_date:2017-01-01,to_publication_date:2021-12-31,raw_affiliation_string.search:grenoble&cursor=Ils1NS44MTgwOCwgMTYxOTkxMzYwMDAwMCwgJ2h0dHBzOi8vb3BlbmFsZXgub3JnL1czMTU5ODY5MzA3J10i&per-page=200&mailto=bertagrim@gmail.com\n",
      "OK\n",
      "Fetching page 123 ...\n",
      "Senging GET https://api.openalex.org/works?filter=from_publication_date:2017-01-01,to_publication_date:2021-12-31,raw_affiliation_string.search:grenoble&cursor=Ils1NS41ODEzMTgsIDE1Mjg1ODg4MDAwMDAsICdodHRwczovL29wZW5hbGV4Lm9yZy9XMjg4OTA5Njg4OCddIg==&per-page=200&mailto=bertagrim@gmail.com\n",
      "OK\n",
      "Fetching page 124 ...\n",
      "Senging GET https://api.openalex.org/works?filter=from_publication_date:2017-01-01,to_publication_date:2021-12-31,raw_affiliation_string.search:grenoble&cursor=Ils1NS40ODU3MjUsIDE1NDI4NDQ4MDAwMDAsICdodHRwczovL29wZW5hbGV4Lm9yZy9XMjkwMTMxOTQxNSddIg==&per-page=200&mailto=bertagrim@gmail.com\n",
      "OK\n",
      "Fetching page 125 ...\n",
      "Senging GET https://api.openalex.org/works?filter=from_publication_date:2017-01-01,to_publication_date:2021-12-31,raw_affiliation_string.search:grenoble&cursor=Ils1NS4wNTkzNDUsIDE0OTEwMDQ4MDAwMDAsICdodHRwczovL29wZW5hbGV4Lm9yZy9XMjU2MzAxNzYxMSddIg==&per-page=200&mailto=bertagrim@gmail.com\n",
      "OK\n",
      "Fetching page 126 ...\n",
      "Senging GET https://api.openalex.org/works?filter=from_publication_date:2017-01-01,to_publication_date:2021-12-31,raw_affiliation_string.search:grenoble&cursor=Ils1NC45ODQ5NjIsIDE1ODI1ODg4MDAwMDAsICdodHRwczovL29wZW5hbGV4Lm9yZy9XMjk4MjUyNzA3MiddIg==&per-page=200&mailto=bertagrim@gmail.com\n",
      "OK\n",
      "Fetching page 127 ...\n",
      "Senging GET https://api.openalex.org/works?filter=from_publication_date:2017-01-01,to_publication_date:2021-12-31,raw_affiliation_string.search:grenoble&cursor=Ils1NC4wNzA5NDIsIDE1NDAxNjY0MDAwMDAsICdodHRwczovL29wZW5hbGV4Lm9yZy9XMjkxMDkwODA0NCddIg==&per-page=200&mailto=bertagrim@gmail.com\n",
      "OK\n",
      "Fetching page 128 ...\n",
      "Senging GET https://api.openalex.org/works?filter=from_publication_date:2017-01-01,to_publication_date:2021-12-31,raw_affiliation_string.search:grenoble&cursor=Ils1Mi43NDkxMjMsIDE1MzI5MDg4MDAwMDAsICdodHRwczovL29wZW5hbGV4Lm9yZy9XMjg4NTk0MjQxOCddIg==&per-page=200&mailto=bertagrim@gmail.com\n",
      "OK\n",
      "Fetching page 129 ...\n",
      "Senging GET https://api.openalex.org/works?filter=from_publication_date:2017-01-01,to_publication_date:2021-12-31,raw_affiliation_string.search:grenoble&cursor=Ils1Mi4zNTQ1MDQsIDE1MTIwODY0MDAwMDAsICdodHRwczovL29wZW5hbGV4Lm9yZy9XMjc4NjQ4NDQyNyddIg==&per-page=200&mailto=bertagrim@gmail.com\n",
      "OK\n",
      "Fetching page 130 ...\n",
      "Senging GET https://api.openalex.org/works?filter=from_publication_date:2017-01-01,to_publication_date:2021-12-31,raw_affiliation_string.search:grenoble&cursor=Ils0OC44OTcyNSwgMTYzMjA5NjAwMDAwMCwgJ2h0dHBzOi8vb3BlbmFsZXgub3JnL1czMTk5Mjg4OTQ4J10i&per-page=200&mailto=bertagrim@gmail.com\n",
      "OK\n",
      "Fetching page 131 ...\n",
      "Senging GET https://api.openalex.org/works?filter=from_publication_date:2017-01-01,to_publication_date:2021-12-31,raw_affiliation_string.search:grenoble&cursor=Ils0OC4zMDQ5NDMsIDE2MjYyMjA4MDAwMDAsICdodHRwczovL29wZW5hbGV4Lm9yZy9XMzE3OTc2MDgzNyddIg==&per-page=200&mailto=bertagrim@gmail.com\n",
      "OK\n",
      "Fetching page 132 ...\n",
      "Senging GET https://api.openalex.org/works?filter=from_publication_date:2017-01-01,to_publication_date:2021-12-31,raw_affiliation_string.search:grenoble&cursor=Ils0Ny43NjQwOCwgMTYwMTMzNzYwMDAwMCwgJ2h0dHBzOi8vb3BlbmFsZXgub3JnL1czMDkxMTQyOTM5J10i&per-page=200&mailto=bertagrim@gmail.com\n",
      "OK\n",
      "Fetching page 133 ...\n",
      "Senging GET https://api.openalex.org/works?filter=from_publication_date:2017-01-01,to_publication_date:2021-12-31,raw_affiliation_string.search:grenoble&cursor=Ils0Ny4wNTQ1OSwgMTU3NjI4MTYwMDAwMCwgJ2h0dHBzOi8vb3BlbmFsZXgub3JnL1cyOTk2MDIwNDY4J10i&per-page=200&mailto=bertagrim@gmail.com\n",
      "OK\n",
      "Fetching page 134 ...\n",
      "Senging GET https://api.openalex.org/works?filter=from_publication_date:2017-01-01,to_publication_date:2021-12-31,raw_affiliation_string.search:grenoble&cursor=Ils0NS45MDgxNTcsIDE1MzI5MDg4MDAwMDAsICdodHRwczovL29wZW5hbGV4Lm9yZy9XMjkwNTk4NzQyMCddIg==&per-page=200&mailto=bertagrim@gmail.com\n"
     ]
    },
    {
     "name": "stdout",
     "output_type": "stream",
     "text": [
      "OK\n",
      "Fetching page 135 ...\n",
      "Senging GET https://api.openalex.org/works?filter=from_publication_date:2017-01-01,to_publication_date:2021-12-31,raw_affiliation_string.search:grenoble&cursor=Ils0NS40OTIxODgsIDE0OTg4NjcyMDAwMDAsICdodHRwczovL29wZW5hbGV4Lm9yZy9XMjc1NDM3MzM1NSddIg==&per-page=200&mailto=bertagrim@gmail.com\n",
      "OK\n",
      "Fetching page 136 ...\n",
      "Senging GET https://api.openalex.org/works?filter=from_publication_date:2017-01-01,to_publication_date:2021-12-31,raw_affiliation_string.search:grenoble&cursor=Ils0Mi41MzEzNywgMTYyNTcwMjQwMDAwMCwgJ2h0dHBzOi8vb3BlbmFsZXgub3JnL1czMTgyMDA5MzI4J10i&per-page=200&mailto=bertagrim@gmail.com\n",
      "OK\n",
      "Fetching page 137 ...\n",
      "Senging GET https://api.openalex.org/works?filter=from_publication_date:2017-01-01,to_publication_date:2021-12-31,raw_affiliation_string.search:grenoble&cursor=Ils0MS45NjQ3OSwgMTYyMTgxNDQwMDAwMCwgJ2h0dHBzOi8vb3BlbmFsZXgub3JnL1czMTY1NTMyOTMxJ10i&per-page=200&mailto=bertagrim@gmail.com\n",
      "OK\n",
      "Fetching page 138 ...\n",
      "Senging GET https://api.openalex.org/works?filter=from_publication_date:2017-01-01,to_publication_date:2021-12-31,raw_affiliation_string.search:grenoble&cursor=Ils0MS4zODI2MjYsIDE2MzI5NjAwMDAwMDAsICdodHRwczovL29wZW5hbGV4Lm9yZy9XMzIwMjQ4NjYxMyddIg==&per-page=200&mailto=bertagrim@gmail.com\n",
      "OK\n",
      "Fetching page 139 ...\n",
      "Senging GET https://api.openalex.org/works?filter=from_publication_date:2017-01-01,to_publication_date:2021-12-31,raw_affiliation_string.search:grenoble&cursor=Ils0MC4zNzA0NjQsIDE2MTE3MDU2MDAwMDAsICdodHRwczovL29wZW5hbGV4Lm9yZy9XMzEzMjIzNzQ1MiddIg==&per-page=200&mailto=bertagrim@gmail.com\n",
      "OK\n",
      "Fetching page 140 ...\n",
      "Senging GET https://api.openalex.org/works?filter=from_publication_date:2017-01-01,to_publication_date:2021-12-31,raw_affiliation_string.search:grenoble&cursor=Ils0MC4wNjExNzIsIDE2MTI3NDI0MDAwMDAsICdodHRwczovL29wZW5hbGV4Lm9yZy9XMzExMjM0NTEwNyddIg==&per-page=200&mailto=bertagrim@gmail.com\n",
      "OK\n",
      "Fetching page 141 ...\n",
      "Senging GET https://api.openalex.org/works?filter=from_publication_date:2017-01-01,to_publication_date:2021-12-31,raw_affiliation_string.search:grenoble&cursor=IlszOS44ODEzNSwgMTUxNDc2NDgwMDAwMCwgJ2h0dHBzOi8vb3BlbmFsZXgub3JnL1cyODg2MDkwMTEzJ10i&per-page=200&mailto=bertagrim@gmail.com\n",
      "OK\n",
      "Fetching page 142 ...\n",
      "Senging GET https://api.openalex.org/works?filter=from_publication_date:2017-01-01,to_publication_date:2021-12-31,raw_affiliation_string.search:grenoble&cursor=IlszOS42OTk2NCwgMTYwMDkwNTYwMDAwMCwgJ2h0dHBzOi8vb3BlbmFsZXgub3JnL1czMDg4MzAyNjU4J10i&per-page=200&mailto=bertagrim@gmail.com\n",
      "OK\n",
      "Fetching page 143 ...\n",
      "Senging GET https://api.openalex.org/works?filter=from_publication_date:2017-01-01,to_publication_date:2021-12-31,raw_affiliation_string.search:grenoble&cursor=IlszOS40Njg4NjQsIDE1ODgxMTg0MDAwMDAsICdodHRwczovL29wZW5hbGV4Lm9yZy9XMzA5NDkyNDI3MCddIg==&per-page=200&mailto=bertagrim@gmail.com\n",
      "OK\n",
      "Fetching page 144 ...\n",
      "Senging GET https://api.openalex.org/works?filter=from_publication_date:2017-01-01,to_publication_date:2021-12-31,raw_affiliation_string.search:grenoble&cursor=IlszOS4zODcwNDcsIDE1MzgzNTIwMDAwMDAsICdodHRwczovL29wZW5hbGV4Lm9yZy9XMjkxMjc4MDkyOCddIg==&per-page=200&mailto=bertagrim@gmail.com\n",
      "OK\n",
      "Fetching page 145 ...\n",
      "Senging GET https://api.openalex.org/works?filter=from_publication_date:2017-01-01,to_publication_date:2021-12-31,raw_affiliation_string.search:grenoble&cursor=IlszOC44MjAzNDMsIDE1NzUxNTg0MDAwMDAsICdodHRwczovL29wZW5hbGV4Lm9yZy9XMjk2OTMyNTkyMSddIg==&per-page=200&mailto=bertagrim@gmail.com\n",
      "OK\n",
      "Fetching page 146 ...\n",
      "Senging GET https://api.openalex.org/works?filter=from_publication_date:2017-01-01,to_publication_date:2021-12-31,raw_affiliation_string.search:grenoble&cursor=IlszOC4wMTQ4MTYsIDE1MTM1NTUyMDAwMDAsICdodHRwczovL29wZW5hbGV4Lm9yZy9XMjc3NjYzMzY0MCddIg==&per-page=200&mailto=bertagrim@gmail.com\n",
      "OK\n",
      "Fetching page 147 ...\n",
      "Senging GET https://api.openalex.org/works?filter=from_publication_date:2017-01-01,to_publication_date:2021-12-31,raw_affiliation_string.search:grenoble&cursor=IlszNy42OTQzOTcsIDE1MDE1NDU2MDAwMDAsICdodHRwczovL29wZW5hbGV4Lm9yZy9XMjc2OTM3OTk3NyddIg==&per-page=200&mailto=bertagrim@gmail.com\n",
      "OK\n",
      "Fetching page 148 ...\n",
      "Senging GET https://api.openalex.org/works?filter=from_publication_date:2017-01-01,to_publication_date:2021-12-31,raw_affiliation_string.search:grenoble&cursor=IlszNy4zMjA5NTMsIDE2MjUxODQwMDAwMDAsICdodHRwczovL29wZW5hbGV4Lm9yZy9XMzE3Mzk3NzYwNSddIg==&per-page=200&mailto=bertagrim@gmail.com\n",
      "OK\n",
      "Fetching page 149 ...\n",
      "Senging GET https://api.openalex.org/works?filter=from_publication_date:2017-01-01,to_publication_date:2021-12-31,raw_affiliation_string.search:grenoble&cursor=IlszNS4xNjEzNjYsIDE2MjQyMzM2MDAwMDAsICdodHRwczovL29wZW5hbGV4Lm9yZy9XMzEyMDUwMDM4NCddIg==&per-page=200&mailto=bertagrim@gmail.com\n",
      "OK\n",
      "Fetching page 150 ...\n",
      "Senging GET https://api.openalex.org/works?filter=from_publication_date:2017-01-01,to_publication_date:2021-12-31,raw_affiliation_string.search:grenoble&cursor=IlszNC45MDEwNiwgMTYzNzE5MzYwMDAwMCwgJ2h0dHBzOi8vb3BlbmFsZXgub3JnL1czMjEyMzA1NjQwJ10i&per-page=200&mailto=bertagrim@gmail.com\n",
      "OK\n",
      "Fetching page 151 ...\n",
      "Senging GET https://api.openalex.org/works?filter=from_publication_date:2017-01-01,to_publication_date:2021-12-31,raw_affiliation_string.search:grenoble&cursor=IlszNC4zOTQyMjIsIDE1ODc1MTM2MDAwMDAsICdodHRwczovL29wZW5hbGV4Lm9yZy9XMzAxNzk4MjUwOSddIg==&per-page=200&mailto=bertagrim@gmail.com\n",
      "OK\n",
      "Fetching page 152 ...\n",
      "Senging GET https://api.openalex.org/works?filter=from_publication_date:2017-01-01,to_publication_date:2021-12-31,raw_affiliation_string.search:grenoble&cursor=IlszNC4zNjAwOTIsIDE2MDc5MDQwMDAwMDAsICdodHRwczovL29wZW5hbGV4Lm9yZy9XMzExMTAyMDkxOSddIg==&per-page=200&mailto=bertagrim@gmail.com\n",
      "OK\n",
      "Fetching page 153 ...\n",
      "Senging GET https://api.openalex.org/works?filter=from_publication_date:2017-01-01,to_publication_date:2021-12-31,raw_affiliation_string.search:grenoble&cursor=IlszMy44NTg0MDYsIDE1NTkzNDcyMDAwMDAsICdodHRwczovL29wZW5hbGV4Lm9yZy9XMjk0NDY1MjcyOCddIg==&per-page=200&mailto=bertagrim@gmail.com\n",
      "OK\n",
      "Fetching page 154 ...\n",
      "Senging GET https://api.openalex.org/works?filter=from_publication_date:2017-01-01,to_publication_date:2021-12-31,raw_affiliation_string.search:grenoble&cursor=IlszMy41NDYxLCAxNTY0OTYzMjAwMDAwLCAnaHR0cHM6Ly9vcGVuYWxleC5vcmcvVzI5NjI2OTM1MTInXSI=&per-page=200&mailto=bertagrim@gmail.com\n",
      "OK\n",
      "Fetching page 155 ...\n",
      "Senging GET https://api.openalex.org/works?filter=from_publication_date:2017-01-01,to_publication_date:2021-12-31,raw_affiliation_string.search:grenoble&cursor=IlszMi45NzM0NzMsIDE1Mzk2NDgwMDAwMDAsICdodHRwczovL29wZW5hbGV4Lm9yZy9XMjg5NzY5Njk0MiddIg==&per-page=200&mailto=bertagrim@gmail.com\n",
      "OK\n",
      "Fetching page 156 ...\n",
      "Senging GET https://api.openalex.org/works?filter=from_publication_date:2017-01-01,to_publication_date:2021-12-31,raw_affiliation_string.search:grenoble&cursor=IlszMi44MDUwNiwgMTQ5Njc5MzYwMDAwMCwgJ2h0dHBzOi8vb3BlbmFsZXgub3JnL1cyOTA1MDk3NDAwJ10i&per-page=200&mailto=bertagrim@gmail.com\n",
      "OK\n",
      "Fetching page 157 ...\n",
      "Senging GET https://api.openalex.org/works?filter=from_publication_date:2017-01-01,to_publication_date:2021-12-31,raw_affiliation_string.search:grenoble&cursor=IlszMi43Mjg3LCAxNDk4ODY3MjAwMDAwLCAnaHR0cHM6Ly9vcGVuYWxleC5vcmcvVzI3NjY4NzE1NDcnXSI=&per-page=200&mailto=bertagrim@gmail.com\n",
      "OK\n",
      "Fetching page 158 ...\n",
      "Senging GET https://api.openalex.org/works?filter=from_publication_date:2017-01-01,to_publication_date:2021-12-31,raw_affiliation_string.search:grenoble&cursor=IlsyLjAsIDE0ODMyMjg4MDAwMDAsICdodHRwczovL29wZW5hbGV4Lm9yZy9XMjYxMDA0NjUzOSddIg==&per-page=200&mailto=bertagrim@gmail.com\n",
      "OK\n",
      "Fetching page 159 ...\n",
      "Senging GET https://api.openalex.org/works?filter=from_publication_date:2017-01-01,to_publication_date:2021-12-31,raw_affiliation_string.search:grenoble&cursor=IlsyLjAsIDE0ODMyMjg4MDAwMDAsICdodHRwczovL29wZW5hbGV4Lm9yZy9XMjk0OTkwMDA4MSddIg==&per-page=200&mailto=bertagrim@gmail.com\n",
      "OK\n",
      "Fetching page 160 ...\n",
      "Senging GET https://api.openalex.org/works?filter=from_publication_date:2017-01-01,to_publication_date:2021-12-31,raw_affiliation_string.search:grenoble&cursor=IlsyLjAsIDE0ODMyMjg4MDAwMDAsICdodHRwczovL29wZW5hbGV4Lm9yZy9XNDI5ODkzNzE2NiddIg==&per-page=200&mailto=bertagrim@gmail.com\n",
      "OK\n",
      "Fetching page 161 ...\n",
      "Senging GET https://api.openalex.org/works?filter=from_publication_date:2017-01-01,to_publication_date:2021-12-31,raw_affiliation_string.search:grenoble&cursor=IlsyLjAsIDE0ODU5MDcyMDAwMDAsICdodHRwczovL29wZW5hbGV4Lm9yZy9XMjU4NTAyODkyNCddIg==&per-page=200&mailto=bertagrim@gmail.com\n"
     ]
    },
    {
     "name": "stdout",
     "output_type": "stream",
     "text": [
      "OK\n",
      "Fetching page 162 ...\n",
      "Senging GET https://api.openalex.org/works?filter=from_publication_date:2017-01-01,to_publication_date:2021-12-31,raw_affiliation_string.search:grenoble&cursor=IlsyLjAsIDE0ODgzMjY0MDAwMDAsICdodHRwczovL29wZW5hbGV4Lm9yZy9XNDI5NzQ0NTI4NSddIg==&per-page=200&mailto=bertagrim@gmail.com\n",
      "OK\n",
      "Fetching page 163 ...\n",
      "Senging GET https://api.openalex.org/works?filter=from_publication_date:2017-01-01,to_publication_date:2021-12-31,raw_affiliation_string.search:grenoble&cursor=IlsyLjAsIDE0OTEwMDQ4MDAwMDAsICdodHRwczovL29wZW5hbGV4Lm9yZy9XMjczNTc4NjQ1NSddIg==&per-page=200&mailto=bertagrim@gmail.com\n",
      "OK\n",
      "Fetching page 164 ...\n",
      "Senging GET https://api.openalex.org/works?filter=from_publication_date:2017-01-01,to_publication_date:2021-12-31,raw_affiliation_string.search:grenoble&cursor=IlsyLjAsIDE0OTM1OTY4MDAwMDAsICdodHRwczovL29wZW5hbGV4Lm9yZy9XNDMwMjM1NTg3MSddIg==&per-page=200&mailto=bertagrim@gmail.com\n",
      "OK\n",
      "Fetching page 165 ...\n",
      "Senging GET https://api.openalex.org/works?filter=from_publication_date:2017-01-01,to_publication_date:2021-12-31,raw_affiliation_string.search:grenoble&cursor=IlsyLjAsIDE0OTYwMTYwMDAwMDAsICdodHRwczovL29wZW5hbGV4Lm9yZy9XMjk1MTc1ODEyOSddIg==&per-page=200&mailto=bertagrim@gmail.com\n",
      "OK\n",
      "Fetching page 166 ...\n",
      "Senging GET https://api.openalex.org/works?filter=from_publication_date:2017-01-01,to_publication_date:2021-12-31,raw_affiliation_string.search:grenoble&cursor=IlsyLjAsIDE0OTYyNzUyMDAwMDAsICdodHRwczovL29wZW5hbGV4Lm9yZy9XNDI5MzA1MDc0MSddIg==&per-page=200&mailto=bertagrim@gmail.com\n",
      "OK\n",
      "Fetching page 167 ...\n",
      "Senging GET https://api.openalex.org/works?filter=from_publication_date:2017-01-01,to_publication_date:2021-12-31,raw_affiliation_string.search:grenoble&cursor=IlsyLjAsIDE0OTgxNzYwMDAwMDAsICdodHRwczovL29wZW5hbGV4Lm9yZy9XMjc4Mzk1MTUwNCddIg==&per-page=200&mailto=bertagrim@gmail.com\n",
      "OK\n",
      "Fetching page 168 ...\n",
      "Senging GET https://api.openalex.org/works?filter=from_publication_date:2017-01-01,to_publication_date:2021-12-31,raw_affiliation_string.search:grenoble&cursor=IlsyLjAsIDE0OTkxMjY0MDAwMDAsICdodHRwczovL29wZW5hbGV4Lm9yZy9XMjkxMTEwMDM3MiddIg==&per-page=200&mailto=bertagrim@gmail.com\n",
      "OK\n",
      "Fetching page 169 ...\n",
      "Senging GET https://api.openalex.org/works?filter=from_publication_date:2017-01-01,to_publication_date:2021-12-31,raw_affiliation_string.search:grenoble&cursor=IlsyLjAsIDE1MDM0NDY0MDAwMDAsICdodHRwczovL29wZW5hbGV4Lm9yZy9XNDI5ODg1MDYzNSddIg==&per-page=200&mailto=bertagrim@gmail.com\n",
      "OK\n",
      "Fetching page 170 ...\n",
      "Senging GET https://api.openalex.org/works?filter=from_publication_date:2017-01-01,to_publication_date:2021-12-31,raw_affiliation_string.search:grenoble&cursor=IlsyLjAsIDE1MDQ1Njk2MDAwMDAsICdodHRwczovL29wZW5hbGV4Lm9yZy9XNDMwMDkwOTYzNCddIg==&per-page=200&mailto=bertagrim@gmail.com\n",
      "OK\n",
      "Fetching page 171 ...\n",
      "Senging GET https://api.openalex.org/works?filter=from_publication_date:2017-01-01,to_publication_date:2021-12-31,raw_affiliation_string.search:grenoble&cursor=IlsyLjAsIDE1MDYzODQwMDAwMDAsICdodHRwczovL29wZW5hbGV4Lm9yZy9XMjc2NTUxNTk4MyddIg==&per-page=200&mailto=bertagrim@gmail.com\n",
      "OK\n",
      "Fetching page 172 ...\n",
      "Senging GET https://api.openalex.org/works?filter=from_publication_date:2017-01-01,to_publication_date:2021-12-31,raw_affiliation_string.search:grenoble&cursor=IlsyLjAsIDE1MDgxMTIwMDAwMDAsICdodHRwczovL29wZW5hbGV4Lm9yZy9XMjc2NTIzODc0MCddIg==&per-page=200&mailto=bertagrim@gmail.com\n",
      "OK\n",
      "Fetching page 173 ...\n",
      "Senging GET https://api.openalex.org/works?filter=from_publication_date:2017-01-01,to_publication_date:2021-12-31,raw_affiliation_string.search:grenoble&cursor=IlsyLjAsIDE1MTAxODU2MDAwMDAsICdodHRwczovL29wZW5hbGV4Lm9yZy9XMjkwMTk5OTk3NSddIg==&per-page=200&mailto=bertagrim@gmail.com\n",
      "OK\n",
      "Fetching page 174 ...\n",
      "Senging GET https://api.openalex.org/works?filter=from_publication_date:2017-01-01,to_publication_date:2021-12-31,raw_affiliation_string.search:grenoble&cursor=IlsyLjAsIDE1MTIwODY0MDAwMDAsICdodHRwczovL29wZW5hbGV4Lm9yZy9XMzAyNDk3MTUzNyddIg==&per-page=200&mailto=bertagrim@gmail.com\n",
      "OK\n",
      "Fetching page 175 ...\n",
      "Senging GET https://api.openalex.org/works?filter=from_publication_date:2017-01-01,to_publication_date:2021-12-31,raw_affiliation_string.search:grenoble&cursor=IlsyLjAsIDE1MTQ3NjQ4MDAwMDAsICdodHRwczovL29wZW5hbGV4Lm9yZy9XMjc3MzQxNDU2MyddIg==&per-page=200&mailto=bertagrim@gmail.com\n",
      "OK\n",
      "Fetching page 176 ...\n",
      "Senging GET https://api.openalex.org/works?filter=from_publication_date:2017-01-01,to_publication_date:2021-12-31,raw_affiliation_string.search:grenoble&cursor=IlsyLjAsIDE1MTQ3NjQ4MDAwMDAsICdodHRwczovL29wZW5hbGV4Lm9yZy9XMjk1MjA0NTI5MSddIg==&per-page=200&mailto=bertagrim@gmail.com\n",
      "OK\n",
      "Fetching page 177 ...\n",
      "Senging GET https://api.openalex.org/works?filter=from_publication_date:2017-01-01,to_publication_date:2021-12-31,raw_affiliation_string.search:grenoble&cursor=IlsyLjAsIDE1MTQ3NjQ4MDAwMDAsICdodHRwczovL29wZW5hbGV4Lm9yZy9XNDI4NTAyMjA3OCddIg==&per-page=200&mailto=bertagrim@gmail.com\n",
      "OK\n",
      "Fetching page 178 ...\n",
      "Senging GET https://api.openalex.org/works?filter=from_publication_date:2017-01-01,to_publication_date:2021-12-31,raw_affiliation_string.search:grenoble&cursor=IlsyLjAsIDE1MTQ3NjQ4MDAwMDAsICdodHRwczovL29wZW5hbGV4Lm9yZy9XNDMwMjU5NTk2NiddIg==&per-page=200&mailto=bertagrim@gmail.com\n",
      "OK\n",
      "Fetching page 179 ...\n",
      "Senging GET https://api.openalex.org/works?filter=from_publication_date:2017-01-01,to_publication_date:2021-12-31,raw_affiliation_string.search:grenoble&cursor=IlsyLjAsIDE1MTkxNzEyMDAwMDAsICdodHRwczovL29wZW5hbGV4Lm9yZy9XNDI5NDkxMDM0NiddIg==&per-page=200&mailto=bertagrim@gmail.com\n",
      "OK\n",
      "Fetching page 180 ...\n",
      "Senging GET https://api.openalex.org/works?filter=from_publication_date:2017-01-01,to_publication_date:2021-12-31,raw_affiliation_string.search:grenoble&cursor=IlsyLjAsIDE1MjEyNDQ4MDAwMDAsICdodHRwczovL29wZW5hbGV4Lm9yZy9XMjc4OTcyMjU2NyddIg==&per-page=200&mailto=bertagrim@gmail.com\n",
      "OK\n",
      "Fetching page 181 ...\n",
      "Senging GET https://api.openalex.org/works?filter=from_publication_date:2017-01-01,to_publication_date:2021-12-31,raw_affiliation_string.search:grenoble&cursor=IlsyLjAsIDE1MjI4ODY0MDAwMDAsICdodHRwczovL29wZW5hbGV4Lm9yZy9XMzEzMzMwNzU0OCddIg==&per-page=200&mailto=bertagrim@gmail.com\n",
      "OK\n",
      "Fetching page 182 ...\n",
      "Senging GET https://api.openalex.org/works?filter=from_publication_date:2017-01-01,to_publication_date:2021-12-31,raw_affiliation_string.search:grenoble&cursor=IlsyLjAsIDE1MjU4MjQwMDAwMDAsICdodHRwczovL29wZW5hbGV4Lm9yZy9XMjc5OTk2MDMwMyddIg==&per-page=200&mailto=bertagrim@gmail.com\n",
      "OK\n",
      "Fetching page 183 ...\n",
      "Senging GET https://api.openalex.org/works?filter=from_publication_date:2017-01-01,to_publication_date:2021-12-31,raw_affiliation_string.search:grenoble&cursor=IlsyLjAsIDE1MjcxMjAwMDAwMDAsICdodHRwczovL29wZW5hbGV4Lm9yZy9XMzIxMTgxNTI5MCddIg==&per-page=200&mailto=bertagrim@gmail.com\n",
      "OK\n",
      "Fetching page 184 ...\n",
      "Senging GET https://api.openalex.org/works?filter=from_publication_date:2017-01-01,to_publication_date:2021-12-31,raw_affiliation_string.search:grenoble&cursor=IlsyLjAsIDE1MjgwNzA0MDAwMDAsICdodHRwczovL29wZW5hbGV4Lm9yZy9XMjkxNDA5NTk0MSddIg==&per-page=200&mailto=bertagrim@gmail.com\n",
      "OK\n",
      "Fetching page 185 ...\n",
      "Senging GET https://api.openalex.org/works?filter=from_publication_date:2017-01-01,to_publication_date:2021-12-31,raw_affiliation_string.search:grenoble&cursor=IlsyLjAsIDE1Mjk0NTI4MDAwMDAsICdodHRwczovL29wZW5hbGV4Lm9yZy9XMjgwODQ4NTkxNCddIg==&per-page=200&mailto=bertagrim@gmail.com\n",
      "OK\n",
      "Fetching page 186 ...\n",
      "Senging GET https://api.openalex.org/works?filter=from_publication_date:2017-01-01,to_publication_date:2021-12-31,raw_affiliation_string.search:grenoble&cursor=IlsyLjAsIDE1MzA1NzYwMDAwMDAsICdodHRwczovL29wZW5hbGV4Lm9yZy9XMjkxMDQxMTI5MCddIg==&per-page=200&mailto=bertagrim@gmail.com\n",
      "OK\n",
      "Fetching page 187 ...\n",
      "Senging GET https://api.openalex.org/works?filter=from_publication_date:2017-01-01,to_publication_date:2021-12-31,raw_affiliation_string.search:grenoble&cursor=IlsyLjAsIDE1MzE3ODU2MDAwMDAsICdodHRwczovL29wZW5hbGV4Lm9yZy9XMzEyMDMyNTQ2NyddIg==&per-page=200&mailto=bertagrim@gmail.com\n",
      "OK\n",
      "Fetching page 188 ...\n",
      "Senging GET https://api.openalex.org/works?filter=from_publication_date:2017-01-01,to_publication_date:2021-12-31,raw_affiliation_string.search:grenoble&cursor=IlsyLjAsIDE1MzU3NjAwMDAwMDAsICdodHRwczovL29wZW5hbGV4Lm9yZy9XMjg4NDQ3MDkyMiddIg==&per-page=200&mailto=bertagrim@gmail.com\n"
     ]
    },
    {
     "name": "stdout",
     "output_type": "stream",
     "text": [
      "OK\n",
      "Fetching page 189 ...\n",
      "Senging GET https://api.openalex.org/works?filter=from_publication_date:2017-01-01,to_publication_date:2021-12-31,raw_affiliation_string.search:grenoble&cursor=IlsyLjAsIDE1MzY3MTA0MDAwMDAsICdodHRwczovL29wZW5hbGV4Lm9yZy9XMjkxMDMwODU2OSddIg==&per-page=200&mailto=bertagrim@gmail.com\n",
      "OK\n",
      "Fetching page 190 ...\n",
      "Senging GET https://api.openalex.org/works?filter=from_publication_date:2017-01-01,to_publication_date:2021-12-31,raw_affiliation_string.search:grenoble&cursor=IlsyLjAsIDE1MzgzNTIwMDAwMDAsICdodHRwczovL29wZW5hbGV4Lm9yZy9XMjkwMjQ2Mzc4NCddIg==&per-page=200&mailto=bertagrim@gmail.com\n",
      "OK\n",
      "Fetching page 191 ...\n",
      "Senging GET https://api.openalex.org/works?filter=from_publication_date:2017-01-01,to_publication_date:2021-12-31,raw_affiliation_string.search:grenoble&cursor=IlsyLjAsIDE1NDAwODAwMDAwMDAsICdodHRwczovL29wZW5hbGV4Lm9yZy9XMjg4Nzc5ODg2OSddIg==&per-page=200&mailto=bertagrim@gmail.com\n",
      "OK\n",
      "Fetching page 192 ...\n",
      "Senging GET https://api.openalex.org/works?filter=from_publication_date:2017-01-01,to_publication_date:2021-12-31,raw_affiliation_string.search:grenoble&cursor=IlsyLjAsIDE1NDE0NjI0MDAwMDAsICdodHRwczovL29wZW5hbGV4Lm9yZy9XNDI4OTMwMzYxNCddIg==&per-page=200&mailto=bertagrim@gmail.com\n",
      "OK\n",
      "Fetching page 193 ...\n",
      "Senging GET https://api.openalex.org/works?filter=from_publication_date:2017-01-01,to_publication_date:2021-12-31,raw_affiliation_string.search:grenoble&cursor=IlsyLjAsIDE1NDM2MjI0MDAwMDAsICdodHRwczovL29wZW5hbGV4Lm9yZy9XMjkwMzE0MDgzNSddIg==&per-page=200&mailto=bertagrim@gmail.com\n",
      "OK\n",
      "Fetching page 194 ...\n",
      "Senging GET https://api.openalex.org/works?filter=from_publication_date:2017-01-01,to_publication_date:2021-12-31,raw_affiliation_string.search:grenoble&cursor=IlsyLjAsIDE1NDUyNjQwMDAwMDAsICdodHRwczovL29wZW5hbGV4Lm9yZy9XMjkxODU4NjY0NSddIg==&per-page=200&mailto=bertagrim@gmail.com\n",
      "OK\n",
      "Fetching page 195 ...\n",
      "Senging GET https://api.openalex.org/works?filter=from_publication_date:2017-01-01,to_publication_date:2021-12-31,raw_affiliation_string.search:grenoble&cursor=IlsyLjAsIDE1NDYzMDA4MDAwMDAsICdodHRwczovL29wZW5hbGV4Lm9yZy9XMjk3ODkzODc2NCddIg==&per-page=200&mailto=bertagrim@gmail.com\n",
      "OK\n",
      "Fetching page 196 ...\n",
      "Senging GET https://api.openalex.org/works?filter=from_publication_date:2017-01-01,to_publication_date:2021-12-31,raw_affiliation_string.search:grenoble&cursor=IlsyLjAsIDE1NDYzMDA4MDAwMDAsICdodHRwczovL29wZW5hbGV4Lm9yZy9XNDIzMTk4MTU0NCddIg==&per-page=200&mailto=bertagrim@gmail.com\n",
      "OK\n",
      "Fetching page 197 ...\n",
      "Senging GET https://api.openalex.org/works?filter=from_publication_date:2017-01-01,to_publication_date:2021-12-31,raw_affiliation_string.search:grenoble&cursor=IlsyLjAsIDE1NDc2ODMyMDAwMDAsICdodHRwczovL29wZW5hbGV4Lm9yZy9XMjkyODUwMTI5MCddIg==&per-page=200&mailto=bertagrim@gmail.com\n",
      "OK\n",
      "Fetching page 198 ...\n",
      "Senging GET https://api.openalex.org/works?filter=from_publication_date:2017-01-01,to_publication_date:2021-12-31,raw_affiliation_string.search:grenoble&cursor=IlsyLjAsIDE1NTEzOTg0MDAwMDAsICdodHRwczovL29wZW5hbGV4Lm9yZy9XMjc5NDA5NjY5NiddIg==&per-page=200&mailto=bertagrim@gmail.com\n",
      "OK\n",
      "Fetching page 199 ...\n",
      "Senging GET https://api.openalex.org/works?filter=from_publication_date:2017-01-01,to_publication_date:2021-12-31,raw_affiliation_string.search:grenoble&cursor=IlsyLjAsIDE1NTM2NDQ4MDAwMDAsICdodHRwczovL29wZW5hbGV4Lm9yZy9XMjkyMzAxMjI0OSddIg==&per-page=200&mailto=bertagrim@gmail.com\n",
      "OK\n",
      "Fetching page 200 ...\n",
      "Senging GET https://api.openalex.org/works?filter=from_publication_date:2017-01-01,to_publication_date:2021-12-31,raw_affiliation_string.search:grenoble&cursor=IlsyLjAsIDE1NTU5Nzc2MDAwMDAsICdodHRwczovL29wZW5hbGV4Lm9yZy9XMjk3MTQzNDQ1MCddIg==&per-page=200&mailto=bertagrim@gmail.com\n",
      "OK\n",
      "Fetching page 201 ...\n",
      "Senging GET https://api.openalex.org/works?filter=from_publication_date:2017-01-01,to_publication_date:2021-12-31,raw_affiliation_string.search:grenoble&cursor=IlsyLjAsIDE1NTgyMjQwMDAwMDAsICdodHRwczovL29wZW5hbGV4Lm9yZy9XNDI4ODM1MDM2NyddIg==&per-page=200&mailto=bertagrim@gmail.com\n",
      "OK\n",
      "Fetching page 202 ...\n",
      "Senging GET https://api.openalex.org/works?filter=from_publication_date:2017-01-01,to_publication_date:2021-12-31,raw_affiliation_string.search:grenoble&cursor=IlsyLjAsIDE1NTk1MjAwMDAwMDAsICdodHRwczovL29wZW5hbGV4Lm9yZy9XMjk1NTAwNTkzNCddIg==&per-page=200&mailto=bertagrim@gmail.com\n",
      "OK\n",
      "Fetching page 203 ...\n",
      "Senging GET https://api.openalex.org/works?filter=from_publication_date:2017-01-01,to_publication_date:2021-12-31,raw_affiliation_string.search:grenoble&cursor=IlsyLjAsIDE1NjEyNDgwMDAwMDAsICdodHRwczovL29wZW5hbGV4Lm9yZy9XMjk3MDY2NDE2MiddIg==&per-page=200&mailto=bertagrim@gmail.com\n",
      "OK\n",
      "Fetching page 204 ...\n",
      "Senging GET https://api.openalex.org/works?filter=from_publication_date:2017-01-01,to_publication_date:2021-12-31,raw_affiliation_string.search:grenoble&cursor=IlsyLjAsIDE1NjIxMTIwMDAwMDAsICdodHRwczovL29wZW5hbGV4Lm9yZy9XMjk1NjQxODM3MiddIg==&per-page=200&mailto=bertagrim@gmail.com\n",
      "OK\n",
      "Fetching page 205 ...\n",
      "Senging GET https://api.openalex.org/works?filter=from_publication_date:2017-01-01,to_publication_date:2021-12-31,raw_affiliation_string.search:grenoble&cursor=IlsyLjAsIDE1NjQ2MTc2MDAwMDAsICdodHRwczovL29wZW5hbGV4Lm9yZy9XMjk2NTMyODU4NyddIg==&per-page=200&mailto=bertagrim@gmail.com\n",
      "OK\n",
      "Fetching page 206 ...\n",
      "Senging GET https://api.openalex.org/works?filter=from_publication_date:2017-01-01,to_publication_date:2021-12-31,raw_affiliation_string.search:grenoble&cursor=IlsyLjAsIDE1NjcyOTYwMDAwMDAsICdodHRwczovL29wZW5hbGV4Lm9yZy9XMjk4MjI4Njk4MiddIg==&per-page=200&mailto=bertagrim@gmail.com\n",
      "OK\n",
      "Fetching page 207 ...\n",
      "Senging GET https://api.openalex.org/works?filter=from_publication_date:2017-01-01,to_publication_date:2021-12-31,raw_affiliation_string.search:grenoble&cursor=IlsyLjAsIDE1NjgyNDY0MDAwMDAsICdodHRwczovL29wZW5hbGV4Lm9yZy9XMzEyMzg0NTI3NCddIg==&per-page=200&mailto=bertagrim@gmail.com\n",
      "OK\n",
      "Fetching page 208 ...\n",
      "Senging GET https://api.openalex.org/works?filter=from_publication_date:2017-01-01,to_publication_date:2021-12-31,raw_affiliation_string.search:grenoble&cursor=IlsyLjAsIDE1Njk4ODgwMDAwMDAsICdodHRwczovL29wZW5hbGV4Lm9yZy9XMjk4MTU2NDM2MyddIg==&per-page=200&mailto=bertagrim@gmail.com\n",
      "OK\n",
      "Fetching page 209 ...\n",
      "Senging GET https://api.openalex.org/works?filter=from_publication_date:2017-01-01,to_publication_date:2021-12-31,raw_affiliation_string.search:grenoble&cursor=IlsyLjAsIDE1NzE3MDI0MDAwMDAsICdodHRwczovL29wZW5hbGV4Lm9yZy9XMjk2ODkyNDA2OSddIg==&per-page=200&mailto=bertagrim@gmail.com\n",
      "OK\n",
      "Fetching page 210 ...\n",
      "Senging GET https://api.openalex.org/works?filter=from_publication_date:2017-01-01,to_publication_date:2021-12-31,raw_affiliation_string.search:grenoble&cursor=IlsyLjAsIDE1NzM1MTY4MDAwMDAsICdodHRwczovL29wZW5hbGV4Lm9yZy9XMzAxNDUxNjU3NSddIg==&per-page=200&mailto=bertagrim@gmail.com\n",
      "OK\n",
      "Fetching page 211 ...\n",
      "Senging GET https://api.openalex.org/works?filter=from_publication_date:2017-01-01,to_publication_date:2021-12-31,raw_affiliation_string.search:grenoble&cursor=IlsyLjAsIDE1NzUxNTg0MDAwMDAsICdodHRwczovL29wZW5hbGV4Lm9yZy9XMjk5ODM3MjM0NyddIg==&per-page=200&mailto=bertagrim@gmail.com\n",
      "OK\n",
      "Fetching page 212 ...\n",
      "Senging GET https://api.openalex.org/works?filter=from_publication_date:2017-01-01,to_publication_date:2021-12-31,raw_affiliation_string.search:grenoble&cursor=IlsyLjAsIDE1Nzc3NTA0MDAwMDAsICdodHRwczovL29wZW5hbGV4Lm9yZy9XMjc4OTExNDcyNSddIg==&per-page=200&mailto=bertagrim@gmail.com\n",
      "OK\n",
      "Fetching page 213 ...\n",
      "Senging GET https://api.openalex.org/works?filter=from_publication_date:2017-01-01,to_publication_date:2021-12-31,raw_affiliation_string.search:grenoble&cursor=IlsyLjAsIDE1Nzc4MzY4MDAwMDAsICdodHRwczovL29wZW5hbGV4Lm9yZy9XMzExMTMzNzgzNCddIg==&per-page=200&mailto=bertagrim@gmail.com\n",
      "OK\n",
      "Fetching page 214 ...\n",
      "Senging GET https://api.openalex.org/works?filter=from_publication_date:2017-01-01,to_publication_date:2021-12-31,raw_affiliation_string.search:grenoble&cursor=IlsyLjAsIDE1Nzc4MzY4MDAwMDAsICdodHRwczovL29wZW5hbGV4Lm9yZy9XNDI4Nzk2OTY0NCddIg==&per-page=200&mailto=bertagrim@gmail.com\n",
      "OK\n",
      "Fetching page 215 ...\n",
      "Senging GET https://api.openalex.org/works?filter=from_publication_date:2017-01-01,to_publication_date:2021-12-31,raw_affiliation_string.search:grenoble&cursor=IlsyLjAsIDE1ODE2Mzg0MDAwMDAsICdodHRwczovL29wZW5hbGV4Lm9yZy9XNDI4Nzg2NzgxOCddIg==&per-page=200&mailto=bertagrim@gmail.com\n"
     ]
    },
    {
     "name": "stdout",
     "output_type": "stream",
     "text": [
      "OK\n",
      "Fetching page 216 ...\n",
      "Senging GET https://api.openalex.org/works?filter=from_publication_date:2017-01-01,to_publication_date:2021-12-31,raw_affiliation_string.search:grenoble&cursor=IlsyLjAsIDE1ODM4ODQ4MDAwMDAsICdodHRwczovL29wZW5hbGV4Lm9yZy9XMjk1MzY3NjU5NCddIg==&per-page=200&mailto=bertagrim@gmail.com\n",
      "OK\n",
      "Fetching page 217 ...\n",
      "Senging GET https://api.openalex.org/works?filter=from_publication_date:2017-01-01,to_publication_date:2021-12-31,raw_affiliation_string.search:grenoble&cursor=IlsyLjAsIDE1ODc2MDAwMDAwMDAsICdodHRwczovL29wZW5hbGV4Lm9yZy9XMzA4MzYyOTIwMCddIg==&per-page=200&mailto=bertagrim@gmail.com\n",
      "OK\n",
      "Fetching page 218 ...\n",
      "Senging GET https://api.openalex.org/works?filter=from_publication_date:2017-01-01,to_publication_date:2021-12-31,raw_affiliation_string.search:grenoble&cursor=IlsyLjAsIDE1OTAwMTkyMDAwMDAsICdodHRwczovL29wZW5hbGV4Lm9yZy9XMzE4ODUwMTUzNSddIg==&per-page=200&mailto=bertagrim@gmail.com\n",
      "OK\n",
      "Fetching page 219 ...\n",
      "Senging GET https://api.openalex.org/works?filter=from_publication_date:2017-01-01,to_publication_date:2021-12-31,raw_affiliation_string.search:grenoble&cursor=IlsyLjAsIDE1OTEyMjg4MDAwMDAsICdodHRwczovL29wZW5hbGV4Lm9yZy9XMzIwMzAyNTkyOSddIg==&per-page=200&mailto=bertagrim@gmail.com\n",
      "OK\n",
      "Fetching page 220 ...\n",
      "Senging GET https://api.openalex.org/works?filter=from_publication_date:2017-01-01,to_publication_date:2021-12-31,raw_affiliation_string.search:grenoble&cursor=IlsyLjAsIDE1OTM0NzUyMDAwMDAsICdodHRwczovL29wZW5hbGV4Lm9yZy9XMzEyMDUyMTAxNSddIg==&per-page=200&mailto=bertagrim@gmail.com\n",
      "OK\n",
      "Fetching page 221 ...\n",
      "Senging GET https://api.openalex.org/works?filter=from_publication_date:2017-01-01,to_publication_date:2021-12-31,raw_affiliation_string.search:grenoble&cursor=IlsyLjAsIDE1OTUyODk2MDAwMDAsICdodHRwczovL29wZW5hbGV4Lm9yZy9XMzA0NDc3MTk5MyddIg==&per-page=200&mailto=bertagrim@gmail.com\n",
      "OK\n",
      "Fetching page 222 ...\n",
      "Senging GET https://api.openalex.org/works?filter=from_publication_date:2017-01-01,to_publication_date:2021-12-31,raw_affiliation_string.search:grenoble&cursor=IlsyLjAsIDE1OTg5MTg0MDAwMDAsICdodHRwczovL29wZW5hbGV4Lm9yZy9XMzA4MDY1NzUzOSddIg==&per-page=200&mailto=bertagrim@gmail.com\n",
      "OK\n",
      "Fetching page 223 ...\n",
      "Senging GET https://api.openalex.org/works?filter=from_publication_date:2017-01-01,to_publication_date:2021-12-31,raw_affiliation_string.search:grenoble&cursor=IlsyLjAsIDE1OTk3ODI0MDAwMDAsICdodHRwczovL29wZW5hbGV4Lm9yZy9XMzA4NDM2ODE2OSddIg==&per-page=200&mailto=bertagrim@gmail.com\n",
      "OK\n",
      "Fetching page 224 ...\n",
      "Senging GET https://api.openalex.org/works?filter=from_publication_date:2017-01-01,to_publication_date:2021-12-31,raw_affiliation_string.search:grenoble&cursor=IlsyLjAsIDE2MDE1MTA0MDAwMDAsICdodHRwczovL29wZW5hbGV4Lm9yZy9XMzA5MTI3MTUwNiddIg==&per-page=200&mailto=bertagrim@gmail.com\n",
      "OK\n",
      "Fetching page 225 ...\n",
      "Senging GET https://api.openalex.org/works?filter=from_publication_date:2017-01-01,to_publication_date:2021-12-31,raw_affiliation_string.search:grenoble&cursor=IlsyLjAsIDE2MDM0MTEyMDAwMDAsICdodHRwczovL29wZW5hbGV4Lm9yZy9XMzA5MzYwNjk1NyddIg==&per-page=200&mailto=bertagrim@gmail.com\n",
      "OK\n",
      "Fetching page 226 ...\n",
      "Senging GET https://api.openalex.org/works?filter=from_publication_date:2017-01-01,to_publication_date:2021-12-31,raw_affiliation_string.search:grenoble&cursor=IlsyLjAsIDE2MDUxMzkyMDAwMDAsICdodHRwczovL29wZW5hbGV4Lm9yZy9XMzA5OTQyMDkzMCddIg==&per-page=200&mailto=bertagrim@gmail.com\n",
      "OK\n",
      "Fetching page 227 ...\n",
      "Senging GET https://api.openalex.org/works?filter=from_publication_date:2017-01-01,to_publication_date:2021-12-31,raw_affiliation_string.search:grenoble&cursor=IlsyLjAsIDE2MDY3ODA4MDAwMDAsICdodHRwczovL29wZW5hbGV4Lm9yZy9XMzExMTAxMTc0NyddIg==&per-page=200&mailto=bertagrim@gmail.com\n",
      "OK\n",
      "Fetching page 228 ...\n",
      "Senging GET https://api.openalex.org/works?filter=from_publication_date:2017-01-01,to_publication_date:2021-12-31,raw_affiliation_string.search:grenoble&cursor=IlsyLjAsIDE2MDc5OTA0MDAwMDAsICdodHRwczovL29wZW5hbGV4Lm9yZy9XMzEyOTI0ODMzNyddIg==&per-page=200&mailto=bertagrim@gmail.com\n",
      "OK\n",
      "Fetching page 229 ...\n",
      "Senging GET https://api.openalex.org/works?filter=from_publication_date:2017-01-01,to_publication_date:2021-12-31,raw_affiliation_string.search:grenoble&cursor=IlsyLjAsIDE2MDk0NTkyMDAwMDAsICdodHRwczovL29wZW5hbGV4Lm9yZy9XMzEyNzExODQxMiddIg==&per-page=200&mailto=bertagrim@gmail.com\n",
      "OK\n",
      "Fetching page 230 ...\n",
      "Senging GET https://api.openalex.org/works?filter=from_publication_date:2017-01-01,to_publication_date:2021-12-31,raw_affiliation_string.search:grenoble&cursor=IlsyLjAsIDE2MDk0NTkyMDAwMDAsICdodHRwczovL29wZW5hbGV4Lm9yZy9XNDIwNjgxNDYyOCddIg==&per-page=200&mailto=bertagrim@gmail.com\n",
      "OK\n",
      "Fetching page 231 ...\n",
      "Senging GET https://api.openalex.org/works?filter=from_publication_date:2017-01-01,to_publication_date:2021-12-31,raw_affiliation_string.search:grenoble&cursor=IlsyLjAsIDE2MTAyMzY4MDAwMDAsICdodHRwczovL29wZW5hbGV4Lm9yZy9XMzEyOTMzNjQ3MCddIg==&per-page=200&mailto=bertagrim@gmail.com\n",
      "OK\n",
      "Fetching page 232 ...\n",
      "Senging GET https://api.openalex.org/works?filter=from_publication_date:2017-01-01,to_publication_date:2021-12-31,raw_affiliation_string.search:grenoble&cursor=IlsyLjAsIDE2MTMyNjA4MDAwMDAsICdodHRwczovL29wZW5hbGV4Lm9yZy9XNDI4NzMyODI0OSddIg==&per-page=200&mailto=bertagrim@gmail.com\n",
      "OK\n",
      "Fetching page 233 ...\n",
      "Senging GET https://api.openalex.org/works?filter=from_publication_date:2017-01-01,to_publication_date:2021-12-31,raw_affiliation_string.search:grenoble&cursor=IlsyLjAsIDE2MTQ5MDI0MDAwMDAsICdodHRwczovL29wZW5hbGV4Lm9yZy9XMzEzNTUyNDczNCddIg==&per-page=200&mailto=bertagrim@gmail.com\n",
      "OK\n",
      "Fetching page 234 ...\n",
      "Senging GET https://api.openalex.org/works?filter=from_publication_date:2017-01-01,to_publication_date:2021-12-31,raw_affiliation_string.search:grenoble&cursor=IlsyLjAsIDE2MTcyMzUyMDAwMDAsICdodHRwczovL29wZW5hbGV4Lm9yZy9XMzE3NTkzODg1MyddIg==&per-page=200&mailto=bertagrim@gmail.com\n",
      "OK\n",
      "Fetching page 235 ...\n",
      "Senging GET https://api.openalex.org/works?filter=from_publication_date:2017-01-01,to_publication_date:2021-12-31,raw_affiliation_string.search:grenoble&cursor=IlsyLjAsIDE2MTk4MjcyMDAwMDAsICdodHRwczovL29wZW5hbGV4Lm9yZy9XNDI1MDQzODQyOCddIg==&per-page=200&mailto=bertagrim@gmail.com\n",
      "OK\n",
      "Fetching page 236 ...\n",
      "Senging GET https://api.openalex.org/works?filter=from_publication_date:2017-01-01,to_publication_date:2021-12-31,raw_affiliation_string.search:grenoble&cursor=IlsyLjAsIDE2MjIwNzM2MDAwMDAsICdodHRwczovL29wZW5hbGV4Lm9yZy9XNDI4NzE2Njg3NSddIg==&per-page=200&mailto=bertagrim@gmail.com\n",
      "OK\n",
      "Fetching page 237 ...\n",
      "Senging GET https://api.openalex.org/works?filter=from_publication_date:2017-01-01,to_publication_date:2021-12-31,raw_affiliation_string.search:grenoble&cursor=IlsyLjAsIDE2MjMxOTY4MDAwMDAsICdodHRwczovL29wZW5hbGV4Lm9yZy9XNDIwNjg3OTA2NyddIg==&per-page=200&mailto=bertagrim@gmail.com\n",
      "OK\n",
      "Fetching page 238 ...\n",
      "Senging GET https://api.openalex.org/works?filter=from_publication_date:2017-01-01,to_publication_date:2021-12-31,raw_affiliation_string.search:grenoble&cursor=IlsyLjAsIDE2MjQ4Mzg0MDAwMDAsICdodHRwczovL29wZW5hbGV4Lm9yZy9XNDI4NzExMjI4MSddIg==&per-page=200&mailto=bertagrim@gmail.com\n",
      "OK\n",
      "Fetching page 239 ...\n",
      "Senging GET https://api.openalex.org/works?filter=from_publication_date:2017-01-01,to_publication_date:2021-12-31,raw_affiliation_string.search:grenoble&cursor=IlsyLjAsIDE2MjYzOTM2MDAwMDAsICdodHRwczovL29wZW5hbGV4Lm9yZy9XNDIwNjAxNTY2NyddIg==&per-page=200&mailto=bertagrim@gmail.com\n",
      "OK\n",
      "Fetching page 240 ...\n",
      "Senging GET https://api.openalex.org/works?filter=from_publication_date:2017-01-01,to_publication_date:2021-12-31,raw_affiliation_string.search:grenoble&cursor=IlsyLjAsIDE2MjgxMjE2MDAwMDAsICdodHRwczovL29wZW5hbGV4Lm9yZy9XMzE5NTk3MDg4MiddIg==&per-page=200&mailto=bertagrim@gmail.com\n",
      "OK\n",
      "Fetching page 241 ...\n",
      "Senging GET https://api.openalex.org/works?filter=from_publication_date:2017-01-01,to_publication_date:2021-12-31,raw_affiliation_string.search:grenoble&cursor=IlsyLjAsIDE2MzA0NTQ0MDAwMDAsICdodHRwczovL29wZW5hbGV4Lm9yZy9XMzE5OTQxMDQ4MiddIg==&per-page=200&mailto=bertagrim@gmail.com\n",
      "OK\n",
      "Fetching page 242 ...\n",
      "Senging GET https://api.openalex.org/works?filter=from_publication_date:2017-01-01,to_publication_date:2021-12-31,raw_affiliation_string.search:grenoble&cursor=IlsyLjAsIDE2MzIwOTYwMDAwMDAsICdodHRwczovL29wZW5hbGV4Lm9yZy9XMzIxMTY4ODM4MSddIg==&per-page=200&mailto=bertagrim@gmail.com\n"
     ]
    },
    {
     "name": "stdout",
     "output_type": "stream",
     "text": [
      "OK\n",
      "Fetching page 243 ...\n",
      "Senging GET https://api.openalex.org/works?filter=from_publication_date:2017-01-01,to_publication_date:2021-12-31,raw_affiliation_string.search:grenoble&cursor=IlsyLjAsIDE2MzMzMDU2MDAwMDAsICdodHRwczovL29wZW5hbGV4Lm9yZy9XNDIwMDI1OTg3NyddIg==&per-page=200&mailto=bertagrim@gmail.com\n",
      "OK\n",
      "Fetching page 244 ...\n",
      "Senging GET https://api.openalex.org/works?filter=from_publication_date:2017-01-01,to_publication_date:2021-12-31,raw_affiliation_string.search:grenoble&cursor=IlsyLjAsIDE2MzQ4NjA4MDAwMDAsICdodHRwczovL29wZW5hbGV4Lm9yZy9XMzIxMTE1ODYwMCddIg==&per-page=200&mailto=bertagrim@gmail.com\n",
      "OK\n",
      "Fetching page 245 ...\n",
      "Senging GET https://api.openalex.org/works?filter=from_publication_date:2017-01-01,to_publication_date:2021-12-31,raw_affiliation_string.search:grenoble&cursor=IlsyLjAsIDE2MzYwNzA0MDAwMDAsICdodHRwczovL29wZW5hbGV4Lm9yZy9XNDIyNTU2MjA5MCddIg==&per-page=200&mailto=bertagrim@gmail.com\n",
      "OK\n",
      "Fetching page 246 ...\n",
      "Senging GET https://api.openalex.org/works?filter=from_publication_date:2017-01-01,to_publication_date:2021-12-31,raw_affiliation_string.search:grenoble&cursor=IlsyLjAsIDE2MzgxNDQwMDAwMDAsICdodHRwczovL29wZW5hbGV4Lm9yZy9XMzIxNjAwNzQyMSddIg==&per-page=200&mailto=bertagrim@gmail.com\n",
      "OK\n",
      "Fetching page 247 ...\n",
      "Senging GET https://api.openalex.org/works?filter=from_publication_date:2017-01-01,to_publication_date:2021-12-31,raw_affiliation_string.search:grenoble&cursor=IlsyLjAsIDE2Mzg3NDg4MDAwMDAsICdodHRwczovL29wZW5hbGV4Lm9yZy9XNDIyNjUzNDA2MCddIg==&per-page=200&mailto=bertagrim@gmail.com\n",
      "OK\n"
     ]
    }
   ],
   "source": [
    "cursor='*'\n",
    "works=[]\n",
    "for page_n in range(0, num_pages):\n",
    "    print(\"Fetching page {} ...\".format(page_n))\n",
    "    page = fetch_page(cursor)\n",
    "    works.extend(page['results'])\n",
    "#     save_entries(\n",
    "#         page_n=page_n,\n",
    "#         results=page['results']\n",
    "#     )\n",
    "    time.sleep(WAIT_SECS)\n",
    "    cursor=page['meta']['next_cursor']\n",
    "    \n",
    "with open(WORKS_FILE_PATH, 'w', encoding='utf-8') as file:\n",
    "        json.dump(works, file)\n"
   ]
  },
  {
   "cell_type": "code",
   "execution_count": 4,
   "id": "f3ca7f43",
   "metadata": {
    "ExecuteTime": {
     "end_time": "2022-12-30T11:51:26.845902Z",
     "start_time": "2022-12-30T11:51:08.947005Z"
    }
   },
   "outputs": [],
   "source": [
    "with open(WORKS_FILE_PATH) as f:\n",
    "    data = json.load(f)"
   ]
  },
  {
   "cell_type": "code",
   "execution_count": 5,
   "id": "e90601f3",
   "metadata": {
    "ExecuteTime": {
     "end_time": "2022-12-30T11:51:31.961901Z",
     "start_time": "2022-12-30T11:51:26.849861Z"
    }
   },
   "outputs": [],
   "source": [
    "data_string = json.dumps(data)"
   ]
  },
  {
   "cell_type": "code",
   "execution_count": 6,
   "id": "4e5b5d9a",
   "metadata": {
    "ExecuteTime": {
     "end_time": "2022-12-30T11:52:29.553419Z",
     "start_time": "2022-12-30T11:51:31.966424Z"
    }
   },
   "outputs": [],
   "source": [
    "df = pd.read_json(data_string)"
   ]
  }
 ],
 "metadata": {
  "kernelspec": {
   "display_name": "Python 3 (ipykernel)",
   "language": "python",
   "name": "python3"
  },
  "language_info": {
   "codemirror_mode": {
    "name": "ipython",
    "version": 3
   },
   "file_extension": ".py",
   "mimetype": "text/x-python",
   "name": "python",
   "nbconvert_exporter": "python",
   "pygments_lexer": "ipython3",
   "version": "3.9.15"
  }
 },
 "nbformat": 4,
 "nbformat_minor": 5
}
